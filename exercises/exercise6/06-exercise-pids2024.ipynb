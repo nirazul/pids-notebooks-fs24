{
 "cells": [
  {
   "cell_type": "code",
   "execution_count": null,
   "id": "05bb5d66",
   "metadata": {},
   "outputs": [],
   "source": [
    "# Initialize Otter\n",
    "import otter\n",
    "grader = otter.Notebook(\"06-exercise-pids2024.ipynb\")"
   ]
  },
  {
   "cell_type": "markdown",
   "id": "79cd794f",
   "metadata": {
    "nbgrader": {
     "grade": false,
     "grade_id": "cell-1229f81499f5ebea",
     "locked": true,
     "schema_version": 3,
     "solution": false,
     "task": false
    }
   },
   "source": [
    "# Exercise sheet 6\n",
    "**Hello everyone!**\n",
    "\n",
    "# Points: 15\n",
    "\n",
    "Topics of this exercise sheet are:\n",
    "* Working with probability distributions\n",
    "\n",
    "\n",
    "Please let us know if you have questions or problems! <br>\n",
    "Contact us during the exercise session or on [Piazza](https://piazza.com/unibas.ch/spring2024/63982).\n",
    "\n",
    "**Automatic Feedback**\n",
    "\n",
    "This notebook can be automatically graded using Otter grader. To find how many points you get, simply run `grader.check_all()` from a new cell. "
   ]
  },
  {
   "cell_type": "markdown",
   "id": "0b167c89",
   "metadata": {},
   "source": [
    "## Introduction:\n",
    "This exercise is designed to help you become familiar with the fundamental concepts of probability and statistics. To ensure that you have a strong grasp of these concepts, we recommend reading this article:\n",
    "https://towardsdatascience.com/an-in-depth-crash-course-on-random-variables-a3905d03e322"
   ]
  },
  {
   "cell_type": "code",
   "execution_count": null,
   "id": "15f3c6d2",
   "metadata": {
    "nbgrader": {
     "grade": false,
     "grade_id": "cell-87e8c3397dfc076e",
     "locked": true,
     "schema_version": 3,
     "solution": false,
     "task": false
    }
   },
   "outputs": [],
   "source": [
    "import pandas as pd\n",
    "import seaborn as sns\n",
    "import matplotlib.pyplot as plt\n",
    "import numpy as np\n",
    "from scipy import stats"
   ]
  },
  {
   "cell_type": "markdown",
   "id": "89822cb1",
   "metadata": {
    "nbgrader": {
     "grade": false,
     "grade_id": "cell-7ee686f735cd4d6c",
     "locked": true,
     "schema_version": 3,
     "solution": false,
     "task": false
    }
   },
   "source": [
    "## Question 1 (6 points)\n",
    "\n",
    "### Binomial distribution:\n",
    "The binomial distribution with parameters $n$ and $p$ is a class of the discrete probability distributions of <b> the number of successes in a sequence of $n$ independent experiments, </b> each asking a yes–no question, and each with its own Boolean-valued outcome: success (with probability $p$) or failure (with probability $1 − p$). Let $X$ denote a random variable with binomial distribution. The probability of having $x$ times a success in $n$ trials, is:\n",
    "$$\n",
    "    p(x) = \\binom{n}{x}p^x (1-p)^{n-x} \n",
    "$$"
   ]
  },
  {
   "cell_type": "code",
   "execution_count": null,
   "id": "efbae2ad",
   "metadata": {
    "nbgrader": {
     "grade": false,
     "grade_id": "cell-cae8e70374ab5e6d",
     "locked": true,
     "schema_version": 3,
     "solution": false,
     "task": false
    }
   },
   "outputs": [],
   "source": [
    "n = 20 # The total number of trials\n",
    "p = 0.5 # The probability of success in each trial\n",
    "X = stats.binom(n, p)\n",
    "# Please check this page for more information: \n",
    "# https://docs.scipy.org/doc/scipy-0.13.0/reference/generated/scipy.stats.binom.html#scipy.stats.binom"
   ]
  },
  {
   "cell_type": "markdown",
   "id": "97eca12a",
   "metadata": {
    "nbgrader": {
     "grade": false,
     "grade_id": "cell-f30ccb790dff9fe2",
     "locked": true,
     "schema_version": 3,
     "solution": false,
     "task": false
    }
   },
   "source": [
    "### 1a) (1 point)\n",
    "Make a visual representation of the binomial distribution.\n",
    "To do that, generate 10,000 independent realizations of the random variable $X$. These 10,000 samples will be distributed as a binomial distribution with parameters $p=0.5$ and $n=20$. \n",
    "**Save the samples in a variable named 'x'**.\n",
    "\n",
    "In other words, this is equivalent to reproduce 10,000 independent experiments, where each experiment consists of flipping 20 coins and counting the number of times it hit 'tails' or 'heads'.\n",
    "\n",
    "Plot a histogram of the generated samples.\n",
    "\n",
    "Hint: You can use \"X.rvs(...)\" to generate independent samples from the random variable $X$."
   ]
  },
  {
   "cell_type": "code",
   "execution_count": null,
   "id": "31b89226",
   "metadata": {
    "nbgrader": {
     "grade": false,
     "grade_id": "cell-67e48526cb3d882c",
     "locked": false,
     "schema_version": 3,
     "solution": true,
     "task": false
    }
   },
   "outputs": [],
   "source": [
    "class Question1a:\n",
    "    n_samples=10000\n",
    "    np.random.seed(0)\n",
    "    \n",
    "    x = ...\n",
    "    ..."
   ]
  },
  {
   "cell_type": "code",
   "execution_count": null,
   "id": "7616f959",
   "metadata": {
    "deletable": false,
    "editable": false
   },
   "outputs": [],
   "source": [
    "grader.check(\"Question 1a\")"
   ]
  },
  {
   "cell_type": "markdown",
   "id": "5c3b3f61",
   "metadata": {
    "nbgrader": {
     "grade": false,
     "grade_id": "cell-3d9402382f967adc",
     "locked": true,
     "schema_version": 3,
     "solution": false,
     "task": false
    }
   },
   "source": [
    "### 1b (1 point)\n",
    "Calculate the probabilities $\\text{P}(X = 8)$, $\\text{P}(X = 10)$ and $\\text{P}(X = 12)$ and store them in the variables 'p8', 'p10', and 'p12', respectively.\n",
    "\n",
    "Hint: Use X.pmf()"
   ]
  },
  {
   "cell_type": "code",
   "execution_count": null,
   "id": "06526955",
   "metadata": {
    "nbgrader": {
     "grade": false,
     "grade_id": "cell-8c8767ce075ccffb",
     "locked": false,
     "schema_version": 3,
     "solution": true,
     "task": false
    }
   },
   "outputs": [],
   "source": [
    "class Question1b:\n",
    "    p8 = ...\n",
    "    p10 = ...\n",
    "    p12 = ...\n",
    "    print('P(X=8)={:.4f} \\nP(X=10)={:.4f} \\nP(X=12)={:.4f}'.format(p8, p10, p12))"
   ]
  },
  {
   "cell_type": "code",
   "execution_count": null,
   "id": "04351b5b",
   "metadata": {
    "deletable": false,
    "editable": false
   },
   "outputs": [],
   "source": [
    "grader.check(\"Question 1b\")"
   ]
  },
  {
   "cell_type": "markdown",
   "id": "4c6e4039",
   "metadata": {},
   "source": [
    "Which point has the highest probability? Why?"
   ]
  },
  {
   "cell_type": "markdown",
   "id": "b18b0163",
   "metadata": {},
   "source": [
    "Your answer:\n"
   ]
  },
  {
   "cell_type": "markdown",
   "id": "4510e020",
   "metadata": {
    "nbgrader": {
     "grade": false,
     "grade_id": "cell-535e41a827712440",
     "locked": true,
     "schema_version": 3,
     "solution": false,
     "task": false
    }
   },
   "source": [
    "### 1c (1 point)\n",
    "Calculate the probabilities $\\text{P}(X \\leq 8)$, $\\text{P}(X \\leq 10)$, $\\text{P}(X \\leq 12)$ and $\\text{P}(X \\leq 20)$ and store them in the variables 'p_le8', 'p_le10', 'p_le12' and 'p_le20' respectively.\n",
    "\n",
    "Hint: Use X.cdf()"
   ]
  },
  {
   "cell_type": "code",
   "execution_count": null,
   "id": "04483383",
   "metadata": {
    "nbgrader": {
     "grade": false,
     "grade_id": "cell-73833e6a3bef14f2",
     "locked": false,
     "schema_version": 3,
     "solution": true,
     "task": false
    }
   },
   "outputs": [],
   "source": [
    "class Question1c:\n",
    "    p_le8 = ...\n",
    "    p_le10 = ...\n",
    "    p_le12 = ...\n",
    "    p_le20 = ...\n",
    "    \n",
    "    print('P(X<=8)={:.4f}\\nP(X<=10)={:.4f}\\nP(X<=12)={:.4f}\\nP(X<=20)={:.4f}'.format(p_le8, p_le10, p_le12,p_le20))"
   ]
  },
  {
   "cell_type": "code",
   "execution_count": null,
   "id": "1f30beb3",
   "metadata": {
    "deletable": false,
    "editable": false
   },
   "outputs": [],
   "source": [
    "grader.check(\"Question 1c\")"
   ]
  },
  {
   "cell_type": "markdown",
   "id": "85d4ebef",
   "metadata": {},
   "source": [
    "Is there an increasing trend apparent in calculated probabilities? Also, can you explain why $\\text{P}(X \\leq 20)$ has the highest value of 1? "
   ]
  },
  {
   "cell_type": "markdown",
   "id": "5653fe6e",
   "metadata": {},
   "source": [
    "Your answer:"
   ]
  },
  {
   "cell_type": "markdown",
   "id": "c4261c61",
   "metadata": {},
   "source": []
  },
  {
   "cell_type": "markdown",
   "id": "22d7d2b8",
   "metadata": {
    "nbgrader": {
     "grade": false,
     "grade_id": "cell-631f01b5f3a50947",
     "locked": true,
     "schema_version": 3,
     "solution": false,
     "task": false
    }
   },
   "source": [
    "### 1d) (2 points)\n",
    "Calculate the mean, standard deviation, and median of the samples generated in the variable 'x' (question 1a) and store them in the variables 'mean', 'std' and 'median' respectively.\n",
    "\n",
    "Hint: use numpy package!"
   ]
  },
  {
   "cell_type": "code",
   "execution_count": null,
   "id": "ed33d4e0",
   "metadata": {
    "nbgrader": {
     "grade": false,
     "grade_id": "cell-36f40a02cef87b84",
     "locked": false,
     "schema_version": 3,
     "solution": true,
     "task": false
    }
   },
   "outputs": [],
   "source": [
    "class Question1d:\n",
    "    mean_x = ...\n",
    "    std_x = ...\n",
    "    median_x = ...\n",
    "    \n",
    "    print('Mean={:.4f} \\nStd={:.4f} \\nMedian={:.4f}'.format(mean_x, std_x, median_x))"
   ]
  },
  {
   "cell_type": "code",
   "execution_count": null,
   "id": "3bbce354",
   "metadata": {
    "deletable": false,
    "editable": false
   },
   "outputs": [],
   "source": [
    "grader.check(\"Question 1d\")"
   ]
  },
  {
   "cell_type": "markdown",
   "id": "28efb8bd",
   "metadata": {},
   "source": [
    "Does the mean value appear to be close to $n \\times p$? Can you explain why we would expect this?"
   ]
  },
  {
   "cell_type": "markdown",
   "id": "34bf957c",
   "metadata": {},
   "source": [
    "Your answer:"
   ]
  },
  {
   "cell_type": "markdown",
   "id": "87116592",
   "metadata": {},
   "source": []
  },
  {
   "cell_type": "markdown",
   "id": "8635ca35",
   "metadata": {
    "nbgrader": {
     "grade": false,
     "grade_id": "cell-74aa8649cf06473d",
     "locked": true,
     "schema_version": 3,
     "solution": false,
     "task": false
    }
   },
   "source": [
    "## Question 2 (6 points)\n",
    "### Multimodal distributions:\n",
    "We will now consider samples from two different binomial distributions with distinct values of $p$.\n",
    "\n",
    "Let $X_1$ denote a random variable with binomial distribution with parameters $p1=0.2$ and $n=20$.\n",
    "Let $X_2$ denote a random variable with binomial distribution with parameters $p2=0.82$ and $n=20$."
   ]
  },
  {
   "cell_type": "code",
   "execution_count": null,
   "id": "fb92fb74",
   "metadata": {},
   "outputs": [],
   "source": [
    "n = 20\n",
    "p1 = 0.2\n",
    "p2 = 0.8\n",
    "X1 = stats.binom(n, p1)\n",
    "X2 = stats.binom(n, p2)"
   ]
  },
  {
   "cell_type": "markdown",
   "id": "bc390b67",
   "metadata": {},
   "source": [
    "### 2a) (2 points)\n",
    "\n",
    "Generate 5000 random samples from each of the two binomial distributions and store them in the variables 'x1' and 'x2', respectively. Concatenate the samples to create a unified vector 'x12', and plot a histogram of the concatenated samples."
   ]
  },
  {
   "cell_type": "code",
   "execution_count": null,
   "id": "8bece4c6",
   "metadata": {},
   "outputs": [],
   "source": [
    "class Question2a:\n",
    "    n_samples=5000\n",
    "    np.random.seed(0)\n",
    "    \n",
    "    \n",
    "    x1 = ...\n",
    "    x2 = ...\n",
    "    x12 = ...\n",
    "    \n",
    "    ..."
   ]
  },
  {
   "cell_type": "code",
   "execution_count": null,
   "id": "3218f44c",
   "metadata": {
    "deletable": false,
    "editable": false
   },
   "outputs": [],
   "source": [
    "grader.check(\"Question 2a\")"
   ]
  },
  {
   "cell_type": "markdown",
   "id": "720b0bc7",
   "metadata": {},
   "source": [
    "### 2b) (4 points)\n",
    "\n",
    "Calculate the mean, median, and the first two modes of the concatenated samples (from Question 2a), and store them in the variables 'mean', 'median', 'mode1', and 'mode2', respectively.\n",
    "\n",
    "Hint: You can use np.unique and np.argsort to find the first and the second modes"
   ]
  },
  {
   "cell_type": "code",
   "execution_count": null,
   "id": "d30ff278",
   "metadata": {},
   "outputs": [],
   "source": [
    "class Question2b:\n",
    "    mean_x12 = ...\n",
    "    median_x12 = ...\n",
    "    \n",
    "    ...\n",
    "    \n",
    "    mode1_x12 = ...\n",
    "    mode2_x12 = ...\n",
    "    \n",
    "    \n",
    "    print('Mean: {:.2f} \\nMedian: {:.2f} \\nFirst mode: {:.2f}\\nSecond mode: {:.2f}'.format(mean_x12, median_x12, mode1_x12, mode2_x12))"
   ]
  },
  {
   "cell_type": "code",
   "execution_count": null,
   "id": "b9f6f66a",
   "metadata": {
    "deletable": false,
    "editable": false
   },
   "outputs": [],
   "source": [
    "grader.check(\"Question 2b\")"
   ]
  },
  {
   "cell_type": "markdown",
   "id": "c4f52bff",
   "metadata": {},
   "source": [
    "Which of these estimates (mean, median and modes) is more suitable to better represent this particular type of data? Why?"
   ]
  },
  {
   "cell_type": "markdown",
   "id": "569c22f1",
   "metadata": {},
   "source": [
    "Your answer:"
   ]
  },
  {
   "cell_type": "markdown",
   "id": "4b310eba",
   "metadata": {},
   "source": []
  },
  {
   "cell_type": "markdown",
   "id": "69c40e54",
   "metadata": {
    "nbgrader": {
     "grade": false,
     "grade_id": "cell-6cb3f5a1cf371788",
     "locked": true,
     "schema_version": 3,
     "solution": false,
     "task": false
    }
   },
   "source": [
    "## Question 3 (3 points)\n",
    "\n",
    "### Normal distribution:\n",
    "A normal (Gaussian) distribution is a type of continuous probability distribution characterized by a bell-shaped curve and defined by its mean $\\mu$ and standard deviation $\\sigma$:\n",
    "$$\n",
    "    p(y) = \\frac{1}{\\sqrt{2\\pi\\sigma^2}} e^{-\\frac{(y - \\mu)^2}{2\\sigma^2}}\n",
    "$$\n",
    "We let $Y$ denote a random variable following this distribution."
   ]
  },
  {
   "cell_type": "code",
   "execution_count": null,
   "id": "2bc6f62e",
   "metadata": {},
   "outputs": [],
   "source": [
    "mu = 3.0\n",
    "sigma = 2.0\n",
    "Y = stats.norm(loc = mu , scale = sigma)\n",
    "\n",
    "# Please check this page for more information: \n",
    "# https://docs.scipy.org/doc/scipy/reference/generated/scipy.stats.norm.html"
   ]
  },
  {
   "cell_type": "markdown",
   "id": "3dca964c",
   "metadata": {},
   "source": [
    "### 3a) (1 point)\n",
    "Generate 10,000 independent samples in a variable named 'y'.\n",
    "\n",
    "Visualize the distribution of the data plot using an histogram. Add a smooth curve obtained using a kernel density estimate (KDE) to the histogram.\n",
    "\n",
    "Hint: you can use sns.histplot."
   ]
  },
  {
   "cell_type": "code",
   "execution_count": null,
   "id": "e0247cc7",
   "metadata": {
    "nbgrader": {
     "grade": true,
     "grade_id": "cell-b705817b0aa8fe76",
     "locked": false,
     "points": 0,
     "schema_version": 3,
     "solution": true,
     "task": false
    }
   },
   "outputs": [],
   "source": [
    "class Question3a:\n",
    "    n_samples=10000\n",
    "    np.random.seed(0)\n",
    "    \n",
    "    y = ...\n",
    "    ..."
   ]
  },
  {
   "cell_type": "code",
   "execution_count": null,
   "id": "557e9547",
   "metadata": {
    "deletable": false,
    "editable": false
   },
   "outputs": [],
   "source": [
    "grader.check(\"Question 3a\")"
   ]
  },
  {
   "cell_type": "markdown",
   "id": "0d708488",
   "metadata": {},
   "source": [
    "### 3b) (1 point, bonus)\n",
    "Calculate the probabilities $\\text{P}(Y = 2)$, $\\text{P}(Y = 3)$ and $\\text{P}(Y = 4)$ and store them in the variables 'p2', 'p3', and 'p4', respectively.\n"
   ]
  },
  {
   "cell_type": "code",
   "execution_count": null,
   "id": "d5914d1c",
   "metadata": {},
   "outputs": [],
   "source": [
    "class Question3b:\n",
    "    p2 = ...\n",
    "    p3 = ...\n",
    "    p4 = ...\n",
    "    \n",
    "    print('P(Y=2)={:.4f} \\nP(Y=3)={:.4f} \\nP(Y=4)={:.4f}'.format(p2, p3, p4))"
   ]
  },
  {
   "cell_type": "code",
   "execution_count": null,
   "id": "2aaa8a3d",
   "metadata": {
    "deletable": false,
    "editable": false
   },
   "outputs": [],
   "source": [
    "grader.check(\"Question 3b\")"
   ]
  },
  {
   "cell_type": "markdown",
   "id": "c80c3d08",
   "metadata": {},
   "source": [
    "### 3c) (1 point)\n",
    "Calculate the probabilities $\\text{P}(Y \\leq 2)$, $\\text{P}(2 < Y \\leq 3)$ and $\\text{P}(Y \\geq 4)$ and store them in the variables 'p_le2', 'p_gr2_le3', and 'p_gr4', respectively.\n"
   ]
  },
  {
   "cell_type": "code",
   "execution_count": null,
   "id": "815ea3bc",
   "metadata": {},
   "outputs": [],
   "source": [
    "class Question3c:\n",
    "    p_le2 = ...\n",
    "    p_gr2_le3 = ...\n",
    "    p_gr4 = ...\n",
    "    \n",
    "    print('P(Y<=2)={:.4f}\\nP(2<Y<=3)={:.4f}\\nP(Y>=4)={:.4f}'.format(p_le2, p_gr2_le3, p_gr4))"
   ]
  },
  {
   "cell_type": "code",
   "execution_count": null,
   "id": "5a00572f",
   "metadata": {
    "deletable": false,
    "editable": false
   },
   "outputs": [],
   "source": [
    "grader.check(\"Question 3c\")"
   ]
  },
  {
   "cell_type": "markdown",
   "id": "335a8539",
   "metadata": {},
   "source": [
    "Do the probabilities $\\text{P}(Y \\leq 2)$ and $\\text{P}(Y \\geq 4)$ have the same value? What is the reason for your answer?"
   ]
  },
  {
   "cell_type": "markdown",
   "id": "c64a1a79",
   "metadata": {},
   "source": [
    "Your answer:"
   ]
  },
  {
   "cell_type": "markdown",
   "id": "bcbaa615",
   "metadata": {},
   "source": []
  },
  {
   "cell_type": "markdown",
   "id": "e17dcc74",
   "metadata": {},
   "source": [
    "### 3d) (1 point)\n",
    "\n",
    "Calculate the mean, standard deviation, and median of the samples generated in the variable 'y' (Question 3a) and store them in the variables 'mean', 'std' and 'median' respectively."
   ]
  },
  {
   "cell_type": "code",
   "execution_count": null,
   "id": "ecb9fec3",
   "metadata": {},
   "outputs": [],
   "source": [
    "class Question3d:\n",
    "    mean_y = ...\n",
    "    std_y = ...\n",
    "    median_y = ...\n",
    "    \n",
    "    print('Mean={:.4f} \\nStd={:.4f} \\nMedian={:.4f}'.format(mean_y, std_y, median_y))"
   ]
  },
  {
   "cell_type": "code",
   "execution_count": null,
   "id": "a527de2f",
   "metadata": {
    "deletable": false,
    "editable": false
   },
   "outputs": [],
   "source": [
    "grader.check(\"Question 3d\")"
   ]
  },
  {
   "cell_type": "markdown",
   "id": "0de87bf5",
   "metadata": {},
   "source": [
    "Are the mean and the standard deviation close to the $\\mu$ and $\\sigma$? How about the median? Why?"
   ]
  },
  {
   "cell_type": "markdown",
   "id": "49aff0c2",
   "metadata": {},
   "source": [
    "Your answer:"
   ]
  },
  {
   "cell_type": "markdown",
   "id": "f6e2fb4f",
   "metadata": {},
   "source": []
  },
  {
   "cell_type": "markdown",
   "id": "e895eb39",
   "metadata": {
    "deletable": false,
    "editable": false
   },
   "source": [
    "---\n",
    "\n",
    "To double-check your work, the cell below will rerun all of the autograder tests."
   ]
  },
  {
   "cell_type": "code",
   "execution_count": null,
   "id": "cdddc552",
   "metadata": {
    "deletable": false,
    "editable": false
   },
   "outputs": [],
   "source": [
    "grader.check_all()"
   ]
  }
 ],
 "metadata": {
  "celltoolbar": "Create Assignment",
  "kernelspec": {
   "display_name": "Python 3 (ipykernel)",
   "language": "python",
   "name": "conda-env-pids_2023-py"
  },
  "language_info": {
   "codemirror_mode": {
    "name": "ipython",
    "version": 3
   },
   "file_extension": ".py",
   "mimetype": "text/x-python",
   "name": "python",
   "nbconvert_exporter": "python",
   "pygments_lexer": "ipython3",
   "version": "3.12.1"
  },
  "vscode": {
   "interpreter": {
    "hash": "913bf538e0268f95f9c968c6389b7e7d4c9127ecd5fa78580616ce9989c49c5f"
   }
  }
 },
 "nbformat": 4,
 "nbformat_minor": 5
}
