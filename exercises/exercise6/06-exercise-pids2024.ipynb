{
 "cells": [
  {
   "cell_type": "code",
   "id": "05bb5d66",
   "metadata": {
    "ExecuteTime": {
     "end_time": "2024-06-21T10:41:52.377948Z",
     "start_time": "2024-06-21T10:41:52.370448Z"
    }
   },
   "source": [
    "# Initialize Otter\n",
    "import otter\n",
    "\n",
    "grader = otter.Notebook(\"06-exercise-pids2024.ipynb\")"
   ],
   "outputs": [],
   "execution_count": 27
  },
  {
   "cell_type": "markdown",
   "id": "79cd794f",
   "metadata": {
    "nbgrader": {
     "grade": false,
     "grade_id": "cell-1229f81499f5ebea",
     "locked": true,
     "schema_version": 3,
     "solution": false,
     "task": false
    }
   },
   "source": [
    "# Exercise sheet 6\n",
    "**Hello everyone!**\n",
    "\n",
    "# Points: 15\n",
    "\n",
    "Topics of this exercise sheet are:\n",
    "* Working with probability distributions\n",
    "\n",
    "\n",
    "Please let us know if you have questions or problems! <br>\n",
    "Contact us during the exercise session or on [Piazza](https://piazza.com/unibas.ch/spring2024/63982).\n",
    "\n",
    "**Automatic Feedback**\n",
    "\n",
    "This notebook can be automatically graded using Otter grader. To find how many points you get, simply run `grader.check_all()` from a new cell. "
   ]
  },
  {
   "cell_type": "markdown",
   "id": "0b167c89",
   "metadata": {},
   "source": [
    "## Introduction:\n",
    "This exercise is designed to help you become familiar with the fundamental concepts of probability and statistics. To ensure that you have a strong grasp of these concepts, we recommend reading this article:\n",
    "https://towardsdatascience.com/an-in-depth-crash-course-on-random-variables-a3905d03e322"
   ]
  },
  {
   "cell_type": "code",
   "id": "15f3c6d2",
   "metadata": {
    "nbgrader": {
     "grade": false,
     "grade_id": "cell-87e8c3397dfc076e",
     "locked": true,
     "schema_version": 3,
     "solution": false,
     "task": false
    },
    "ExecuteTime": {
     "end_time": "2024-06-21T10:41:52.731103Z",
     "start_time": "2024-06-21T10:41:52.725695Z"
    }
   },
   "source": [
    "import math\n",
    "import pandas as pd\n",
    "import seaborn as sns\n",
    "import matplotlib.pyplot as plt\n",
    "import numpy as np\n",
    "import scipy\n",
    "from scipy import stats\n",
    "\n",
    "print(\n",
    "    pd.__version__,\n",
    "    sns.__version__,\n",
    "    type(plt),\n",
    "    np.__version__,\n",
    "    scipy.__version__,\n",
    "    type(stats),\n",
    ")"
   ],
   "outputs": [
    {
     "name": "stdout",
     "output_type": "stream",
     "text": [
      "2.0.3 0.12.2 <class 'module'> 1.24.3 1.10.1 <class 'module'>\n"
     ]
    }
   ],
   "execution_count": 28
  },
  {
   "cell_type": "markdown",
   "id": "89822cb1",
   "metadata": {
    "nbgrader": {
     "grade": false,
     "grade_id": "cell-7ee686f735cd4d6c",
     "locked": true,
     "schema_version": 3,
     "solution": false,
     "task": false
    }
   },
   "source": [
    "## Question 1 (6 points)\n",
    "\n",
    "### Binomial distribution:\n",
    "The binomial distribution with parameters $n$ and $p$ is a class of the discrete probability distributions of <b> the number of successes in a sequence of $n$ independent experiments, </b> each asking a yes–no question, and each with its own Boolean-valued outcome: success (with probability $p$) or failure (with probability $1 − p$). Let $X$ denote a random variable with binomial distribution. The probability of having $x$ times a success in $n$ trials, is:\n",
    "$$\n",
    "    p(x) = \\binom{n}{x}p^x (1-p)^{n-x} \n",
    "$$"
   ]
  },
  {
   "cell_type": "code",
   "id": "efbae2ad",
   "metadata": {
    "nbgrader": {
     "grade": false,
     "grade_id": "cell-cae8e70374ab5e6d",
     "locked": true,
     "schema_version": 3,
     "solution": false,
     "task": false
    },
    "ExecuteTime": {
     "end_time": "2024-06-21T10:41:52.766647Z",
     "start_time": "2024-06-21T10:41:52.762180Z"
    }
   },
   "source": [
    "n = 20  # The total number of trials\n",
    "p = 0.5  # The probability of success in each trial\n",
    "X = stats.binom(n, p)\n",
    "# Please check this page for more information: \n",
    "# https://docs.scipy.org/doc/scipy-0.13.0/reference/generated/scipy.stats.binom.html#scipy.stats.binom"
   ],
   "outputs": [],
   "execution_count": 29
  },
  {
   "cell_type": "markdown",
   "id": "97eca12a",
   "metadata": {
    "nbgrader": {
     "grade": false,
     "grade_id": "cell-f30ccb790dff9fe2",
     "locked": true,
     "schema_version": 3,
     "solution": false,
     "task": false
    }
   },
   "source": [
    "### 1a) (1 point)\n",
    "Make a visual representation of the binomial distribution.\n",
    "To do that, generate 10,000 independent realizations of the random variable $X$. These 10,000 samples will be distributed as a binomial distribution with parameters $p=0.5$ and $n=20$. \n",
    "**Save the samples in a variable named 'x'**.\n",
    "\n",
    "In other words, this is equivalent to reproduce 10,000 independent experiments, where each experiment consists of flipping 20 coins and counting the number of times it hit 'tails' or 'heads'.\n",
    "\n",
    "Plot a histogram of the generated samples.\n",
    "\n",
    "Hint: You can use \"X.rvs(...)\" to generate independent samples from the random variable $X$."
   ]
  },
  {
   "cell_type": "code",
   "source": [
    "def draw_scene(player_pos, n_samples: int, n_experiments: int):\n",
    "    pitch_start = -30\n",
    "    pitch_end = 30\n",
    "    fig, (ax0, ax1) = plt.subplots(1, 2)\n",
    "    ax0.scatter(player_pos[:, 0], player_pos[:, 1])\n",
    "    ax0.plot([0, 0], [0, n_samples], 'k-')\n",
    "    ax0.set_xlim([pitch_start, pitch_end])\n",
    "\n",
    "    ax1.hist(player_pos[:, 0], density=True)\n",
    "    xs = np.linspace(pitch_start, pitch_end)\n",
    "    ax1.plot(xs, scipy.stats.norm(0, math.sqrt(n_experiments)).pdf(xs))\n",
    "\n",
    "\n",
    "def draw_histogram(n_samples: int, n_experiments: int):\n",
    "    sample_pos = np.array([(0, i) for i in range(0, n_samples)])\n",
    "    print(sample_pos.shape)\n",
    "    for i in range(0, n_experiments):\n",
    "        for j in range(0, n_samples):\n",
    "            pos_update = 1 if np.random.randint(0, 2) == 1 else -1\n",
    "            sample_pos[j, 0] = sample_pos[j, 0] + pos_update\n",
    "\n",
    "    draw_scene(sample_pos, n_samples, n_experiments)\n",
    "\n",
    "\n",
    "class Question1a:\n",
    "    n_samples = 10000\n",
    "    np.random.seed(0)\n",
    "\n",
    "    x = X.rvs(size=n_samples)\n",
    "    draw_histogram(n_samples, n)\n",
    "\n",
    "\n",
    "Question1a()"
   ],
   "metadata": {
    "collapsed": false,
    "ExecuteTime": {
     "end_time": "2024-06-21T10:41:54.071815Z",
     "start_time": "2024-06-21T10:41:52.886636Z"
    }
   },
   "id": "31b89226",
   "outputs": [
    {
     "name": "stdout",
     "output_type": "stream",
     "text": [
      "(10000, 2)\n"
     ]
    },
    {
     "data": {
      "text/plain": [
       "<__main__.Question1a at 0x7f8d324fb070>"
      ]
     },
     "execution_count": 30,
     "metadata": {},
     "output_type": "execute_result"
    },
    {
     "data": {
      "text/plain": [
       "<Figure size 640x480 with 2 Axes>"
      ],
      "image/png": "[encoded data removed]"
     },
     "metadata": {},
     "output_type": "display_data"
    }
   ],
   "execution_count": 30
  },
  {
   "cell_type": "code",
   "id": "7616f959",
   "metadata": {
    "deletable": false,
    "editable": false,
    "ExecuteTime": {
     "end_time": "2024-06-21T10:41:54.082670Z",
     "start_time": "2024-06-21T10:41:54.074398Z"
    }
   },
   "source": [
    "grader.check(\"Question 1a\")"
   ],
   "outputs": [
    {
     "data": {
      "text/plain": [
       "Question 1a results: All test cases passed!"
      ],
      "text/html": [
       "<p><strong><pre style='display: inline;'>Question 1a</pre></strong> passed! 🌈</p>"
      ]
     },
     "execution_count": 31,
     "metadata": {},
     "output_type": "execute_result"
    }
   ],
   "execution_count": 31
  },
  {
   "cell_type": "markdown",
   "id": "5c3b3f61",
   "metadata": {
    "nbgrader": {
     "grade": false,
     "grade_id": "cell-3d9402382f967adc",
     "locked": true,
     "schema_version": 3,
     "solution": false,
     "task": false
    }
   },
   "source": [
    "### 1b (1 point)\n",
    "Calculate the probabilities $\\text{P}(X = 8)$, $\\text{P}(X = 10)$ and $\\text{P}(X = 12)$ and store them in the variables 'p8', 'p10', and 'p12', respectively.\n",
    "\n",
    "Hint: Use X.pmf()"
   ]
  },
  {
   "cell_type": "code",
   "id": "06526955",
   "metadata": {
    "nbgrader": {
     "grade": false,
     "grade_id": "cell-8c8767ce075ccffb",
     "locked": false,
     "schema_version": 3,
     "solution": true,
     "task": false
    },
    "ExecuteTime": {
     "end_time": "2024-06-21T10:41:54.089562Z",
     "start_time": "2024-06-21T10:41:54.084336Z"
    }
   },
   "source": [
    "class Question1b:\n",
    "    p8 = X.pmf(8)\n",
    "    p10 = X.pmf(10)\n",
    "    p12 = X.pmf(12)\n",
    "    print(\n",
    "        'P(X=8)={:.4f} \\nP(X=10)={:.4f} \\nP(X=12)={:.4f}'.format(p8, p10, p12)\n",
    "    )"
   ],
   "outputs": [
    {
     "name": "stdout",
     "output_type": "stream",
     "text": [
      "P(X=8)=0.1201 \n",
      "P(X=10)=0.1762 \n",
      "P(X=12)=0.1201\n"
     ]
    }
   ],
   "execution_count": 32
  },
  {
   "cell_type": "code",
   "id": "04351b5b",
   "metadata": {
    "deletable": false,
    "editable": false,
    "ExecuteTime": {
     "end_time": "2024-06-21T10:41:54.099945Z",
     "start_time": "2024-06-21T10:41:54.093934Z"
    }
   },
   "source": [
    "grader.check(\"Question 1b\")"
   ],
   "outputs": [
    {
     "data": {
      "text/plain": [
       "Question 1b results: All test cases passed!"
      ],
      "text/html": [
       "<p><strong><pre style='display: inline;'>Question 1b</pre></strong> passed! 🌈</p>"
      ]
     },
     "execution_count": 33,
     "metadata": {},
     "output_type": "execute_result"
    }
   ],
   "execution_count": 33
  },
  {
   "cell_type": "markdown",
   "id": "4c6e4039",
   "metadata": {},
   "source": [
    "Which point has the highest probability? Why?"
   ]
  },
  {
   "cell_type": "markdown",
   "id": "b18b0163",
   "metadata": {},
   "source": "Your answer: P(X=10) as it is the median of the distribution.\n"
  },
  {
   "cell_type": "markdown",
   "id": "4510e020",
   "metadata": {
    "nbgrader": {
     "grade": false,
     "grade_id": "cell-535e41a827712440",
     "locked": true,
     "schema_version": 3,
     "solution": false,
     "task": false
    }
   },
   "source": [
    "### 1c (1 point)\n",
    "Calculate the probabilities $\\text{P}(X \\leq 8)$, $\\text{P}(X \\leq 10)$, $\\text{P}(X \\leq 12)$ and $\\text{P}(X \\leq 20)$ and store them in the variables 'p_le8', 'p_le10', 'p_le12' and 'p_le20' respectively.\n",
    "\n",
    "Hint: Use X.cdf()"
   ]
  },
  {
   "cell_type": "code",
   "id": "04483383",
   "metadata": {
    "nbgrader": {
     "grade": false,
     "grade_id": "cell-73833e6a3bef14f2",
     "locked": false,
     "schema_version": 3,
     "solution": true,
     "task": false
    },
    "ExecuteTime": {
     "end_time": "2024-06-21T10:41:54.107073Z",
     "start_time": "2024-06-21T10:41:54.101579Z"
    }
   },
   "source": [
    "class Question1c:\n",
    "    p_le8 = X.cdf(8)\n",
    "    p_le10 = X.cdf(10)\n",
    "    p_le12 = X.cdf(12)\n",
    "    p_le20 = X.cdf(20)\n",
    "\n",
    "    print(\n",
    "        'P(X<=8)={:.4f}\\nP(X<=10)={:.4f}\\nP(X<=12)={:.4f}\\nP(X<=20)={:.4f}'.format(\n",
    "            p_le8, p_le10, p_le12, p_le20))"
   ],
   "outputs": [
    {
     "name": "stdout",
     "output_type": "stream",
     "text": [
      "P(X<=8)=0.2517\n",
      "P(X<=10)=0.5881\n",
      "P(X<=12)=0.8684\n",
      "P(X<=20)=1.0000\n"
     ]
    }
   ],
   "execution_count": 34
  },
  {
   "cell_type": "code",
   "id": "1f30beb3",
   "metadata": {
    "deletable": false,
    "editable": false,
    "ExecuteTime": {
     "end_time": "2024-06-21T10:41:54.115447Z",
     "start_time": "2024-06-21T10:41:54.108933Z"
    }
   },
   "source": [
    "grader.check(\"Question 1c\")"
   ],
   "outputs": [
    {
     "data": {
      "text/plain": [
       "Question 1c results: All test cases passed!"
      ],
      "text/html": [
       "<p><strong><pre style='display: inline;'>Question 1c</pre></strong> passed! 🎉</p>"
      ]
     },
     "execution_count": 35,
     "metadata": {},
     "output_type": "execute_result"
    }
   ],
   "execution_count": 35
  },
  {
   "cell_type": "markdown",
   "id": "85d4ebef",
   "metadata": {},
   "source": [
    "Is there an increasing trend apparent in calculated probabilities? Also, can you explain why $\\text{P}(X \\leq 20)$ has the highest value of 1? "
   ]
  },
  {
   "cell_type": "markdown",
   "id": "5653fe6e",
   "metadata": {},
   "source": [
    "Your answer: Yes, there is an increase. The probability for having a value of 20 or less is 100%."
   ]
  },
  {
   "cell_type": "markdown",
   "id": "22d7d2b8",
   "metadata": {
    "nbgrader": {
     "grade": false,
     "grade_id": "cell-631f01b5f3a50947",
     "locked": true,
     "schema_version": 3,
     "solution": false,
     "task": false
    }
   },
   "source": [
    "### 1d) (2 points)\n",
    "Calculate the mean, standard deviation, and median of the samples generated in the variable 'x' (question 1a) and store them in the variables 'mean', 'std' and 'median' respectively.\n",
    "\n",
    "Hint: use numpy package!"
   ]
  },
  {
   "cell_type": "code",
   "id": "ed33d4e0",
   "metadata": {
    "nbgrader": {
     "grade": false,
     "grade_id": "cell-36f40a02cef87b84",
     "locked": false,
     "schema_version": 3,
     "solution": true,
     "task": false
    },
    "ExecuteTime": {
     "end_time": "2024-06-21T10:41:54.124945Z",
     "start_time": "2024-06-21T10:41:54.117352Z"
    }
   },
   "source": [
    "class Question1d:\n",
    "    mean_x = np.mean(Question1a().x)\n",
    "    std_x = np.std(Question1a().x)\n",
    "    median_x = np.median(Question1a().x)\n",
    "\n",
    "    print('Mean={:.4f} \\nStd={:.4f} \\nMedian={:.4f}'.format(mean_x, std_x,\n",
    "                                                            median_x))"
   ],
   "outputs": [
    {
     "name": "stdout",
     "output_type": "stream",
     "text": [
      "Mean=9.9682 \n",
      "Std=2.2495 \n",
      "Median=10.0000\n"
     ]
    }
   ],
   "execution_count": 36
  },
  {
   "cell_type": "code",
   "id": "3bbce354",
   "metadata": {
    "deletable": false,
    "editable": false,
    "ExecuteTime": {
     "end_time": "2024-06-21T10:41:54.135103Z",
     "start_time": "2024-06-21T10:41:54.127530Z"
    }
   },
   "source": [
    "grader.check(\"Question 1d\")"
   ],
   "outputs": [
    {
     "data": {
      "text/plain": [
       "Question 1d results: All test cases passed!"
      ],
      "text/html": [
       "<p><strong><pre style='display: inline;'>Question 1d</pre></strong> passed! 🙌</p>"
      ]
     },
     "execution_count": 37,
     "metadata": {},
     "output_type": "execute_result"
    }
   ],
   "execution_count": 37
  },
  {
   "cell_type": "markdown",
   "id": "28efb8bd",
   "metadata": {},
   "source": [
    "Does the mean value appear to be close to $n \\times p$? Can you explain why we would expect this?"
   ]
  },
  {
   "cell_type": "markdown",
   "id": "34bf957c",
   "metadata": {},
   "source": [
    "Your answer: Yes it's close. This is expected as the mean is the average number of successes in an optimal binominal distribution."
   ]
  },
  {
   "cell_type": "markdown",
   "id": "8635ca35",
   "metadata": {
    "nbgrader": {
     "grade": false,
     "grade_id": "cell-74aa8649cf06473d",
     "locked": true,
     "schema_version": 3,
     "solution": false,
     "task": false
    }
   },
   "source": [
    "## Question 2 (6 points)\n",
    "### Multimodal distributions:\n",
    "We will now consider samples from two different binomial distributions with distinct values of $p$.\n",
    "\n",
    "Let $X_1$ denote a random variable with binomial distribution with parameters $p1=0.2$ and $n=20$.\n",
    "Let $X_2$ denote a random variable with binomial distribution with parameters $p2=0.82$ and $n=20$."
   ]
  },
  {
   "cell_type": "code",
   "id": "fb92fb74",
   "metadata": {
    "ExecuteTime": {
     "end_time": "2024-06-21T10:41:54.142573Z",
     "start_time": "2024-06-21T10:41:54.137046Z"
    }
   },
   "source": [
    "n = 20\n",
    "p1 = 0.2\n",
    "p2 = 0.8\n",
    "X1 = stats.binom(n, p1)\n",
    "X2 = stats.binom(n, p2)"
   ],
   "outputs": [],
   "execution_count": 38
  },
  {
   "cell_type": "markdown",
   "id": "bc390b67",
   "metadata": {},
   "source": [
    "### 2a) (2 points)\n",
    "\n",
    "Generate 5000 random samples from each of the two binomial distributions and store them in the variables 'x1' and 'x2', respectively. Concatenate the samples to create a unified vector 'x12', and plot a histogram of the concatenated samples."
   ]
  },
  {
   "cell_type": "code",
   "id": "8bece4c6",
   "metadata": {
    "ExecuteTime": {
     "end_time": "2024-06-21T10:41:54.469354Z",
     "start_time": "2024-06-21T10:41:54.149381Z"
    }
   },
   "source": [
    "class Question2a:\n",
    "    n_samples = 5000\n",
    "    np.random.seed(0)\n",
    "\n",
    "    x1 = X1.rvs(size=n_samples)\n",
    "    x2 = X2.rvs(size=n_samples)\n",
    "    x12 = np.concatenate((x1, x2), axis=0)\n",
    "\n",
    "    ks = range(0, n)\n",
    "    sns.histplot(x12, bins=n)\n",
    "\n",
    "\n",
    "Question2a().x12"
   ],
   "outputs": [
    {
     "data": {
      "text/plain": [
       "array([ 4,  5,  4, ..., 15, 19, 14])"
      ]
     },
     "execution_count": 39,
     "metadata": {},
     "output_type": "execute_result"
    },
    {
     "data": {
      "text/plain": [
       "<Figure size 640x480 with 1 Axes>"
      ],
      "image/png": "[encoded data removed]"
     },
     "metadata": {},
     "output_type": "display_data"
    }
   ],
   "execution_count": 39
  },
  {
   "cell_type": "code",
   "id": "3218f44c",
   "metadata": {
    "deletable": false,
    "editable": false,
    "ExecuteTime": {
     "end_time": "2024-06-21T10:41:54.479993Z",
     "start_time": "2024-06-21T10:41:54.471162Z"
    }
   },
   "source": [
    "grader.check(\"Question 2a\")"
   ],
   "outputs": [
    {
     "data": {
      "text/plain": [
       "Question 2a results: All test cases passed!"
      ],
      "text/html": [
       "<p><strong><pre style='display: inline;'>Question 2a</pre></strong> passed! 🚀</p>"
      ]
     },
     "execution_count": 40,
     "metadata": {},
     "output_type": "execute_result"
    }
   ],
   "execution_count": 40
  },
  {
   "cell_type": "markdown",
   "id": "720b0bc7",
   "metadata": {},
   "source": [
    "### 2b) (4 points)\n",
    "\n",
    "Calculate the mean, median, and the first two modes of the concatenated samples (from Question 2a), and store them in the variables 'mean', 'median', 'mode1', and 'mode2', respectively.\n",
    "\n",
    "Hint: You can use np.unique and np.argsort to find the first and the second modes"
   ]
  },
  {
   "cell_type": "code",
   "id": "d30ff278",
   "metadata": {
    "ExecuteTime": {
     "end_time": "2024-06-21T10:41:54.488381Z",
     "start_time": "2024-06-21T10:41:54.481643Z"
    }
   },
   "source": [
    "class Question2b:\n",
    "    x12 = Question2a().x12\n",
    "\n",
    "    mean_x12 = np.mean(x12)\n",
    "    median_x12 = np.median(x12)\n",
    "\n",
    "    vals, counts = np.unique(x12, return_counts=True)\n",
    "    idxes = np.argsort(counts)\n",
    "\n",
    "    mode1_x12 = vals[idxes[-1]]\n",
    "    mode2_x12 = vals[idxes[-2]]\n",
    "\n",
    "    print(\n",
    "        'Mean: {:.2f} \\nMedian: {:.2f} \\nFirst mode: {:.2f}\\nSecond mode: {:.2f}'.format(\n",
    "            mean_x12, median_x12, mode1_x12, mode2_x12))"
   ],
   "outputs": [
    {
     "name": "stdout",
     "output_type": "stream",
     "text": [
      "Mean: 10.01 \n",
      "Median: 10.00 \n",
      "First mode: 16.00\n",
      "Second mode: 4.00\n"
     ]
    }
   ],
   "execution_count": 41
  },
  {
   "cell_type": "code",
   "id": "b9f6f66a",
   "metadata": {
    "deletable": false,
    "editable": false,
    "ExecuteTime": {
     "end_time": "2024-06-21T10:41:54.499304Z",
     "start_time": "2024-06-21T10:41:54.492007Z"
    }
   },
   "source": [
    "grader.check(\"Question 2b\")"
   ],
   "outputs": [
    {
     "data": {
      "text/plain": [
       "Question 2b results: All test cases passed!"
      ],
      "text/html": [
       "<p><strong><pre style='display: inline;'>Question 2b</pre></strong> passed! 🎉</p>"
      ]
     },
     "execution_count": 42,
     "metadata": {},
     "output_type": "execute_result"
    }
   ],
   "execution_count": 42
  },
  {
   "cell_type": "markdown",
   "id": "c4f52bff",
   "metadata": {},
   "source": [
    "Which of these estimates (mean, median and modes) is more suitable to better represent this particular type of data? Why?"
   ]
  },
  {
   "cell_type": "markdown",
   "id": "569c22f1",
   "metadata": {},
   "source": [
    "Your answer: The modes are best suited as the dataset is bimodal"
   ]
  },
  {
   "cell_type": "markdown",
   "id": "69c40e54",
   "metadata": {
    "nbgrader": {
     "grade": false,
     "grade_id": "cell-6cb3f5a1cf371788",
     "locked": true,
     "schema_version": 3,
     "solution": false,
     "task": false
    }
   },
   "source": [
    "## Question 3 (3 points)\n",
    "\n",
    "### Normal distribution:\n",
    "A normal (Gaussian) distribution is a type of continuous probability distribution characterized by a bell-shaped curve and defined by its mean $\\mu$ and standard deviation $\\sigma$:\n",
    "$$\n",
    "    p(y) = \\frac{1}{\\sqrt{2\\pi\\sigma^2}} e^{-\\frac{(y - \\mu)^2}{2\\sigma^2}}\n",
    "$$\n",
    "We let $Y$ denote a random variable following this distribution."
   ]
  },
  {
   "cell_type": "code",
   "id": "2bc6f62e",
   "metadata": {
    "ExecuteTime": {
     "end_time": "2024-06-21T10:41:54.505282Z",
     "start_time": "2024-06-21T10:41:54.500691Z"
    }
   },
   "source": [
    "mu = 3.0\n",
    "sigma = 2.0\n",
    "Y = stats.norm(loc=mu, scale=sigma)\n",
    "\n",
    "# Please check this page for more information: \n",
    "# https://docs.scipy.org/doc/scipy/reference/generated/scipy.stats.norm.html"
   ],
   "outputs": [],
   "execution_count": 43
  },
  {
   "cell_type": "markdown",
   "id": "3dca964c",
   "metadata": {},
   "source": [
    "### 3a) (1 point)\n",
    "Generate 10,000 independent samples in a variable named 'y'.\n",
    "\n",
    "Visualize the distribution of the data plot using an histogram. Add a smooth curve obtained using a kernel density estimate (KDE) to the histogram.\n",
    "\n",
    "Hint: you can use sns.histplot."
   ]
  },
  {
   "cell_type": "code",
   "id": "e0247cc7",
   "metadata": {
    "nbgrader": {
     "grade": true,
     "grade_id": "cell-b705817b0aa8fe76",
     "locked": false,
     "points": 0,
     "schema_version": 3,
     "solution": true,
     "task": false
    },
    "ExecuteTime": {
     "end_time": "2024-06-21T10:41:55.229649Z",
     "start_time": "2024-06-21T10:41:54.507717Z"
    }
   },
   "source": [
    "class Question3a:\n",
    "    n_samples = 10000\n",
    "    np.random.seed(0)\n",
    "\n",
    "    y = Y.rvs(size=n_samples)\n",
    "\n",
    "    sns.histplot(data=y)\n",
    "    sns.histplot(data=y, kde=True)\n",
    "\n",
    "    sns.histplot(y)"
   ],
   "outputs": [
    {
     "data": {
      "text/plain": [
       "<Figure size 640x480 with 1 Axes>"
      ],
      "image/png": "[encoded data removed]"
     },
     "metadata": {},
     "output_type": "display_data"
    }
   ],
   "execution_count": 44
  },
  {
   "cell_type": "code",
   "id": "557e9547",
   "metadata": {
    "deletable": false,
    "editable": false,
    "ExecuteTime": {
     "end_time": "2024-06-21T10:41:55.238371Z",
     "start_time": "2024-06-21T10:41:55.231132Z"
    }
   },
   "source": [
    "grader.check(\"Question 3a\")"
   ],
   "outputs": [
    {
     "data": {
      "text/plain": [
       "Question 3a results: All test cases passed!"
      ],
      "text/html": [
       "<p><strong><pre style='display: inline;'>Question 3a</pre></strong> passed! 🙌</p>"
      ]
     },
     "execution_count": 45,
     "metadata": {},
     "output_type": "execute_result"
    }
   ],
   "execution_count": 45
  },
  {
   "cell_type": "markdown",
   "id": "0d708488",
   "metadata": {},
   "source": [
    "### 3b) (1 point, bonus)\n",
    "Calculate the probabilities $\\text{P}(Y = 2)$, $\\text{P}(Y = 3)$ and $\\text{P}(Y = 4)$ and store them in the variables 'p2', 'p3', and 'p4', respectively.\n"
   ]
  },
  {
   "cell_type": "code",
   "id": "d5914d1c",
   "metadata": {
    "ExecuteTime": {
     "end_time": "2024-06-21T10:41:55.247186Z",
     "start_time": "2024-06-21T10:41:55.240115Z"
    }
   },
   "source": [
    "class Question3b:\n",
    "    p2 = 0\n",
    "    p3 = 0\n",
    "    p4 = 0\n",
    "\n",
    "    print('P(Y=2)={:.4f} \\nP(Y=3)={:.4f} \\nP(Y=4)={:.4f}'.format(p2, p3, p4))\n",
    "\n",
    "\n",
    "Question3a().y"
   ],
   "outputs": [
    {
     "name": "stdout",
     "output_type": "stream",
     "text": [
      "P(Y=2)=0.0000 \n",
      "P(Y=3)=0.0000 \n",
      "P(Y=4)=0.0000\n"
     ]
    },
    {
     "data": {
      "text/plain": [
       "array([6.52810469, 3.80031442, 4.95747597, ..., 4.03374436, 2.93415861,\n",
       "       5.59622286])"
      ]
     },
     "execution_count": 46,
     "metadata": {},
     "output_type": "execute_result"
    }
   ],
   "execution_count": 46
  },
  {
   "cell_type": "code",
   "id": "2aaa8a3d",
   "metadata": {
    "deletable": false,
    "editable": false,
    "ExecuteTime": {
     "end_time": "2024-06-21T10:41:55.253784Z",
     "start_time": "2024-06-21T10:41:55.248509Z"
    }
   },
   "source": [
    "grader.check(\"Question 3b\")"
   ],
   "outputs": [
    {
     "data": {
      "text/plain": [
       "Question 3b results: All test cases passed!"
      ],
      "text/html": [
       "<p><strong><pre style='display: inline;'>Question 3b</pre></strong> passed! ✨</p>"
      ]
     },
     "execution_count": 47,
     "metadata": {},
     "output_type": "execute_result"
    }
   ],
   "execution_count": 47
  },
  {
   "cell_type": "markdown",
   "id": "c80c3d08",
   "metadata": {},
   "source": [
    "### 3c) (1 point)\n",
    "Calculate the probabilities $\\text{P}(Y \\leq 2)$, $\\text{P}(2 < Y \\leq 3)$ and $\\text{P}(Y \\geq 4)$ and store them in the variables 'p_le2', 'p_gr2_le3', and 'p_gr4', respectively.\n"
   ]
  },
  {
   "cell_type": "code",
   "id": "815ea3bc",
   "metadata": {
    "ExecuteTime": {
     "end_time": "2024-06-21T10:41:55.263338Z",
     "start_time": "2024-06-21T10:41:55.255810Z"
    }
   },
   "source": [
    "class Question3c:\n",
    "    p_le2 = Y.cdf(2)\n",
    "    p_gr2_le3 = Y.sf(2) - Y.cdf(3)\n",
    "    p_gr4 = Y.sf(4)\n",
    "\n",
    "    print('P(Y<=2)={:.4f}\\nP(2<Y<=3)={:.4f}\\nP(Y>=4)={:.4f}'.format(p_le2,\n",
    "                                                                    p_gr2_le3,\n",
    "                                                                    p_gr4))"
   ],
   "outputs": [
    {
     "name": "stdout",
     "output_type": "stream",
     "text": [
      "P(Y<=2)=0.3085\n",
      "P(2<Y<=3)=0.1915\n",
      "P(Y>=4)=0.3085\n"
     ]
    }
   ],
   "execution_count": 48
  },
  {
   "cell_type": "code",
   "id": "5a00572f",
   "metadata": {
    "deletable": false,
    "editable": false,
    "ExecuteTime": {
     "end_time": "2024-06-21T10:41:55.274027Z",
     "start_time": "2024-06-21T10:41:55.265860Z"
    }
   },
   "source": [
    "grader.check(\"Question 3c\")"
   ],
   "outputs": [
    {
     "data": {
      "text/plain": [
       "Question 3c results: All test cases passed!"
      ],
      "text/html": [
       "<p><strong><pre style='display: inline;'>Question 3c</pre></strong> passed! 🌟</p>"
      ]
     },
     "execution_count": 49,
     "metadata": {},
     "output_type": "execute_result"
    }
   ],
   "execution_count": 49
  },
  {
   "cell_type": "markdown",
   "id": "335a8539",
   "metadata": {},
   "source": [
    "Do the probabilities $\\text{P}(Y \\leq 2)$ and $\\text{P}(Y \\geq 4)$ have the same value? What is the reason for your answer?"
   ]
  },
  {
   "cell_type": "markdown",
   "id": "c64a1a79",
   "metadata": {},
   "source": [
    "Your answer: Yes, as their limiting values have the same distance from 3."
   ]
  },
  {
   "cell_type": "markdown",
   "id": "bcbaa615",
   "metadata": {},
   "source": []
  },
  {
   "cell_type": "markdown",
   "id": "e17dcc74",
   "metadata": {},
   "source": [
    "### 3d) (1 point)\n",
    "\n",
    "Calculate the mean, standard deviation, and median of the samples generated in the variable 'y' (Question 3a) and store them in the variables 'mean', 'std' and 'median' respectively."
   ]
  },
  {
   "cell_type": "code",
   "id": "ecb9fec3",
   "metadata": {
    "ExecuteTime": {
     "end_time": "2024-06-21T10:41:55.281492Z",
     "start_time": "2024-06-21T10:41:55.276133Z"
    }
   },
   "source": [
    "class Question3d:\n",
    "    mean_y = np.mean(Question3a().y)\n",
    "    std_y = np.std(Question3a().y)\n",
    "    median_y = np.median(Question3a().y)\n",
    "\n",
    "    print('Mean={:.4f} \\nStd={:.4f} \\nMedian={:.4f}'.format(mean_y, std_y,\n",
    "                                                            median_y))"
   ],
   "outputs": [
    {
     "name": "stdout",
     "output_type": "stream",
     "text": [
      "Mean=2.9631 \n",
      "Std=1.9751 \n",
      "Median=2.9459\n"
     ]
    }
   ],
   "execution_count": 50
  },
  {
   "cell_type": "code",
   "id": "a527de2f",
   "metadata": {
    "deletable": false,
    "editable": false,
    "ExecuteTime": {
     "end_time": "2024-06-21T10:41:55.291612Z",
     "start_time": "2024-06-21T10:41:55.283969Z"
    }
   },
   "source": [
    "grader.check(\"Question 3d\")"
   ],
   "outputs": [
    {
     "data": {
      "text/plain": [
       "Question 3d results: All test cases passed!"
      ],
      "text/html": [
       "<p><strong><pre style='display: inline;'>Question 3d</pre></strong> passed! 🍀</p>"
      ]
     },
     "execution_count": 51,
     "metadata": {},
     "output_type": "execute_result"
    }
   ],
   "execution_count": 51
  },
  {
   "cell_type": "markdown",
   "id": "0de87bf5",
   "metadata": {},
   "source": [
    "Are the mean and the standard deviation close to the $\\mu$ and $\\sigma$? How about the median? Why?"
   ]
  },
  {
   "cell_type": "markdown",
   "id": "49aff0c2",
   "metadata": {},
   "source": [
    "Your answer: Mu defines the mean in a normal distribution, which should fall together with the median. Sigma is defined as the standard deviation."
   ]
  },
  {
   "cell_type": "markdown",
   "id": "e895eb39",
   "metadata": {
    "deletable": false,
    "editable": false
   },
   "source": [
    "---\n",
    "\n",
    "To double-check your work, the cell below will rerun all of the autograder tests."
   ]
  },
  {
   "cell_type": "code",
   "id": "cdddc552",
   "metadata": {
    "deletable": false,
    "editable": false,
    "ExecuteTime": {
     "end_time": "2024-06-21T10:41:55.315044Z",
     "start_time": "2024-06-21T10:41:55.293365Z"
    }
   },
   "source": [
    "grader.check_all()"
   ],
   "outputs": [
    {
     "data": {
      "text/plain": [
       "Question 1a results: All test cases passed!\n",
       "\n",
       "Question 1b results: All test cases passed!\n",
       "\n",
       "Question 1c results: All test cases passed!\n",
       "\n",
       "Question 1d results: All test cases passed!\n",
       "\n",
       "Question 2a results: All test cases passed!\n",
       "\n",
       "Question 2b results: All test cases passed!\n",
       "\n",
       "Question 3a results: All test cases passed!\n",
       "\n",
       "Question 3b results: All test cases passed!\n",
       "\n",
       "Question 3c results: All test cases passed!\n",
       "\n",
       "Question 3d results: All test cases passed!"
      ]
     },
     "execution_count": 52,
     "metadata": {},
     "output_type": "execute_result"
    }
   ],
   "execution_count": 52
  },
  {
   "cell_type": "code",
   "source": [],
   "metadata": {
    "collapsed": false,
    "ExecuteTime": {
     "end_time": "2024-06-21T10:41:55.318710Z",
     "start_time": "2024-06-21T10:41:55.316523Z"
    }
   },
   "id": "171470048ceb753f",
   "outputs": [],
   "execution_count": 52
  }
 ],
 "metadata": {
  "celltoolbar": "Create Assignment",
  "kernelspec": {
   "name": "python3",
   "language": "python",
   "display_name": "Python 3 (ipykernel)"
  },
  "language_info": {
   "codemirror_mode": {
    "name": "ipython",
    "version": 3
   },
   "file_extension": ".py",
   "mimetype": "text/x-python",
   "name": "python",
   "nbconvert_exporter": "python",
   "pygments_lexer": "ipython3",
   "version": "3.12.1"
  },
  "vscode": {
   "interpreter": {
    "hash": "913bf538e0268f95f9c968c6389b7e7d4c9127ecd5fa78580616ce9989c49c5f"
   }
  }
 },
 "nbformat": 4,
 "nbformat_minor": 5
}
