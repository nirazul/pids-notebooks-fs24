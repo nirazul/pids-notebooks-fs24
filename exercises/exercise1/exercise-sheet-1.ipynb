{
 "cells": [
  {
   "cell_type": "markdown",
   "id": "6f605ac0",
   "metadata": {},
   "source": [
    "# Exercise sheet 1\n",
    "**Welcome everyone!**\n",
    "\n",
    "Your goals for this exercise sheet are:\n",
    "* Get to know Python\n",
    "* Get to know the Jupyterhub environment\n",
    "* Play with some data!\n",
    "\n",
    "This exercise sheet is ungraded and serves to let you familiarize yourself with Python, Jupyterhub, and some common data science libraries.\n",
    "\n",
    "Please let us know if you have questions or problems! <br>\n",
    "Contact us during the exercise session or on [Piazza](https://piazza.com/unibas.ch/spring2024/63982). "
   ]
  },
  {
   "cell_type": "markdown",
   "id": "89aaf282",
   "metadata": {},
   "source": [
    "<img src =\"https://images.unsplash.com/photo-1628853210688-acf6bfeb5daf?ixlib=rb-1.2.1&ixid=MnwxMjA3fDB8MHxwaG90by1wYWdlfHx8fGVufDB8fHx8&auto=format&fit=crop&w=1170&q=80\" width=\"400\" align=\"left\">"
   ]
  },
  {
   "cell_type": "markdown",
   "id": "f860c5f4",
   "metadata": {},
   "source": [
    "## 1 - Python!\n",
    "Would you like to learn some Python first?\n",
    "\n",
    "* No experience in Python at all? [Start here](https://docs.python.org/3/tutorial/index.html).\n",
    "* Tutorial for the relevant Python packages in this course: [Numpy](https://www.w3schools.com/python/numpy/default.asp), [Pandas](https://www.w3schools.com/python/pandas/default.asp) and [Matplotlib](https://www.w3schools.com/python/matplotlib_intro.asp).\n",
    "* You want to get started or learn best by trial and error? Scroll down to exercise 2."
   ]
  },
  {
   "cell_type": "markdown",
   "id": "75a553d9",
   "metadata": {},
   "source": [
    "<img src=\"https://live.staticflickr.com/836/41713894360_93772b60bc_w_d.jpg\" width=\"400\" align=\"left\">"
   ]
  },
  {
   "cell_type": "markdown",
   "id": "5380f15c",
   "metadata": {},
   "source": [
    "## 2 - Getting your teeth in!\n",
    "Are you already familiar with Python and/or want to get started with all the cool data manipulation?"
   ]
  },
  {
   "cell_type": "markdown",
   "id": "eba13158",
   "metadata": {},
   "source": [
    "### 2a- Python Basics"
   ]
  },
  {
   "cell_type": "markdown",
   "id": "c0eb65f7",
   "metadata": {},
   "source": [
    "Creating variables and display"
   ]
  },
  {
   "cell_type": "code",
   "id": "1e79b6fb",
   "metadata": {
    "ExecuteTime": {
     "end_time": "2024-03-06T20:40:12.098378Z",
     "start_time": "2024-03-06T20:40:12.088739Z"
    }
   },
   "source": [
    "import math # Importing math package\n",
    "\n",
    "# Variables can be numbers:\n",
    "a = 3\n",
    "b = 4\n",
    "c = math.sqrt(a**2 + b**2)\n",
    "print(a,b,c)\n",
    "\n",
    "# Variables can be strings:\n",
    "x = 'Data '\n",
    "y = 'Science'\n",
    "print(x + y)\n",
    "\n",
    "# Variables type can be converted:\n",
    "x = 3.0\n",
    "str_x = str(x) # str_x will be a string\n",
    "print(type(x), type(str_x))\n"
   ],
   "outputs": [
    {
     "name": "stdout",
     "output_type": "stream",
     "text": [
      "3 4 5.0\n",
      "Data Science\n",
      "<class 'float'> <class 'str'>\n"
     ]
    }
   ],
   "execution_count": 1
  },
  {
   "cell_type": "markdown",
   "id": "fa4a7636",
   "metadata": {},
   "source": [
    "Python lists"
   ]
  },
  {
   "cell_type": "code",
   "execution_count": null,
   "id": "36d66055",
   "metadata": {},
   "outputs": [],
   "source": [
    "a = [1,2,3,4, 'data', 'science'] # Items can be numbers or strings or any other objects\n",
    "print(a)\n",
    "print(len(a)) # list length"
   ]
  },
  {
   "cell_type": "markdown",
   "id": "ad1c568d",
   "metadata": {},
   "source": [
    "How can we have access to the items? \n",
    "1) Print the third and the last items. Hint: Search for the list indexing.\n",
    "2) Print all the items from 3 to the end (3,4, 'data', 'science')."
   ]
  },
  {
   "cell_type": "code",
   "execution_count": null,
   "id": "a4bbf2aa",
   "metadata": {},
   "outputs": [],
   "source": [
    "a = [1,2,3,4, 'data', 'science']"
   ]
  },
  {
   "cell_type": "markdown",
   "id": "27a68d78",
   "metadata": {},
   "source": [
    "Conditions and if statements"
   ]
  },
  {
   "cell_type": "code",
   "execution_count": null,
   "id": "a41f2b55",
   "metadata": {},
   "outputs": [],
   "source": [
    "x = 100\n",
    "y = 200\n",
    "\n",
    "if y > x:\n",
    "    print('y is greater than x')\n",
    "elif y < x:\n",
    "    print('x is greater than y')\n",
    "else:\n",
    "    print('x and y are equal')"
   ]
  },
  {
   "cell_type": "markdown",
   "id": "57aa45b8",
   "metadata": {},
   "source": [
    "Python For loops"
   ]
  },
  {
   "cell_type": "code",
   "execution_count": null,
   "id": "f00ef78f",
   "metadata": {},
   "outputs": [],
   "source": [
    "x = [1,2,3,4,5,6,7,8,9,10]\n",
    "\n",
    "for i in x:\n",
    "    print(i)\n"
   ]
  },
  {
   "cell_type": "markdown",
   "id": "a14a20a7",
   "metadata": {},
   "source": [
    "Write a program to print all the elements in the following list that are greater than or equal to 1."
   ]
  },
  {
   "cell_type": "code",
   "execution_count": null,
   "id": "1a1ff4f6",
   "metadata": {},
   "outputs": [],
   "source": [
    "x = [0.2,4.3,5.6,-1,0.23,0.98,5.1,0.72,6.7,1]\n",
    "\n",
    "### Your code ###"
   ]
  },
  {
   "cell_type": "markdown",
   "id": "bfe7f0e8",
   "metadata": {},
   "source": [
    "Python Functions"
   ]
  },
  {
   "cell_type": "code",
   "execution_count": null,
   "id": "a701feb4",
   "metadata": {},
   "outputs": [],
   "source": [
    "# A function that takes in two parameters, x and y, and returns the greater of the two.\n",
    "def myfunc(x,y):\n",
    "\n",
    "    if y > x:\n",
    "        print('y is greater than x')\n",
    "        return y\n",
    "    elif y < x:\n",
    "        print('x is greater than y')\n",
    "        return x\n",
    "    else:\n",
    "        print('x and y are equal')\n",
    "        return x\n",
    "\n",
    "\n",
    "out = myfunc(x = 100,y = 200)\n",
    "print(out)\n"
   ]
  },
  {
   "cell_type": "markdown",
   "id": "5a4158bc",
   "metadata": {},
   "source": [
    "Create a function that takes the lengths of the two shorter sides of a right triangle as input and calculates the length of the hypotenuse using the Pythagorean theorem."
   ]
  },
  {
   "cell_type": "code",
   "execution_count": null,
   "id": "c67e1f63",
   "metadata": {},
   "outputs": [],
   "source": [
    "import math\n",
    "\n",
    "def hypotenuse(s1,s2):\n",
    "    ### Your code ###\n",
    "    return None\n",
    "\n"
   ]
  },
  {
   "cell_type": "markdown",
   "id": "3495282e",
   "metadata": {},
   "source": [
    "#### Classes as namespaces\n",
    "\n",
    "Python makes it possible to define own data types using classes. Classes are an important concept to structure large pieces of software. As we are working with only small pieces of code at the time, we won't use classes in the traditional sense. However, we will use a feature of classes to structure the exercises. We can use classes to define a namespace. Consider the following example:"
   ]
  },
  {
   "cell_type": "code",
   "execution_count": null,
   "id": "3d9bea7a",
   "metadata": {},
   "outputs": [],
   "source": [
    "class A:\n",
    "    print(\"Defining a variable v in class A\")\n",
    "    v = 3\n",
    "    print(\"The variable has the value \", v)\n",
    "\n",
    "class B:\n",
    "    print(\"Defining a variable v in class B\")\n",
    "    v = 3\n",
    "    print(\"The variable has the value \", v)        "
   ]
  },
  {
   "cell_type": "markdown",
   "id": "bd8edd11",
   "metadata": {},
   "source": [
    "We notice that the code within the class body is executed just as normal Python code is. What is important, however, is that from outside of the class, we can still distinguish the two values of `v` defined in the respective classes."
   ]
  },
  {
   "cell_type": "code",
   "execution_count": null,
   "id": "159799b0",
   "metadata": {},
   "outputs": [],
   "source": [
    "print(\"Value of v in class A: \", A.v)\n",
    "print(\"Value of v in class B: \", B.v)"
   ]
  },
  {
   "cell_type": "markdown",
   "id": "04a8bcd9",
   "metadata": {},
   "source": [
    "From now on we will always write solutions to exercises in a dedicated class. This ensures, that variables defined in differnet exercises within the same sheet will not overwrite each other's value, which is particularly important when the exercises are autograded. \n",
    "\n",
    "*Note: You dont need to use Python's object oriented features like methods, attributes. Simply write normal python code into the class body.*"
   ]
  },
  {
   "cell_type": "markdown",
   "id": "87d878d7",
   "metadata": {},
   "source": [
    "### 2b - First steps with Pandas library\n",
    "In this first paragraph, we'll address the following question: <br>\n",
    "How many dentists are there in Switzerland? <br>\n",
    "(This kind of question is called [a Fermi problem](https://en.wikipedia.org/wiki/Fermi_problem)). Make some assumptions and try to estimate this number without googling it! "
   ]
  },
  {
   "cell_type": "markdown",
   "id": "8bd227a3",
   "metadata": {},
   "source": [
    "Let's use some data to help us find out more about dentistry. The WHO [publishes data about the number of dentists in different countries](https://www.who.int/data/gho/data/indicators/indicator-details/GHO/dentists-(number)). It has been downloaded and added to the same directory as this notebook."
   ]
  },
  {
   "cell_type": "markdown",
   "id": "ffb77ea7",
   "metadata": {},
   "source": [
    "Let's import Pandas and read the csv file. The file contains many columns, whose values are not present (not available \"na\"). We drop them after reading using the method `.dropna`. "
   ]
  },
  {
   "cell_type": "code",
   "execution_count": null,
   "id": "574fb4e4",
   "metadata": {},
   "outputs": [],
   "source": [
    "import pandas as pd\n",
    "dentists = pd.read_csv(\"dentists_data.csv\").dropna(how='all', axis=1)"
   ]
  },
  {
   "cell_type": "markdown",
   "id": "f0a15339",
   "metadata": {},
   "source": [
    "What is inside this file?"
   ]
  },
  {
   "cell_type": "code",
   "execution_count": null,
   "id": "2b6472ac",
   "metadata": {},
   "outputs": [],
   "source": [
    "dentists.head()"
   ]
  },
  {
   "cell_type": "markdown",
   "id": "0691aa0b",
   "metadata": {},
   "source": [
    "What else can we do with this pandas structure?"
   ]
  },
  {
   "cell_type": "code",
   "execution_count": null,
   "id": "602d267c",
   "metadata": {},
   "outputs": [],
   "source": [
    "dir(dentists) # List all functions that we can call from 'dentists', such as 'head' as above"
   ]
  },
  {
   "cell_type": "markdown",
   "id": "da6fcb8d",
   "metadata": {},
   "source": [
    "We can always get more information and examples how to use a function using 'help'"
   ]
  },
  {
   "cell_type": "code",
   "execution_count": null,
   "id": "84c86104",
   "metadata": {},
   "outputs": [],
   "source": [
    "help(dentists) # list all functions that can be called from this variable and the documentation "
   ]
  },
  {
   "cell_type": "code",
   "execution_count": null,
   "id": "b8fecbe5",
   "metadata": {},
   "outputs": [],
   "source": [
    "help(dentists.head) # display the help for the function head"
   ]
  },
  {
   "cell_type": "markdown",
   "id": "9e6af5f4",
   "metadata": {},
   "source": [
    "Can you display the first 10 rows now? Use the help function."
   ]
  },
  {
   "cell_type": "code",
   "execution_count": null,
   "id": "24355061",
   "metadata": {},
   "outputs": [],
   "source": [
    "class Exercise2b_1:\n",
    "    ### Your code ###\n",
    "    ..."
   ]
  },
  {
   "cell_type": "markdown",
   "id": "eee5761f",
   "metadata": {},
   "source": [
    "How can we display only one column?"
   ]
  },
  {
   "cell_type": "code",
   "execution_count": null,
   "id": "1870a9de",
   "metadata": {},
   "outputs": [],
   "source": [
    "dentists['Location'] # to get the 'Location' column"
   ]
  },
  {
   "cell_type": "markdown",
   "id": "53964983",
   "metadata": {},
   "source": [
    "Can you get other columns?"
   ]
  },
  {
   "cell_type": "markdown",
   "id": "dcf64a69",
   "metadata": {},
   "source": [
    "Display the column 'ParentLocation'"
   ]
  },
  {
   "cell_type": "code",
   "execution_count": null,
   "id": "40caa47c",
   "metadata": {},
   "outputs": [],
   "source": [
    "class Exercise2b_2:\n",
    "    ### Your code ###\n",
    "    pass"
   ]
  },
  {
   "cell_type": "markdown",
   "id": "7171e455",
   "metadata": {},
   "source": [
    "Display the column that shows the number of dentists "
   ]
  },
  {
   "cell_type": "code",
   "execution_count": null,
   "id": "96f5f29c",
   "metadata": {},
   "outputs": [],
   "source": [
    "class Exercise2b_3:\n",
    "    ### Your code ###\n",
    "    ..."
   ]
  },
  {
   "cell_type": "markdown",
   "id": "190e8f7d",
   "metadata": {},
   "source": [
    "Display the column that shows the years corresponding to each row"
   ]
  },
  {
   "cell_type": "code",
   "execution_count": null,
   "id": "24e32519",
   "metadata": {},
   "outputs": [],
   "source": [
    "class Exercise2b_4:\n",
    "    ### Your code ###\n",
    "    ..."
   ]
  },
  {
   "cell_type": "markdown",
   "id": "f86c157a-1302-4fc0-95da-4cbaa6dcf2ae",
   "metadata": {},
   "source": [
    "We have seen that `dentists.head()` prints the first few rows of a dataframe. Can you get the same information using slicing (see e.g. [Indexing and slicing](https://pandas.pydata.org/docs/user_guide/indexing.html)."
   ]
  },
  {
   "cell_type": "code",
   "execution_count": null,
   "id": "7e26861a-8321-4f0c-930a-d3916a674805",
   "metadata": {},
   "outputs": [],
   "source": [
    "class Exercise2b_5:\n",
    "    ### replace dentists.head with your code\"\"\"\n",
    "    display(dentists.head())"
   ]
  },
  {
   "cell_type": "code",
   "execution_count": null,
   "id": "642cbc0e",
   "metadata": {},
   "outputs": [],
   "source": [
    "latest_year = dentists[\"Period\"].max()\n",
    "latest_year"
   ]
  },
  {
   "cell_type": "markdown",
   "id": "b72ebf19",
   "metadata": {},
   "source": [
    "Can you get also the first year for which we have data for?"
   ]
  },
  {
   "cell_type": "code",
   "execution_count": null,
   "id": "075aa664",
   "metadata": {},
   "outputs": [],
   "source": [
    "class Exercise2c_1:\n",
    "    ### Your code ###\n",
    "    ..."
   ]
  },
  {
   "cell_type": "markdown",
   "id": "2a4f70cc",
   "metadata": {},
   "source": [
    "Can you display all the different countries in the dataset? <br>\n",
    "Hint: use `np.unique` from `numpy`."
   ]
  },
  {
   "cell_type": "code",
   "execution_count": null,
   "id": "fbd904bc",
   "metadata": {},
   "outputs": [],
   "source": [
    "import numpy as np \n",
    "\n",
    "class Exercise2c_2:\n",
    "    ### Your code ###\n",
    "    ..."
   ]
  },
  {
   "cell_type": "markdown",
   "id": "5732d17e",
   "metadata": {},
   "source": [
    "### 2d - Let's extract a part of the dataset\n",
    "For how many years is there information on dentists in Switzerland?"
   ]
  },
  {
   "cell_type": "code",
   "execution_count": null,
   "id": "936bfdc7",
   "metadata": {},
   "outputs": [],
   "source": [
    "dentists_ch = dentists[dentists[\"Location\"] == \"Switzerland\"]\n",
    "len(dentists_ch)"
   ]
  },
  {
   "cell_type": "markdown",
   "id": "cd2f5496",
   "metadata": {},
   "source": [
    "Can you check (using Python commands) if all years are in the dataset? <br>\n",
    "Hint: you can use 'np.unique'"
   ]
  },
  {
   "cell_type": "code",
   "execution_count": null,
   "id": "6944fc00",
   "metadata": {},
   "outputs": [],
   "source": [
    "class Exercise2d:\n",
    "    ### Your code ###\n",
    "    pass"
   ]
  },
  {
   "cell_type": "markdown",
   "id": "6b31d859",
   "metadata": {},
   "source": [
    "### 2e - Let's display the dataset\n",
    "Plot how the number of dentists changed over time. <br>\n",
    "(x-axis: time, y-axis: number of dentists) <br>\n",
    "Hint: use the function '.plot' associated with a Pandas dataframe."
   ]
  },
  {
   "cell_type": "code",
   "execution_count": null,
   "id": "b3f72f80",
   "metadata": {},
   "outputs": [],
   "source": [
    "class Exercise2e_1:\n",
    "    ### Your code ###\n",
    "    ..."
   ]
  },
  {
   "cell_type": "markdown",
   "id": "d60a821a",
   "metadata": {},
   "source": [
    "What is surprising about this plot?"
   ]
  },
  {
   "cell_type": "markdown",
   "id": "04bc4452",
   "metadata": {},
   "source": [
    "Your answer"
   ]
  },
  {
   "cell_type": "markdown",
   "id": "beafa2ef",
   "metadata": {},
   "source": [
    "What could have led to this phenomenon?"
   ]
  },
  {
   "cell_type": "markdown",
   "id": "0a9d89a9",
   "metadata": {},
   "source": [
    "Your answer"
   ]
  },
  {
   "cell_type": "markdown",
   "id": "c09e46a3",
   "metadata": {},
   "source": [
    "Check if this phenomenon appears only for Switzerland. "
   ]
  },
  {
   "cell_type": "code",
   "execution_count": null,
   "id": "a23696f3",
   "metadata": {},
   "outputs": [],
   "source": [
    "# Display the number of dentists over time for Europe\n",
    "\n",
    "class Exercise2e_2:\n",
    "    ### Your code ###\n",
    "    ..."
   ]
  },
  {
   "cell_type": "markdown",
   "id": "1a022ca3",
   "metadata": {},
   "source": [
    "Display the number of dentists for all continents. Do they follow the same trend?"
   ]
  },
  {
   "cell_type": "code",
   "execution_count": null,
   "id": "388d1f82",
   "metadata": {},
   "outputs": [],
   "source": [
    "# Display the number of dentists over all continents on the same plots\n",
    "\n",
    "class Exercise2e_3:\n",
    "    ### Your code ###\n",
    "    ..."
   ]
  }
 ],
 "metadata": {
  "kernelspec": {
   "display_name": "Python 3 (ipykernel)",
   "language": "python",
   "name": "python3"
  },
  "language_info": {
   "codemirror_mode": {
    "name": "ipython",
    "version": 3
   },
   "file_extension": ".py",
   "mimetype": "text/x-python",
   "name": "python",
   "nbconvert_exporter": "python",
   "pygments_lexer": "ipython3",
   "version": "3.11.0"
  },
  "vscode": {
   "interpreter": {
    "hash": "07cb0c0be5d5c09ece9af089e9de2ad5458cdd62d0537c1d9b85ed67c101dd7b"
   }
  }
 },
 "nbformat": 4,
 "nbformat_minor": 5
}
