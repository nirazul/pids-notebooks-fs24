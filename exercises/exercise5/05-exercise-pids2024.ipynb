{
 "cells": [
  {
   "cell_type": "code",
   "execution_count": 2,
   "id": "fe9638ac",
   "metadata": {
    "ExecuteTime": {
     "end_time": "2024-03-31T16:10:26.416274Z",
     "start_time": "2024-03-31T16:10:26.102537Z"
    }
   },
   "outputs": [],
   "source": [
    "# Initialize Otter\n",
    "import otter\n",
    "\n",
    "grader = otter.Notebook(\"05-exercise-pids2024.ipynb\")"
   ]
  },
  {
   "cell_type": "markdown",
   "id": "fda78361",
   "metadata": {},
   "source": [
    "# Exercise sheet 5\n",
    "**Hello everyone!**\n",
    "\n",
    "**Points: 15**\n",
    "\n",
    "Topics of this exercise sheet are:\n",
    "* Probabilities\n",
    "* Conditional Probabilities\n",
    "\n",
    "\n",
    "Please let us know if you have questions or problems! <br>\n",
    "Contact us during the exercise session or on [Piazza](https://piazza.com/unibas.ch/spring2024/63982).\n",
    "\n",
    "**Automatic Feedback**\n",
    "\n",
    "This notebook can be automatically graded using Otter grader. To find how many points you get, simply run `grader.check_all()` from a new cell. "
   ]
  },
  {
   "cell_type": "code",
   "execution_count": 3,
   "id": "3cb955b2",
   "metadata": {
    "ExecuteTime": {
     "end_time": "2024-03-31T16:10:26.426673Z",
     "start_time": "2024-03-31T16:10:26.419019Z"
    }
   },
   "outputs": [
    {
     "name": "stdout",
     "output_type": "stream",
     "text": [
      "2.0.3 0.12.2 <class 'module'> 1.24.3\n"
     ]
    }
   ],
   "source": [
    "import pandas as pd\n",
    "import seaborn as sns\n",
    "import matplotlib.pyplot as plt\n",
    "import numpy as np\n",
    "\n",
    "print(pd.__version__, sns.__version__, type(plt), np.__version__)"
   ]
  },
  {
   "cell_type": "markdown",
   "id": "628b4d45",
   "metadata": {},
   "source": [
    "## 1 (6 points)\n",
    "Let's start with some basic probability terms.\n",
    "\n",
    "### 1a (1 point)\n",
    "What is $\\Omega$ for 3 coin tosses? Use the Python 'set' data structure with tuples to describe each possible outcome. Name the result `omega_three_coin_tosses`. Use 0 for tails and 1 for heads.\n",
    "\n",
    "* **Recall:** $\\Omega$ is the set of all possible outcomes of an experiment. \n",
    "* **Hint:** Make use of pythons [set comprehensions](https://python-reference.readthedocs.io/en/latest/docs/comprehensions/set_comprehension.html) "
   ]
  },
  {
   "cell_type": "code",
   "execution_count": 4,
   "id": "9d9fbf7a",
   "metadata": {
    "nbgrader": {
     "grade": false,
     "grade_id": "cell-85f0aa24377f6a04",
     "locked": false,
     "schema_version": 3,
     "solution": true,
     "task": false
    },
    "ExecuteTime": {
     "end_time": "2024-03-31T16:10:26.433216Z",
     "start_time": "2024-03-31T16:10:26.428655Z"
    }
   },
   "outputs": [],
   "source": [
    "class Question1a:\n",
    "    omega_three_coin_tosses = {(m, n, o) for o in range(2) for n in range(2) for\n",
    "                               m in range(2)}"
   ]
  },
  {
   "cell_type": "code",
   "execution_count": 5,
   "id": "5e1e280d",
   "metadata": {
    "deletable": false,
    "editable": false,
    "ExecuteTime": {
     "end_time": "2024-03-31T16:10:26.469030Z",
     "start_time": "2024-03-31T16:10:26.457526Z"
    }
   },
   "outputs": [
    {
     "data": {
      "text/plain": "Question 1a results: All test cases passed!",
      "text/html": "<p><strong><pre style='display: inline;'>Question 1a</pre></strong> passed! 🌟</p>"
     },
     "execution_count": 5,
     "metadata": {},
     "output_type": "execute_result"
    }
   ],
   "source": [
    "grader.check(\"Question 1a\")"
   ]
  },
  {
   "cell_type": "markdown",
   "id": "39083529",
   "metadata": {},
   "source": [
    "### 1b (1 point)\n",
    "We roll two standard dice.\n",
    "What is $\\Omega$ for \"We roll the same number twice?\"\n",
    "\n",
    "Save your answer as a 'set' data structure under the name `omega_same_number_twice`."
   ]
  },
  {
   "cell_type": "code",
   "execution_count": 6,
   "id": "f5cf5157",
   "metadata": {
    "nbgrader": {
     "grade": false,
     "grade_id": "cell-e14669da3b7636be",
     "locked": false,
     "schema_version": 3,
     "solution": true,
     "task": false
    },
    "ExecuteTime": {
     "end_time": "2024-03-31T16:10:26.539072Z",
     "start_time": "2024-03-31T16:10:26.531756Z"
    }
   },
   "outputs": [
    {
     "data": {
      "text/plain": "{(1, 1), (2, 2), (3, 3), (4, 4), (5, 5), (6, 6)}"
     },
     "execution_count": 6,
     "metadata": {},
     "output_type": "execute_result"
    }
   ],
   "source": [
    "class Question1b:\n",
    "    omega_same_number_twice = {(m, n) for n in range(1, 7) for m in range(1, 7)\n",
    "                               if m == n}\n",
    "\n",
    "\n",
    "Question1b().omega_same_number_twice"
   ]
  },
  {
   "cell_type": "code",
   "execution_count": 7,
   "id": "e49f6846",
   "metadata": {
    "deletable": false,
    "editable": false,
    "ExecuteTime": {
     "end_time": "2024-03-31T16:10:26.702591Z",
     "start_time": "2024-03-31T16:10:26.690059Z"
    }
   },
   "outputs": [
    {
     "data": {
      "text/plain": "Question 1b results: All test cases passed!",
      "text/html": "<p><strong><pre style='display: inline;'>Question 1b</pre></strong> passed! 💯</p>"
     },
     "execution_count": 7,
     "metadata": {},
     "output_type": "execute_result"
    }
   ],
   "source": [
    "grader.check(\"Question 1b\")"
   ]
  },
  {
   "cell_type": "markdown",
   "id": "118f9dcd",
   "metadata": {},
   "source": [
    "### 1c (1 point)\n",
    "We roll two standard dice. What is the probability ($\\mathbb{P}$) for the sum of the two dice being lower than 30?\n",
    "Put the result in a variable named `probability_lower_30` and make sure to right the probability as a fraction.\n",
    "\n",
    "For instance, if the question was \"what is the probability having two tails while flipping consecutively two coins?\", your answer should be 1/4 and not 0.25, because there is one event in the set of all 4 possible events where that appears. We ask for this specific format to make sure that you understand how to compute it."
   ]
  },
  {
   "cell_type": "code",
   "execution_count": 8,
   "id": "dccac11e",
   "metadata": {
    "nbgrader": {
     "grade": false,
     "grade_id": "cell-726e66c3dbc5c1f4",
     "locked": false,
     "schema_version": 3,
     "solution": true,
     "task": false
    },
    "ExecuteTime": {
     "end_time": "2024-03-31T16:10:26.812519Z",
     "start_time": "2024-03-31T16:10:26.803792Z"
    }
   },
   "outputs": [
    {
     "data": {
      "text/plain": "1.0"
     },
     "execution_count": 8,
     "metadata": {},
     "output_type": "execute_result"
    }
   ],
   "source": [
    "class Question1c:\n",
    "    omega_roll_dice_twice = {(m, n) for n in range(1, 7) for m in range(1, 7)}\n",
    "    omega_special_event = {(m, n) for n in range(1, 7) for m in range(1, 7) if\n",
    "                           m + n < 30}\n",
    "    probability_lower_30 = len(omega_special_event) / len(omega_roll_dice_twice)\n",
    "\n",
    "\n",
    "Question1c().probability_lower_30"
   ]
  },
  {
   "cell_type": "code",
   "execution_count": 9,
   "id": "7972aa3e",
   "metadata": {
    "deletable": false,
    "editable": false,
    "ExecuteTime": {
     "end_time": "2024-03-31T16:10:26.916732Z",
     "start_time": "2024-03-31T16:10:26.907906Z"
    }
   },
   "outputs": [
    {
     "data": {
      "text/plain": "Question 1c results: All test cases passed!",
      "text/html": "<p><strong><pre style='display: inline;'>Question 1c</pre></strong> passed! 🌟</p>"
     },
     "execution_count": 9,
     "metadata": {},
     "output_type": "execute_result"
    }
   ],
   "source": [
    "grader.check(\"Question 1c\")"
   ]
  },
  {
   "cell_type": "markdown",
   "id": "a3b37d6b",
   "metadata": {},
   "source": [
    "### 1d (1 point)\n",
    "We roll two standard dice. What is the probability for the sum of the two dice being lower or equal to 6?\n",
    "Put the result in a variable named `probability_lower_6` and make sure to right the probability as a fraction."
   ]
  },
  {
   "cell_type": "code",
   "execution_count": 10,
   "id": "353f5f31",
   "metadata": {
    "nbgrader": {
     "grade": false,
     "grade_id": "cell-3f1a63a0f6475004",
     "locked": false,
     "schema_version": 3,
     "solution": true,
     "task": false
    },
    "ExecuteTime": {
     "end_time": "2024-03-31T16:10:26.967035Z",
     "start_time": "2024-03-31T16:10:26.961267Z"
    }
   },
   "outputs": [],
   "source": [
    "class Question1d:\n",
    "    omega_roll_dice_twice = {(m, n) for n in range(1, 7) for m in range(1, 7)}\n",
    "    omega_special_event = {(m, n) for n in range(1, 7) for m in range(1, 7) if\n",
    "                           m + n <= 6}\n",
    "    probability_lower_6 = len(omega_special_event) / len(omega_roll_dice_twice)"
   ]
  },
  {
   "cell_type": "code",
   "execution_count": 11,
   "id": "c879b87c",
   "metadata": {
    "nbgrader": {
     "grade": true,
     "grade_id": "cell-912ffb901cab2c66",
     "locked": true,
     "points": 1,
     "schema_version": 3,
     "solution": false,
     "task": false
    },
    "ExecuteTime": {
     "end_time": "2024-03-31T16:10:27.103664Z",
     "start_time": "2024-03-31T16:10:27.094659Z"
    }
   },
   "outputs": [
    {
     "data": {
      "text/plain": "Question 1d results: All test cases passed!",
      "text/html": "<p><strong><pre style='display: inline;'>Question 1d</pre></strong> passed! ✨</p>"
     },
     "execution_count": 11,
     "metadata": {},
     "output_type": "execute_result"
    }
   ],
   "source": [
    "grader.check(\"Question 1d\")"
   ]
  },
  {
   "cell_type": "markdown",
   "id": "bc4461cd",
   "metadata": {},
   "source": [
    "### 1e (2 point)\n",
    "We roll two standard dice. If the first die shows a \"6\", what is the probability of the sum of the two dice being equal or higher than 8?\n",
    "Put the result in a variable named `probability_higher_8` and make sure to right the probability as a fraction."
   ]
  },
  {
   "cell_type": "code",
   "execution_count": 12,
   "id": "f3cfc222",
   "metadata": {
    "nbgrader": {
     "grade": false,
     "grade_id": "cell-37bbbd825b890acb",
     "locked": false,
     "schema_version": 3,
     "solution": true,
     "task": false
    },
    "ExecuteTime": {
     "end_time": "2024-03-31T16:10:27.132556Z",
     "start_time": "2024-03-31T16:10:27.125783Z"
    }
   },
   "outputs": [
    {
     "data": {
      "text/plain": "{(6, 2), (6, 3), (6, 4), (6, 5), (6, 6)}"
     },
     "execution_count": 12,
     "metadata": {},
     "output_type": "execute_result"
    }
   ],
   "source": [
    "class Question1e:\n",
    "    omega_roll_dice_twice = {(m, n) for n in range(1, 7) for m in range(1, 7) if\n",
    "                             m == 6}\n",
    "    omega_special_event = {(m, n) for n in range(1, 7) for m in range(1, 7) if\n",
    "                           m == 6 and n + m >= 8}\n",
    "    probability_higher_8 = len(omega_special_event) / len(omega_roll_dice_twice)\n",
    "\n",
    "\n",
    "Question1e().omega_special_event"
   ]
  },
  {
   "cell_type": "code",
   "execution_count": 13,
   "id": "6cfd9c67",
   "metadata": {
    "deletable": false,
    "editable": false,
    "ExecuteTime": {
     "end_time": "2024-03-31T16:10:27.205293Z",
     "start_time": "2024-03-31T16:10:27.197001Z"
    }
   },
   "outputs": [
    {
     "data": {
      "text/plain": "Question 1e results: All test cases passed!",
      "text/html": "<p><strong><pre style='display: inline;'>Question 1e</pre></strong> passed! 🙌</p>"
     },
     "execution_count": 13,
     "metadata": {},
     "output_type": "execute_result"
    }
   ],
   "source": [
    "grader.check(\"Question 1e\")"
   ]
  },
  {
   "cell_type": "markdown",
   "id": "3c879af9",
   "metadata": {},
   "source": [
    "## 2 (5 points)\n",
    "We will work with a dataset about strokes (sourced from [Kaggle](https://www.kaggle.com/datasets/fedesoriano/stroke-prediction-dataset))."
   ]
  },
  {
   "cell_type": "code",
   "execution_count": 14,
   "id": "aba45e7e",
   "metadata": {
    "ExecuteTime": {
     "end_time": "2024-03-31T16:10:27.283537Z",
     "start_time": "2024-03-31T16:10:27.242417Z"
    }
   },
   "outputs": [
    {
     "data": {
      "text/plain": "         id  gender   age  hypertension  heart_disease ever_married  \\\n0      9046    Male  67.0             0              1          Yes   \n1     51676  Female  61.0             0              0          Yes   \n2     31112    Male  80.0             0              1          Yes   \n3     60182  Female  49.0             0              0          Yes   \n4      1665  Female  79.0             1              0          Yes   \n...     ...     ...   ...           ...            ...          ...   \n5105  18234  Female  80.0             1              0          Yes   \n5106  44873  Female  81.0             0              0          Yes   \n5107  19723  Female  35.0             0              0          Yes   \n5108  37544    Male  51.0             0              0          Yes   \n5109  44679  Female  44.0             0              0          Yes   \n\n          work_type Residence_type  avg_glucose_level   bmi   smoking_status  \\\n0           Private          Urban             228.69  36.6  formerly smoked   \n1     Self-employed          Rural             202.21   NaN     never smoked   \n2           Private          Rural             105.92  32.5     never smoked   \n3           Private          Urban             171.23  34.4           smokes   \n4     Self-employed          Rural             174.12  24.0     never smoked   \n...             ...            ...                ...   ...              ...   \n5105        Private          Urban              83.75   NaN     never smoked   \n5106  Self-employed          Urban             125.20  40.0     never smoked   \n5107  Self-employed          Rural              82.99  30.6     never smoked   \n5108        Private          Rural             166.29  25.6  formerly smoked   \n5109       Govt_job          Urban              85.28  26.2          Unknown   \n\n      stroke  \n0          1  \n1          1  \n2          1  \n3          1  \n4          1  \n...      ...  \n5105       0  \n5106       0  \n5107       0  \n5108       0  \n5109       0  \n\n[5110 rows x 12 columns]",
      "text/html": "<div>\n<style scoped>\n    .dataframe tbody tr th:only-of-type {\n        vertical-align: middle;\n    }\n\n    .dataframe tbody tr th {\n        vertical-align: top;\n    }\n\n    .dataframe thead th {\n        text-align: right;\n    }\n</style>\n<table border=\"1\" class=\"dataframe\">\n  <thead>\n    <tr style=\"text-align: right;\">\n      <th></th>\n      <th>id</th>\n      <th>gender</th>\n      <th>age</th>\n      <th>hypertension</th>\n      <th>heart_disease</th>\n      <th>ever_married</th>\n      <th>work_type</th>\n      <th>Residence_type</th>\n      <th>avg_glucose_level</th>\n      <th>bmi</th>\n      <th>smoking_status</th>\n      <th>stroke</th>\n    </tr>\n  </thead>\n  <tbody>\n    <tr>\n      <th>0</th>\n      <td>9046</td>\n      <td>Male</td>\n      <td>67.0</td>\n      <td>0</td>\n      <td>1</td>\n      <td>Yes</td>\n      <td>Private</td>\n      <td>Urban</td>\n      <td>228.69</td>\n      <td>36.6</td>\n      <td>formerly smoked</td>\n      <td>1</td>\n    </tr>\n    <tr>\n      <th>1</th>\n      <td>51676</td>\n      <td>Female</td>\n      <td>61.0</td>\n      <td>0</td>\n      <td>0</td>\n      <td>Yes</td>\n      <td>Self-employed</td>\n      <td>Rural</td>\n      <td>202.21</td>\n      <td>NaN</td>\n      <td>never smoked</td>\n      <td>1</td>\n    </tr>\n    <tr>\n      <th>2</th>\n      <td>31112</td>\n      <td>Male</td>\n      <td>80.0</td>\n      <td>0</td>\n      <td>1</td>\n      <td>Yes</td>\n      <td>Private</td>\n      <td>Rural</td>\n      <td>105.92</td>\n      <td>32.5</td>\n      <td>never smoked</td>\n      <td>1</td>\n    </tr>\n    <tr>\n      <th>3</th>\n      <td>60182</td>\n      <td>Female</td>\n      <td>49.0</td>\n      <td>0</td>\n      <td>0</td>\n      <td>Yes</td>\n      <td>Private</td>\n      <td>Urban</td>\n      <td>171.23</td>\n      <td>34.4</td>\n      <td>smokes</td>\n      <td>1</td>\n    </tr>\n    <tr>\n      <th>4</th>\n      <td>1665</td>\n      <td>Female</td>\n      <td>79.0</td>\n      <td>1</td>\n      <td>0</td>\n      <td>Yes</td>\n      <td>Self-employed</td>\n      <td>Rural</td>\n      <td>174.12</td>\n      <td>24.0</td>\n      <td>never smoked</td>\n      <td>1</td>\n    </tr>\n    <tr>\n      <th>...</th>\n      <td>...</td>\n      <td>...</td>\n      <td>...</td>\n      <td>...</td>\n      <td>...</td>\n      <td>...</td>\n      <td>...</td>\n      <td>...</td>\n      <td>...</td>\n      <td>...</td>\n      <td>...</td>\n      <td>...</td>\n    </tr>\n    <tr>\n      <th>5105</th>\n      <td>18234</td>\n      <td>Female</td>\n      <td>80.0</td>\n      <td>1</td>\n      <td>0</td>\n      <td>Yes</td>\n      <td>Private</td>\n      <td>Urban</td>\n      <td>83.75</td>\n      <td>NaN</td>\n      <td>never smoked</td>\n      <td>0</td>\n    </tr>\n    <tr>\n      <th>5106</th>\n      <td>44873</td>\n      <td>Female</td>\n      <td>81.0</td>\n      <td>0</td>\n      <td>0</td>\n      <td>Yes</td>\n      <td>Self-employed</td>\n      <td>Urban</td>\n      <td>125.20</td>\n      <td>40.0</td>\n      <td>never smoked</td>\n      <td>0</td>\n    </tr>\n    <tr>\n      <th>5107</th>\n      <td>19723</td>\n      <td>Female</td>\n      <td>35.0</td>\n      <td>0</td>\n      <td>0</td>\n      <td>Yes</td>\n      <td>Self-employed</td>\n      <td>Rural</td>\n      <td>82.99</td>\n      <td>30.6</td>\n      <td>never smoked</td>\n      <td>0</td>\n    </tr>\n    <tr>\n      <th>5108</th>\n      <td>37544</td>\n      <td>Male</td>\n      <td>51.0</td>\n      <td>0</td>\n      <td>0</td>\n      <td>Yes</td>\n      <td>Private</td>\n      <td>Rural</td>\n      <td>166.29</td>\n      <td>25.6</td>\n      <td>formerly smoked</td>\n      <td>0</td>\n    </tr>\n    <tr>\n      <th>5109</th>\n      <td>44679</td>\n      <td>Female</td>\n      <td>44.0</td>\n      <td>0</td>\n      <td>0</td>\n      <td>Yes</td>\n      <td>Govt_job</td>\n      <td>Urban</td>\n      <td>85.28</td>\n      <td>26.2</td>\n      <td>Unknown</td>\n      <td>0</td>\n    </tr>\n  </tbody>\n</table>\n<p>5110 rows × 12 columns</p>\n</div>"
     },
     "execution_count": 14,
     "metadata": {},
     "output_type": "execute_result"
    }
   ],
   "source": [
    "stroke_df = pd.read_csv(\"healthcare-dataset-stroke-data.csv\")\n",
    "stroke_df"
   ]
  },
  {
   "cell_type": "markdown",
   "id": "26bcaf8e",
   "metadata": {},
   "source": [
    "### 2a (1 point)\n",
    "For a patient contained in this dataset, what is the probability that they had a stroke $\\mathbb{P}(\\text{stroke})$?\n",
    "\n",
    "Make sure to save your answer in the variable `probability_stroke` and that it is a float value"
   ]
  },
  {
   "cell_type": "code",
   "execution_count": 15,
   "id": "4e4e511e",
   "metadata": {
    "nbgrader": {
     "grade": false,
     "grade_id": "cell-d705987e21fb4422",
     "locked": false,
     "schema_version": 3,
     "solution": true,
     "task": false
    },
    "ExecuteTime": {
     "end_time": "2024-03-31T16:10:27.362614Z",
     "start_time": "2024-03-31T16:10:27.355417Z"
    }
   },
   "outputs": [
    {
     "name": "stdout",
     "output_type": "stream",
     "text": [
      "0.0487279843444227\n"
     ]
    },
    {
     "data": {
      "text/plain": "0.0487279843444227"
     },
     "execution_count": 15,
     "metadata": {},
     "output_type": "execute_result"
    }
   ],
   "source": [
    "class Question2a:\n",
    "    probability_stroke = len(stroke_df[stroke_df['stroke'] == 1]) / len(\n",
    "        stroke_df)"
   ]
  },
  {
   "cell_type": "code",
   "execution_count": 16,
   "id": "a10edf5a",
   "metadata": {
    "deletable": false,
    "editable": false,
    "ExecuteTime": {
     "end_time": "2024-03-31T16:10:27.390940Z",
     "start_time": "2024-03-31T16:10:27.382029Z"
    }
   },
   "outputs": [
    {
     "data": {
      "text/plain": "Question 2a results: All test cases passed!",
      "text/html": "<p><strong><pre style='display: inline;'>Question 2a</pre></strong> passed! 🌟</p>"
     },
     "execution_count": 16,
     "metadata": {},
     "output_type": "execute_result"
    }
   ],
   "source": [
    "grader.check(\"Question 2a\")"
   ]
  },
  {
   "cell_type": "markdown",
   "id": "36d8198e",
   "metadata": {},
   "source": [
    "### 2b (1 point)\n",
    "For a patient contained in this dataset who had heart disease (heart_disease = 1), what is the probability that they had a stroke $\\mathbb{P}(\\text{stroke|heart_disease})$?\n",
    "\n",
    "**Reminder:** the conditional probability is defined as:\n",
    "$$ \\mathbb{P}(A|B) = \\frac{\\mathbb{P}(A \\cap B)}{\\mathbb{P}(B)}$$\n",
    "Make sure to save your answer in the variable `probability_stroke_heart_disease` and that it is a float value."
   ]
  },
  {
   "cell_type": "code",
   "execution_count": 17,
   "id": "45ce19b9",
   "metadata": {
    "nbgrader": {
     "grade": false,
     "grade_id": "cell-5ee38af4cad7f998",
     "locked": false,
     "schema_version": 3,
     "solution": true,
     "task": false
    },
    "ExecuteTime": {
     "end_time": "2024-03-31T16:10:27.457857Z",
     "start_time": "2024-03-31T16:10:27.451759Z"
    }
   },
   "outputs": [],
   "source": [
    "class Question2b:\n",
    "    all_w_heart_disease = stroke_df[stroke_df['heart_disease'] == 1]\n",
    "    all_w_heart_disease_and_stroke = all_w_heart_disease[\n",
    "        all_w_heart_disease['stroke'] == 1]\n",
    "    probability_stroke_heart_disease = len(\n",
    "        all_w_heart_disease_and_stroke) / len(all_w_heart_disease)"
   ]
  },
  {
   "cell_type": "code",
   "execution_count": 18,
   "id": "525096e3",
   "metadata": {
    "deletable": false,
    "editable": false,
    "ExecuteTime": {
     "end_time": "2024-03-31T16:10:27.560199Z",
     "start_time": "2024-03-31T16:10:27.553056Z"
    }
   },
   "outputs": [
    {
     "data": {
      "text/plain": "Question 2b results: All test cases passed!",
      "text/html": "<p><strong><pre style='display: inline;'>Question 2b</pre></strong> passed! 🎉</p>"
     },
     "execution_count": 18,
     "metadata": {},
     "output_type": "execute_result"
    }
   ],
   "source": [
    "grader.check(\"Question 2b\")"
   ]
  },
  {
   "cell_type": "markdown",
   "id": "1ad6abbe",
   "metadata": {},
   "source": [
    "### 2c (3 points)\n",
    "What is the probability of $P(\\text{stroke|hypertension})$?\n",
    "Make sure to save your answer in the variable `probability_stroke_hypertension` and that it is a float value.\n",
    "\n",
    "Hint: Check the slides for a very similar example about breast cancer"
   ]
  },
  {
   "cell_type": "code",
   "execution_count": 19,
   "id": "1efc4ec6",
   "metadata": {
    "nbgrader": {
     "grade": false,
     "grade_id": "cell-2871bba4629240f8",
     "locked": false,
     "schema_version": 3,
     "solution": true,
     "task": false
    },
    "ExecuteTime": {
     "end_time": "2024-03-31T16:10:27.799197Z",
     "start_time": "2024-03-31T16:10:27.789131Z"
    }
   },
   "outputs": [],
   "source": [
    "class Question2c:\n",
    "    all_w_hypertension = stroke_df[stroke_df['hypertension'] == 1]\n",
    "    all_w_hypertension_and_stroke = all_w_hypertension[\n",
    "        all_w_hypertension['stroke'] == 1]\n",
    "    probability_stroke_hypertension = len(all_w_hypertension_and_stroke) / len(\n",
    "        all_w_hypertension)"
   ]
  },
  {
   "cell_type": "code",
   "execution_count": 20,
   "id": "262f159d",
   "metadata": {
    "deletable": false,
    "editable": false,
    "ExecuteTime": {
     "end_time": "2024-03-31T16:10:27.888363Z",
     "start_time": "2024-03-31T16:10:27.879255Z"
    }
   },
   "outputs": [
    {
     "data": {
      "text/plain": "Question 2c results: All test cases passed!",
      "text/html": "<p><strong><pre style='display: inline;'>Question 2c</pre></strong> passed! 🌈</p>"
     },
     "execution_count": 20,
     "metadata": {},
     "output_type": "execute_result"
    }
   ],
   "source": [
    "grader.check(\"Question 2c\")"
   ]
  },
  {
   "cell_type": "markdown",
   "id": "76a91df9",
   "metadata": {},
   "source": [
    "### 2d (4 points)\n",
    "According to the [Mayo Clinic](https://www.mayoclinic.org/diseases-conditions/diabetes/diagnosis-treatment/drc-20371451), a \"blood sugar level less than 140 mg/dL (7.8 mmol/L) is normal\".\n",
    "\n",
    "* Make a new column called \"high_glucose\" in the dataframe `stroke_df` that has a 1 if the `avg_glucose_level` measurement was equal to or higher than 140, and a 0 otherwise."
   ]
  },
  {
   "cell_type": "code",
   "execution_count": 21,
   "id": "090bdf93",
   "metadata": {
    "nbgrader": {
     "grade": false,
     "grade_id": "cell-b62c57fe4875d77a",
     "locked": false,
     "schema_version": 3,
     "solution": true,
     "task": false
    },
    "ExecuteTime": {
     "end_time": "2024-03-31T16:10:27.930247Z",
     "start_time": "2024-03-31T16:10:27.925411Z"
    }
   },
   "outputs": [],
   "source": [
    "class Question2d:\n",
    "    stroke_df['high_glucose'] = np.where(stroke_df['avg_glucose_level'] >= 140,\n",
    "                                         1, 0)"
   ]
  },
  {
   "cell_type": "code",
   "execution_count": 22,
   "id": "2a803397",
   "metadata": {
    "deletable": false,
    "editable": false,
    "ExecuteTime": {
     "end_time": "2024-03-31T16:10:27.989968Z",
     "start_time": "2024-03-31T16:10:27.982501Z"
    }
   },
   "outputs": [
    {
     "data": {
      "text/plain": "Question 2d - 1 results: All test cases passed!",
      "text/html": "<p><strong><pre style='display: inline;'>Question 2d - 1</pre></strong> passed! 🍀</p>"
     },
     "execution_count": 22,
     "metadata": {},
     "output_type": "execute_result"
    }
   ],
   "source": [
    "grader.check(\"Question 2d - 1\")"
   ]
  },
  {
   "cell_type": "markdown",
   "id": "870bfd6b",
   "metadata": {},
   "source": [
    "* Use this new column to calculate $\\mathbb{P}(\\text{stroke|high_glucose})$.\n",
    "Make sure to save your answer in the variable `probability_stroke_high_glucose` and that it is a float value."
   ]
  },
  {
   "cell_type": "code",
   "execution_count": 23,
   "id": "cb8d1ce7",
   "metadata": {
    "nbgrader": {
     "grade": false,
     "grade_id": "cell-96a4ca2cec45e2e3",
     "locked": false,
     "schema_version": 3,
     "solution": true,
     "task": false
    },
    "ExecuteTime": {
     "end_time": "2024-03-31T16:10:28.071886Z",
     "start_time": "2024-03-31T16:10:28.063523Z"
    }
   },
   "outputs": [
    {
     "name": "stdout",
     "output_type": "stream",
     "text": [
      "0.11327649208282582\n"
     ]
    }
   ],
   "source": [
    "class Question2d2:\n",
    "    all_w_high_glucose = stroke_df[stroke_df['high_glucose'] == 1]\n",
    "    all_w_high_glucose_and_stroke = all_w_high_glucose[\n",
    "        all_w_high_glucose['stroke'] == 1]\n",
    "    probability_stroke_high_glucose = len(all_w_high_glucose_and_stroke) / len(\n",
    "        all_w_high_glucose)\n",
    "    print(probability_stroke_high_glucose)"
   ]
  },
  {
   "cell_type": "code",
   "execution_count": 24,
   "id": "0098cced",
   "metadata": {
    "deletable": false,
    "editable": false,
    "ExecuteTime": {
     "end_time": "2024-03-31T16:10:28.122350Z",
     "start_time": "2024-03-31T16:10:28.115978Z"
    }
   },
   "outputs": [
    {
     "data": {
      "text/plain": "Question 2d - 2 results: All test cases passed!",
      "text/html": "<p><strong><pre style='display: inline;'>Question 2d - 2</pre></strong> passed! 💯</p>"
     },
     "execution_count": 24,
     "metadata": {},
     "output_type": "execute_result"
    }
   ],
   "source": [
    "grader.check(\"Question 2d - 2\")"
   ]
  },
  {
   "cell_type": "markdown",
   "id": "6c9d1ef3",
   "metadata": {},
   "source": [
    "* Calculate $\\mathbb{P}(\\text{high_glucose|stroke})$\n",
    "Make sure to save your answer in the variable `probability_high_glucose_stroke` and that it is a float value."
   ]
  },
  {
   "cell_type": "code",
   "execution_count": 27,
   "id": "b5f0ef86",
   "metadata": {
    "nbgrader": {
     "grade": false,
     "grade_id": "cell-cc7cf764ecaa7013",
     "locked": false,
     "schema_version": 3,
     "solution": true,
     "task": false
    },
    "ExecuteTime": {
     "end_time": "2024-03-31T16:10:36.953825Z",
     "start_time": "2024-03-31T16:10:36.948139Z"
    }
   },
   "outputs": [
    {
     "name": "stdout",
     "output_type": "stream",
     "text": [
      "0.37349397590361444\n"
     ]
    }
   ],
   "source": [
    "class Question2d3:\n",
    "    all_w_stroke = stroke_df[stroke_df['stroke'] == 1]\n",
    "    all_w_stroke_and_high_glucose = all_w_stroke[\n",
    "        all_w_stroke['high_glucose'] == 1]\n",
    "    probability_high_glucose_stroke = len(all_w_stroke_and_high_glucose) / len(\n",
    "        all_w_stroke)\n",
    "    print(probability_high_glucose_stroke)"
   ]
  },
  {
   "cell_type": "code",
   "execution_count": 28,
   "id": "0f601868",
   "metadata": {
    "deletable": false,
    "editable": false,
    "ExecuteTime": {
     "end_time": "2024-03-31T16:10:37.497630Z",
     "start_time": "2024-03-31T16:10:37.491013Z"
    }
   },
   "outputs": [
    {
     "data": {
      "text/plain": "Question 2d - 3 results: All test cases passed!",
      "text/html": "<p><strong><pre style='display: inline;'>Question 2d - 3</pre></strong> passed! 💯</p>"
     },
     "execution_count": 28,
     "metadata": {},
     "output_type": "execute_result"
    }
   ],
   "source": [
    "grader.check(\"Question 2d - 3\")"
   ]
  },
  {
   "cell_type": "markdown",
   "id": "d5daccf5",
   "metadata": {
    "deletable": false,
    "editable": false
   },
   "source": [
    "---\n",
    "\n",
    "To double-check your work, the cell below will rerun all of the autograder tests."
   ]
  },
  {
   "cell_type": "code",
   "execution_count": 29,
   "id": "ddd3f09e",
   "metadata": {
    "deletable": false,
    "editable": false,
    "ExecuteTime": {
     "end_time": "2024-03-31T16:10:39.409958Z",
     "start_time": "2024-03-31T16:10:39.382423Z"
    }
   },
   "outputs": [
    {
     "data": {
      "text/plain": "Question 1a results: All test cases passed!\n\nQuestion 1b results: All test cases passed!\n\nQuestion 1c results: All test cases passed!\n\nQuestion 1d results: All test cases passed!\n\nQuestion 1e results: All test cases passed!\n\nQuestion 2a results: All test cases passed!\n\nQuestion 2b results: All test cases passed!\n\nQuestion 2c results: All test cases passed!\n\nQuestion 2d - 1 results: All test cases passed!\n\nQuestion 2d - 2 results: All test cases passed!\n\nQuestion 2d - 3 results: All test cases passed!"
     },
     "execution_count": 29,
     "metadata": {},
     "output_type": "execute_result"
    }
   ],
   "source": [
    "grader.check_all()"
   ]
  }
 ],
 "metadata": {
  "celltoolbar": "Edit Metadata",
  "kernelspec": {
   "name": "python3",
   "language": "python",
   "display_name": "Python 3 (ipykernel)"
  },
  "language_info": {
   "codemirror_mode": {
    "name": "ipython",
    "version": 3
   },
   "file_extension": ".py",
   "mimetype": "text/x-python",
   "name": "python",
   "nbconvert_exporter": "python",
   "pygments_lexer": "ipython3",
   "version": "3.10.12"
  }
 },
 "nbformat": 4,
 "nbformat_minor": 5
}
