{
 "cells": [
  {
   "cell_type": "code",
   "execution_count": null,
   "id": "fe9638ac",
   "metadata": {},
   "outputs": [],
   "source": [
    "# Initialize Otter\n",
    "import otter\n",
    "grader = otter.Notebook(\"05-exercise-pids2024.ipynb\")"
   ]
  },
  {
   "cell_type": "markdown",
   "id": "fda78361",
   "metadata": {},
   "source": [
    "# Exercise sheet 5\n",
    "**Hello everyone!**\n",
    "\n",
    "**Points: 15**\n",
    "\n",
    "Topics of this exercise sheet are:\n",
    "* Probabilities\n",
    "* Conditional Probabilities\n",
    "\n",
    "\n",
    "Please let us know if you have questions or problems! <br>\n",
    "Contact us during the exercise session or on [Piazza](https://piazza.com/unibas.ch/spring2024/63982).\n",
    "\n",
    "**Automatic Feedback**\n",
    "\n",
    "This notebook can be automatically graded using Otter grader. To find how many points you get, simply run `grader.check_all()` from a new cell. "
   ]
  },
  {
   "cell_type": "code",
   "execution_count": null,
   "id": "3cb955b2",
   "metadata": {},
   "outputs": [],
   "source": [
    "import pandas as pd\n",
    "import seaborn as sns\n",
    "import matplotlib.pyplot as plt\n",
    "import numpy as np"
   ]
  },
  {
   "cell_type": "markdown",
   "id": "628b4d45",
   "metadata": {},
   "source": [
    "## 1 (6 points)\n",
    "Let's start with some basic probability terms.\n",
    "\n",
    "### 1a (1 point)\n",
    "What is $\\Omega$ for 3 coin tosses? Use the Python 'set' data structure with tuples to describe each possible outcome. Name the result `omega_three_coin_tosses`. Use 0 for tails and 1 for heads.\n",
    "\n",
    "* **Recall:** $\\Omega$ is the set of all possible outcomes of an experiment. \n",
    "* **Hint:** Make use of pythons [set comprehensions](https://python-reference.readthedocs.io/en/latest/docs/comprehensions/set_comprehension.html) "
   ]
  },
  {
   "cell_type": "code",
   "execution_count": null,
   "id": "9d9fbf7a",
   "metadata": {
    "nbgrader": {
     "grade": false,
     "grade_id": "cell-85f0aa24377f6a04",
     "locked": false,
     "schema_version": 3,
     "solution": true,
     "task": false
    }
   },
   "outputs": [],
   "source": [
    "class Question1a:\n",
    "    # omega_three_coin_tosses = set(...)\n",
    "    omega_three_coin_tosses = ..."
   ]
  },
  {
   "cell_type": "code",
   "execution_count": null,
   "id": "5e1e280d",
   "metadata": {
    "deletable": false,
    "editable": false
   },
   "outputs": [],
   "source": [
    "grader.check(\"Question 1a\")"
   ]
  },
  {
   "cell_type": "markdown",
   "id": "39083529",
   "metadata": {},
   "source": [
    "### 1b (1 point)\n",
    "We roll two standard dice.\n",
    "What is $\\Omega$ for \"We roll the same number twice?\"\n",
    "\n",
    "Save your answer as a 'set' data structure under the name `omega_same_number_twice`."
   ]
  },
  {
   "cell_type": "code",
   "execution_count": null,
   "id": "f5cf5157",
   "metadata": {
    "nbgrader": {
     "grade": false,
     "grade_id": "cell-e14669da3b7636be",
     "locked": false,
     "schema_version": 3,
     "solution": true,
     "task": false
    }
   },
   "outputs": [],
   "source": [
    "class Question1b:\n",
    "    omega_same_number_twice = ..."
   ]
  },
  {
   "cell_type": "code",
   "execution_count": null,
   "id": "e49f6846",
   "metadata": {
    "deletable": false,
    "editable": false
   },
   "outputs": [],
   "source": [
    "grader.check(\"Question 1b\")"
   ]
  },
  {
   "cell_type": "markdown",
   "id": "118f9dcd",
   "metadata": {},
   "source": [
    "### 1c (1 point)\n",
    "We roll two standard dice. What is the probability ($\\mathbb{P}$) for the sum of the two dice being lower than 30?\n",
    "Put the result in a variable named `probability_lower_30` and make sure to right the probability as a fraction.\n",
    "\n",
    "For instance, if the question was \"what is the probability having two tails while flipping consecutively two coins?\", your answer should be 1/4 and not 0.25, because there is one event in the set of all 4 possible events where that appears. We ask for this specific format to make sure that you understand how to compute it."
   ]
  },
  {
   "cell_type": "code",
   "execution_count": null,
   "id": "dccac11e",
   "metadata": {
    "nbgrader": {
     "grade": false,
     "grade_id": "cell-726e66c3dbc5c1f4",
     "locked": false,
     "schema_version": 3,
     "solution": true,
     "task": false
    }
   },
   "outputs": [],
   "source": [
    "class Question1c:\n",
    "    probability_lower_30 = ..."
   ]
  },
  {
   "cell_type": "code",
   "execution_count": null,
   "id": "7972aa3e",
   "metadata": {
    "deletable": false,
    "editable": false
   },
   "outputs": [],
   "source": [
    "grader.check(\"Question 1c\")"
   ]
  },
  {
   "cell_type": "markdown",
   "id": "a3b37d6b",
   "metadata": {},
   "source": [
    "### 1d (1 point)\n",
    "We roll two standard dice. What is the probability for the sum of the two dice being lower or equal to 6?\n",
    "Put the result in a variable named `probability_lower_6` and make sure to right the probability as a fraction."
   ]
  },
  {
   "cell_type": "code",
   "execution_count": null,
   "id": "353f5f31",
   "metadata": {
    "nbgrader": {
     "grade": false,
     "grade_id": "cell-3f1a63a0f6475004",
     "locked": false,
     "schema_version": 3,
     "solution": true,
     "task": false
    }
   },
   "outputs": [],
   "source": [
    "class Question1d:\n",
    "    probability_lower_6 = ..."
   ]
  },
  {
   "cell_type": "code",
   "execution_count": null,
   "id": "c879b87c",
   "metadata": {
    "nbgrader": {
     "grade": true,
     "grade_id": "cell-912ffb901cab2c66",
     "locked": true,
     "points": 1,
     "schema_version": 3,
     "solution": false,
     "task": false
    }
   },
   "outputs": [],
   "source": [
    "grader.check(\"Question 1d\")"
   ]
  },
  {
   "cell_type": "markdown",
   "id": "bc4461cd",
   "metadata": {},
   "source": [
    "### 1e (2 point)\n",
    "We roll two standard dice. If the first die shows a \"6\", what is the probability of the sum of the two dice being equal or higher than 8?\n",
    "Put the result in a variable named `probability_higher_8` and make sure to right the probability as a fraction."
   ]
  },
  {
   "cell_type": "code",
   "execution_count": null,
   "id": "f3cfc222",
   "metadata": {
    "nbgrader": {
     "grade": false,
     "grade_id": "cell-37bbbd825b890acb",
     "locked": false,
     "schema_version": 3,
     "solution": true,
     "task": false
    }
   },
   "outputs": [],
   "source": [
    "class Question1e:\n",
    "    probability_higher_8 = ..."
   ]
  },
  {
   "cell_type": "code",
   "execution_count": null,
   "id": "6cfd9c67",
   "metadata": {
    "deletable": false,
    "editable": false
   },
   "outputs": [],
   "source": [
    "grader.check(\"Question 1e\")"
   ]
  },
  {
   "cell_type": "markdown",
   "id": "3c879af9",
   "metadata": {},
   "source": [
    "## 2 (5 points)\n",
    "We will work with a dataset about strokes (sourced from [Kaggle](https://www.kaggle.com/datasets/fedesoriano/stroke-prediction-dataset))."
   ]
  },
  {
   "cell_type": "code",
   "execution_count": null,
   "id": "aba45e7e",
   "metadata": {},
   "outputs": [],
   "source": [
    "stroke_df = pd.read_csv(\"healthcare-dataset-stroke-data.csv\")\n",
    "stroke_df"
   ]
  },
  {
   "cell_type": "markdown",
   "id": "26bcaf8e",
   "metadata": {},
   "source": [
    "### 2a (1 point)\n",
    "For a patient contained in this dataset, what is the probability that they had a stroke $\\mathbb{P}(\\text{stroke})$?\n",
    "\n",
    "Make sure to save your answer in the variable `probability_stroke` and that it is a float value"
   ]
  },
  {
   "cell_type": "code",
   "execution_count": null,
   "id": "4e4e511e",
   "metadata": {
    "nbgrader": {
     "grade": false,
     "grade_id": "cell-d705987e21fb4422",
     "locked": false,
     "schema_version": 3,
     "solution": true,
     "task": false
    }
   },
   "outputs": [],
   "source": [
    "class Question2a:\n",
    "    probability_stroke = ...\n",
    "    print(probability_stroke)"
   ]
  },
  {
   "cell_type": "code",
   "execution_count": null,
   "id": "a10edf5a",
   "metadata": {
    "deletable": false,
    "editable": false
   },
   "outputs": [],
   "source": [
    "grader.check(\"Question 2a\")"
   ]
  },
  {
   "cell_type": "markdown",
   "id": "36d8198e",
   "metadata": {},
   "source": [
    "### 2b (1 point)\n",
    "For a patient contained in this dataset who had heart disease (heart_disease = 1), what is the probability that they had a stroke $\\mathbb{P}(\\text{stroke|heart_disease})$?\n",
    "\n",
    "**Reminder:** the conditional probability is defined as:\n",
    "$$ \\mathbb{P}(A|B) = \\frac{\\mathbb{P}(A \\cap B)}{\\mathbb{P}(B)}$$\n",
    "Make sure to save your answer in the variable `probability_stroke_heart_disease` and that it is a float value."
   ]
  },
  {
   "cell_type": "code",
   "execution_count": null,
   "id": "45ce19b9",
   "metadata": {
    "nbgrader": {
     "grade": false,
     "grade_id": "cell-5ee38af4cad7f998",
     "locked": false,
     "schema_version": 3,
     "solution": true,
     "task": false
    }
   },
   "outputs": [],
   "source": [
    "class Question2b:\n",
    "    ...\n",
    "    probability_stroke_heart_disease = ...\n",
    "    print(probability_stroke_heart_disease)"
   ]
  },
  {
   "cell_type": "code",
   "execution_count": null,
   "id": "525096e3",
   "metadata": {
    "deletable": false,
    "editable": false
   },
   "outputs": [],
   "source": [
    "grader.check(\"Question 2b\")"
   ]
  },
  {
   "cell_type": "markdown",
   "id": "1ad6abbe",
   "metadata": {},
   "source": [
    "### 2c (3 points)\n",
    "What is the probability of $P(\\text{stroke|hypertension})$?\n",
    "Make sure to save your answer in the variable `probability_stroke_hypertension` and that it is a float value.\n",
    "\n",
    "Hint: Check the slides for a very similar example about breast cancer"
   ]
  },
  {
   "cell_type": "code",
   "execution_count": null,
   "id": "1efc4ec6",
   "metadata": {
    "nbgrader": {
     "grade": false,
     "grade_id": "cell-2871bba4629240f8",
     "locked": false,
     "schema_version": 3,
     "solution": true,
     "task": false
    }
   },
   "outputs": [],
   "source": [
    "class Question2c:\n",
    "    ...\n",
    "    probability_stroke_hypertension = ...\n",
    "    print(probability_stroke_hypertension)"
   ]
  },
  {
   "cell_type": "code",
   "execution_count": null,
   "id": "262f159d",
   "metadata": {
    "deletable": false,
    "editable": false
   },
   "outputs": [],
   "source": [
    "grader.check(\"Question 2c\")"
   ]
  },
  {
   "cell_type": "markdown",
   "id": "76a91df9",
   "metadata": {},
   "source": [
    "### 2d (4 points)\n",
    "According to the [Mayo Clinic](https://www.mayoclinic.org/diseases-conditions/diabetes/diagnosis-treatment/drc-20371451), a \"blood sugar level less than 140 mg/dL (7.8 mmol/L) is normal\".\n",
    "\n",
    "* Make a new column called \"high_glucose\" in the dataframe `stroke_df` that has a 1 if the `avg_glucose_level` measurement was equal to or higher than 140, and a 0 otherwise."
   ]
  },
  {
   "cell_type": "code",
   "execution_count": null,
   "id": "090bdf93",
   "metadata": {
    "nbgrader": {
     "grade": false,
     "grade_id": "cell-b62c57fe4875d77a",
     "locked": false,
     "schema_version": 3,
     "solution": true,
     "task": false
    }
   },
   "outputs": [],
   "source": [
    "class Question2d:\n",
    "    ..."
   ]
  },
  {
   "cell_type": "code",
   "execution_count": null,
   "id": "2a803397",
   "metadata": {
    "deletable": false,
    "editable": false
   },
   "outputs": [],
   "source": [
    "grader.check(\"Question 2d - 1\")"
   ]
  },
  {
   "cell_type": "markdown",
   "id": "870bfd6b",
   "metadata": {},
   "source": [
    "* Use this new column to calculate $\\mathbb{P}(\\text{stroke|high_glucose})$.\n",
    "Make sure to save your answer in the variable `probability_stroke_high_glucose` and that it is a float value."
   ]
  },
  {
   "cell_type": "code",
   "execution_count": null,
   "id": "cb8d1ce7",
   "metadata": {
    "nbgrader": {
     "grade": false,
     "grade_id": "cell-96a4ca2cec45e2e3",
     "locked": false,
     "schema_version": 3,
     "solution": true,
     "task": false
    }
   },
   "outputs": [],
   "source": [
    "class Question2d2:\n",
    "    ...\n",
    "    probability_stroke_high_glucose = ...\n",
    "    print(probability_stroke_high_glucose)"
   ]
  },
  {
   "cell_type": "code",
   "execution_count": null,
   "id": "0098cced",
   "metadata": {
    "deletable": false,
    "editable": false
   },
   "outputs": [],
   "source": [
    "grader.check(\"Question 2d - 2\")"
   ]
  },
  {
   "cell_type": "markdown",
   "id": "6c9d1ef3",
   "metadata": {},
   "source": [
    "* Calculate $\\mathbb{P}(\\text{high_glucose|stroke})$\n",
    "Make sure to save your answer in the variable `probability_high_glucose_stroke` and that it is a float value."
   ]
  },
  {
   "cell_type": "code",
   "execution_count": null,
   "id": "b5f0ef86",
   "metadata": {
    "nbgrader": {
     "grade": false,
     "grade_id": "cell-cc7cf764ecaa7013",
     "locked": false,
     "schema_version": 3,
     "solution": true,
     "task": false
    }
   },
   "outputs": [],
   "source": [
    "class Question2d3:\n",
    "    ...\n",
    "    probability_high_glucose_stroke = ...\n",
    "    print(probability_high_glucose_stroke)"
   ]
  },
  {
   "cell_type": "code",
   "execution_count": null,
   "id": "0f601868",
   "metadata": {
    "deletable": false,
    "editable": false
   },
   "outputs": [],
   "source": [
    "grader.check(\"Question 2d - 3\")"
   ]
  },
  {
   "cell_type": "markdown",
   "id": "d5daccf5",
   "metadata": {
    "deletable": false,
    "editable": false
   },
   "source": [
    "---\n",
    "\n",
    "To double-check your work, the cell below will rerun all of the autograder tests."
   ]
  },
  {
   "cell_type": "code",
   "execution_count": null,
   "id": "ddd3f09e",
   "metadata": {
    "deletable": false,
    "editable": false
   },
   "outputs": [],
   "source": [
    "grader.check_all()"
   ]
  },
  {
   "cell_type": "code",
   "execution_count": null,
   "id": "19675638-512d-4fb0-a276-2e01b44546fa",
   "metadata": {},
   "outputs": [],
   "source": []
  }
 ],
 "metadata": {
  "celltoolbar": "Edit Metadata",
  "kernelspec": {
   "display_name": "Python 3 (ipykernel)",
   "language": "python",
   "name": "conda-env-pids_2023-py"
  },
  "language_info": {
   "codemirror_mode": {
    "name": "ipython",
    "version": 3
   },
   "file_extension": ".py",
   "mimetype": "text/x-python",
   "name": "python",
   "nbconvert_exporter": "python",
   "pygments_lexer": "ipython3",
   "version": "3.10.12"
  }
 },
 "nbformat": 4,
 "nbformat_minor": 5
}
