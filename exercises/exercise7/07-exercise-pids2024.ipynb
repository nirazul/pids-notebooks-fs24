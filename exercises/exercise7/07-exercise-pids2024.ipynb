{
 "cells": [
  {
   "cell_type": "markdown",
   "id": "a1f4e336",
   "metadata": {},
   "source": [
    "# Exercise sheet 7\n",
    "**Hello everyone!**\n",
    "\n",
    "**Points: 15**\n",
    "\n",
    "Topics of this exercise sheet are:\n",
    "* Probabilities\n",
    "* Law of large numbers\n",
    "* Central limit theorem\n",
    "\n",
    "\n",
    "Please let us know if you have questions or problems! <br>\n",
    "Contact us during the exercise session or on [Piazza](https://piazza.com/unibas.ch/spring2024/63982).\n",
    "\n",
    "**Automatic Feedback**\n",
    "\n",
    "This notebook can be automatically graded using Otter grader. To find how many points you get, simply run `grader.check_all()` from a new cell. "
   ]
  },
  {
   "cell_type": "code",
   "id": "657e1ec6",
   "metadata": {
    "ExecuteTime": {
     "end_time": "2024-04-17T10:29:40.173353Z",
     "start_time": "2024-04-17T10:29:40.170659Z"
    }
   },
   "source": [
    "import matplotlib.pyplot as plt\n",
    "import numpy as np\n",
    "from scipy.stats import bernoulli, norm"
   ],
   "outputs": [],
   "execution_count": 524
  },
  {
   "cell_type": "code",
   "id": "b796e44f",
   "metadata": {
    "ExecuteTime": {
     "end_time": "2024-04-17T10:29:40.309639Z",
     "start_time": "2024-04-17T10:29:40.302040Z"
    }
   },
   "source": [
    "# Initialize Otter\n",
    "import otter\n",
    "\n",
    "\n",
    "grader = otter.Notebook(\"07-exercise-pids2024.ipynb\")"
   ],
   "outputs": [],
   "execution_count": 525
  },
  {
   "cell_type": "markdown",
   "id": "d43f1e5e",
   "metadata": {},
   "source": [
    "## 1) Central limit theorem (8 points)\n",
    "The central limit theorem is a key results of practical importance for data scientists. In this first part, we will work around this result to better understand it."
   ]
  },
  {
   "cell_type": "markdown",
   "id": "4e16d0d9",
   "metadata": {},
   "source": [
    "\n",
    "Let's start with the simplest statistical example, the toss of a coin. We simulate the toss using the generation of a Bernoulli random variable in the library scipy. We display the empirical distribution (histogram) of the generated samples. Let's call the sample size $N$."
   ]
  },
  {
   "cell_type": "code",
   "id": "0d25ed80",
   "metadata": {
    "ExecuteTime": {
     "end_time": "2024-04-17T10:29:40.560998Z",
     "start_time": "2024-04-17T10:29:40.314479Z"
    }
   },
   "source": [
    "N = 1000\n",
    "toss_coin = bernoulli.rvs(p=0.5, size=N)\n",
    "plt.hist(toss_coin)"
   ],
   "outputs": [
    {
     "data": {
      "text/plain": [
       "(array([511.,   0.,   0.,   0.,   0.,   0.,   0.,   0.,   0., 489.]),\n",
       " array([0. , 0.1, 0.2, 0.3, 0.4, 0.5, 0.6, 0.7, 0.8, 0.9, 1. ]),\n",
       " <BarContainer object of 10 artists>)"
      ]
     },
     "execution_count": 526,
     "metadata": {},
     "output_type": "execute_result"
    },
    {
     "data": {
      "text/plain": [
       "<Figure size 640x480 with 1 Axes>"
      ],
      "image/png": "[encoded data removed]"
     },
     "metadata": {},
     "output_type": "display_data"
    }
   ],
   "execution_count": 526
  },
  {
   "cell_type": "markdown",
   "id": "d3974401",
   "metadata": {},
   "source": [
    "### 1a (2 points)\n",
    "Reproduce this experiment $M$ times. Store the result in an array `toss_coin_all` of **size (M,N)**."
   ]
  },
  {
   "cell_type": "code",
   "id": "c836c252",
   "metadata": {
    "nbgrader": {
     "grade": false,
     "grade_id": "cell-9faaf668e859520f",
     "locked": false,
     "schema_version": 3,
     "solution": true,
     "task": false
    },
    "ExecuteTime": {
     "end_time": "2024-04-17T10:29:40.664884Z",
     "start_time": "2024-04-17T10:29:40.562954Z"
    }
   },
   "source": [
    "def repeat_experiment():\n",
    "    return bernoulli.rvs(p=0.5, size=N)\n",
    "\n",
    "\n",
    "class Question1a:\n",
    "    M = 1000\n",
    "    \n",
    "    toss_coin_all = np.array(\n",
    "        [repeat_experiment() for _ in range(M)])"
   ],
   "outputs": [],
   "execution_count": 527
  },
  {
   "cell_type": "code",
   "id": "47330f7a",
   "metadata": {
    "deletable": false,
    "editable": false,
    "ExecuteTime": {
     "end_time": "2024-04-17T10:29:40.672637Z",
     "start_time": "2024-04-17T10:29:40.666099Z"
    }
   },
   "source": [
    "grader.check(\"Question 1a\")"
   ],
   "outputs": [
    {
     "data": {
      "text/plain": [
       "Question 1a results: All test cases passed!"
      ],
      "text/html": [
       "<p><strong><pre style='display: inline;'>Question 1a</pre></strong> passed! 🙌</p>"
      ]
     },
     "execution_count": 528,
     "metadata": {},
     "output_type": "execute_result"
    }
   ],
   "execution_count": 528
  },
  {
   "cell_type": "markdown",
   "id": "2ded77d8",
   "metadata": {},
   "source": [
    "### 1b (1 point)\n",
    "For each of the $M=1000$ experiment, compute the sum of the obtained values. Store the result in an array named `toss_sum`."
   ]
  },
  {
   "cell_type": "code",
   "id": "f894cea9",
   "metadata": {
    "nbgrader": {
     "grade": false,
     "grade_id": "cell-43a0a0442ecf9f4c",
     "locked": false,
     "schema_version": 3,
     "solution": true,
     "task": false
    },
    "ExecuteTime": {
     "end_time": "2024-04-17T10:29:40.685321Z",
     "start_time": "2024-04-17T10:29:40.675658Z"
    }
   },
   "source": [
    "class Question1b:\n",
    "    M = Question1a.M\n",
    "    toss_coin_all = Question1a.toss_coin_all\n",
    "    \n",
    "    toss_sum = np.array([np.sum(arr) for arr in toss_coin_all])"
   ],
   "outputs": [],
   "execution_count": 529
  },
  {
   "cell_type": "code",
   "id": "3cea7a29",
   "metadata": {
    "deletable": false,
    "editable": false,
    "ExecuteTime": {
     "end_time": "2024-04-17T10:29:40.691854Z",
     "start_time": "2024-04-17T10:29:40.686748Z"
    }
   },
   "source": [
    "grader.check(\"Question 1b\")"
   ],
   "outputs": [
    {
     "data": {
      "text/plain": [
       "Question 1b results: All test cases passed!"
      ],
      "text/html": [
       "<p><strong><pre style='display: inline;'>Question 1b</pre></strong> passed! ✨</p>"
      ]
     },
     "execution_count": 530,
     "metadata": {},
     "output_type": "execute_result"
    }
   ],
   "execution_count": 530
  },
  {
   "cell_type": "markdown",
   "id": "2ef73f0c",
   "metadata": {},
   "source": [
    "### 1c (1 point) \n",
    "Then, display the histogram of this result, using `plt.hist` using **15 bins**. Make sure you plot it as a density (I.e. the area of the histogram sums to 1 (*see hint*) by choosing the right parameters. Assign the plot to the variable `density_plot`.\n",
    "\n",
    "Hint: [Examples using: matplotlib.pyplot.hist](https://matplotlib.org/stable/api/_as_gen/matplotlib.pyplot.hist.html)"
   ]
  },
  {
   "cell_type": "markdown",
   "id": "2c4bce2a",
   "metadata": {
    "deletable": false,
    "editable": false
   },
   "source": [
    "<!-- BEGIN QUESTION -->\n",
    "\n",
    "<!--\n",
    "BEGIN QUESTION\n",
    "name: Question 1c        # (required) the path to a requirements.txt file\n",
    "manual: true     # whether this is a manually-graded question\n",
    "points: 2      # how many points this question is worth; defaults to 1 internally\n",
    "check_cell: false  # whether to include a check cell after this question (for autograded questions only)\n",
    "-->"
   ]
  },
  {
   "cell_type": "code",
   "id": "c156ca79",
   "metadata": {
    "ExecuteTime": {
     "end_time": "2024-04-17T10:29:40.919328Z",
     "start_time": "2024-04-17T10:29:40.693121Z"
    }
   },
   "source": [
    "class Question1c:\n",
    "    toss_sum = Question1b.toss_sum\n",
    "    \n",
    "    density_plot = plt.hist(toss_sum, bins=15, density=True)\n"
   ],
   "outputs": [
    {
     "data": {
      "text/plain": [
       "<Figure size 640x480 with 1 Axes>"
      ],
      "image/png": "[encoded data removed]"
     },
     "metadata": {},
     "output_type": "display_data"
    }
   ],
   "execution_count": 531
  },
  {
   "cell_type": "code",
   "id": "aa4a60e5",
   "metadata": {
    "ExecuteTime": {
     "end_time": "2024-04-17T10:29:40.926542Z",
     "start_time": "2024-04-17T10:29:40.920757Z"
    }
   },
   "source": [
    "grader.check(\"Question 1c\")"
   ],
   "outputs": [
    {
     "data": {
      "text/plain": [
       "Question 1c results: All test cases passed!"
      ],
      "text/html": [
       "<p><strong><pre style='display: inline;'>Question 1c</pre></strong> passed! ✨</p>"
      ]
     },
     "execution_count": 532,
     "metadata": {},
     "output_type": "execute_result"
    }
   ],
   "execution_count": 532
  },
  {
   "cell_type": "markdown",
   "id": "5f3eb2f1",
   "metadata": {},
   "source": [
    "<!-- END QUESTION -->\n",
    "\n",
    "\n",
    "\n",
    "### 1d (2 point)\n",
    "Now we want to fit a Gaussian distribution to the samples in the previsous part. In particualr, we want to fit a Gaussian distribution to the following random variable:\n",
    "\n",
    "$$\n",
    " S_N = \\sum_{i = 1}^N X_i\n",
    "$$\n",
    "As mentioned in the lecture, the probablity distribution of $S_N$ tends to a Gaussian distribution as N goes to infinity:\n",
    "$$\n",
    " S_N \\to \\mathcal{N}(N \\mu, N \\sigma^2)\n",
    "$$\n",
    "Now, **display the probability density function (pdf) of the Gaussian random variable.** The mean ($\\mu$) and standard deviation ($\\sigma$) of the *Bernouli distribution* are:\n",
    "\n",
    "- $N$, the number of samples (1000)\n",
    "- $\\mu = 0.5$\n",
    "- $\\sigma = 0.5$\n",
    "\n",
    "Please use the variable `x` defined below as the x-axis of your plot. Name the plot `gaussian_plot`. Please use the scipy library and the example in this webpage: https://docs.scipy.org/doc/scipy/reference/generated/scipy.stats.norm.html."
   ]
  },
  {
   "cell_type": "markdown",
   "id": "c3dd1fbb",
   "metadata": {
    "deletable": false,
    "editable": false
   },
   "source": [
    "<!-- BEGIN QUESTION -->\n",
    "\n",
    "<!--\n",
    "BEGIN QUESTION\n",
    "name: Question 1d        # (required) the path to a requirements.txt file\n",
    "manual: true     # whether this is a manually-graded question\n",
    "points: 2      # how many points this question is worth; defaults to 1 internally\n",
    "check_cell: false  # whether to include a check cell after this question (for autograded questions only)\n",
    "-->"
   ]
  },
  {
   "cell_type": "code",
   "id": "c7559022",
   "metadata": {
    "nbgrader": {
     "grade": false,
     "grade_id": "cell-78fc29e914b773a4",
     "locked": false,
     "schema_version": 3,
     "solution": true,
     "task": false
    },
    "ExecuteTime": {
     "end_time": "2024-04-17T10:29:41.183578Z",
     "start_time": "2024-04-17T10:29:40.928107Z"
    }
   },
   "source": [
    "class Question1d:\n",
    "    from scipy.stats import norm  # Please do not modify this line\n",
    "    \n",
    "    mu = 0.5\n",
    "    sigma = 0.5\n",
    "    \n",
    "    x = np.linspace(norm.ppf(0.01, N * mu, np.sqrt(N) * sigma),\n",
    "                    norm.ppf(0.99, N * mu, np.sqrt(N) * sigma),\n",
    "                    N)\n",
    "    \n",
    "    gaussian_plot = plt.plot(x, norm.pdf(x, np.mean(x), np.std(x)))\n"
   ],
   "outputs": [
    {
     "data": {
      "text/plain": [
       "<Figure size 640x480 with 1 Axes>"
      ],
      "image/png": "[encoded data removed]"
     },
     "metadata": {},
     "output_type": "display_data"
    }
   ],
   "execution_count": 533
  },
  {
   "cell_type": "code",
   "id": "6f78cc56",
   "metadata": {
    "ExecuteTime": {
     "end_time": "2024-04-17T10:29:41.190893Z",
     "start_time": "2024-04-17T10:29:41.184863Z"
    }
   },
   "source": [
    "grader.check(\"Question 1d\")"
   ],
   "outputs": [
    {
     "data": {
      "text/plain": [
       "Question 1d results: All test cases passed!"
      ],
      "text/html": [
       "<p><strong><pre style='display: inline;'>Question 1d</pre></strong> passed! 🎉</p>"
      ]
     },
     "execution_count": 534,
     "metadata": {},
     "output_type": "execute_result"
    }
   ],
   "execution_count": 534
  },
  {
   "cell_type": "markdown",
   "id": "8b37455f",
   "metadata": {},
   "source": [
    "<!-- END QUESTION -->\n",
    "\n",
    "\n",
    "\n",
    "### 1e (2 points)\n",
    "Display the empirical distribution of the sum of tossed coins and the pdf of the Gaussian random variable on the same plot. Please use the variable \"x\" defined below as the x-axis of your plot.\n",
    "\n",
    "Experiment with what happens when you make $N$ larger and smaller. Add the answer to the following question to the variable `answer_1e`.\n",
    "\n",
    "1. Empirically, the size of $N$ does not make a huge difference.\n",
    "2. The smaller $N$ the more accurate the fit becomes\n",
    "3. The larger $N$ the more accurate the fit becomes\n",
    "\n",
    "***And don't forget to set it back to N=1000 and M=100.***"
   ]
  },
  {
   "cell_type": "markdown",
   "id": "4545a804",
   "metadata": {
    "deletable": false,
    "editable": false
   },
   "source": [
    "<!-- BEGIN QUESTION -->\n",
    "\n",
    "<!--\n",
    "BEGIN QUESTION\n",
    "name: Question 1e        # (required) the path to a requirements.txt file\n",
    "manual: true     # whether this is a manually-graded question\n",
    "points: 3      # how many points this question is worth; defaults to 1 internally\n",
    "check_cell: false  # whether to include a check cell after this question (for autograded questions only)\n",
    "-->"
   ]
  },
  {
   "cell_type": "code",
   "id": "25f287c9",
   "metadata": {
    "nbgrader": {
     "grade": false,
     "grade_id": "cell-ff2129147845b03d",
     "locked": false,
     "schema_version": 3,
     "solution": true,
     "task": false
    },
    "ExecuteTime": {
     "end_time": "2024-04-17T10:29:41.453527Z",
     "start_time": "2024-04-17T10:29:41.194641Z"
    }
   },
   "source": [
    "class Question1e:\n",
    "    mu = Question1d.mu\n",
    "    sigma = Question1d.sigma\n",
    "    toss_sum = Question1b.toss_sum\n",
    "    \n",
    "    x = np.linspace(norm.ppf(0.01, N * mu, np.sqrt(N) * sigma),\n",
    "                    norm.ppf(0.99, N * mu, np.sqrt(N) * sigma),\n",
    "                    N)\n",
    "    \n",
    "    fig, ax = plt.subplots(1, 1)\n",
    "    ax.hist(toss_sum, bins='auto', density=True)\n",
    "    ax.plot(x, norm.pdf(x, np.mean(x), np.std(x)))\n",
    "    ax.set_xlim([x[0], x[-1]])\n",
    "    \n",
    "    # replace the answer with the correct answer to the above question\n",
    "    answer_1e = 3"
   ],
   "outputs": [
    {
     "data": {
      "text/plain": [
       "<Figure size 640x480 with 1 Axes>"
      ],
      "image/png": "[encoded data removed]"
     },
     "metadata": {},
     "output_type": "display_data"
    }
   ],
   "execution_count": 535
  },
  {
   "cell_type": "code",
   "id": "bcf95c75",
   "metadata": {
    "ExecuteTime": {
     "end_time": "2024-04-17T10:29:41.461121Z",
     "start_time": "2024-04-17T10:29:41.454884Z"
    }
   },
   "source": [
    "grader.check(\"Question 1e\")"
   ],
   "outputs": [
    {
     "data": {
      "text/plain": [
       "Question 1e results: All test cases passed!"
      ],
      "text/html": [
       "<p><strong><pre style='display: inline;'>Question 1e</pre></strong> passed! 🙌</p>"
      ]
     },
     "execution_count": 536,
     "metadata": {},
     "output_type": "execute_result"
    }
   ],
   "execution_count": 536
  },
  {
   "cell_type": "markdown",
   "id": "0bc6a6c4",
   "metadata": {},
   "source": [
    "<!-- END QUESTION -->\n",
    "\n",
    "\n",
    "\n"
   ]
  },
  {
   "cell_type": "markdown",
   "id": "2baf7165",
   "metadata": {},
   "source": [
    "## 2) Law of large numbers (LLN) (5 points)\n",
    "The LLN is also a key tool used by all data scientists. This principle is the basis of what is called Monte Carlo simulation. <br>\n",
    "In this paragraph, we will use this result to estimate the mean of a Poisson random variable."
   ]
  },
  {
   "cell_type": "markdown",
   "id": "469f5cfd",
   "metadata": {},
   "source": [
    "### 2a (1 point)\n",
    "Using the scipy library, **display the probability mass function of the Poisson distribution for $\\lambda=5$**. \n",
    "Please use the variable `x` defined below as the x-axis of your plot.\n",
    "\n",
    "You have to use the scipy library and can take a look at the example in this webpage: https://docs.scipy.org/doc/scipy/reference/generated/scipy.stats.poisson.html. \n",
    "\n",
    "**Assign the plot to the variable:** `poisson_pdf_plot`."
   ]
  },
  {
   "cell_type": "markdown",
   "id": "38a2abf9",
   "metadata": {
    "deletable": false,
    "editable": false
   },
   "source": [
    "<!-- BEGIN QUESTION -->\n",
    "\n",
    "<!--\n",
    "BEGIN QUESTION\n",
    "name: Question 2a        # (required) the path to a requirements.txt file\n",
    "manual: true     # whether this is a manually-graded question\n",
    "points: 1      # how many points this question is worth; defaults to 1 internally\n",
    "check_cell: false  # whether to include a check cell after this question (for autograded questions only)\n",
    "-->"
   ]
  },
  {
   "cell_type": "code",
   "id": "33aab761",
   "metadata": {
    "nbgrader": {
     "grade": false,
     "grade_id": "cell-5187511bc27d80b6",
     "locked": false,
     "schema_version": 3,
     "solution": true,
     "task": false
    },
    "ExecuteTime": {
     "end_time": "2024-04-17T10:29:41.703027Z",
     "start_time": "2024-04-17T10:29:41.462656Z"
    }
   },
   "source": [
    "from scipy.stats import poisson  # Please do not delete this line\n",
    "\n",
    "\n",
    "class Question2a:\n",
    "    lam = 5\n",
    "    x = np.arange(poisson.ppf(0.0001, lam),\n",
    "                  poisson.ppf(0.9999, lam))\n",
    "    poisson_pmf = poisson.pmf(x, lam)\n",
    "    poisson_plot = plt.plot(x, poisson_pmf)\n"
   ],
   "outputs": [
    {
     "data": {
      "text/plain": [
       "<Figure size 640x480 with 1 Axes>"
      ],
      "image/png": "[encoded data removed]"
     },
     "metadata": {},
     "output_type": "display_data"
    }
   ],
   "execution_count": 537
  },
  {
   "cell_type": "code",
   "id": "1234c513",
   "metadata": {
    "ExecuteTime": {
     "end_time": "2024-04-17T10:29:41.709846Z",
     "start_time": "2024-04-17T10:29:41.704531Z"
    }
   },
   "source": [
    "grader.check(\"Question 2a\")"
   ],
   "outputs": [
    {
     "data": {
      "text/plain": [
       "Question 2a results: All test cases passed!"
      ],
      "text/html": [
       "<p><strong><pre style='display: inline;'>Question 2a</pre></strong> passed! ✨</p>"
      ]
     },
     "execution_count": 538,
     "metadata": {},
     "output_type": "execute_result"
    }
   ],
   "execution_count": 538
  },
  {
   "cell_type": "markdown",
   "id": "be820436",
   "metadata": {},
   "source": [
    "<!-- END QUESTION -->\n",
    "\n",
    "\n",
    "\n",
    "### 2b (2 points)\n",
    "Generate $P=10000$ independent samples from the given poisson distribution ($\\lambda = 5$) and store them in the variable `data`. Calculate the empirical mean when using the first $i = 11,12,13,...,10000$ samples from the `data` variable. *Hint:* You can use `np.cumsum()` function in numpy which calculates the cumulative sum. \n",
    "\n",
    "Make sure to divide it appropriately. Store the result in the variable `mean_est`. \n",
    "Please plot the the calculated empirical means and compare them with the true mean of the given poisson distribution (expected value) $\\lambda = 5$ using a scatter plot."
   ]
  },
  {
   "cell_type": "markdown",
   "id": "de7b515e",
   "metadata": {
    "deletable": false,
    "editable": false
   },
   "source": [
    "<!-- BEGIN QUESTION -->\n",
    "\n",
    "<!--\n",
    "BEGIN QUESTION\n",
    "name: Question 2b        # (required) the path to a requirements.txt file\n",
    "manual: true     # whether this is a manually-graded question\n",
    "points: 2      # how many points this question is worth; defaults to 1 internally\n",
    "check_cell: false  # whether to include a check cell after this question (for autograded questions only)\n",
    "-->"
   ]
  },
  {
   "cell_type": "code",
   "id": "d5f15236",
   "metadata": {
    "nbgrader": {
     "grade": false,
     "grade_id": "cell-786d4f2af8ee5398",
     "locked": false,
     "schema_version": 3,
     "solution": true,
     "task": false
    },
    "ExecuteTime": {
     "end_time": "2024-04-17T10:32:19.127261Z",
     "start_time": "2024-04-17T10:32:18.865848Z"
    }
   },
   "source": [
    "class Question2b:\n",
    "    P = 10000\n",
    "    data = poisson.rvs(Question2a.lam, size=10000)\n",
    "    xs = np.arange(1, len(data) + 1)\n",
    "    mean_est = np.cumsum(data) / xs\n",
    "    plt.scatter(xs, mean_est)"
   ],
   "outputs": [
    {
     "data": {
      "text/plain": [
       "<Figure size 640x480 with 1 Axes>"
      ],
      "image/png": "[encoded data removed]"
     },
     "metadata": {},
     "output_type": "display_data"
    }
   ],
   "execution_count": 553
  },
  {
   "cell_type": "code",
   "id": "5cd9a843",
   "metadata": {
    "ExecuteTime": {
     "end_time": "2024-04-17T10:29:41.973812Z",
     "start_time": "2024-04-17T10:29:41.968213Z"
    }
   },
   "source": [
    "grader.check(\"Question 2b\")"
   ],
   "outputs": [
    {
     "data": {
      "text/plain": [
       "Question 2b results: All test cases passed!"
      ],
      "text/html": [
       "<p><strong><pre style='display: inline;'>Question 2b</pre></strong> passed! 🌟</p>"
      ]
     },
     "execution_count": 540,
     "metadata": {},
     "output_type": "execute_result"
    }
   ],
   "execution_count": 540
  },
  {
   "cell_type": "markdown",
   "id": "aaf31ffe",
   "metadata": {},
   "source": [
    "<!-- END QUESTION -->\n",
    "\n",
    "\n",
    "\n",
    "### 2c (2 points)\n",
    "It is rather hard to see if the empirical mean is tending to the true one. Compute the absolute error between the empirical and the true mean and store it into a variable `abs_err`. \n",
    "Plot the absolute error against the number of samples used ($x$-axis). Use a log scale (for the error)."
   ]
  },
  {
   "cell_type": "markdown",
   "id": "c62513e0",
   "metadata": {
    "deletable": false,
    "editable": false
   },
   "source": [
    "<!-- BEGIN QUESTION -->\n",
    "\n",
    "<!--\n",
    "BEGIN QUESTION\n",
    "name: Question 2c        # (required) the path to a requirements.txt file\n",
    "manual: true     # whether this is a manually-graded question\n",
    "points: 2      # how many points this question is worth; defaults to 1 internally\n",
    "check_cell: false  # whether to include a check cell after this question (for autograded questions only)\n",
    "-->"
   ]
  },
  {
   "cell_type": "code",
   "id": "435f3e14",
   "metadata": {
    "nbgrader": {
     "grade": false,
     "grade_id": "cell-7942b6a67e959773",
     "locked": false,
     "schema_version": 3,
     "solution": true,
     "task": false
    },
    "ExecuteTime": {
     "end_time": "2024-04-17T10:32:12.108461Z",
     "start_time": "2024-04-17T10:32:11.700891Z"
    }
   },
   "source": [
    "class Question2c:\n",
    "    abs_err = np.abs(Question2b.mean_est - Question2a.lam)\n",
    "    plt.yscale('log')\n",
    "    err_plot = plt.scatter(Question2b.xs, abs_err)\n"
   ],
   "outputs": [
    {
     "data": {
      "text/plain": [
       "<Figure size 640x480 with 1 Axes>"
      ],
      "image/png": "[encoded data removed]"
     },
     "metadata": {},
     "output_type": "display_data"
    }
   ],
   "execution_count": 552
  },
  {
   "cell_type": "code",
   "id": "f026baa0",
   "metadata": {
    "ExecuteTime": {
     "end_time": "2024-04-17T10:29:42.402666Z",
     "start_time": "2024-04-17T10:29:42.396951Z"
    }
   },
   "source": [
    "grader.check(\"Question 2c\")"
   ],
   "outputs": [
    {
     "data": {
      "text/plain": [
       "Question 2c results: All test cases passed!"
      ],
      "text/html": [
       "<p><strong><pre style='display: inline;'>Question 2c</pre></strong> passed! 🌈</p>"
      ]
     },
     "execution_count": 542,
     "metadata": {},
     "output_type": "execute_result"
    }
   ],
   "execution_count": 542
  },
  {
   "cell_type": "markdown",
   "id": "4250d34c",
   "metadata": {},
   "source": [
    "<!-- END QUESTION -->\n",
    "\n",
    "\n",
    "\n",
    "## 3) Monte Carlo simulation (2 points)"
   ]
  },
  {
   "cell_type": "markdown",
   "id": "e73f7d4f",
   "metadata": {},
   "source": [
    "Did you notice that the previous plots change every time you run again the cells?\n",
    "This is because the average mean that we compute is still a random estimation. For some realization it may be close to the true mean, for other it may be far. <br>\n",
    "To get a clear conclusion, we might want to know what is happening in average, what is the average behaviour of this estimator. <br>\n",
    "<br>\n",
    "To do so, we will do a Monte Carlo simulation, i.e. reproduce the previous experiment several times and compute the average error.<br>\n"
   ]
  },
  {
   "cell_type": "markdown",
   "id": "a8fc3759",
   "metadata": {},
   "source": [
    "### 3a (2 points):\n",
    "Compute and store the absolute error between the average means (using $i=1,2,3,... 10000$ samples as above) and the true mean. Reproduce this experiment $M_{mc}=100$ times, and compute the average error. \n",
    "Store the error in a variable `mean_abs_err`. Then plot the error. \n",
    "<br>\n",
    "Hint: for a better display, you can display ony error for $100, 101, ... 10000$ samples."
   ]
  },
  {
   "cell_type": "markdown",
   "id": "276a881d",
   "metadata": {
    "deletable": false,
    "editable": false
   },
   "source": [
    "<!-- BEGIN QUESTION -->\n",
    "\n",
    "<!--\n",
    "BEGIN QUESTION\n",
    "name: Question 3a        # (required) the path to a requirements.txt file\n",
    "manual: true     # whether this is a manually-graded question\n",
    "points: 2      # how many points this question is worth; defaults to 1 internally\n",
    "check_cell: false  # whether to include a check cell after this question (for autograded questions only)\n",
    "-->"
   ]
  },
  {
   "cell_type": "code",
   "id": "7fe2af6c",
   "metadata": {
    "nbgrader": {
     "grade": false,
     "grade_id": "cell-45781b77bc7ed15b",
     "locked": false,
     "schema_version": 3,
     "solution": true,
     "task": false
    },
    "ExecuteTime": {
     "end_time": "2024-04-17T10:33:07.208888Z",
     "start_time": "2024-04-17T10:33:06.861698Z"
    }
   },
   "source": [
    "def sample(size):\n",
    "    data = poisson.rvs(Question2a.lam, size=size)\n",
    "    xs = np.arange(1, len(data) + 1)\n",
    "    mean_est = np.cumsum(data) / xs\n",
    "    \n",
    "    return np.abs(mean_est - Question2a.lam)\n",
    "\n",
    "\n",
    "class Question3a:\n",
    "    M_mc = 100\n",
    "    NSamples = 10000\n",
    "    err_abs = np.array([sample(10000) for n in range(M_mc)])\n",
    "    \n",
    "    mean_abs_err = np.sum(err_abs, axis=0) / M_mc\n",
    "    \n",
    "    start = 100\n",
    "    err_plot = plt.plot(mean_abs_err[start:])\n",
    "    \n",
    "    print(err_plot[0].axes.get_ylim()[0])\n"
   ],
   "outputs": [
    {
     "name": "stdout",
     "output_type": "stream",
     "text": [
      "0.010413650560449305\n"
     ]
    },
    {
     "data": {
      "text/plain": [
       "<Figure size 640x480 with 1 Axes>"
      ],
      "image/png": "[encoded data removed]"
     },
     "metadata": {},
     "output_type": "display_data"
    }
   ],
   "execution_count": 554
  },
  {
   "cell_type": "code",
   "id": "1a3da5f0",
   "metadata": {
    "ExecuteTime": {
     "end_time": "2024-04-17T10:33:09.826107Z",
     "start_time": "2024-04-17T10:33:09.819724Z"
    }
   },
   "source": [
    "grader.check(\"Question 3a\")"
   ],
   "outputs": [
    {
     "data": {
      "text/plain": [
       "Question 3a results: All test cases passed!"
      ],
      "text/html": [
       "<p><strong><pre style='display: inline;'>Question 3a</pre></strong> passed! ✨</p>"
      ]
     },
     "execution_count": 555,
     "metadata": {},
     "output_type": "execute_result"
    }
   ],
   "execution_count": 555
  },
  {
   "cell_type": "markdown",
   "id": "d4483ebb",
   "metadata": {},
   "source": [
    "<!-- END QUESTION -->\n",
    "\n",
    "\n",
    "\n",
    "Notice that the plot is not changing much (as in the begining of the LLN paragraph) every time you run the code. This is (maybe) your first Monte Carlo simulation!"
   ]
  },
  {
   "cell_type": "markdown",
   "id": "45e76d7f",
   "metadata": {},
   "source": [
    "We saw in this notebook that by reproducing a large number of time the same experiment, we are able to estimate information about the observation, such as the distribution of the mean of some quantities. However, in many practical situations, it is impossible to have acces to a very large amount of data. In the following of the course you will see that we can construct confidence interval from the observations. This tool will be key to known either or not we can trust the result obtained with a limited amount of data."
   ]
  },
  {
   "cell_type": "markdown",
   "id": "b94add8e",
   "metadata": {
    "deletable": false,
    "editable": false
   },
   "source": [
    "---\n",
    "\n",
    "To double-check your work, the cell below will rerun all of the autograder tests."
   ]
  },
  {
   "cell_type": "code",
   "id": "da831855",
   "metadata": {
    "deletable": false,
    "editable": false,
    "ExecuteTime": {
     "end_time": "2024-04-17T10:33:33.760392Z",
     "start_time": "2024-04-17T10:33:33.735322Z"
    }
   },
   "source": [
    "grader.check_all()"
   ],
   "outputs": [
    {
     "data": {
      "text/plain": [
       "Question 1a results: All test cases passed!\n",
       "\n",
       "Question 1b results: All test cases passed!\n",
       "\n",
       "Question 1c results: All test cases passed!\n",
       "\n",
       "Question 1d results: All test cases passed!\n",
       "\n",
       "Question 1e results: All test cases passed!\n",
       "\n",
       "Question 2a results: All test cases passed!\n",
       "\n",
       "Question 2b results: All test cases passed!\n",
       "\n",
       "Question 2c results: All test cases passed!\n",
       "\n",
       "Question 3a results: All test cases passed!"
      ]
     },
     "execution_count": 556,
     "metadata": {},
     "output_type": "execute_result"
    }
   ],
   "execution_count": 556
  },
  {
   "cell_type": "code",
   "id": "679c9470",
   "metadata": {
    "ExecuteTime": {
     "end_time": "2024-04-17T10:29:42.871679Z",
     "start_time": "2024-04-17T10:29:42.869867Z"
    }
   },
   "source": [],
   "outputs": [],
   "execution_count": 545
  }
 ],
 "metadata": {
  "celltoolbar": "Create Assignment",
  "kernelspec": {
   "display_name": "Python 3 (ipykernel)",
   "language": "python",
   "name": "python3"
  },
  "language_info": {
   "codemirror_mode": {
    "name": "ipython",
    "version": 3
   },
   "file_extension": ".py",
   "mimetype": "text/x-python",
   "name": "python",
   "nbconvert_exporter": "python",
   "pygments_lexer": "ipython3",
   "version": "3.10.12"
  },
  "vscode": {
   "interpreter": {
    "hash": "07cb0c0be5d5c09ece9af089e9de2ad5458cdd62d0537c1d9b85ed67c101dd7b"
   }
  }
 },
 "nbformat": 4,
 "nbformat_minor": 5
}
