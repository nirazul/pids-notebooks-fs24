{
 "cells": [
  {
   "cell_type": "code",
   "id": "c1924d69-ad5a-4b81-92e1-e93833e224b0",
   "metadata": {
    "ExecuteTime": {
     "end_time": "2024-05-21T21:37:14.490637Z",
     "start_time": "2024-05-21T21:37:14.476748Z"
    }
   },
   "source": [
    "# Initialize Otter\n",
    "import otter\n",
    "\n",
    "grader = otter.Notebook(\"11-exercise-pids2024.ipynb\")"
   ],
   "outputs": [],
   "execution_count": 220
  },
  {
   "cell_type": "markdown",
   "id": "670d3603-9d27-40f8-af72-4ffc9d828d0f",
   "metadata": {},
   "source": [
    "# Exercise sheet 11\n",
    "\n",
    "**Hello everyone!**\n",
    "\n",
    "**Points: 15**\n",
    "\n",
    "Topics of this exercise sheet are:\n",
    "* Classification\n",
    "* Cross validation\n",
    "* Grid search\n",
    "* Data cleaning\n",
    "\n",
    "Please let us know if you have questions or problems! <br>\n",
    "Contact us during the exercise session or on [Piazza](https://piazza.com/unibas.ch/spring2024/63982).\n",
    "\n",
    "**Automatic Feedback**\n",
    "\n",
    "This notebook can be automatically graded using Otter grader. To find how many points you get, simply run `grader.check_all()` from a new cell. "
   ]
  },
  {
   "cell_type": "code",
   "id": "de6a078f-c508-48af-8b53-fb060ef6ec27",
   "metadata": {
    "ExecuteTime": {
     "end_time": "2024-05-21T21:37:14.685247Z",
     "start_time": "2024-05-21T21:37:14.680929Z"
    }
   },
   "source": [
    "import numpy as np\n",
    "import pandas as pd\n",
    "import matplotlib.pyplot as plt\n",
    "\n",
    "import pandas as pd\n",
    "from sklearn.model_selection import train_test_split\n",
    "from sklearn.preprocessing import StandardScaler, OneHotEncoder\n",
    "from sklearn.compose import ColumnTransformer\n",
    "from sklearn.pipeline import Pipeline\n",
    "from sklearn.impute import SimpleImputer\n",
    "from sklearn.neural_network import MLPClassifier\n",
    "from sklearn.metrics import accuracy_score\n",
    "from sklearn.model_selection import GridSearchCV\n",
    "from sklearn.model_selection import cross_validate\n",
    "from sklearn.datasets import fetch_openml\n",
    "\n",
    "pd.options.mode.copy_on_write = True"
   ],
   "outputs": [],
   "execution_count": 221
  },
  {
   "cell_type": "markdown",
   "id": "d7efb4a7-42cc-4189-bd04-fc15cfb43755",
   "metadata": {},
   "source": [
    "# Question 1: Classification with neural networks (5 Points)\n",
    "\n",
    "\n",
    "In this first task, you will use a neural network for classification. For this, we load the dataset `cancer.csv`. When you run `df.head()`, you will get\n",
    "\n",
    "```text\n",
    "   radius_mean  texture_mean  ...  fractal_dimension_worst  diagnosis\n",
    "0        13.74         17.91  ...                  0.07014          0\n",
    "1        13.37         16.39  ...                  0.07628          0\n",
    "2        14.69         13.98  ...                  0.09208          0\n",
    "3        12.91         16.33  ...                  0.06949          0\n",
    "4        13.62         23.23  ...                  0.06953          0\n",
    "```\n",
    "\n",
    "Each line represents a cell. The last column, `diagnosis`, is 1 if the cell is cancerous, and 0 if it is benign. All other columns describe geometric features of the cell. "
   ]
  },
  {
   "cell_type": "code",
   "id": "5e9e8573-e75e-4ec6-84e8-0790f479fdc6",
   "metadata": {
    "ExecuteTime": {
     "end_time": "2024-05-21T21:37:14.721905Z",
     "start_time": "2024-05-21T21:37:14.698850Z"
    }
   },
   "source": [
    "df = pd.read_csv(\"daten/cancer.csv\")\n",
    "df.head()"
   ],
   "outputs": [
    {
     "data": {
      "text/plain": [
       "   radius_mean  texture_mean  perimeter_mean  area_mean  smoothness_mean  \\\n",
       "0        13.74         17.91           88.12      585.0          0.07944   \n",
       "1        13.37         16.39           86.10      553.5          0.07115   \n",
       "2        14.69         13.98           98.22      656.1          0.10310   \n",
       "3        12.91         16.33           82.53      516.4          0.07941   \n",
       "4        13.62         23.23           87.19      573.2          0.09246   \n",
       "\n",
       "   compactness_mean  concavity_mean  concave points_mean  symmetry_mean  \\\n",
       "0           0.06376         0.02881              0.01329         0.1473   \n",
       "1           0.07325         0.08092              0.02800         0.1422   \n",
       "2           0.18360         0.14500              0.06300         0.2086   \n",
       "3           0.05366         0.03873              0.02377         0.1829   \n",
       "4           0.06747         0.02974              0.02443         0.1664   \n",
       "\n",
       "   fractal_dimension_mean  ...  texture_worst  perimeter_worst  area_worst  \\\n",
       "0                 0.05580  ...          22.46            97.19       725.9   \n",
       "1                 0.05823  ...          22.75            91.99       632.1   \n",
       "2                 0.07406  ...          18.34           114.10       809.2   \n",
       "3                 0.05667  ...          22.00            90.81       600.6   \n",
       "4                 0.05801  ...          29.09            97.58       729.8   \n",
       "\n",
       "   smoothness_worst  compactness_worst  concavity_worst  concave points_worst  \\\n",
       "0           0.09711             0.1824           0.1564               0.06019   \n",
       "1           0.10250             0.2531           0.3308               0.08978   \n",
       "2           0.13120             0.3635           0.3219               0.11080   \n",
       "3           0.10970             0.1506           0.1764               0.08235   \n",
       "4           0.12160             0.1517           0.1049               0.07174   \n",
       "\n",
       "   symmetry_worst  fractal_dimension_worst  diagnosis  \n",
       "0          0.2350                  0.07014          0  \n",
       "1          0.2048                  0.07628          0  \n",
       "2          0.2827                  0.09208          0  \n",
       "3          0.3024                  0.06949          0  \n",
       "4          0.2642                  0.06953          0  \n",
       "\n",
       "[5 rows x 31 columns]"
      ],
      "text/html": [
       "<div>\n",
       "<style scoped>\n",
       "    .dataframe tbody tr th:only-of-type {\n",
       "        vertical-align: middle;\n",
       "    }\n",
       "\n",
       "    .dataframe tbody tr th {\n",
       "        vertical-align: top;\n",
       "    }\n",
       "\n",
       "    .dataframe thead th {\n",
       "        text-align: right;\n",
       "    }\n",
       "</style>\n",
       "<table border=\"1\" class=\"dataframe\">\n",
       "  <thead>\n",
       "    <tr style=\"text-align: right;\">\n",
       "      <th></th>\n",
       "      <th>radius_mean</th>\n",
       "      <th>texture_mean</th>\n",
       "      <th>perimeter_mean</th>\n",
       "      <th>area_mean</th>\n",
       "      <th>smoothness_mean</th>\n",
       "      <th>compactness_mean</th>\n",
       "      <th>concavity_mean</th>\n",
       "      <th>concave points_mean</th>\n",
       "      <th>symmetry_mean</th>\n",
       "      <th>fractal_dimension_mean</th>\n",
       "      <th>...</th>\n",
       "      <th>texture_worst</th>\n",
       "      <th>perimeter_worst</th>\n",
       "      <th>area_worst</th>\n",
       "      <th>smoothness_worst</th>\n",
       "      <th>compactness_worst</th>\n",
       "      <th>concavity_worst</th>\n",
       "      <th>concave points_worst</th>\n",
       "      <th>symmetry_worst</th>\n",
       "      <th>fractal_dimension_worst</th>\n",
       "      <th>diagnosis</th>\n",
       "    </tr>\n",
       "  </thead>\n",
       "  <tbody>\n",
       "    <tr>\n",
       "      <th>0</th>\n",
       "      <td>13.74</td>\n",
       "      <td>17.91</td>\n",
       "      <td>88.12</td>\n",
       "      <td>585.0</td>\n",
       "      <td>0.07944</td>\n",
       "      <td>0.06376</td>\n",
       "      <td>0.02881</td>\n",
       "      <td>0.01329</td>\n",
       "      <td>0.1473</td>\n",
       "      <td>0.05580</td>\n",
       "      <td>...</td>\n",
       "      <td>22.46</td>\n",
       "      <td>97.19</td>\n",
       "      <td>725.9</td>\n",
       "      <td>0.09711</td>\n",
       "      <td>0.1824</td>\n",
       "      <td>0.1564</td>\n",
       "      <td>0.06019</td>\n",
       "      <td>0.2350</td>\n",
       "      <td>0.07014</td>\n",
       "      <td>0</td>\n",
       "    </tr>\n",
       "    <tr>\n",
       "      <th>1</th>\n",
       "      <td>13.37</td>\n",
       "      <td>16.39</td>\n",
       "      <td>86.10</td>\n",
       "      <td>553.5</td>\n",
       "      <td>0.07115</td>\n",
       "      <td>0.07325</td>\n",
       "      <td>0.08092</td>\n",
       "      <td>0.02800</td>\n",
       "      <td>0.1422</td>\n",
       "      <td>0.05823</td>\n",
       "      <td>...</td>\n",
       "      <td>22.75</td>\n",
       "      <td>91.99</td>\n",
       "      <td>632.1</td>\n",
       "      <td>0.10250</td>\n",
       "      <td>0.2531</td>\n",
       "      <td>0.3308</td>\n",
       "      <td>0.08978</td>\n",
       "      <td>0.2048</td>\n",
       "      <td>0.07628</td>\n",
       "      <td>0</td>\n",
       "    </tr>\n",
       "    <tr>\n",
       "      <th>2</th>\n",
       "      <td>14.69</td>\n",
       "      <td>13.98</td>\n",
       "      <td>98.22</td>\n",
       "      <td>656.1</td>\n",
       "      <td>0.10310</td>\n",
       "      <td>0.18360</td>\n",
       "      <td>0.14500</td>\n",
       "      <td>0.06300</td>\n",
       "      <td>0.2086</td>\n",
       "      <td>0.07406</td>\n",
       "      <td>...</td>\n",
       "      <td>18.34</td>\n",
       "      <td>114.10</td>\n",
       "      <td>809.2</td>\n",
       "      <td>0.13120</td>\n",
       "      <td>0.3635</td>\n",
       "      <td>0.3219</td>\n",
       "      <td>0.11080</td>\n",
       "      <td>0.2827</td>\n",
       "      <td>0.09208</td>\n",
       "      <td>0</td>\n",
       "    </tr>\n",
       "    <tr>\n",
       "      <th>3</th>\n",
       "      <td>12.91</td>\n",
       "      <td>16.33</td>\n",
       "      <td>82.53</td>\n",
       "      <td>516.4</td>\n",
       "      <td>0.07941</td>\n",
       "      <td>0.05366</td>\n",
       "      <td>0.03873</td>\n",
       "      <td>0.02377</td>\n",
       "      <td>0.1829</td>\n",
       "      <td>0.05667</td>\n",
       "      <td>...</td>\n",
       "      <td>22.00</td>\n",
       "      <td>90.81</td>\n",
       "      <td>600.6</td>\n",
       "      <td>0.10970</td>\n",
       "      <td>0.1506</td>\n",
       "      <td>0.1764</td>\n",
       "      <td>0.08235</td>\n",
       "      <td>0.3024</td>\n",
       "      <td>0.06949</td>\n",
       "      <td>0</td>\n",
       "    </tr>\n",
       "    <tr>\n",
       "      <th>4</th>\n",
       "      <td>13.62</td>\n",
       "      <td>23.23</td>\n",
       "      <td>87.19</td>\n",
       "      <td>573.2</td>\n",
       "      <td>0.09246</td>\n",
       "      <td>0.06747</td>\n",
       "      <td>0.02974</td>\n",
       "      <td>0.02443</td>\n",
       "      <td>0.1664</td>\n",
       "      <td>0.05801</td>\n",
       "      <td>...</td>\n",
       "      <td>29.09</td>\n",
       "      <td>97.58</td>\n",
       "      <td>729.8</td>\n",
       "      <td>0.12160</td>\n",
       "      <td>0.1517</td>\n",
       "      <td>0.1049</td>\n",
       "      <td>0.07174</td>\n",
       "      <td>0.2642</td>\n",
       "      <td>0.06953</td>\n",
       "      <td>0</td>\n",
       "    </tr>\n",
       "  </tbody>\n",
       "</table>\n",
       "<p>5 rows × 31 columns</p>\n",
       "</div>"
      ]
     },
     "execution_count": 222,
     "metadata": {},
     "output_type": "execute_result"
    }
   ],
   "execution_count": 222
  },
  {
   "cell_type": "markdown",
   "id": "64e64831-703d-431c-b545-b4f8b3bc39a7",
   "metadata": {},
   "source": [
    "#### Question 1a: Loading and preprocessing the data (1 Point)\n",
    "\n",
    "Create two DataFrames again, `X` and `y`, where `y` contains only the diagnoses and `X` contains all the other columns. \n",
    "*Hint: Don't forget to scale your data using [StandardScaler](https://scikit-learn.org/stable/modules/generated/sklearn.preprocessing.StandardScaler.html)*"
   ]
  },
  {
   "cell_type": "code",
   "id": "509b8943-1d41-45dc-9741-58fa217bf7c4",
   "metadata": {
    "ExecuteTime": {
     "end_time": "2024-05-21T21:37:14.731290Z",
     "start_time": "2024-05-21T21:37:14.723763Z"
    }
   },
   "source": [
    "class Question1a:\n",
    "    X = df[df.columns.drop(['diagnosis'])]\n",
    "    y = df['diagnosis']\n",
    "\n",
    "    scaler = StandardScaler()\n",
    "    scaler.fit(X)\n",
    "    X_scaled = scaler.transform(X)"
   ],
   "outputs": [],
   "execution_count": 223
  },
  {
   "cell_type": "code",
   "id": "d345def2-1ccd-4982-b610-7ca29c38fff3",
   "metadata": {
    "ExecuteTime": {
     "end_time": "2024-05-21T21:37:14.811628Z",
     "start_time": "2024-05-21T21:37:14.804211Z"
    }
   },
   "source": [
    "grader.check(\"Question 1a\")"
   ],
   "outputs": [
    {
     "data": {
      "text/plain": [
       "Question 1a results: All test cases passed!"
      ],
      "text/html": [
       "<p><strong><pre style='display: inline;'>Question 1a</pre></strong> passed! 💯</p>"
      ]
     },
     "execution_count": 224,
     "metadata": {},
     "output_type": "execute_result"
    }
   ],
   "execution_count": 224
  },
  {
   "cell_type": "markdown",
   "id": "cf9ba6c2-44ca-4bd2-8991-e4f6117dd149",
   "metadata": {},
   "source": [
    "### Question 1b: Train the model (2 Points)\n",
    "\n",
    "Train an [MLPClassifier](https://scikit-learn.org/stable/modules/generated/sklearn.neural_network.MLPClassifier.html#sklearn.neural_network.MLPClassifier) \n",
    "using two hidden layers with `10` neurons each and set `max_iter` to 30000. \n",
    "Test how well your model performs on the data you trained on, by computing the *accuracy*. \n",
    "The *Accuracy*, is is the number of correct predictions divided by the number of predictions.\n"
   ]
  },
  {
   "cell_type": "code",
   "id": "a62beab6-9521-4cc1-b0a1-3d00601e1ac5",
   "metadata": {
    "ExecuteTime": {
     "end_time": "2024-05-21T21:37:15.213455Z",
     "start_time": "2024-05-21T21:37:14.813354Z"
    }
   },
   "source": [
    "class Question1b:\n",
    "    mlp = MLPClassifier(hidden_layer_sizes=(10, 10), max_iter=30000, random_state=999)\n",
    "    mlp.fit(Question1a.X_scaled, np.squeeze(Question1a.y))\n",
    "    predictions = mlp.predict(Question1a.X_scaled)\n",
    "\n",
    "    accuracy = predictions[predictions == Question1a.y].size / predictions.size\n",
    "    print(f\"accuracy is {accuracy}\")"
   ],
   "outputs": [
    {
     "name": "stdout",
     "output_type": "stream",
     "text": [
      "accuracy is 0.9899328859060402\n"
     ]
    }
   ],
   "execution_count": 225
  },
  {
   "cell_type": "code",
   "id": "c2f6c03d-584c-4bf4-8bd7-00d0870cbc4d",
   "metadata": {
    "ExecuteTime": {
     "end_time": "2024-05-21T21:37:15.222066Z",
     "start_time": "2024-05-21T21:37:15.215375Z"
    }
   },
   "source": [
    "grader.check(\"Question 1b\")"
   ],
   "outputs": [
    {
     "data": {
      "text/plain": [
       "Question 1b results: All test cases passed!"
      ],
      "text/html": [
       "<p><strong><pre style='display: inline;'>Question 1b</pre></strong> passed! ✨</p>"
      ]
     },
     "execution_count": 226,
     "metadata": {},
     "output_type": "execute_result"
    }
   ],
   "execution_count": 226
  },
  {
   "cell_type": "markdown",
   "id": "749e50c8-18d6-4272-a474-b786e1176e7f",
   "metadata": {},
   "source": [
    "### Question 1c: Test on a test dataset (2 Points)\n",
    "\n",
    "Load the test set `cancer_test.csv` on a new set of patients. Compute the accuracy again. What do you observe.\n",
    "Use the scaler from `Question1a` to scale the data. "
   ]
  },
  {
   "cell_type": "code",
   "id": "423923b7-068e-4921-8d44-fde51ed51a80",
   "metadata": {
    "ExecuteTime": {
     "end_time": "2024-05-21T21:37:15.232779Z",
     "start_time": "2024-05-21T21:37:15.223302Z"
    }
   },
   "source": [
    "class Question1c:\n",
    "    df_test = pd.read_csv(\"daten/cancer_test.csv\")\n",
    "    X_test = df_test[df_test.columns.drop(['diagnosis'])]\n",
    "    y_test = df_test['diagnosis']\n",
    "\n",
    "    X_test_scaled = Question1a.scaler.transform(X_test)\n",
    "    predictions = Question1b.mlp.predict(X_test_scaled)\n",
    "\n",
    "    accuracy = predictions[predictions == y_test].size / predictions.size\n",
    "    print(f\"accuracy is {accuracy}\")"
   ],
   "outputs": [
    {
     "name": "stdout",
     "output_type": "stream",
     "text": [
      "accuracy is 0.97\n"
     ]
    }
   ],
   "execution_count": 227
  },
  {
   "cell_type": "code",
   "id": "988cbf5e-fd5b-46fe-82c2-f3d9f8dfaa62",
   "metadata": {
    "ExecuteTime": {
     "end_time": "2024-05-21T21:37:15.240232Z",
     "start_time": "2024-05-21T21:37:15.235117Z"
    }
   },
   "source": [
    "grader.check(\"Question 1c\")"
   ],
   "outputs": [
    {
     "data": {
      "text/plain": [
       "Question 1c results: All test cases passed!"
      ],
      "text/html": [
       "<p><strong><pre style='display: inline;'>Question 1c</pre></strong> passed! 🍀</p>"
      ]
     },
     "execution_count": 228,
     "metadata": {},
     "output_type": "execute_result"
    }
   ],
   "execution_count": 228
  },
  {
   "cell_type": "markdown",
   "id": "62059330-186c-4e5e-b24b-4567f8126d21",
   "metadata": {},
   "source": [
    "# Question 2: Cross-validation and Grid search (5 Points)\n",
    "\n",
    "In this exercise we try to compare the quality of different models using cross-validation on the training data. \n",
    "We use the cancer dataset from the previous exercise"
   ]
  },
  {
   "cell_type": "markdown",
   "id": "ed9c8c7d-42f8-4661-b564-5c5a81042927",
   "metadata": {},
   "source": [
    "#### Question 2a: Setting up a parameter grid (2 Points)\n",
    "\n",
    "Read in the documentation [cross_validate](https://scikit-learn.org/stable/modules/generated/sklearn.model_selection.cross_validate.html#sklearn.model_selection.cross_validate) (and using a search engine/AI) how to do crossvalidation in scikit learn. Perform a 5 fold cross-validation on the scaled data from Question1a using the classifier\n",
    "defined in Question1b.  Compute the mean and standard deviation of the `test_score`. "
   ]
  },
  {
   "cell_type": "code",
   "id": "2bcb68bf-23f8-44a8-8d86-64876ac8a422",
   "metadata": {
    "ExecuteTime": {
     "end_time": "2024-05-21T21:37:17.072767Z",
     "start_time": "2024-05-21T21:37:15.241649Z"
    }
   },
   "source": [
    "class Question2a:\n",
    "    mlp, X, y = Question1b.mlp, Question1a.X_scaled, Question1a.y\n",
    "    cv = cross_validate(mlp, X, y, cv=5)\n",
    "    mean_test_score = np.mean(cv[\"test_score\"])\n",
    "    std_test_score = np.std(cv[\"test_score\"])\n",
    "    print(f\"mean {mean_test_score} standard deviaton {std_test_score}\")"
   ],
   "outputs": [
    {
     "name": "stdout",
     "output_type": "stream",
     "text": [
      "mean 0.9732203389830507 standard deviaton 0.017042492514851577\n"
     ]
    }
   ],
   "execution_count": 229
  },
  {
   "cell_type": "code",
   "id": "266e2afc-a4d7-4ca2-89bc-cca3ca219640",
   "metadata": {
    "ExecuteTime": {
     "end_time": "2024-05-21T21:37:17.080926Z",
     "start_time": "2024-05-21T21:37:17.074148Z"
    }
   },
   "source": [
    "grader.check(\"Question 2a\")"
   ],
   "outputs": [
    {
     "data": {
      "text/plain": [
       "Question 2a results: All test cases passed!"
      ],
      "text/html": [
       "<p><strong><pre style='display: inline;'>Question 2a</pre></strong> passed! 🚀</p>"
      ]
     },
     "execution_count": 230,
     "metadata": {},
     "output_type": "execute_result"
    }
   ],
   "execution_count": 230
  },
  {
   "cell_type": "markdown",
   "id": "4a9ba862-f98f-4028-aa0c-b90545863d96",
   "metadata": {},
   "source": [
    "Is the average test score closer to what you got in training or what you got when applying the classifier for new patients?"
   ]
  },
  {
   "cell_type": "markdown",
   "id": "a631a2fc-d88c-40ed-8242-5d275adf1fa8",
   "metadata": {},
   "source": [
    "### Question 2b: Setting up a param grid (1 Point)\n",
    "\n",
    "Next we want to do grid search. For this, we set up a dictionary with all parameters we want to search. \n",
    "The keys are the parameter of the classifier we want to vary and the values\n",
    "are all the possible values the parameter can take on. (Check the documentation of [MLPClassifier](https://scikit-learn.org/stable/modules/generated/sklearn.neural_network.MLPClassifier.html) to find the parameter names.  Define a dictionary `param_grid` for a grid search over\n",
    "six different models, with layer sizes `(10, ), (10, 10), (10, 10, 10)` and with activation functions `relu` and `tanh`. "
   ]
  },
  {
   "cell_type": "code",
   "id": "70a14a87-6499-4bbd-8bb9-ace95d8e9327",
   "metadata": {
    "ExecuteTime": {
     "end_time": "2024-05-21T21:37:17.086201Z",
     "start_time": "2024-05-21T21:37:17.082539Z"
    }
   },
   "source": [
    "class Question2b:\n",
    "    param_grid = {\n",
    "        'hidden_layer_sizes': [(10,), (10, 10), (10, 10, 10)],\n",
    "        'activation': ['tanh', 'relu'],\n",
    "    }"
   ],
   "outputs": [],
   "execution_count": 231
  },
  {
   "cell_type": "code",
   "id": "6b5ff12e-8dba-40f6-a2be-6a3f6ba9aa2f",
   "metadata": {
    "ExecuteTime": {
     "end_time": "2024-05-21T21:37:17.097663Z",
     "start_time": "2024-05-21T21:37:17.089703Z"
    }
   },
   "source": [
    "grader.check(\"Question 2b\")"
   ],
   "outputs": [
    {
     "data": {
      "text/plain": [
       "Question 2b results: All test cases passed!"
      ],
      "text/html": [
       "<p><strong><pre style='display: inline;'>Question 2b</pre></strong> passed! 🍀</p>"
      ]
     },
     "execution_count": 232,
     "metadata": {},
     "output_type": "execute_result"
    }
   ],
   "execution_count": 232
  },
  {
   "cell_type": "markdown",
   "id": "9df35d7a-ee4a-4ab7-8d5b-5bc206d625f4",
   "metadata": {},
   "source": [
    "### Question 2c: Do the grid search (2 Points)\n",
    "\n",
    "Perform a grid search using [GridSearchCV](https://scikit-learn.org/stable/modules/generated/sklearn.model_selection.GridSearchCV.html) where you use the given MLPClassifier as the estimator and the parameter grid you set up above. \n",
    "Use `accuracy` as scoring and choose a 5 fold cross-validation. "
   ]
  },
  {
   "cell_type": "code",
   "id": "ae529148-bad4-45dc-9a7e-8e60df8d158f",
   "metadata": {
    "ExecuteTime": {
     "end_time": "2024-05-21T21:37:17.581464Z",
     "start_time": "2024-05-21T21:37:17.099886Z"
    }
   },
   "source": [
    "\n",
    "class Question2c:\n",
    "    mlp = MLPClassifier(max_iter=30000, random_state=999, solver='lbfgs')\n",
    "    g = GridSearchCV(mlp, param_grid=Question2b.param_grid, scoring='accuracy', cv=5)\n",
    "    grid_search = g.fit(Question1a.X_scaled, Question1a.y)\n",
    "\n",
    "    print(grid_search.best_params_.values())"
   ],
   "outputs": [
    {
     "name": "stdout",
     "output_type": "stream",
     "text": [
      "dict_values(['relu', (10,)])\n"
     ]
    }
   ],
   "execution_count": 233
  },
  {
   "cell_type": "code",
   "id": "0d3591bd-3e74-4613-8212-c15b25ef306d",
   "metadata": {
    "ExecuteTime": {
     "end_time": "2024-05-21T21:37:17.590057Z",
     "start_time": "2024-05-21T21:37:17.585125Z"
    }
   },
   "source": [
    "grader.check(\"Question 2c\")"
   ],
   "outputs": [
    {
     "data": {
      "text/plain": [
       "Question 2c results: All test cases passed!"
      ],
      "text/html": [
       "<p><strong><pre style='display: inline;'>Question 2c</pre></strong> passed! 🙌</p>"
      ]
     },
     "execution_count": 234,
     "metadata": {},
     "output_type": "execute_result"
    }
   ],
   "execution_count": 234
  },
  {
   "cell_type": "markdown",
   "id": "269f44d2-116d-4b4f-a3fb-6a04e68f17d4",
   "metadata": {},
   "source": [
    "\n",
    "# Question 3: A more complex example (5 Points)\n",
    "\n",
    "In this exercise we walk through a data cleaning process and working with non-numerical data, before we \n",
    "do a classification. "
   ]
  },
  {
   "cell_type": "code",
   "id": "b0f3cb95-59c6-4569-bf30-ad4c124267bb",
   "metadata": {
    "scrolled": true,
    "ExecuteTime": {
     "end_time": "2024-05-21T21:37:17.611662Z",
     "start_time": "2024-05-21T21:37:17.592541Z"
    }
   },
   "source": [
    "# Load the dataset\n",
    "X, y = fetch_openml(\"titanic\", version=1, as_frame=True, return_X_y=True, parser='auto')\n",
    "y = y.apply(lambda x: int(x))"
   ],
   "outputs": [],
   "execution_count": 235
  },
  {
   "cell_type": "markdown",
   "id": "559081b3-7c3e-4500-a06b-d82182f89302",
   "metadata": {},
   "source": [
    "### Question 3a) Data cleaning (I) (2 Points)"
   ]
  },
  {
   "cell_type": "markdown",
   "id": "18e2d457-e8ea-46cb-8c02-999d4c98b55f",
   "metadata": {},
   "source": [
    "Not all columns contain meaningful information for prediction. \n",
    "Extract the column `pclass, sex, fare, boat`. \n",
    "You can read about the meaning of the columns [here](https://www.openml.org/search?type=data&sort=runs&id=40945&status=active).\n",
    "Fill the `nan`s in column `boat` with a value of `0` and replace the non-numerical values with another unique value. \n",
    "Change `sex` to 0 for male and 1 for female. Assign the resulting dataframe to the variable `X_cleaned`. \n",
    "\n",
    "\n",
    "*Hint: To find out what values you have in the column 'boat' use the method `unique`*. "
   ]
  },
  {
   "cell_type": "code",
   "id": "c5ac24f6-2ac5-4364-bf67-7512d1c8725e",
   "metadata": {
    "ExecuteTime": {
     "end_time": "2024-05-21T21:37:17.625834Z",
     "start_time": "2024-05-21T21:37:17.612895Z"
    }
   },
   "source": [
    "\n",
    "class Question3a:\n",
    "    X = X\n",
    "    X_cleaned = X[['pclass', 'sex', 'fare', 'boat']]\n",
    "\n",
    "    X_cleaned['sex'] = X_cleaned['sex'].replace({'male': 1, 'female': 0})\n",
    "\n",
    "    codes, uniques = pd.factorize(X_cleaned['boat'], use_na_sentinel=True)\n",
    "    X_cleaned['boat'] = codes + 1\n",
    "\n",
    "\n",
    "Question3a.X_cleaned\n"
   ],
   "outputs": [
    {
     "data": {
      "text/plain": [
       "      pclass sex      fare  boat\n",
       "0          1   0  211.3375     1\n",
       "1          1   1  151.5500     2\n",
       "2          1   0  151.5500     0\n",
       "3          1   1  151.5500     0\n",
       "4          1   0  151.5500     0\n",
       "...      ...  ..       ...   ...\n",
       "1304       3   0   14.4542     0\n",
       "1305       3   0   14.4542     0\n",
       "1306       3   1    7.2250     0\n",
       "1307       3   1    7.2250     0\n",
       "1308       3   1    7.8750     0\n",
       "\n",
       "[1309 rows x 4 columns]"
      ],
      "text/html": [
       "<div>\n",
       "<style scoped>\n",
       "    .dataframe tbody tr th:only-of-type {\n",
       "        vertical-align: middle;\n",
       "    }\n",
       "\n",
       "    .dataframe tbody tr th {\n",
       "        vertical-align: top;\n",
       "    }\n",
       "\n",
       "    .dataframe thead th {\n",
       "        text-align: right;\n",
       "    }\n",
       "</style>\n",
       "<table border=\"1\" class=\"dataframe\">\n",
       "  <thead>\n",
       "    <tr style=\"text-align: right;\">\n",
       "      <th></th>\n",
       "      <th>pclass</th>\n",
       "      <th>sex</th>\n",
       "      <th>fare</th>\n",
       "      <th>boat</th>\n",
       "    </tr>\n",
       "  </thead>\n",
       "  <tbody>\n",
       "    <tr>\n",
       "      <th>0</th>\n",
       "      <td>1</td>\n",
       "      <td>0</td>\n",
       "      <td>211.3375</td>\n",
       "      <td>1</td>\n",
       "    </tr>\n",
       "    <tr>\n",
       "      <th>1</th>\n",
       "      <td>1</td>\n",
       "      <td>1</td>\n",
       "      <td>151.5500</td>\n",
       "      <td>2</td>\n",
       "    </tr>\n",
       "    <tr>\n",
       "      <th>2</th>\n",
       "      <td>1</td>\n",
       "      <td>0</td>\n",
       "      <td>151.5500</td>\n",
       "      <td>0</td>\n",
       "    </tr>\n",
       "    <tr>\n",
       "      <th>3</th>\n",
       "      <td>1</td>\n",
       "      <td>1</td>\n",
       "      <td>151.5500</td>\n",
       "      <td>0</td>\n",
       "    </tr>\n",
       "    <tr>\n",
       "      <th>4</th>\n",
       "      <td>1</td>\n",
       "      <td>0</td>\n",
       "      <td>151.5500</td>\n",
       "      <td>0</td>\n",
       "    </tr>\n",
       "    <tr>\n",
       "      <th>...</th>\n",
       "      <td>...</td>\n",
       "      <td>...</td>\n",
       "      <td>...</td>\n",
       "      <td>...</td>\n",
       "    </tr>\n",
       "    <tr>\n",
       "      <th>1304</th>\n",
       "      <td>3</td>\n",
       "      <td>0</td>\n",
       "      <td>14.4542</td>\n",
       "      <td>0</td>\n",
       "    </tr>\n",
       "    <tr>\n",
       "      <th>1305</th>\n",
       "      <td>3</td>\n",
       "      <td>0</td>\n",
       "      <td>14.4542</td>\n",
       "      <td>0</td>\n",
       "    </tr>\n",
       "    <tr>\n",
       "      <th>1306</th>\n",
       "      <td>3</td>\n",
       "      <td>1</td>\n",
       "      <td>7.2250</td>\n",
       "      <td>0</td>\n",
       "    </tr>\n",
       "    <tr>\n",
       "      <th>1307</th>\n",
       "      <td>3</td>\n",
       "      <td>1</td>\n",
       "      <td>7.2250</td>\n",
       "      <td>0</td>\n",
       "    </tr>\n",
       "    <tr>\n",
       "      <th>1308</th>\n",
       "      <td>3</td>\n",
       "      <td>1</td>\n",
       "      <td>7.8750</td>\n",
       "      <td>0</td>\n",
       "    </tr>\n",
       "  </tbody>\n",
       "</table>\n",
       "<p>1309 rows × 4 columns</p>\n",
       "</div>"
      ]
     },
     "execution_count": 236,
     "metadata": {},
     "output_type": "execute_result"
    }
   ],
   "execution_count": 236
  },
  {
   "cell_type": "code",
   "id": "3f246016-f873-4401-8f4c-f783d1c6c943",
   "metadata": {
    "ExecuteTime": {
     "end_time": "2024-05-21T21:37:17.632712Z",
     "start_time": "2024-05-21T21:37:17.627184Z"
    }
   },
   "source": [
    "grader.check(\"Question 3a\")"
   ],
   "outputs": [
    {
     "data": {
      "text/plain": [
       "Question 3a results: All test cases passed!"
      ],
      "text/html": [
       "<p><strong><pre style='display: inline;'>Question 3a</pre></strong> passed! 🎉</p>"
      ]
     },
     "execution_count": 237,
     "metadata": {},
     "output_type": "execute_result"
    }
   ],
   "execution_count": 237
  },
  {
   "cell_type": "markdown",
   "id": "0a04205e-49d1-4d71-aa4c-eeb5ff2dd5fc",
   "metadata": {},
   "source": [
    "### Question 3b) Data cleaning (II) (2 Points)"
   ]
  },
  {
   "cell_type": "markdown",
   "id": "ff2082db-fc02-4485-8d9d-8d8a171c8bc8",
   "metadata": {},
   "source": [
    "Drop now all rows which contain `nan`s. Make sure you also drop them from the label `y`. "
   ]
  },
  {
   "cell_type": "code",
   "id": "a4e075fb-0f84-49a2-8f30-487ca94e74e3",
   "metadata": {
    "ExecuteTime": {
     "end_time": "2024-05-21T21:37:17.643911Z",
     "start_time": "2024-05-21T21:37:17.634077Z"
    }
   },
   "source": [
    "class Question3b:\n",
    "    X = Question3a.X_cleaned\n",
    "\n",
    "    dropped = X.index.difference(X.dropna().index).tolist()\n",
    "\n",
    "    X_nonan = X.drop(dropped)\n",
    "    y_nonan = y.drop(dropped)\n",
    "\n",
    "\n",
    "Question3b.y_nonan"
   ],
   "outputs": [
    {
     "data": {
      "text/plain": [
       "0       1\n",
       "1       1\n",
       "2       0\n",
       "3       0\n",
       "4       0\n",
       "       ..\n",
       "1304    0\n",
       "1305    0\n",
       "1306    0\n",
       "1307    0\n",
       "1308    0\n",
       "Name: survived, Length: 1308, dtype: category\n",
       "Categories (2, int64): [0, 1]"
      ]
     },
     "execution_count": 238,
     "metadata": {},
     "output_type": "execute_result"
    }
   ],
   "execution_count": 238
  },
  {
   "cell_type": "code",
   "id": "154d395c-e151-453b-91da-bcb34cdd1c48",
   "metadata": {
    "ExecuteTime": {
     "end_time": "2024-05-21T21:37:17.650743Z",
     "start_time": "2024-05-21T21:37:17.645284Z"
    }
   },
   "source": [
    "grader.check(\"Question 3b\")"
   ],
   "outputs": [
    {
     "data": {
      "text/plain": [
       "Question 3b results: All test cases passed!"
      ],
      "text/html": [
       "<p><strong><pre style='display: inline;'>Question 3b</pre></strong> passed! 🌟</p>"
      ]
     },
     "execution_count": 239,
     "metadata": {},
     "output_type": "execute_result"
    }
   ],
   "execution_count": 239
  },
  {
   "cell_type": "markdown",
   "id": "f57a1de3-b850-4635-bed7-f0c8c9888b9e",
   "metadata": {},
   "source": [
    "### Question3c: Split in training and test set (1 point)\n",
    "\n",
    "Use scikit's [train_test_split](https://scikit-learn.org/stable/modules/generated/sklearn.model_selection.train_test_split.html)\n",
    "to split the data into a training, test and validation set. The training set should be around 60% of the data and the other two sets 20%. Assign the data to the variables `X_train, y_train, X_val, y_val, X_test, y_test`"
   ]
  },
  {
   "cell_type": "code",
   "id": "6038d887-a1f7-4278-9d2c-523f324ae033",
   "metadata": {
    "ExecuteTime": {
     "end_time": "2024-05-21T21:37:17.664587Z",
     "start_time": "2024-05-21T21:37:17.652121Z"
    }
   },
   "source": [
    "\n",
    "class Question3c:\n",
    "    X_train, X_test_val, y_train, y_test_val = train_test_split(Question3b.X_nonan, Question3b.y_nonan, test_size=0.6,\n",
    "                                                                random_state=0)\n",
    "    X_val, X_test = np.array_split(X_test_val, 2)\n",
    "    y_val, y_test = np.array_split(y_test_val, 2)\n",
    "\n",
    "\n",
    "Question3c.X_train\n"
   ],
   "outputs": [
    {
     "data": {
      "text/plain": [
       "      pclass sex     fare  boat\n",
       "245        1   0  86.5000    10\n",
       "685        3   1  16.1000     0\n",
       "518        2   1  36.7500     0\n",
       "1188       3   0  16.7000    17\n",
       "1255       3   1   7.2292     0\n",
       "...      ...  ..      ...   ...\n",
       "763        3   0  20.5750     4\n",
       "835        3   1   8.0500     0\n",
       "1216       3   0   7.7333    17\n",
       "559        2   0  36.7500     2\n",
       "684        3   0  15.5000     0\n",
       "\n",
       "[523 rows x 4 columns]"
      ],
      "text/html": [
       "<div>\n",
       "<style scoped>\n",
       "    .dataframe tbody tr th:only-of-type {\n",
       "        vertical-align: middle;\n",
       "    }\n",
       "\n",
       "    .dataframe tbody tr th {\n",
       "        vertical-align: top;\n",
       "    }\n",
       "\n",
       "    .dataframe thead th {\n",
       "        text-align: right;\n",
       "    }\n",
       "</style>\n",
       "<table border=\"1\" class=\"dataframe\">\n",
       "  <thead>\n",
       "    <tr style=\"text-align: right;\">\n",
       "      <th></th>\n",
       "      <th>pclass</th>\n",
       "      <th>sex</th>\n",
       "      <th>fare</th>\n",
       "      <th>boat</th>\n",
       "    </tr>\n",
       "  </thead>\n",
       "  <tbody>\n",
       "    <tr>\n",
       "      <th>245</th>\n",
       "      <td>1</td>\n",
       "      <td>0</td>\n",
       "      <td>86.5000</td>\n",
       "      <td>10</td>\n",
       "    </tr>\n",
       "    <tr>\n",
       "      <th>685</th>\n",
       "      <td>3</td>\n",
       "      <td>1</td>\n",
       "      <td>16.1000</td>\n",
       "      <td>0</td>\n",
       "    </tr>\n",
       "    <tr>\n",
       "      <th>518</th>\n",
       "      <td>2</td>\n",
       "      <td>1</td>\n",
       "      <td>36.7500</td>\n",
       "      <td>0</td>\n",
       "    </tr>\n",
       "    <tr>\n",
       "      <th>1188</th>\n",
       "      <td>3</td>\n",
       "      <td>0</td>\n",
       "      <td>16.7000</td>\n",
       "      <td>17</td>\n",
       "    </tr>\n",
       "    <tr>\n",
       "      <th>1255</th>\n",
       "      <td>3</td>\n",
       "      <td>1</td>\n",
       "      <td>7.2292</td>\n",
       "      <td>0</td>\n",
       "    </tr>\n",
       "    <tr>\n",
       "      <th>...</th>\n",
       "      <td>...</td>\n",
       "      <td>...</td>\n",
       "      <td>...</td>\n",
       "      <td>...</td>\n",
       "    </tr>\n",
       "    <tr>\n",
       "      <th>763</th>\n",
       "      <td>3</td>\n",
       "      <td>0</td>\n",
       "      <td>20.5750</td>\n",
       "      <td>4</td>\n",
       "    </tr>\n",
       "    <tr>\n",
       "      <th>835</th>\n",
       "      <td>3</td>\n",
       "      <td>1</td>\n",
       "      <td>8.0500</td>\n",
       "      <td>0</td>\n",
       "    </tr>\n",
       "    <tr>\n",
       "      <th>1216</th>\n",
       "      <td>3</td>\n",
       "      <td>0</td>\n",
       "      <td>7.7333</td>\n",
       "      <td>17</td>\n",
       "    </tr>\n",
       "    <tr>\n",
       "      <th>559</th>\n",
       "      <td>2</td>\n",
       "      <td>0</td>\n",
       "      <td>36.7500</td>\n",
       "      <td>2</td>\n",
       "    </tr>\n",
       "    <tr>\n",
       "      <th>684</th>\n",
       "      <td>3</td>\n",
       "      <td>0</td>\n",
       "      <td>15.5000</td>\n",
       "      <td>0</td>\n",
       "    </tr>\n",
       "  </tbody>\n",
       "</table>\n",
       "<p>523 rows × 4 columns</p>\n",
       "</div>"
      ]
     },
     "execution_count": 240,
     "metadata": {},
     "output_type": "execute_result"
    }
   ],
   "execution_count": 240
  },
  {
   "cell_type": "code",
   "id": "0d1a03d8-a902-4049-b526-e05b164185b3",
   "metadata": {
    "scrolled": true,
    "ExecuteTime": {
     "end_time": "2024-05-21T21:37:17.671283Z",
     "start_time": "2024-05-21T21:37:17.665986Z"
    }
   },
   "source": [
    "grader.check(\"Question 3c\")"
   ],
   "outputs": [
    {
     "data": {
      "text/plain": [
       "Question 3c results: All test cases passed!"
      ],
      "text/html": [
       "<p><strong><pre style='display: inline;'>Question 3c</pre></strong> passed! 🍀</p>"
      ]
     },
     "execution_count": 241,
     "metadata": {},
     "output_type": "execute_result"
    }
   ],
   "execution_count": 241
  },
  {
   "cell_type": "markdown",
   "id": "ddb98b80-f0f0-4543-8070-2786b2932672",
   "metadata": {},
   "source": [
    "### Question 3d) Training the classifier. \n",
    "\n",
    "Now you can train the classifier. You won't get points for it, but wouldn't it be unsatisfying not to do it?\n"
   ]
  },
  {
   "cell_type": "code",
   "id": "5a6e6bb2-a0e5-4d8c-b3d3-be44ad690029",
   "metadata": {
    "ExecuteTime": {
     "end_time": "2024-05-21T21:37:18.614954Z",
     "start_time": "2024-05-21T21:37:17.672729Z"
    }
   },
   "source": [
    "class Question3d:\n",
    "    scaler = StandardScaler()\n",
    "    scaler.fit(Question3c.X_train)\n",
    "\n",
    "    X_train_scaled = scaler.transform(Question3c.X_train)\n",
    "    X_test_scaled = scaler.transform(Question3c.X_test)\n",
    "    X_val_scaled = scaler.transform(Question3c.X_val)\n",
    "\n",
    "    mlp = MLPClassifier(hidden_layer_sizes=(10, 10), max_iter=30000, random_state=666)\n",
    "    mlp.fit(X_train_scaled, np.squeeze(Question3c.y_train))\n",
    "\n",
    "    test_predictions = mlp.predict(X_test_scaled)\n",
    "    val_predictions = mlp.predict(X_val_scaled)\n",
    "\n",
    "    test_accuracy = test_predictions[test_predictions == Question3c.y_test].size / test_predictions.size\n",
    "    print(f\"test_accuracy is {test_accuracy}\")\n",
    "\n",
    "    val_accuracy = val_predictions[val_predictions == Question3c.y_val].size / val_predictions.size\n",
    "    print(f\"val_accuracy is {val_accuracy}\")"
   ],
   "outputs": [
    {
     "name": "stdout",
     "output_type": "stream",
     "text": [
      "test_accuracy is 0.9719387755102041\n",
      "val_accuracy is 0.9567430025445293\n"
     ]
    }
   ],
   "execution_count": 242
  },
  {
   "cell_type": "code",
   "id": "6875a100-42a2-4b29-b043-ba9b6606b939",
   "metadata": {
    "ExecuteTime": {
     "end_time": "2024-05-21T21:42:19.596406Z",
     "start_time": "2024-05-21T21:42:19.572904Z"
    }
   },
   "source": "grader.check_all()",
   "outputs": [
    {
     "data": {
      "text/plain": [
       "Question 1a results: All test cases passed!\n",
       "\n",
       "Question 1b results: All test cases passed!\n",
       "\n",
       "Question 1c results: All test cases passed!\n",
       "\n",
       "Question 2a results: All test cases passed!\n",
       "\n",
       "Question 2b results: All test cases passed!\n",
       "\n",
       "Question 2c results: All test cases passed!\n",
       "\n",
       "Question 3a results: All test cases passed!\n",
       "\n",
       "Question 3b results: All test cases passed!\n",
       "\n",
       "Question 3c results: All test cases passed!"
      ]
     },
     "execution_count": 243,
     "metadata": {},
     "output_type": "execute_result"
    }
   ],
   "execution_count": 243
  },
  {
   "metadata": {},
   "cell_type": "code",
   "outputs": [],
   "execution_count": null,
   "source": "",
   "id": "27b24f13c74cb4e7"
  }
 ],
 "metadata": {
  "kernelspec": {
   "display_name": "Python 3 (ipykernel)",
   "language": "python",
   "name": "python3"
  },
  "language_info": {
   "codemirror_mode": {
    "name": "ipython",
    "version": 3
   },
   "file_extension": ".py",
   "mimetype": "text/x-python",
   "name": "python",
   "nbconvert_exporter": "python",
   "pygments_lexer": "ipython3",
   "version": "3.12.3"
  }
 },
 "nbformat": 4,
 "nbformat_minor": 5
}
