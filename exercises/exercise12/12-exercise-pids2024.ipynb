{
 "cells": [
  {
   "cell_type": "code",
   "id": "c1924d69-ad5a-4b81-92e1-e93833e224b0",
   "metadata": {
    "ExecuteTime": {
     "end_time": "2024-05-29T08:07:52.746582Z",
     "start_time": "2024-05-29T08:07:52.474418Z"
    }
   },
   "source": [
    "# Initialize Otter\n",
    "import otter\n",
    "\n",
    "grader = otter.Notebook(\"12-exercise-pids2024.ipynb\")"
   ],
   "outputs": [],
   "execution_count": 2
  },
  {
   "cell_type": "markdown",
   "id": "670d3603-9d27-40f8-af72-4ffc9d828d0f",
   "metadata": {},
   "source": [
    "# Exercise sheet 12\n",
    "\n",
    "**Points: 15**\n",
    "\n",
    "In this exercise sheet you can train for the exam by solving selected exercises from \n",
    "the \"insurance tests\".\n",
    "\n",
    "This notebook can be automatically graded using Otter grader. To find how many points you get, simply run `grader.check_all()` from a new cell. "
   ]
  },
  {
   "cell_type": "code",
   "id": "de6a078f-c508-48af-8b53-fb060ef6ec27",
   "metadata": {
    "ExecuteTime": {
     "end_time": "2024-05-29T08:07:54.320981Z",
     "start_time": "2024-05-29T08:07:53.916840Z"
    }
   },
   "source": [
    "import numpy as np\n",
    "import pandas as pd\n",
    "import matplotlib.pyplot as plt\n",
    "import seaborn as sns\n",
    "import pandas as pd\n",
    "import scipy.stats as stats\n",
    "from sklearn.preprocessing import StandardScaler"
   ],
   "outputs": [],
   "execution_count": 3
  },
  {
   "cell_type": "markdown",
   "id": "d7efb4a7-42cc-4189-bd04-fc15cfb43755",
   "metadata": {},
   "source": [
    "### Question 1a: Tidy dataset (1 Point)\n",
    "\n",
    "The following dataset is not tidy. Please make it tidy by melting it. It should have a new column *subject* and a new column *score*.  "
   ]
  },
  {
   "cell_type": "code",
   "id": "5e9e8573-e75e-4ec6-84e8-0790f479fdc6",
   "metadata": {
    "ExecuteTime": {
     "end_time": "2024-05-29T08:08:27.553030Z",
     "start_time": "2024-05-29T08:08:27.545177Z"
    }
   },
   "source": [
    "data = {\n",
    "    'Student_ID': ['S001', 'S002', 'S003', 'S004'],\n",
    "    'Name': ['Alex', 'Bryan', 'Cathy', 'Diana'],\n",
    "    'Math': [88, 72, 94, 89],\n",
    "    'Science': [84, 76, 88, 92],\n",
    "    'English': [90, 82, 95, 88]\n",
    "}\n",
    "\n",
    "grades = pd.DataFrame(data)\n",
    "display(grades)"
   ],
   "outputs": [
    {
     "data": {
      "text/plain": [
       "  Student_ID   Name  Math  Science  English\n",
       "0       S001   Alex    88       84       90\n",
       "1       S002  Bryan    72       76       82\n",
       "2       S003  Cathy    94       88       95\n",
       "3       S004  Diana    89       92       88"
      ],
      "text/html": [
       "<div>\n",
       "<style scoped>\n",
       "    .dataframe tbody tr th:only-of-type {\n",
       "        vertical-align: middle;\n",
       "    }\n",
       "\n",
       "    .dataframe tbody tr th {\n",
       "        vertical-align: top;\n",
       "    }\n",
       "\n",
       "    .dataframe thead th {\n",
       "        text-align: right;\n",
       "    }\n",
       "</style>\n",
       "<table border=\"1\" class=\"dataframe\">\n",
       "  <thead>\n",
       "    <tr style=\"text-align: right;\">\n",
       "      <th></th>\n",
       "      <th>Student_ID</th>\n",
       "      <th>Name</th>\n",
       "      <th>Math</th>\n",
       "      <th>Science</th>\n",
       "      <th>English</th>\n",
       "    </tr>\n",
       "  </thead>\n",
       "  <tbody>\n",
       "    <tr>\n",
       "      <th>0</th>\n",
       "      <td>S001</td>\n",
       "      <td>Alex</td>\n",
       "      <td>88</td>\n",
       "      <td>84</td>\n",
       "      <td>90</td>\n",
       "    </tr>\n",
       "    <tr>\n",
       "      <th>1</th>\n",
       "      <td>S002</td>\n",
       "      <td>Bryan</td>\n",
       "      <td>72</td>\n",
       "      <td>76</td>\n",
       "      <td>82</td>\n",
       "    </tr>\n",
       "    <tr>\n",
       "      <th>2</th>\n",
       "      <td>S003</td>\n",
       "      <td>Cathy</td>\n",
       "      <td>94</td>\n",
       "      <td>88</td>\n",
       "      <td>95</td>\n",
       "    </tr>\n",
       "    <tr>\n",
       "      <th>3</th>\n",
       "      <td>S004</td>\n",
       "      <td>Diana</td>\n",
       "      <td>89</td>\n",
       "      <td>92</td>\n",
       "      <td>88</td>\n",
       "    </tr>\n",
       "  </tbody>\n",
       "</table>\n",
       "</div>"
      ]
     },
     "metadata": {},
     "output_type": "display_data"
    }
   ],
   "execution_count": 7
  },
  {
   "cell_type": "code",
   "id": "c2bc5a1c",
   "metadata": {
    "ExecuteTime": {
     "end_time": "2024-05-29T08:12:27.453225Z",
     "start_time": "2024-05-29T08:12:27.441233Z"
    }
   },
   "source": [
    "class Question1a:\n",
    "    grades_tidy = grades.melt(\n",
    "        id_vars=['Student_ID', 'Name'],\n",
    "        value_name='score',\n",
    "        value_vars=['Math', 'Science', 'English'],\n",
    "        var_name='subject'\n",
    "    )\n",
    "\n",
    "\n",
    "#help(grades.melt)\n",
    "Question1a.grades_tidy"
   ],
   "outputs": [
    {
     "data": {
      "text/plain": [
       "   Student_ID   Name  subject  score\n",
       "0        S001   Alex     Math     88\n",
       "1        S002  Bryan     Math     72\n",
       "2        S003  Cathy     Math     94\n",
       "3        S004  Diana     Math     89\n",
       "4        S001   Alex  Science     84\n",
       "5        S002  Bryan  Science     76\n",
       "6        S003  Cathy  Science     88\n",
       "7        S004  Diana  Science     92\n",
       "8        S001   Alex  English     90\n",
       "9        S002  Bryan  English     82\n",
       "10       S003  Cathy  English     95\n",
       "11       S004  Diana  English     88"
      ],
      "text/html": [
       "<div>\n",
       "<style scoped>\n",
       "    .dataframe tbody tr th:only-of-type {\n",
       "        vertical-align: middle;\n",
       "    }\n",
       "\n",
       "    .dataframe tbody tr th {\n",
       "        vertical-align: top;\n",
       "    }\n",
       "\n",
       "    .dataframe thead th {\n",
       "        text-align: right;\n",
       "    }\n",
       "</style>\n",
       "<table border=\"1\" class=\"dataframe\">\n",
       "  <thead>\n",
       "    <tr style=\"text-align: right;\">\n",
       "      <th></th>\n",
       "      <th>Student_ID</th>\n",
       "      <th>Name</th>\n",
       "      <th>subject</th>\n",
       "      <th>score</th>\n",
       "    </tr>\n",
       "  </thead>\n",
       "  <tbody>\n",
       "    <tr>\n",
       "      <th>0</th>\n",
       "      <td>S001</td>\n",
       "      <td>Alex</td>\n",
       "      <td>Math</td>\n",
       "      <td>88</td>\n",
       "    </tr>\n",
       "    <tr>\n",
       "      <th>1</th>\n",
       "      <td>S002</td>\n",
       "      <td>Bryan</td>\n",
       "      <td>Math</td>\n",
       "      <td>72</td>\n",
       "    </tr>\n",
       "    <tr>\n",
       "      <th>2</th>\n",
       "      <td>S003</td>\n",
       "      <td>Cathy</td>\n",
       "      <td>Math</td>\n",
       "      <td>94</td>\n",
       "    </tr>\n",
       "    <tr>\n",
       "      <th>3</th>\n",
       "      <td>S004</td>\n",
       "      <td>Diana</td>\n",
       "      <td>Math</td>\n",
       "      <td>89</td>\n",
       "    </tr>\n",
       "    <tr>\n",
       "      <th>4</th>\n",
       "      <td>S001</td>\n",
       "      <td>Alex</td>\n",
       "      <td>Science</td>\n",
       "      <td>84</td>\n",
       "    </tr>\n",
       "    <tr>\n",
       "      <th>5</th>\n",
       "      <td>S002</td>\n",
       "      <td>Bryan</td>\n",
       "      <td>Science</td>\n",
       "      <td>76</td>\n",
       "    </tr>\n",
       "    <tr>\n",
       "      <th>6</th>\n",
       "      <td>S003</td>\n",
       "      <td>Cathy</td>\n",
       "      <td>Science</td>\n",
       "      <td>88</td>\n",
       "    </tr>\n",
       "    <tr>\n",
       "      <th>7</th>\n",
       "      <td>S004</td>\n",
       "      <td>Diana</td>\n",
       "      <td>Science</td>\n",
       "      <td>92</td>\n",
       "    </tr>\n",
       "    <tr>\n",
       "      <th>8</th>\n",
       "      <td>S001</td>\n",
       "      <td>Alex</td>\n",
       "      <td>English</td>\n",
       "      <td>90</td>\n",
       "    </tr>\n",
       "    <tr>\n",
       "      <th>9</th>\n",
       "      <td>S002</td>\n",
       "      <td>Bryan</td>\n",
       "      <td>English</td>\n",
       "      <td>82</td>\n",
       "    </tr>\n",
       "    <tr>\n",
       "      <th>10</th>\n",
       "      <td>S003</td>\n",
       "      <td>Cathy</td>\n",
       "      <td>English</td>\n",
       "      <td>95</td>\n",
       "    </tr>\n",
       "    <tr>\n",
       "      <th>11</th>\n",
       "      <td>S004</td>\n",
       "      <td>Diana</td>\n",
       "      <td>English</td>\n",
       "      <td>88</td>\n",
       "    </tr>\n",
       "  </tbody>\n",
       "</table>\n",
       "</div>"
      ]
     },
     "execution_count": 14,
     "metadata": {},
     "output_type": "execute_result"
    }
   ],
   "execution_count": 14
  },
  {
   "cell_type": "code",
   "id": "39076448",
   "metadata": {
    "ExecuteTime": {
     "end_time": "2024-05-29T08:12:29.304274Z",
     "start_time": "2024-05-29T08:12:29.296699Z"
    }
   },
   "source": [
    "grader.check(\"Question 1a\")"
   ],
   "outputs": [
    {
     "data": {
      "text/plain": [
       "Question 1a results: All test cases passed!"
      ],
      "text/html": [
       "<p><strong><pre style='display: inline;'>Question 1a</pre></strong> passed! 🌟</p>"
      ]
     },
     "execution_count": 15,
     "metadata": {},
     "output_type": "execute_result"
    }
   ],
   "execution_count": 15
  },
  {
   "cell_type": "markdown",
   "id": "64e64831-703d-431c-b545-b4f8b3bc39a7",
   "metadata": {},
   "source": [
    "### Question 1b (1 Point): \n",
    "\n",
    "Sort the values in the following dataframe according to descending temperatures."
   ]
  },
  {
   "cell_type": "code",
   "id": "296ce72b",
   "metadata": {
    "ExecuteTime": {
     "end_time": "2024-05-29T08:14:29.880407Z",
     "start_time": "2024-05-29T08:14:29.870568Z"
    }
   },
   "source": [
    "data = {\n",
    "    'Date': ['2023-03-05', '2023-03-03', '2023-03-04', '2023-03-05', '2023-03-03', '2023-03-04', '2023-03-02',\n",
    "             '2023-03-01', '2023-03-02', '2023-03-01', '2023-03-05', '2023-03-03', '2023-03-04', '2023-03-02',\n",
    "             '2023-03-01'],\n",
    "    'City': ['New York', 'New York', 'New York', 'Los Angeles', 'Los Angeles', 'Los Angeles', 'Los Angeles',\n",
    "             'Los Angeles', 'New York', 'New York', 'Chicago', 'Chicago', 'Chicago', 'Chicago', 'Chicago'],\n",
    "    'Temperature': [12, 10, 11, 19, 18, 20, 17, 16, 9, 8, 5, 7, 6, 4, 3]\n",
    "}\n",
    "\n",
    "temperatures = pd.DataFrame(data)\n",
    "display(temperatures)"
   ],
   "outputs": [
    {
     "data": {
      "text/plain": [
       "          Date         City  Temperature\n",
       "0   2023-03-05     New York           12\n",
       "1   2023-03-03     New York           10\n",
       "2   2023-03-04     New York           11\n",
       "3   2023-03-05  Los Angeles           19\n",
       "4   2023-03-03  Los Angeles           18\n",
       "5   2023-03-04  Los Angeles           20\n",
       "6   2023-03-02  Los Angeles           17\n",
       "7   2023-03-01  Los Angeles           16\n",
       "8   2023-03-02     New York            9\n",
       "9   2023-03-01     New York            8\n",
       "10  2023-03-05      Chicago            5\n",
       "11  2023-03-03      Chicago            7\n",
       "12  2023-03-04      Chicago            6\n",
       "13  2023-03-02      Chicago            4\n",
       "14  2023-03-01      Chicago            3"
      ],
      "text/html": [
       "<div>\n",
       "<style scoped>\n",
       "    .dataframe tbody tr th:only-of-type {\n",
       "        vertical-align: middle;\n",
       "    }\n",
       "\n",
       "    .dataframe tbody tr th {\n",
       "        vertical-align: top;\n",
       "    }\n",
       "\n",
       "    .dataframe thead th {\n",
       "        text-align: right;\n",
       "    }\n",
       "</style>\n",
       "<table border=\"1\" class=\"dataframe\">\n",
       "  <thead>\n",
       "    <tr style=\"text-align: right;\">\n",
       "      <th></th>\n",
       "      <th>Date</th>\n",
       "      <th>City</th>\n",
       "      <th>Temperature</th>\n",
       "    </tr>\n",
       "  </thead>\n",
       "  <tbody>\n",
       "    <tr>\n",
       "      <th>0</th>\n",
       "      <td>2023-03-05</td>\n",
       "      <td>New York</td>\n",
       "      <td>12</td>\n",
       "    </tr>\n",
       "    <tr>\n",
       "      <th>1</th>\n",
       "      <td>2023-03-03</td>\n",
       "      <td>New York</td>\n",
       "      <td>10</td>\n",
       "    </tr>\n",
       "    <tr>\n",
       "      <th>2</th>\n",
       "      <td>2023-03-04</td>\n",
       "      <td>New York</td>\n",
       "      <td>11</td>\n",
       "    </tr>\n",
       "    <tr>\n",
       "      <th>3</th>\n",
       "      <td>2023-03-05</td>\n",
       "      <td>Los Angeles</td>\n",
       "      <td>19</td>\n",
       "    </tr>\n",
       "    <tr>\n",
       "      <th>4</th>\n",
       "      <td>2023-03-03</td>\n",
       "      <td>Los Angeles</td>\n",
       "      <td>18</td>\n",
       "    </tr>\n",
       "    <tr>\n",
       "      <th>5</th>\n",
       "      <td>2023-03-04</td>\n",
       "      <td>Los Angeles</td>\n",
       "      <td>20</td>\n",
       "    </tr>\n",
       "    <tr>\n",
       "      <th>6</th>\n",
       "      <td>2023-03-02</td>\n",
       "      <td>Los Angeles</td>\n",
       "      <td>17</td>\n",
       "    </tr>\n",
       "    <tr>\n",
       "      <th>7</th>\n",
       "      <td>2023-03-01</td>\n",
       "      <td>Los Angeles</td>\n",
       "      <td>16</td>\n",
       "    </tr>\n",
       "    <tr>\n",
       "      <th>8</th>\n",
       "      <td>2023-03-02</td>\n",
       "      <td>New York</td>\n",
       "      <td>9</td>\n",
       "    </tr>\n",
       "    <tr>\n",
       "      <th>9</th>\n",
       "      <td>2023-03-01</td>\n",
       "      <td>New York</td>\n",
       "      <td>8</td>\n",
       "    </tr>\n",
       "    <tr>\n",
       "      <th>10</th>\n",
       "      <td>2023-03-05</td>\n",
       "      <td>Chicago</td>\n",
       "      <td>5</td>\n",
       "    </tr>\n",
       "    <tr>\n",
       "      <th>11</th>\n",
       "      <td>2023-03-03</td>\n",
       "      <td>Chicago</td>\n",
       "      <td>7</td>\n",
       "    </tr>\n",
       "    <tr>\n",
       "      <th>12</th>\n",
       "      <td>2023-03-04</td>\n",
       "      <td>Chicago</td>\n",
       "      <td>6</td>\n",
       "    </tr>\n",
       "    <tr>\n",
       "      <th>13</th>\n",
       "      <td>2023-03-02</td>\n",
       "      <td>Chicago</td>\n",
       "      <td>4</td>\n",
       "    </tr>\n",
       "    <tr>\n",
       "      <th>14</th>\n",
       "      <td>2023-03-01</td>\n",
       "      <td>Chicago</td>\n",
       "      <td>3</td>\n",
       "    </tr>\n",
       "  </tbody>\n",
       "</table>\n",
       "</div>"
      ]
     },
     "metadata": {},
     "output_type": "display_data"
    }
   ],
   "execution_count": 16
  },
  {
   "cell_type": "code",
   "id": "509b8943-1d41-45dc-9741-58fa217bf7c4",
   "metadata": {
    "ExecuteTime": {
     "end_time": "2024-05-29T08:15:11.032988Z",
     "start_time": "2024-05-29T08:15:11.029132Z"
    }
   },
   "source": [
    "class Question1b:\n",
    "    temperatures_sorted = temperatures.sort_values('Temperature', ascending=False)  # your answer"
   ],
   "outputs": [],
   "execution_count": 18
  },
  {
   "cell_type": "code",
   "id": "1376d191",
   "metadata": {
    "ExecuteTime": {
     "end_time": "2024-05-29T08:15:12.604638Z",
     "start_time": "2024-05-29T08:15:12.597994Z"
    }
   },
   "source": [
    "grader.check(\"Question 1b\")"
   ],
   "outputs": [
    {
     "data": {
      "text/plain": [
       "Question 1b results: All test cases passed!"
      ],
      "text/html": [
       "<p><strong><pre style='display: inline;'>Question 1b</pre></strong> passed! ✨</p>"
      ]
     },
     "execution_count": 19,
     "metadata": {},
     "output_type": "execute_result"
    }
   ],
   "execution_count": 19
  },
  {
   "cell_type": "markdown",
   "id": "cf9ba6c2-44ca-4bd2-8991-e4f6117dd149",
   "metadata": {},
   "source": [
    "### Question 1c (1 Point)\n",
    "\n",
    "Create a new dataframe `cold_temperatures`, which contains only the rows, where the temperature is below 15 degrees. "
   ]
  },
  {
   "cell_type": "code",
   "id": "a62beab6-9521-4cc1-b0a1-3d00601e1ac5",
   "metadata": {
    "ExecuteTime": {
     "end_time": "2024-05-29T08:17:03.673680Z",
     "start_time": "2024-05-29T08:17:03.665721Z"
    }
   },
   "source": [
    "class Question1c:\n",
    "    cold_temperatures = temperatures[temperatures['Temperature'] < 15]  # your answer\n",
    "    display(cold_temperatures)"
   ],
   "outputs": [
    {
     "data": {
      "text/plain": [
       "          Date      City  Temperature\n",
       "0   2023-03-05  New York           12\n",
       "1   2023-03-03  New York           10\n",
       "2   2023-03-04  New York           11\n",
       "8   2023-03-02  New York            9\n",
       "9   2023-03-01  New York            8\n",
       "10  2023-03-05   Chicago            5\n",
       "11  2023-03-03   Chicago            7\n",
       "12  2023-03-04   Chicago            6\n",
       "13  2023-03-02   Chicago            4\n",
       "14  2023-03-01   Chicago            3"
      ],
      "text/html": [
       "<div>\n",
       "<style scoped>\n",
       "    .dataframe tbody tr th:only-of-type {\n",
       "        vertical-align: middle;\n",
       "    }\n",
       "\n",
       "    .dataframe tbody tr th {\n",
       "        vertical-align: top;\n",
       "    }\n",
       "\n",
       "    .dataframe thead th {\n",
       "        text-align: right;\n",
       "    }\n",
       "</style>\n",
       "<table border=\"1\" class=\"dataframe\">\n",
       "  <thead>\n",
       "    <tr style=\"text-align: right;\">\n",
       "      <th></th>\n",
       "      <th>Date</th>\n",
       "      <th>City</th>\n",
       "      <th>Temperature</th>\n",
       "    </tr>\n",
       "  </thead>\n",
       "  <tbody>\n",
       "    <tr>\n",
       "      <th>0</th>\n",
       "      <td>2023-03-05</td>\n",
       "      <td>New York</td>\n",
       "      <td>12</td>\n",
       "    </tr>\n",
       "    <tr>\n",
       "      <th>1</th>\n",
       "      <td>2023-03-03</td>\n",
       "      <td>New York</td>\n",
       "      <td>10</td>\n",
       "    </tr>\n",
       "    <tr>\n",
       "      <th>2</th>\n",
       "      <td>2023-03-04</td>\n",
       "      <td>New York</td>\n",
       "      <td>11</td>\n",
       "    </tr>\n",
       "    <tr>\n",
       "      <th>8</th>\n",
       "      <td>2023-03-02</td>\n",
       "      <td>New York</td>\n",
       "      <td>9</td>\n",
       "    </tr>\n",
       "    <tr>\n",
       "      <th>9</th>\n",
       "      <td>2023-03-01</td>\n",
       "      <td>New York</td>\n",
       "      <td>8</td>\n",
       "    </tr>\n",
       "    <tr>\n",
       "      <th>10</th>\n",
       "      <td>2023-03-05</td>\n",
       "      <td>Chicago</td>\n",
       "      <td>5</td>\n",
       "    </tr>\n",
       "    <tr>\n",
       "      <th>11</th>\n",
       "      <td>2023-03-03</td>\n",
       "      <td>Chicago</td>\n",
       "      <td>7</td>\n",
       "    </tr>\n",
       "    <tr>\n",
       "      <th>12</th>\n",
       "      <td>2023-03-04</td>\n",
       "      <td>Chicago</td>\n",
       "      <td>6</td>\n",
       "    </tr>\n",
       "    <tr>\n",
       "      <th>13</th>\n",
       "      <td>2023-03-02</td>\n",
       "      <td>Chicago</td>\n",
       "      <td>4</td>\n",
       "    </tr>\n",
       "    <tr>\n",
       "      <th>14</th>\n",
       "      <td>2023-03-01</td>\n",
       "      <td>Chicago</td>\n",
       "      <td>3</td>\n",
       "    </tr>\n",
       "  </tbody>\n",
       "</table>\n",
       "</div>"
      ]
     },
     "metadata": {},
     "output_type": "display_data"
    }
   ],
   "execution_count": 21
  },
  {
   "cell_type": "code",
   "id": "c2f6c03d-584c-4bf4-8bd7-00d0870cbc4d",
   "metadata": {
    "ExecuteTime": {
     "end_time": "2024-05-29T08:17:05.423308Z",
     "start_time": "2024-05-29T08:17:05.416064Z"
    }
   },
   "source": [
    "grader.check(\"Question 1c\")"
   ],
   "outputs": [
    {
     "data": {
      "text/plain": [
       "Question 1c results: All test cases passed!"
      ],
      "text/html": [
       "<p><strong><pre style='display: inline;'>Question 1c</pre></strong> passed! 🎉</p>"
      ]
     },
     "execution_count": 22,
     "metadata": {},
     "output_type": "execute_result"
    }
   ],
   "execution_count": 22
  },
  {
   "cell_type": "markdown",
   "id": "ac1c2738",
   "metadata": {},
   "source": [
    "### Question 2a (1 Point)\n",
    "\n",
    "We roll two standard dice. What is the probability ($\\mathbb{P}$) for the sum of the two dice being lower than 9?\n",
    "Put the result in a variable named `probability_lower_9` and make sure to write the probability as a fraction."
   ]
  },
  {
   "cell_type": "code",
   "id": "259aba7b",
   "metadata": {
    "ExecuteTime": {
     "end_time": "2024-05-29T08:20:32.463212Z",
     "start_time": "2024-05-29T08:20:32.458951Z"
    }
   },
   "source": [
    "class Question2a:\n",
    "    omega_sum_lower_than_9 = {\n",
    "        (m, n) for n in range(1, 7) for m in range(1, 7) if m + n < 9\n",
    "    }\n",
    "    probability_lower_9 = (len(omega_sum_lower_than_9)) / (6 * 6)\n",
    "    print(\"probability: \", probability_lower_9)"
   ],
   "outputs": [
    {
     "name": "stdout",
     "output_type": "stream",
     "text": [
      "probability:  0.7222222222222222\n"
     ]
    }
   ],
   "execution_count": 25
  },
  {
   "cell_type": "code",
   "id": "0b64edf3",
   "metadata": {
    "ExecuteTime": {
     "end_time": "2024-05-29T08:20:34.023985Z",
     "start_time": "2024-05-29T08:20:34.017616Z"
    }
   },
   "source": [
    "grader.check(\"Question 2a\")"
   ],
   "outputs": [
    {
     "data": {
      "text/plain": [
       "Question 2a results: All test cases passed!"
      ],
      "text/html": [
       "<p><strong><pre style='display: inline;'>Question 2a</pre></strong> passed! 🌟</p>"
      ]
     },
     "execution_count": 26,
     "metadata": {},
     "output_type": "execute_result"
    }
   ],
   "execution_count": 26
  },
  {
   "cell_type": "markdown",
   "id": "749e50c8-18d6-4272-a474-b786e1176e7f",
   "metadata": {},
   "source": [
    "### Question 2b (1 Point)\n",
    "\n",
    "In this question we will work with the `titanic` dataset, which contains data regarding passangers on the titanic. "
   ]
  },
  {
   "cell_type": "code",
   "id": "423923b7-068e-4921-8d44-fde51ed51a80",
   "metadata": {
    "ExecuteTime": {
     "end_time": "2024-05-29T08:23:09.811793Z",
     "start_time": "2024-05-29T08:23:09.790012Z"
    }
   },
   "source": [
    "titanic_df = sns.load_dataset('titanic')\n",
    "display(titanic_df)"
   ],
   "outputs": [
    {
     "data": {
      "text/plain": [
       "     survived  pclass     sex   age  sibsp  parch     fare embarked   class  \\\n",
       "0           0       3    male  22.0      1      0   7.2500        S   Third   \n",
       "1           1       1  female  38.0      1      0  71.2833        C   First   \n",
       "2           1       3  female  26.0      0      0   7.9250        S   Third   \n",
       "3           1       1  female  35.0      1      0  53.1000        S   First   \n",
       "4           0       3    male  35.0      0      0   8.0500        S   Third   \n",
       "..        ...     ...     ...   ...    ...    ...      ...      ...     ...   \n",
       "886         0       2    male  27.0      0      0  13.0000        S  Second   \n",
       "887         1       1  female  19.0      0      0  30.0000        S   First   \n",
       "888         0       3  female   NaN      1      2  23.4500        S   Third   \n",
       "889         1       1    male  26.0      0      0  30.0000        C   First   \n",
       "890         0       3    male  32.0      0      0   7.7500        Q   Third   \n",
       "\n",
       "       who  adult_male deck  embark_town alive  alone  \n",
       "0      man        True  NaN  Southampton    no  False  \n",
       "1    woman       False    C    Cherbourg   yes  False  \n",
       "2    woman       False  NaN  Southampton   yes   True  \n",
       "3    woman       False    C  Southampton   yes  False  \n",
       "4      man        True  NaN  Southampton    no   True  \n",
       "..     ...         ...  ...          ...   ...    ...  \n",
       "886    man        True  NaN  Southampton    no   True  \n",
       "887  woman       False    B  Southampton   yes   True  \n",
       "888  woman       False  NaN  Southampton    no  False  \n",
       "889    man        True    C    Cherbourg   yes   True  \n",
       "890    man        True  NaN   Queenstown    no   True  \n",
       "\n",
       "[891 rows x 15 columns]"
      ],
      "text/html": [
       "<div>\n",
       "<style scoped>\n",
       "    .dataframe tbody tr th:only-of-type {\n",
       "        vertical-align: middle;\n",
       "    }\n",
       "\n",
       "    .dataframe tbody tr th {\n",
       "        vertical-align: top;\n",
       "    }\n",
       "\n",
       "    .dataframe thead th {\n",
       "        text-align: right;\n",
       "    }\n",
       "</style>\n",
       "<table border=\"1\" class=\"dataframe\">\n",
       "  <thead>\n",
       "    <tr style=\"text-align: right;\">\n",
       "      <th></th>\n",
       "      <th>survived</th>\n",
       "      <th>pclass</th>\n",
       "      <th>sex</th>\n",
       "      <th>age</th>\n",
       "      <th>sibsp</th>\n",
       "      <th>parch</th>\n",
       "      <th>fare</th>\n",
       "      <th>embarked</th>\n",
       "      <th>class</th>\n",
       "      <th>who</th>\n",
       "      <th>adult_male</th>\n",
       "      <th>deck</th>\n",
       "      <th>embark_town</th>\n",
       "      <th>alive</th>\n",
       "      <th>alone</th>\n",
       "    </tr>\n",
       "  </thead>\n",
       "  <tbody>\n",
       "    <tr>\n",
       "      <th>0</th>\n",
       "      <td>0</td>\n",
       "      <td>3</td>\n",
       "      <td>male</td>\n",
       "      <td>22.0</td>\n",
       "      <td>1</td>\n",
       "      <td>0</td>\n",
       "      <td>7.2500</td>\n",
       "      <td>S</td>\n",
       "      <td>Third</td>\n",
       "      <td>man</td>\n",
       "      <td>True</td>\n",
       "      <td>NaN</td>\n",
       "      <td>Southampton</td>\n",
       "      <td>no</td>\n",
       "      <td>False</td>\n",
       "    </tr>\n",
       "    <tr>\n",
       "      <th>1</th>\n",
       "      <td>1</td>\n",
       "      <td>1</td>\n",
       "      <td>female</td>\n",
       "      <td>38.0</td>\n",
       "      <td>1</td>\n",
       "      <td>0</td>\n",
       "      <td>71.2833</td>\n",
       "      <td>C</td>\n",
       "      <td>First</td>\n",
       "      <td>woman</td>\n",
       "      <td>False</td>\n",
       "      <td>C</td>\n",
       "      <td>Cherbourg</td>\n",
       "      <td>yes</td>\n",
       "      <td>False</td>\n",
       "    </tr>\n",
       "    <tr>\n",
       "      <th>2</th>\n",
       "      <td>1</td>\n",
       "      <td>3</td>\n",
       "      <td>female</td>\n",
       "      <td>26.0</td>\n",
       "      <td>0</td>\n",
       "      <td>0</td>\n",
       "      <td>7.9250</td>\n",
       "      <td>S</td>\n",
       "      <td>Third</td>\n",
       "      <td>woman</td>\n",
       "      <td>False</td>\n",
       "      <td>NaN</td>\n",
       "      <td>Southampton</td>\n",
       "      <td>yes</td>\n",
       "      <td>True</td>\n",
       "    </tr>\n",
       "    <tr>\n",
       "      <th>3</th>\n",
       "      <td>1</td>\n",
       "      <td>1</td>\n",
       "      <td>female</td>\n",
       "      <td>35.0</td>\n",
       "      <td>1</td>\n",
       "      <td>0</td>\n",
       "      <td>53.1000</td>\n",
       "      <td>S</td>\n",
       "      <td>First</td>\n",
       "      <td>woman</td>\n",
       "      <td>False</td>\n",
       "      <td>C</td>\n",
       "      <td>Southampton</td>\n",
       "      <td>yes</td>\n",
       "      <td>False</td>\n",
       "    </tr>\n",
       "    <tr>\n",
       "      <th>4</th>\n",
       "      <td>0</td>\n",
       "      <td>3</td>\n",
       "      <td>male</td>\n",
       "      <td>35.0</td>\n",
       "      <td>0</td>\n",
       "      <td>0</td>\n",
       "      <td>8.0500</td>\n",
       "      <td>S</td>\n",
       "      <td>Third</td>\n",
       "      <td>man</td>\n",
       "      <td>True</td>\n",
       "      <td>NaN</td>\n",
       "      <td>Southampton</td>\n",
       "      <td>no</td>\n",
       "      <td>True</td>\n",
       "    </tr>\n",
       "    <tr>\n",
       "      <th>...</th>\n",
       "      <td>...</td>\n",
       "      <td>...</td>\n",
       "      <td>...</td>\n",
       "      <td>...</td>\n",
       "      <td>...</td>\n",
       "      <td>...</td>\n",
       "      <td>...</td>\n",
       "      <td>...</td>\n",
       "      <td>...</td>\n",
       "      <td>...</td>\n",
       "      <td>...</td>\n",
       "      <td>...</td>\n",
       "      <td>...</td>\n",
       "      <td>...</td>\n",
       "      <td>...</td>\n",
       "    </tr>\n",
       "    <tr>\n",
       "      <th>886</th>\n",
       "      <td>0</td>\n",
       "      <td>2</td>\n",
       "      <td>male</td>\n",
       "      <td>27.0</td>\n",
       "      <td>0</td>\n",
       "      <td>0</td>\n",
       "      <td>13.0000</td>\n",
       "      <td>S</td>\n",
       "      <td>Second</td>\n",
       "      <td>man</td>\n",
       "      <td>True</td>\n",
       "      <td>NaN</td>\n",
       "      <td>Southampton</td>\n",
       "      <td>no</td>\n",
       "      <td>True</td>\n",
       "    </tr>\n",
       "    <tr>\n",
       "      <th>887</th>\n",
       "      <td>1</td>\n",
       "      <td>1</td>\n",
       "      <td>female</td>\n",
       "      <td>19.0</td>\n",
       "      <td>0</td>\n",
       "      <td>0</td>\n",
       "      <td>30.0000</td>\n",
       "      <td>S</td>\n",
       "      <td>First</td>\n",
       "      <td>woman</td>\n",
       "      <td>False</td>\n",
       "      <td>B</td>\n",
       "      <td>Southampton</td>\n",
       "      <td>yes</td>\n",
       "      <td>True</td>\n",
       "    </tr>\n",
       "    <tr>\n",
       "      <th>888</th>\n",
       "      <td>0</td>\n",
       "      <td>3</td>\n",
       "      <td>female</td>\n",
       "      <td>NaN</td>\n",
       "      <td>1</td>\n",
       "      <td>2</td>\n",
       "      <td>23.4500</td>\n",
       "      <td>S</td>\n",
       "      <td>Third</td>\n",
       "      <td>woman</td>\n",
       "      <td>False</td>\n",
       "      <td>NaN</td>\n",
       "      <td>Southampton</td>\n",
       "      <td>no</td>\n",
       "      <td>False</td>\n",
       "    </tr>\n",
       "    <tr>\n",
       "      <th>889</th>\n",
       "      <td>1</td>\n",
       "      <td>1</td>\n",
       "      <td>male</td>\n",
       "      <td>26.0</td>\n",
       "      <td>0</td>\n",
       "      <td>0</td>\n",
       "      <td>30.0000</td>\n",
       "      <td>C</td>\n",
       "      <td>First</td>\n",
       "      <td>man</td>\n",
       "      <td>True</td>\n",
       "      <td>C</td>\n",
       "      <td>Cherbourg</td>\n",
       "      <td>yes</td>\n",
       "      <td>True</td>\n",
       "    </tr>\n",
       "    <tr>\n",
       "      <th>890</th>\n",
       "      <td>0</td>\n",
       "      <td>3</td>\n",
       "      <td>male</td>\n",
       "      <td>32.0</td>\n",
       "      <td>0</td>\n",
       "      <td>0</td>\n",
       "      <td>7.7500</td>\n",
       "      <td>Q</td>\n",
       "      <td>Third</td>\n",
       "      <td>man</td>\n",
       "      <td>True</td>\n",
       "      <td>NaN</td>\n",
       "      <td>Queenstown</td>\n",
       "      <td>no</td>\n",
       "      <td>True</td>\n",
       "    </tr>\n",
       "  </tbody>\n",
       "</table>\n",
       "<p>891 rows × 15 columns</p>\n",
       "</div>"
      ]
     },
     "metadata": {},
     "output_type": "display_data"
    }
   ],
   "execution_count": 36
  },
  {
   "cell_type": "markdown",
   "id": "6a663cda",
   "metadata": {},
   "source": [
    "\n",
    "Estimate the probability that a female passenger survived the disaster (`alive == \"yes\"`). \n",
    "\n",
    "**Reminder:** the conditional probability is defined as:\n",
    "$$ \\mathbb{P}(A|B) = \\frac{\\mathbb{P}(A \\cap B)}{\\mathbb{P}(B)}$$"
   ]
  },
  {
   "cell_type": "code",
   "id": "0cde6c82",
   "metadata": {
    "ExecuteTime": {
     "end_time": "2024-05-29T08:24:17.349265Z",
     "start_time": "2024-05-29T08:24:17.341074Z"
    }
   },
   "source": [
    "class Question2b:\n",
    "    female_df = titanic_df[titanic_df['sex'] == 'female']\n",
    "    female_survived_df = female_df[female_df['alive'] == 'yes']\n",
    "    female_survival_prob = female_survived_df.shape[0] / female_df.shape[0]\n",
    "\n",
    "    print(\"probability that a female passenger survived \", female_survival_prob)"
   ],
   "outputs": [
    {
     "name": "stdout",
     "output_type": "stream",
     "text": [
      "probability that a female passenger survived  0.7420382165605095\n"
     ]
    }
   ],
   "execution_count": 42
  },
  {
   "cell_type": "code",
   "id": "988cbf5e-fd5b-46fe-82c2-f3d9f8dfaa62",
   "metadata": {
    "ExecuteTime": {
     "end_time": "2024-05-29T08:24:18.081510Z",
     "start_time": "2024-05-29T08:24:18.073680Z"
    }
   },
   "source": [
    "grader.check(\"Question 2b\")"
   ],
   "outputs": [
    {
     "data": {
      "text/plain": [
       "Question 2b results: All test cases passed!"
      ],
      "text/html": [
       "<p><strong><pre style='display: inline;'>Question 2b</pre></strong> passed! 🎉</p>"
      ]
     },
     "execution_count": 43,
     "metadata": {},
     "output_type": "execute_result"
    }
   ],
   "execution_count": 43
  },
  {
   "cell_type": "markdown",
   "id": "62059330-186c-4e5e-b24b-4567f8126d21",
   "metadata": {},
   "source": [
    "### Question 2c (1 Point)\n",
    "\n",
    "Let $X$ denote a random variable with a poisson distribution, defined as follows:\n"
   ]
  },
  {
   "cell_type": "code",
   "id": "e8d3bbb5",
   "metadata": {
    "ExecuteTime": {
     "end_time": "2024-05-29T08:24:30.829643Z",
     "start_time": "2024-05-29T08:24:30.825868Z"
    }
   },
   "source": [
    "lmbda = 7\n",
    "X = stats.poisson(lmbda)"
   ],
   "outputs": [],
   "execution_count": 44
  },
  {
   "cell_type": "markdown",
   "id": "688a8c8f",
   "metadata": {},
   "source": [
    "Calculate the probabilities $P(𝑋=3)$ and $P(𝑋 \\le 10)$ "
   ]
  },
  {
   "cell_type": "code",
   "id": "0ac0cccc",
   "metadata": {
    "ExecuteTime": {
     "end_time": "2024-05-29T08:43:24.790146Z",
     "start_time": "2024-05-29T08:43:24.786020Z"
    }
   },
   "source": [
    "class Question2c:\n",
    "    p_xe3 = X.pmf(3)\n",
    "    p_xlt10 = X.cdf(10)\n",
    "\n",
    "    print('P(X=3)={:.4f}\\nP(X<=10)={:.4f}\\n'.format(p_xe3, p_xlt10))"
   ],
   "outputs": [
    {
     "name": "stdout",
     "output_type": "stream",
     "text": [
      "P(X=3)=0.0521\n",
      "P(X<=10)=0.9015\n",
      "\n"
     ]
    }
   ],
   "execution_count": 50
  },
  {
   "cell_type": "code",
   "id": "21e9f41c",
   "metadata": {
    "ExecuteTime": {
     "end_time": "2024-05-29T08:43:26.730469Z",
     "start_time": "2024-05-29T08:43:26.723689Z"
    }
   },
   "source": [
    "grader.check(\"Question 2c\")"
   ],
   "outputs": [
    {
     "data": {
      "text/plain": [
       "Question 2c results: All test cases passed!"
      ],
      "text/html": [
       "<p><strong><pre style='display: inline;'>Question 2c</pre></strong> passed! 🙌</p>"
      ]
     },
     "execution_count": 51,
     "metadata": {},
     "output_type": "execute_result"
    }
   ],
   "execution_count": 51
  },
  {
   "cell_type": "markdown",
   "id": "ed9c8c7d-42f8-4661-b564-5c5a81042927",
   "metadata": {},
   "source": [
    "### Question 3a (1 Point): \n",
    "\n",
    "Use the scipy library to define a Binomial distribution with $n = 10$ and $p = 0.1$  (you can use `stats.binom`)\n",
    "Sample $N=1000$ random values from it."
   ]
  },
  {
   "cell_type": "code",
   "id": "b880cf11",
   "metadata": {
    "ExecuteTime": {
     "end_time": "2024-05-29T08:44:54.352054Z",
     "start_time": "2024-05-29T08:44:54.347323Z"
    }
   },
   "source": [
    "from scipy import stats as stats\n",
    "\n",
    "\n",
    "class Question3a:\n",
    "    N = 1000\n",
    "    bin_dist = stats.binom(10, 0.1)  # define the distribution\n",
    "    samples = bin_dist.rvs(N)  # 1000 samples from the distribution"
   ],
   "outputs": [],
   "execution_count": 54
  },
  {
   "cell_type": "code",
   "id": "494c19ef",
   "metadata": {
    "ExecuteTime": {
     "end_time": "2024-05-29T08:44:55.771837Z",
     "start_time": "2024-05-29T08:44:55.764796Z"
    }
   },
   "source": [
    "grader.check(\"Question 3a\")"
   ],
   "outputs": [
    {
     "data": {
      "text/plain": [
       "Question 3a results: All test cases passed!"
      ],
      "text/html": [
       "<p><strong><pre style='display: inline;'>Question 3a</pre></strong> passed! 🌟</p>"
      ]
     },
     "execution_count": 55,
     "metadata": {},
     "output_type": "execute_result"
    }
   ],
   "execution_count": 55
  },
  {
   "cell_type": "markdown",
   "id": "a631a2fc-d88c-40ed-8242-5d275adf1fa8",
   "metadata": {},
   "source": [
    "### Question 3b (1 Point)\n",
    "\n",
    "The variable `samples` contains a thousand samples from a Normal distribution with mean $\\mu = 1$ and $\\sigma = 1$. \n",
    "Estimate the mean from the samples and compute the absolute error to the true mean.  "
   ]
  },
  {
   "cell_type": "code",
   "id": "70a14a87-6499-4bbd-8bb9-ace95d8e9327",
   "metadata": {
    "ExecuteTime": {
     "end_time": "2024-05-29T08:50:39.909885Z",
     "start_time": "2024-05-29T08:50:39.905808Z"
    }
   },
   "source": [
    "class Question3b:\n",
    "    samples = np.random.normal(1, 1, size=1000)\n",
    "    mean_est = np.mean(samples)\n",
    "    abs_err = np.abs(1 - mean_est)"
   ],
   "outputs": [],
   "execution_count": 64
  },
  {
   "cell_type": "code",
   "id": "756edc1f",
   "metadata": {
    "ExecuteTime": {
     "end_time": "2024-05-29T08:50:40.493569Z",
     "start_time": "2024-05-29T08:50:40.487596Z"
    }
   },
   "source": [
    "grader.check(\"Question 3b\")"
   ],
   "outputs": [
    {
     "data": {
      "text/plain": [
       "Question 3b results: All test cases passed!"
      ],
      "text/html": [
       "<p><strong><pre style='display: inline;'>Question 3b</pre></strong> passed! 🍀</p>"
      ]
     },
     "execution_count": 65,
     "metadata": {},
     "output_type": "execute_result"
    }
   ],
   "execution_count": 65
  },
  {
   "cell_type": "markdown",
   "id": "9df35d7a-ee4a-4ab7-8d5b-5bc206d625f4",
   "metadata": {},
   "source": [
    "### Question 3c (1 Point)\n",
    "\n",
    "Use a matplotlib to create a histogram of the given samples in the variable `samples`. Make sure that the histogram represents the density. Use 15 bins. "
   ]
  },
  {
   "cell_type": "code",
   "id": "ae529148-bad4-45dc-9a7e-8e60df8d158f",
   "metadata": {
    "ExecuteTime": {
     "end_time": "2024-05-29T08:52:27.787466Z",
     "start_time": "2024-05-29T08:52:27.527980Z"
    }
   },
   "source": [
    "class Question3c:\n",
    "    samples = np.random.normal(1, 1, size=1000)\n",
    "    density_plot = plt.hist(samples, bins=15, density=True)"
   ],
   "outputs": [
    {
     "data": {
      "text/plain": [
       "<Figure size 640x480 with 1 Axes>"
      ],
      "image/png": "[encoded data removed]"
     },
     "metadata": {},
     "output_type": "display_data"
    }
   ],
   "execution_count": 68
  },
  {
   "cell_type": "code",
   "id": "0d3591bd-3e74-4613-8212-c15b25ef306d",
   "metadata": {
    "ExecuteTime": {
     "end_time": "2024-05-29T08:52:28.464160Z",
     "start_time": "2024-05-29T08:52:28.458022Z"
    }
   },
   "source": [
    "grader.check(\"Question 3c\")"
   ],
   "outputs": [
    {
     "data": {
      "text/plain": [
       "Question 3c results: All test cases passed!"
      ],
      "text/html": [
       "<p><strong><pre style='display: inline;'>Question 3c</pre></strong> passed! 💯</p>"
      ]
     },
     "execution_count": 69,
     "metadata": {},
     "output_type": "execute_result"
    }
   ],
   "execution_count": 69
  },
  {
   "cell_type": "markdown",
   "id": "269f44d2-116d-4b4f-a3fb-6a04e68f17d4",
   "metadata": {},
   "source": [
    "\n",
    "### Question 4a (1 Point)\n",
    "\n",
    "As in the exercise sheet, we are working with the Basel Neighborhood data. \n"
   ]
  },
  {
   "cell_type": "code",
   "id": "9c765b17",
   "metadata": {
    "ExecuteTime": {
     "end_time": "2024-05-29T08:52:35.226767Z",
     "start_time": "2024-05-29T08:52:35.203308Z"
    }
   },
   "source": [
    "bs = pd.read_csv(\"basel_neighborhoods.csv\", sep=\";\")\n",
    "bs.head()"
   ],
   "outputs": [
    {
     "data": {
      "text/plain": [
       "   publikationsjahr  wohnviertel_id     wohnviertel_name  \\\n",
       "0              2015               1  Altstadt Grossbasel   \n",
       "1              2015               2            Vorstädte   \n",
       "2              2015               7           Bruderholz   \n",
       "3              2015               8           Bachletten   \n",
       "4              2015              10               Iselin   \n",
       "\n",
       "   anteil_sozialhilfeempfaenger  anteil_auslaender  \\\n",
       "0                      0.017115           0.251426   \n",
       "1                      0.031635           0.353328   \n",
       "2                      0.017662           0.229827   \n",
       "3                      0.022092           0.210320   \n",
       "4                      0.089462           0.360277   \n",
       "\n",
       "   anteil_personen_ohne_religionszugehoerigkeit  \\\n",
       "0                                      0.517930   \n",
       "1                                      0.532251   \n",
       "2                                      0.458660   \n",
       "3                                      0.455482   \n",
       "4                                      0.445545   \n",
       "\n",
       "   anteil_personen_in_einpersonenhaushalten  gymnasialquote  altersquotient  \\\n",
       "0                                  0.324463        0.777778        0.297921   \n",
       "1                                  0.345813        0.636364        0.374726   \n",
       "2                                  0.166817        0.608108        0.442465   \n",
       "3                                  0.224974        0.609137        0.374629   \n",
       "4                                  0.284152        0.262357        0.260469   \n",
       "\n",
       "   anteil_sesshafte  ...  baujahr_der_wohngebaeude  anteil_einfamilienhaeuser  \\\n",
       "0          0.328851  ...               1825.400406                   0.101626   \n",
       "1          0.279170  ...               1899.097967                   0.075786   \n",
       "2          0.427310  ...               1948.410577                   0.734615   \n",
       "3          0.421825  ...               1934.025590                   0.561775   \n",
       "4          0.331530  ...               1937.165632                   0.167702   \n",
       "\n",
       "   anteil_gruenflaechen  flaeche_pro_wohnung  wohnflaeche_pro_person  \\\n",
       "0              0.066693            90.808059               55.739958   \n",
       "1              0.194198            81.803421               51.200218   \n",
       "2              0.713769           109.383218               50.067809   \n",
       "3              0.408619            93.179580               47.396467   \n",
       "4              0.375125            68.638626               37.648552   \n",
       "\n",
       "   vermoegenssteuer_pro_veranlagung  einkommenssteuer_pro_veranlagung  \\\n",
       "0                       4297.479726                      15795.731129   \n",
       "1                       4902.317140                      14894.945946   \n",
       "2                       8585.686671                      18103.101406   \n",
       "3                       1632.650810                      11363.577884   \n",
       "4                        425.867934                       6405.308048   \n",
       "\n",
       "   erwerbstaetigenquote  arbeitsplaetze_pro_einwohner  arbeitslosenquote  \n",
       "0              0.824263                      4.354447           0.019072  \n",
       "1              0.779869                      4.530718           0.023471  \n",
       "2              0.752834                      0.130144           0.023127  \n",
       "3              0.790006                      0.190061           0.023636  \n",
       "4              0.701177                      0.155020           0.042679  \n",
       "\n",
       "[5 rows x 21 columns]"
      ],
      "text/html": [
       "<div>\n",
       "<style scoped>\n",
       "    .dataframe tbody tr th:only-of-type {\n",
       "        vertical-align: middle;\n",
       "    }\n",
       "\n",
       "    .dataframe tbody tr th {\n",
       "        vertical-align: top;\n",
       "    }\n",
       "\n",
       "    .dataframe thead th {\n",
       "        text-align: right;\n",
       "    }\n",
       "</style>\n",
       "<table border=\"1\" class=\"dataframe\">\n",
       "  <thead>\n",
       "    <tr style=\"text-align: right;\">\n",
       "      <th></th>\n",
       "      <th>publikationsjahr</th>\n",
       "      <th>wohnviertel_id</th>\n",
       "      <th>wohnviertel_name</th>\n",
       "      <th>anteil_sozialhilfeempfaenger</th>\n",
       "      <th>anteil_auslaender</th>\n",
       "      <th>anteil_personen_ohne_religionszugehoerigkeit</th>\n",
       "      <th>anteil_personen_in_einpersonenhaushalten</th>\n",
       "      <th>gymnasialquote</th>\n",
       "      <th>altersquotient</th>\n",
       "      <th>anteil_sesshafte</th>\n",
       "      <th>...</th>\n",
       "      <th>baujahr_der_wohngebaeude</th>\n",
       "      <th>anteil_einfamilienhaeuser</th>\n",
       "      <th>anteil_gruenflaechen</th>\n",
       "      <th>flaeche_pro_wohnung</th>\n",
       "      <th>wohnflaeche_pro_person</th>\n",
       "      <th>vermoegenssteuer_pro_veranlagung</th>\n",
       "      <th>einkommenssteuer_pro_veranlagung</th>\n",
       "      <th>erwerbstaetigenquote</th>\n",
       "      <th>arbeitsplaetze_pro_einwohner</th>\n",
       "      <th>arbeitslosenquote</th>\n",
       "    </tr>\n",
       "  </thead>\n",
       "  <tbody>\n",
       "    <tr>\n",
       "      <th>0</th>\n",
       "      <td>2015</td>\n",
       "      <td>1</td>\n",
       "      <td>Altstadt Grossbasel</td>\n",
       "      <td>0.017115</td>\n",
       "      <td>0.251426</td>\n",
       "      <td>0.517930</td>\n",
       "      <td>0.324463</td>\n",
       "      <td>0.777778</td>\n",
       "      <td>0.297921</td>\n",
       "      <td>0.328851</td>\n",
       "      <td>...</td>\n",
       "      <td>1825.400406</td>\n",
       "      <td>0.101626</td>\n",
       "      <td>0.066693</td>\n",
       "      <td>90.808059</td>\n",
       "      <td>55.739958</td>\n",
       "      <td>4297.479726</td>\n",
       "      <td>15795.731129</td>\n",
       "      <td>0.824263</td>\n",
       "      <td>4.354447</td>\n",
       "      <td>0.019072</td>\n",
       "    </tr>\n",
       "    <tr>\n",
       "      <th>1</th>\n",
       "      <td>2015</td>\n",
       "      <td>2</td>\n",
       "      <td>Vorstädte</td>\n",
       "      <td>0.031635</td>\n",
       "      <td>0.353328</td>\n",
       "      <td>0.532251</td>\n",
       "      <td>0.345813</td>\n",
       "      <td>0.636364</td>\n",
       "      <td>0.374726</td>\n",
       "      <td>0.279170</td>\n",
       "      <td>...</td>\n",
       "      <td>1899.097967</td>\n",
       "      <td>0.075786</td>\n",
       "      <td>0.194198</td>\n",
       "      <td>81.803421</td>\n",
       "      <td>51.200218</td>\n",
       "      <td>4902.317140</td>\n",
       "      <td>14894.945946</td>\n",
       "      <td>0.779869</td>\n",
       "      <td>4.530718</td>\n",
       "      <td>0.023471</td>\n",
       "    </tr>\n",
       "    <tr>\n",
       "      <th>2</th>\n",
       "      <td>2015</td>\n",
       "      <td>7</td>\n",
       "      <td>Bruderholz</td>\n",
       "      <td>0.017662</td>\n",
       "      <td>0.229827</td>\n",
       "      <td>0.458660</td>\n",
       "      <td>0.166817</td>\n",
       "      <td>0.608108</td>\n",
       "      <td>0.442465</td>\n",
       "      <td>0.427310</td>\n",
       "      <td>...</td>\n",
       "      <td>1948.410577</td>\n",
       "      <td>0.734615</td>\n",
       "      <td>0.713769</td>\n",
       "      <td>109.383218</td>\n",
       "      <td>50.067809</td>\n",
       "      <td>8585.686671</td>\n",
       "      <td>18103.101406</td>\n",
       "      <td>0.752834</td>\n",
       "      <td>0.130144</td>\n",
       "      <td>0.023127</td>\n",
       "    </tr>\n",
       "    <tr>\n",
       "      <th>3</th>\n",
       "      <td>2015</td>\n",
       "      <td>8</td>\n",
       "      <td>Bachletten</td>\n",
       "      <td>0.022092</td>\n",
       "      <td>0.210320</td>\n",
       "      <td>0.455482</td>\n",
       "      <td>0.224974</td>\n",
       "      <td>0.609137</td>\n",
       "      <td>0.374629</td>\n",
       "      <td>0.421825</td>\n",
       "      <td>...</td>\n",
       "      <td>1934.025590</td>\n",
       "      <td>0.561775</td>\n",
       "      <td>0.408619</td>\n",
       "      <td>93.179580</td>\n",
       "      <td>47.396467</td>\n",
       "      <td>1632.650810</td>\n",
       "      <td>11363.577884</td>\n",
       "      <td>0.790006</td>\n",
       "      <td>0.190061</td>\n",
       "      <td>0.023636</td>\n",
       "    </tr>\n",
       "    <tr>\n",
       "      <th>4</th>\n",
       "      <td>2015</td>\n",
       "      <td>10</td>\n",
       "      <td>Iselin</td>\n",
       "      <td>0.089462</td>\n",
       "      <td>0.360277</td>\n",
       "      <td>0.445545</td>\n",
       "      <td>0.284152</td>\n",
       "      <td>0.262357</td>\n",
       "      <td>0.260469</td>\n",
       "      <td>0.331530</td>\n",
       "      <td>...</td>\n",
       "      <td>1937.165632</td>\n",
       "      <td>0.167702</td>\n",
       "      <td>0.375125</td>\n",
       "      <td>68.638626</td>\n",
       "      <td>37.648552</td>\n",
       "      <td>425.867934</td>\n",
       "      <td>6405.308048</td>\n",
       "      <td>0.701177</td>\n",
       "      <td>0.155020</td>\n",
       "      <td>0.042679</td>\n",
       "    </tr>\n",
       "  </tbody>\n",
       "</table>\n",
       "<p>5 rows × 21 columns</p>\n",
       "</div>"
      ]
     },
     "execution_count": 70,
     "metadata": {},
     "output_type": "execute_result"
    }
   ],
   "execution_count": 70
  },
  {
   "cell_type": "markdown",
   "id": "9de15333",
   "metadata": {},
   "source": [
    "Compute the correlation coefficient between \"anteil_auslaender\" (fraction of foreigners) and \n",
    "\"anteil_personen_ohne_religionszugehoerigkeit\" (fraction of people not identifying as religious). "
   ]
  },
  {
   "cell_type": "code",
   "id": "977932d0",
   "metadata": {
    "ExecuteTime": {
     "end_time": "2024-05-29T08:54:25.820809Z",
     "start_time": "2024-05-29T08:54:25.816286Z"
    }
   },
   "source": [
    "class Question4a:\n",
    "    corr = bs['anteil_auslaender'].corr(bs['anteil_personen_ohne_religionszugehoerigkeit'])\n",
    "    print(\"correlation = \", corr)"
   ],
   "outputs": [
    {
     "name": "stdout",
     "output_type": "stream",
     "text": [
      "correlation =  -0.4435776414928611\n"
     ]
    }
   ],
   "execution_count": 71
  },
  {
   "cell_type": "code",
   "id": "d1c4a02f",
   "metadata": {
    "ExecuteTime": {
     "end_time": "2024-05-29T08:54:26.812832Z",
     "start_time": "2024-05-29T08:54:26.806122Z"
    }
   },
   "source": [
    "grader.check(\"Question 4a\")"
   ],
   "outputs": [
    {
     "data": {
      "text/plain": [
       "Question 4a results: All test cases passed!"
      ],
      "text/html": [
       "<p><strong><pre style='display: inline;'>Question 4a</pre></strong> passed! 🌈</p>"
      ]
     },
     "execution_count": 72,
     "metadata": {},
     "output_type": "execute_result"
    }
   ],
   "execution_count": 72
  },
  {
   "cell_type": "markdown",
   "id": "559081b3-7c3e-4500-a06b-d82182f89302",
   "metadata": {},
   "source": [
    "### Question 4b (1 Point)\n",
    "\n",
    "Compute the mean and standard deviation of the \"anteil_auslaender\" in the \"publikationsjahr\" 2015."
   ]
  },
  {
   "cell_type": "code",
   "id": "c5ac24f6-2ac5-4364-bf67-7512d1c8725e",
   "metadata": {
    "ExecuteTime": {
     "end_time": "2024-05-29T08:56:34.475966Z",
     "start_time": "2024-05-29T08:56:34.470496Z"
    }
   },
   "source": [
    "class Question4b:\n",
    "    bs_2015 = bs[bs['publikationsjahr'] == 2015]\n",
    "    mean_fraction_foreigners = bs_2015['anteil_auslaender'].mean()\n",
    "    stddev_fraction_foreigners = bs_2015['anteil_auslaender'].std()\n",
    "    print(f\"mean {mean_fraction_foreigners}, standard dev {stddev_fraction_foreigners}\")"
   ],
   "outputs": [
    {
     "name": "stdout",
     "output_type": "stream",
     "text": [
      "mean 0.3508893859952381, standard dev 0.10362685937102915\n"
     ]
    }
   ],
   "execution_count": 73
  },
  {
   "cell_type": "code",
   "id": "3f246016-f873-4401-8f4c-f783d1c6c943",
   "metadata": {
    "ExecuteTime": {
     "end_time": "2024-05-29T08:56:35.414719Z",
     "start_time": "2024-05-29T08:56:35.408989Z"
    }
   },
   "source": [
    "grader.check(\"Question 4b\")"
   ],
   "outputs": [
    {
     "data": {
      "text/plain": [
       "Question 4b results: All test cases passed!"
      ],
      "text/html": [
       "<p><strong><pre style='display: inline;'>Question 4b</pre></strong> passed! 💯</p>"
      ]
     },
     "execution_count": 74,
     "metadata": {},
     "output_type": "execute_result"
    }
   ],
   "execution_count": 74
  },
  {
   "cell_type": "markdown",
   "id": "0a04205e-49d1-4d71-aa4c-eeb5ff2dd5fc",
   "metadata": {},
   "source": [
    "### Question 4c  (1 Points)\n",
    "\n",
    "Compute the probability $P(X - 0.5 > 1.5)$, assuming $X$ follows a standard normal distribution.  "
   ]
  },
  {
   "cell_type": "code",
   "id": "a4e075fb-0f84-49a2-8f30-487ca94e74e3",
   "metadata": {
    "ExecuteTime": {
     "end_time": "2024-05-29T09:03:50.016589Z",
     "start_time": "2024-05-29T09:03:50.011430Z"
    }
   },
   "source": [
    "class Question4c:\n",
    "    std_norm = stats.norm(0, 1)\n",
    "    p_value = std_norm.sf(1.5)\n",
    "    print(p_value)"
   ],
   "outputs": [
    {
     "name": "stdout",
     "output_type": "stream",
     "text": [
      "0.06680720126885807\n"
     ]
    }
   ],
   "execution_count": 75
  },
  {
   "cell_type": "code",
   "id": "154d395c-e151-453b-91da-bcb34cdd1c48",
   "metadata": {
    "ExecuteTime": {
     "end_time": "2024-05-29T09:03:51.458860Z",
     "start_time": "2024-05-29T09:03:51.452328Z"
    }
   },
   "source": [
    "grader.check(\"Question 4c\")"
   ],
   "outputs": [
    {
     "data": {
      "text/plain": [
       "Question 4c results: All test cases passed!"
      ],
      "text/html": [
       "<p><strong><pre style='display: inline;'>Question 4c</pre></strong> passed! 💯</p>"
      ]
     },
     "execution_count": 76,
     "metadata": {},
     "output_type": "execute_result"
    }
   ],
   "execution_count": 76
  },
  {
   "cell_type": "markdown",
   "id": "f57a1de3-b850-4635-bed7-f0c8c9888b9e",
   "metadata": {},
   "source": [
    "### Question 5a: (1 point)\n"
   ]
  },
  {
   "cell_type": "code",
   "id": "c1ca9baa",
   "metadata": {
    "ExecuteTime": {
     "end_time": "2024-05-29T09:04:49.951179Z",
     "start_time": "2024-05-29T09:04:49.635547Z"
    }
   },
   "source": [
    "from sklearn.datasets import load_iris\n",
    "\n",
    "df = load_iris(as_frame=True).data\n",
    "display(df)\n"
   ],
   "outputs": [
    {
     "data": {
      "text/plain": [
       "     sepal length (cm)  sepal width (cm)  petal length (cm)  petal width (cm)\n",
       "0                  5.1               3.5                1.4               0.2\n",
       "1                  4.9               3.0                1.4               0.2\n",
       "2                  4.7               3.2                1.3               0.2\n",
       "3                  4.6               3.1                1.5               0.2\n",
       "4                  5.0               3.6                1.4               0.2\n",
       "..                 ...               ...                ...               ...\n",
       "145                6.7               3.0                5.2               2.3\n",
       "146                6.3               2.5                5.0               1.9\n",
       "147                6.5               3.0                5.2               2.0\n",
       "148                6.2               3.4                5.4               2.3\n",
       "149                5.9               3.0                5.1               1.8\n",
       "\n",
       "[150 rows x 4 columns]"
      ],
      "text/html": [
       "<div>\n",
       "<style scoped>\n",
       "    .dataframe tbody tr th:only-of-type {\n",
       "        vertical-align: middle;\n",
       "    }\n",
       "\n",
       "    .dataframe tbody tr th {\n",
       "        vertical-align: top;\n",
       "    }\n",
       "\n",
       "    .dataframe thead th {\n",
       "        text-align: right;\n",
       "    }\n",
       "</style>\n",
       "<table border=\"1\" class=\"dataframe\">\n",
       "  <thead>\n",
       "    <tr style=\"text-align: right;\">\n",
       "      <th></th>\n",
       "      <th>sepal length (cm)</th>\n",
       "      <th>sepal width (cm)</th>\n",
       "      <th>petal length (cm)</th>\n",
       "      <th>petal width (cm)</th>\n",
       "    </tr>\n",
       "  </thead>\n",
       "  <tbody>\n",
       "    <tr>\n",
       "      <th>0</th>\n",
       "      <td>5.1</td>\n",
       "      <td>3.5</td>\n",
       "      <td>1.4</td>\n",
       "      <td>0.2</td>\n",
       "    </tr>\n",
       "    <tr>\n",
       "      <th>1</th>\n",
       "      <td>4.9</td>\n",
       "      <td>3.0</td>\n",
       "      <td>1.4</td>\n",
       "      <td>0.2</td>\n",
       "    </tr>\n",
       "    <tr>\n",
       "      <th>2</th>\n",
       "      <td>4.7</td>\n",
       "      <td>3.2</td>\n",
       "      <td>1.3</td>\n",
       "      <td>0.2</td>\n",
       "    </tr>\n",
       "    <tr>\n",
       "      <th>3</th>\n",
       "      <td>4.6</td>\n",
       "      <td>3.1</td>\n",
       "      <td>1.5</td>\n",
       "      <td>0.2</td>\n",
       "    </tr>\n",
       "    <tr>\n",
       "      <th>4</th>\n",
       "      <td>5.0</td>\n",
       "      <td>3.6</td>\n",
       "      <td>1.4</td>\n",
       "      <td>0.2</td>\n",
       "    </tr>\n",
       "    <tr>\n",
       "      <th>...</th>\n",
       "      <td>...</td>\n",
       "      <td>...</td>\n",
       "      <td>...</td>\n",
       "      <td>...</td>\n",
       "    </tr>\n",
       "    <tr>\n",
       "      <th>145</th>\n",
       "      <td>6.7</td>\n",
       "      <td>3.0</td>\n",
       "      <td>5.2</td>\n",
       "      <td>2.3</td>\n",
       "    </tr>\n",
       "    <tr>\n",
       "      <th>146</th>\n",
       "      <td>6.3</td>\n",
       "      <td>2.5</td>\n",
       "      <td>5.0</td>\n",
       "      <td>1.9</td>\n",
       "    </tr>\n",
       "    <tr>\n",
       "      <th>147</th>\n",
       "      <td>6.5</td>\n",
       "      <td>3.0</td>\n",
       "      <td>5.2</td>\n",
       "      <td>2.0</td>\n",
       "    </tr>\n",
       "    <tr>\n",
       "      <th>148</th>\n",
       "      <td>6.2</td>\n",
       "      <td>3.4</td>\n",
       "      <td>5.4</td>\n",
       "      <td>2.3</td>\n",
       "    </tr>\n",
       "    <tr>\n",
       "      <th>149</th>\n",
       "      <td>5.9</td>\n",
       "      <td>3.0</td>\n",
       "      <td>5.1</td>\n",
       "      <td>1.8</td>\n",
       "    </tr>\n",
       "  </tbody>\n",
       "</table>\n",
       "<p>150 rows × 4 columns</p>\n",
       "</div>"
      ]
     },
     "metadata": {},
     "output_type": "display_data"
    }
   ],
   "execution_count": 77
  },
  {
   "cell_type": "markdown",
   "id": "039395c7",
   "metadata": {},
   "source": [
    "Use scikit learns standard scaler to scale the data such that each column has standard deviation 1 and mean 0."
   ]
  },
  {
   "cell_type": "code",
   "id": "6038d887-a1f7-4278-9d2c-523f324ae033",
   "metadata": {
    "ExecuteTime": {
     "end_time": "2024-05-29T09:06:03.482410Z",
     "start_time": "2024-05-29T09:06:03.475624Z"
    }
   },
   "source": [
    "\n",
    "class Question5a:\n",
    "    scaler = StandardScaler()\n",
    "    scaler.fit(df)\n",
    "    scaled_df = scaler.transform(df)\n"
   ],
   "outputs": [],
   "execution_count": 80
  },
  {
   "cell_type": "code",
   "id": "0d1a03d8-a902-4049-b526-e05b164185b3",
   "metadata": {
    "scrolled": true,
    "ExecuteTime": {
     "end_time": "2024-05-29T09:06:04.483861Z",
     "start_time": "2024-05-29T09:06:04.476827Z"
    }
   },
   "source": [
    "grader.check(\"Question 5a\")"
   ],
   "outputs": [
    {
     "data": {
      "text/plain": [
       "Question 5a results: All test cases passed!"
      ],
      "text/html": [
       "<p><strong><pre style='display: inline;'>Question 5a</pre></strong> passed! 🍀</p>"
      ]
     },
     "execution_count": 81,
     "metadata": {},
     "output_type": "execute_result"
    }
   ],
   "execution_count": 81
  },
  {
   "cell_type": "markdown",
   "id": "ddb98b80-f0f0-4543-8070-2786b2932672",
   "metadata": {},
   "source": [
    "### Question 5b\n",
    "\n",
    "Train a linear regression model to predict `petal width` from the three other variables.\n",
    "You can use the original dataset `df`. Don't use the scaled dataset from the previous exercise. "
   ]
  },
  {
   "cell_type": "code",
   "id": "5a6e6bb2-a0e5-4d8c-b3d3-be44ad690029",
   "metadata": {
    "ExecuteTime": {
     "end_time": "2024-05-29T09:08:23.478564Z",
     "start_time": "2024-05-29T09:08:22.420365Z"
    }
   },
   "source": [
    "from sklearn.linear_model import LinearRegression\n",
    "\n",
    "\n",
    "class Question5b:\n",
    "    X = df[['sepal length (cm)', 'sepal width (cm)',\n",
    "            'petal length (cm)']]  # sepal length, sepal width and petal length    \n",
    "    y = df['petal width (cm)']  # petal width\n",
    "    regr = LinearRegression()\n",
    "    regr.fit(X, y)  # regression model"
   ],
   "outputs": [],
   "execution_count": 82
  },
  {
   "cell_type": "code",
   "id": "d20ff0e2",
   "metadata": {
    "ExecuteTime": {
     "end_time": "2024-05-29T09:08:24.182309Z",
     "start_time": "2024-05-29T09:08:24.174052Z"
    }
   },
   "source": [
    "grader.check(\"Question 5b\")"
   ],
   "outputs": [
    {
     "data": {
      "text/plain": [
       "Question 5b results: All test cases passed!"
      ],
      "text/html": [
       "<p><strong><pre style='display: inline;'>Question 5b</pre></strong> passed! 🎉</p>"
      ]
     },
     "execution_count": 83,
     "metadata": {},
     "output_type": "execute_result"
    }
   ],
   "execution_count": 83
  },
  {
   "cell_type": "markdown",
   "id": "f62e2ff3",
   "metadata": {},
   "source": [
    "### Question 5c (1 Point)\n",
    "\n",
    "Define a MLPRegressor with 2 layers. The first one should have 10 neurons and \n",
    "the second one 7. Use `tanh` as the activation function. \n",
    "\n",
    "Remark: You don't need to fit any data. Simply define the regressor. To find out how to \n",
    "set the activation function, use pythons help function. "
   ]
  },
  {
   "cell_type": "code",
   "id": "6875a100-42a2-4b29-b043-ba9b6606b939",
   "metadata": {
    "ExecuteTime": {
     "end_time": "2024-05-29T09:09:22.880507Z",
     "start_time": "2024-05-29T09:09:22.872405Z"
    }
   },
   "source": [
    "from sklearn.neural_network import MLPRegressor\n",
    "\n",
    "\n",
    "class Question5c:\n",
    "    mlp = MLPRegressor(hidden_layer_sizes=(10, 7), activation='tanh')\n"
   ],
   "outputs": [],
   "execution_count": 84
  },
  {
   "cell_type": "code",
   "id": "c6919c72",
   "metadata": {
    "ExecuteTime": {
     "end_time": "2024-05-29T09:09:23.473234Z",
     "start_time": "2024-05-29T09:09:23.467749Z"
    }
   },
   "source": [
    "grader.check(\"Question 5c\")"
   ],
   "outputs": [
    {
     "data": {
      "text/plain": [
       "Question 5c results: All test cases passed!"
      ],
      "text/html": [
       "<p><strong><pre style='display: inline;'>Question 5c</pre></strong> passed! 🚀</p>"
      ]
     },
     "execution_count": 85,
     "metadata": {},
     "output_type": "execute_result"
    }
   ],
   "execution_count": 85
  },
  {
   "cell_type": "code",
   "id": "08050a0e",
   "metadata": {
    "ExecuteTime": {
     "end_time": "2024-05-29T09:09:24.635841Z",
     "start_time": "2024-05-29T09:09:24.605771Z"
    }
   },
   "source": [
    "grader.check_all()"
   ],
   "outputs": [
    {
     "data": {
      "text/plain": [
       "Question 1a results: All test cases passed!\n",
       "\n",
       "Question 1b results: All test cases passed!\n",
       "\n",
       "Question 1c results: All test cases passed!\n",
       "\n",
       "Question 2a results: All test cases passed!\n",
       "\n",
       "Question 2b results: All test cases passed!\n",
       "\n",
       "Question 2c results: All test cases passed!\n",
       "\n",
       "Question 3a results: All test cases passed!\n",
       "\n",
       "Question 3b results: All test cases passed!\n",
       "\n",
       "Question 3c results: All test cases passed!\n",
       "\n",
       "Question 4a results: All test cases passed!\n",
       "\n",
       "Question 4b results: All test cases passed!\n",
       "\n",
       "Question 4c results: All test cases passed!\n",
       "\n",
       "Question 5a results: All test cases passed!\n",
       "\n",
       "Question 5b results: All test cases passed!\n",
       "\n",
       "Question 5c results: All test cases passed!"
      ]
     },
     "execution_count": 86,
     "metadata": {},
     "output_type": "execute_result"
    }
   ],
   "execution_count": 86
  },
  {
   "metadata": {},
   "cell_type": "code",
   "outputs": [],
   "execution_count": null,
   "source": "",
   "id": "9a53b5022c332f5a"
  }
 ],
 "metadata": {
  "kernelspec": {
   "display_name": "Python 3 (ipykernel)",
   "language": "python",
   "name": "python3"
  },
  "language_info": {
   "codemirror_mode": {
    "name": "ipython",
    "version": 3
   },
   "file_extension": ".py",
   "mimetype": "text/x-python",
   "name": "python",
   "nbconvert_exporter": "python",
   "pygments_lexer": "ipython3",
   "version": "3.10.11"
  }
 },
 "nbformat": 4,
 "nbformat_minor": 5
}
