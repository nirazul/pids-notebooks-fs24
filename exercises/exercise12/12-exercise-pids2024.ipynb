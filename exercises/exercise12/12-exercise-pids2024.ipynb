{
 "cells": [
  {
   "cell_type": "code",
   "execution_count": null,
   "id": "c1924d69-ad5a-4b81-92e1-e93833e224b0",
   "metadata": {},
   "outputs": [],
   "source": [
    "# Initialize Otter\n",
    "import otter\n",
    "grader = otter.Notebook(\"12-exercise-pids2024.ipynb\")"
   ]
  },
  {
   "cell_type": "markdown",
   "id": "670d3603-9d27-40f8-af72-4ffc9d828d0f",
   "metadata": {},
   "source": [
    "# Exercise sheet 12\n",
    "\n",
    "**Points: 15**\n",
    "\n",
    "In this exercise sheet you can train for the exam by solving selected exercises from \n",
    "the \"insurance tests\".\n",
    "\n",
    "This notebook can be automatically graded using Otter grader. To find how many points you get, simply run `grader.check_all()` from a new cell. "
   ]
  },
  {
   "cell_type": "code",
   "execution_count": null,
   "id": "de6a078f-c508-48af-8b53-fb060ef6ec27",
   "metadata": {},
   "outputs": [],
   "source": [
    "import numpy as np\n",
    "import pandas as pd\n",
    "import matplotlib.pyplot as plt\n",
    "import seaborn as sns\n",
    "import pandas as pd\n",
    "import scipy.stats as stats\n",
    "from sklearn.preprocessing import StandardScaler"
   ]
  },
  {
   "cell_type": "markdown",
   "id": "d7efb4a7-42cc-4189-bd04-fc15cfb43755",
   "metadata": {},
   "source": [
    "### Question 1a: Tidy dataset (1 Point)\n",
    "\n",
    "The following dataset is not tidy. Please make it tidy by melting it. It should have a new column *subject* and a new column *score*.  "
   ]
  },
  {
   "cell_type": "code",
   "execution_count": null,
   "id": "5e9e8573-e75e-4ec6-84e8-0790f479fdc6",
   "metadata": {},
   "outputs": [],
   "source": [
    "data = {\n",
    "    'Student_ID': ['S001', 'S002', 'S003', 'S004'],\n",
    "    'Name': ['Alex', 'Bryan', 'Cathy', 'Diana'],\n",
    "    'Math': [88, 72, 94, 89],\n",
    "    'Science': [84, 76, 88, 92],\n",
    "    'English': [90, 82, 95, 88]\n",
    "}\n",
    "\n",
    "grades = pd.DataFrame(data)\n",
    "display(grades)"
   ]
  },
  {
   "cell_type": "code",
   "execution_count": null,
   "id": "c2bc5a1c",
   "metadata": {},
   "outputs": [],
   "source": [
    "class Question1a:\n",
    "    \n",
    "    grades_tidy = ...\n",
    "    display(grades_tidy)"
   ]
  },
  {
   "cell_type": "code",
   "execution_count": null,
   "id": "39076448",
   "metadata": {},
   "outputs": [],
   "source": [
    "grader.check(\"Question 1a\")"
   ]
  },
  {
   "cell_type": "markdown",
   "id": "64e64831-703d-431c-b545-b4f8b3bc39a7",
   "metadata": {},
   "source": [
    "### Question 1b (1 Point): \n",
    "\n",
    "Sort the values in the following dataframe according to descending temperatures."
   ]
  },
  {
   "cell_type": "code",
   "execution_count": null,
   "id": "296ce72b",
   "metadata": {},
   "outputs": [],
   "source": [
    "data = {\n",
    "    'Date': ['2023-03-05', '2023-03-03', '2023-03-04', '2023-03-05', '2023-03-03', '2023-03-04', '2023-03-02', '2023-03-01', '2023-03-02', '2023-03-01', '2023-03-05', '2023-03-03', '2023-03-04', '2023-03-02', '2023-03-01'],\n",
    "    'City': ['New York', 'New York', 'New York', 'Los Angeles', 'Los Angeles', 'Los Angeles', 'Los Angeles', 'Los Angeles', 'New York', 'New York', 'Chicago', 'Chicago', 'Chicago', 'Chicago', 'Chicago'],\n",
    "    'Temperature': [12, 10, 11, 19, 18, 20, 17, 16, 9, 8, 5, 7, 6, 4, 3]\n",
    "}\n",
    "\n",
    "temperatures = pd.DataFrame(data)\n",
    "display(temperatures)"
   ]
  },
  {
   "cell_type": "code",
   "execution_count": null,
   "id": "509b8943-1d41-45dc-9741-58fa217bf7c4",
   "metadata": {},
   "outputs": [],
   "source": [
    "class Question1b:\n",
    "    \n",
    "    temperatures_sorted = ... # your answer\n",
    "    display(temperatures_sorted)"
   ]
  },
  {
   "cell_type": "code",
   "execution_count": null,
   "id": "1376d191",
   "metadata": {},
   "outputs": [],
   "source": [
    "grader.check(\"Question 1b\")"
   ]
  },
  {
   "cell_type": "markdown",
   "id": "cf9ba6c2-44ca-4bd2-8991-e4f6117dd149",
   "metadata": {},
   "source": [
    "### Question 1c (1 Point)\n",
    "\n",
    "Create a new dataframe `cold_temperatures`, which contains only the rows, where the temperature is below 15 degrees. "
   ]
  },
  {
   "cell_type": "code",
   "execution_count": null,
   "id": "a62beab6-9521-4cc1-b0a1-3d00601e1ac5",
   "metadata": {},
   "outputs": [],
   "source": [
    "class Question1c:\n",
    "    \n",
    "    cold_temperatures = ...  # your answer\n",
    "    display(cold_temperatures)"
   ]
  },
  {
   "cell_type": "code",
   "execution_count": null,
   "id": "c2f6c03d-584c-4bf4-8bd7-00d0870cbc4d",
   "metadata": {},
   "outputs": [],
   "source": [
    "grader.check(\"Question 1c\")"
   ]
  },
  {
   "cell_type": "markdown",
   "id": "ac1c2738",
   "metadata": {},
   "source": [
    "### Question 2a (1 Point)\n",
    "\n",
    "We roll two standard dice. What is the probability ($\\mathbb{P}$) for the sum of the two dice being lower than 9?\n",
    "Put the result in a variable named `probability_lower_9` and make sure to write the probability as a fraction."
   ]
  },
  {
   "cell_type": "code",
   "execution_count": null,
   "id": "259aba7b",
   "metadata": {},
   "outputs": [],
   "source": [
    "class Question2a:\n",
    "    ...\n",
    "    probability_lower_9 = ...\n",
    "    print(\"probability: \", probability_lower_9)"
   ]
  },
  {
   "cell_type": "code",
   "execution_count": null,
   "id": "0b64edf3",
   "metadata": {},
   "outputs": [],
   "source": [
    "grader.check(\"Question 2a\")"
   ]
  },
  {
   "cell_type": "markdown",
   "id": "749e50c8-18d6-4272-a474-b786e1176e7f",
   "metadata": {},
   "source": [
    "### Question 2b (1 Point)\n",
    "\n",
    "In this question we will work with the `titanic` dataset, which contains data regarding passangers on the titanic. "
   ]
  },
  {
   "cell_type": "code",
   "execution_count": null,
   "id": "423923b7-068e-4921-8d44-fde51ed51a80",
   "metadata": {},
   "outputs": [],
   "source": [
    "titanic_df = sns.load_dataset('titanic')"
   ]
  },
  {
   "cell_type": "markdown",
   "id": "6a663cda",
   "metadata": {},
   "source": [
    "\n",
    "Estimate the probability that a female passenger survived the disaster (`alive == \"yes\"`). \n",
    "\n",
    "**Reminder:** the conditional probability is defined as:\n",
    "$$ \\mathbb{P}(A|B) = \\frac{\\mathbb{P}(A \\cap B)}{\\mathbb{P}(B)}$$"
   ]
  },
  {
   "cell_type": "code",
   "execution_count": null,
   "id": "0cde6c82",
   "metadata": {},
   "outputs": [],
   "source": [
    "class Question2b:\n",
    "     \n",
    "    female_survival_prob = ...\n",
    "    \n",
    "    print(\"probability that a female passenger survived \", female_survival_prob)"
   ]
  },
  {
   "cell_type": "code",
   "execution_count": null,
   "id": "988cbf5e-fd5b-46fe-82c2-f3d9f8dfaa62",
   "metadata": {},
   "outputs": [],
   "source": [
    "grader.check(\"Question 2b\")"
   ]
  },
  {
   "cell_type": "markdown",
   "id": "62059330-186c-4e5e-b24b-4567f8126d21",
   "metadata": {},
   "source": [
    "### Question 2c (1 Point)\n",
    "\n",
    "Let $X$ denote a random variable with a poisson distribution, defined as follows:\n"
   ]
  },
  {
   "cell_type": "code",
   "execution_count": null,
   "id": "e8d3bbb5",
   "metadata": {},
   "outputs": [],
   "source": [
    "lmbda = 7 \n",
    "X = stats.poisson(lmbda)"
   ]
  },
  {
   "cell_type": "markdown",
   "id": "688a8c8f",
   "metadata": {},
   "source": [
    "Calculate the probabilities $P(𝑋=3)$ and $P(𝑋 \\le 10)$ "
   ]
  },
  {
   "cell_type": "code",
   "execution_count": null,
   "id": "0ac0cccc",
   "metadata": {},
   "outputs": [],
   "source": [
    "class Question2c:\n",
    "    p_xe3 = ...\n",
    "    p_xlt10 = ...\n",
    "    \n",
    "    print('P(X=3)={:.4f}\\nP(X<=10)={:.4f}\\n'.format(p_xe3, p_xlt10))\n",
    "    "
   ]
  },
  {
   "cell_type": "code",
   "execution_count": null,
   "id": "21e9f41c",
   "metadata": {},
   "outputs": [],
   "source": [
    "grader.check(\"Question 2c\")"
   ]
  },
  {
   "cell_type": "markdown",
   "id": "ed9c8c7d-42f8-4661-b564-5c5a81042927",
   "metadata": {},
   "source": [
    "### Question 3a (1 Point): \n",
    "\n",
    "Use the scipy library to define a Binomial distribution with $n = 10$ and $p = 0.1$  (you can use `stats.binom`)\n",
    "Sample $N=1000$ random values from it."
   ]
  },
  {
   "cell_type": "code",
   "execution_count": null,
   "id": "b880cf11",
   "metadata": {},
   "outputs": [],
   "source": [
    "from scipy import stats as stats\n",
    "\n",
    "class Question3a:\n",
    "    N = 1000\n",
    "    bin_dist = ... # define the distribution\n",
    "    samples = ... # 1000 samples from the distribution"
   ]
  },
  {
   "cell_type": "code",
   "execution_count": null,
   "id": "494c19ef",
   "metadata": {},
   "outputs": [],
   "source": [
    "grader.check(\"Question 3a\")"
   ]
  },
  {
   "cell_type": "markdown",
   "id": "a631a2fc-d88c-40ed-8242-5d275adf1fa8",
   "metadata": {},
   "source": [
    "### Question 3b (1 Point)\n",
    "\n",
    "The variable `samples` contains a thousand samples from a Normal distribution with mean $\\mu = 1$ and $\\sigma = 1$. \n",
    "Estimate the mean from the samples and compute the absolute error to the true mean.  "
   ]
  },
  {
   "cell_type": "code",
   "execution_count": null,
   "id": "70a14a87-6499-4bbd-8bb9-ace95d8e9327",
   "metadata": {},
   "outputs": [],
   "source": [
    "class Question3b:\n",
    "    samples = np.random.normal(1, 1, size=1000)\n",
    "    mean_est = ...\n",
    "    abs_err = ..."
   ]
  },
  {
   "cell_type": "code",
   "execution_count": null,
   "id": "756edc1f",
   "metadata": {},
   "outputs": [],
   "source": [
    "grader.check(\"Question 3b\")"
   ]
  },
  {
   "cell_type": "markdown",
   "id": "9df35d7a-ee4a-4ab7-8d5b-5bc206d625f4",
   "metadata": {},
   "source": [
    "### Question 3c (1 Point)\n",
    "\n",
    "Use a matplotlib to create a histogram of the given samples in the variable `samples`. Make sure that the histogram represents the density. Use 15 bins. "
   ]
  },
  {
   "cell_type": "code",
   "execution_count": null,
   "id": "ae529148-bad4-45dc-9a7e-8e60df8d158f",
   "metadata": {},
   "outputs": [],
   "source": [
    "class Question3c:\n",
    "    samples = np.random.normal(1, 1, size=1000)\n",
    "    density_plot = ..."
   ]
  },
  {
   "cell_type": "code",
   "execution_count": null,
   "id": "0d3591bd-3e74-4613-8212-c15b25ef306d",
   "metadata": {},
   "outputs": [],
   "source": [
    "grader.check(\"Question 3c\")"
   ]
  },
  {
   "cell_type": "markdown",
   "id": "269f44d2-116d-4b4f-a3fb-6a04e68f17d4",
   "metadata": {},
   "source": [
    "\n",
    "### Question 4a (1 Point)\n",
    "\n",
    "As in the exercise sheet, we are working with the Basel Neighborhood data. \n"
   ]
  },
  {
   "cell_type": "code",
   "execution_count": null,
   "id": "9c765b17",
   "metadata": {},
   "outputs": [],
   "source": [
    "bs = pd.read_csv(\"basel_neighborhoods.csv\", sep=\";\")\n",
    "bs.head()"
   ]
  },
  {
   "cell_type": "markdown",
   "id": "9de15333",
   "metadata": {},
   "source": [
    "Compute the correlation coefficient between \"anteil_auslaender\" (fraction of foreigners) and \n",
    "\"anteil_personen_ohne_religionszugehoerigkeit\" (fraction of people not identifying as religious). "
   ]
  },
  {
   "cell_type": "code",
   "execution_count": null,
   "id": "977932d0",
   "metadata": {},
   "outputs": [],
   "source": [
    "class Question4a:\n",
    "    corr = ...\n",
    "    print(\"correlation = \", corr)"
   ]
  },
  {
   "cell_type": "code",
   "execution_count": null,
   "id": "d1c4a02f",
   "metadata": {},
   "outputs": [],
   "source": [
    "grader.check(\"Question 4a\")"
   ]
  },
  {
   "cell_type": "markdown",
   "id": "559081b3-7c3e-4500-a06b-d82182f89302",
   "metadata": {},
   "source": [
    "### Question 4b (1 Point)\n",
    "\n",
    "Compute the mean and standard deviation of the \"anteil_auslaender\" in the \"publikationsjahr\" 2015."
   ]
  },
  {
   "cell_type": "code",
   "execution_count": null,
   "id": "c5ac24f6-2ac5-4364-bf67-7512d1c8725e",
   "metadata": {},
   "outputs": [],
   "source": [
    "class Question4b:\n",
    "    ...\n",
    "    mean_fraction_foreigners = ...\n",
    "    stddev_fraction_foreigners = ...\n",
    "    print(f\"mean {mean_fraction_foreigners}, standard dev {stddev_fraction_foreigners}\")        "
   ]
  },
  {
   "cell_type": "code",
   "execution_count": null,
   "id": "3f246016-f873-4401-8f4c-f783d1c6c943",
   "metadata": {},
   "outputs": [],
   "source": [
    "grader.check(\"Question 4b\")"
   ]
  },
  {
   "cell_type": "markdown",
   "id": "0a04205e-49d1-4d71-aa4c-eeb5ff2dd5fc",
   "metadata": {},
   "source": [
    "### Question 4c  (1 Points)\n",
    "\n",
    "Compute the probability $P(X - 0.5 > 1.5)$, assuming $X$ follows a standard normal distribution.  "
   ]
  },
  {
   "cell_type": "code",
   "execution_count": null,
   "id": "a4e075fb-0f84-49a2-8f30-487ca94e74e3",
   "metadata": {},
   "outputs": [],
   "source": [
    "class Question4c:\n",
    "    ...\n",
    "    p_value = ...\n",
    "    print(p_value)"
   ]
  },
  {
   "cell_type": "code",
   "execution_count": null,
   "id": "154d395c-e151-453b-91da-bcb34cdd1c48",
   "metadata": {},
   "outputs": [],
   "source": [
    "grader.check(\"Question 4c\")"
   ]
  },
  {
   "cell_type": "markdown",
   "id": "f57a1de3-b850-4635-bed7-f0c8c9888b9e",
   "metadata": {},
   "source": [
    "### Question 5a: (1 point)\n"
   ]
  },
  {
   "cell_type": "code",
   "execution_count": null,
   "id": "c1ca9baa",
   "metadata": {},
   "outputs": [],
   "source": [
    "from sklearn.datasets import load_iris\n",
    "\n",
    "df = load_iris(as_frame = True).data\n",
    "display(df)\n"
   ]
  },
  {
   "cell_type": "markdown",
   "id": "039395c7",
   "metadata": {},
   "source": [
    "Use scikit learns standard scaler to scale the data such that each column has standard deviation 1 and mean 0."
   ]
  },
  {
   "cell_type": "code",
   "execution_count": null,
   "id": "6038d887-a1f7-4278-9d2c-523f324ae033",
   "metadata": {},
   "outputs": [],
   "source": [
    "\n",
    "class Question5a:\n",
    "    scaler = StandardScaler()\n",
    "    ...\n",
    "    scaled_df = ...\n",
    "    "
   ]
  },
  {
   "cell_type": "code",
   "execution_count": null,
   "id": "0d1a03d8-a902-4049-b526-e05b164185b3",
   "metadata": {
    "scrolled": true
   },
   "outputs": [],
   "source": [
    "grader.check(\"Question 5a\")"
   ]
  },
  {
   "cell_type": "markdown",
   "id": "ddb98b80-f0f0-4543-8070-2786b2932672",
   "metadata": {},
   "source": [
    "### Question 5b\n",
    "\n",
    "Train a linear regression model to predict `petal width` from the three other variables.\n",
    "You can use the original dataset `df`. Don't use the scaled dataset from the previous exercise. "
   ]
  },
  {
   "cell_type": "code",
   "execution_count": null,
   "id": "5a6e6bb2-a0e5-4d8c-b3d3-be44ad690029",
   "metadata": {},
   "outputs": [],
   "source": [
    "from sklearn.linear_model import LinearRegression\n",
    "\n",
    "class Question5b:\n",
    "    X = ...  # sepal length, sepal width and petal length    \n",
    "    y = ...  # petal width\n",
    "    regr = ...   # regression model\n",
    "    ..."
   ]
  },
  {
   "cell_type": "code",
   "execution_count": null,
   "id": "d20ff0e2",
   "metadata": {},
   "outputs": [],
   "source": [
    "grader.check(\"Question 5b\")"
   ]
  },
  {
   "cell_type": "markdown",
   "id": "f62e2ff3",
   "metadata": {},
   "source": [
    "### Question 5c (1 Point)\n",
    "\n",
    "Define a MLPRegressor with 2 layers. The first one should have 10 neurons and \n",
    "the second one 7. Use `tanh` as the activation function. \n",
    "\n",
    "Remark: You don't need to fit any data. Simply define the regressor. To find out how to \n",
    "set the activation function, use pythons help function. "
   ]
  },
  {
   "cell_type": "code",
   "execution_count": null,
   "id": "6875a100-42a2-4b29-b043-ba9b6606b939",
   "metadata": {},
   "outputs": [],
   "source": [
    "from sklearn.neural_network import MLPRegressor\n",
    "\n",
    "class Question5c:\n",
    "    mlp = ...\n",
    "    "
   ]
  },
  {
   "cell_type": "code",
   "execution_count": null,
   "id": "c6919c72",
   "metadata": {},
   "outputs": [],
   "source": [
    "grader.check(\"Question 5c\")"
   ]
  },
  {
   "cell_type": "code",
   "execution_count": null,
   "id": "08050a0e",
   "metadata": {},
   "outputs": [],
   "source": [
    "grader.check_all()"
   ]
  }
 ],
 "metadata": {
  "kernelspec": {
   "display_name": "Python 3 (ipykernel)",
   "language": "python",
   "name": "conda-env-python_pids_2024_env-py"
  },
  "language_info": {
   "codemirror_mode": {
    "name": "ipython",
    "version": 3
   },
   "file_extension": ".py",
   "mimetype": "text/x-python",
   "name": "python",
   "nbconvert_exporter": "python",
   "pygments_lexer": "ipython3",
   "version": "3.10.11"
  }
 },
 "nbformat": 4,
 "nbformat_minor": 5
}
