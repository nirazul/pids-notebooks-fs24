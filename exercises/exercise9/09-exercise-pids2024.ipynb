{
 "cells": [
  {
   "cell_type": "code",
   "id": "62d1d055-f161-42e5-b68b-e37db654bdd1",
   "metadata": {
    "ExecuteTime": {
     "end_time": "2024-05-01T11:31:21.329185Z",
     "start_time": "2024-05-01T11:31:21.318857Z"
    }
   },
   "source": [
    "\n",
    "# Initialize Otter\n",
    "import otter\n",
    "\n",
    "\n",
    "grader = otter.Notebook(\"09-exercise-pids2024.ipynb\")"
   ],
   "outputs": [],
   "execution_count": 103
  },
  {
   "cell_type": "markdown",
   "id": "d04746a8",
   "metadata": {},
   "source": [
    "# Exercise sheet 9\n",
    "**Hello everyone!**\n",
    "\n",
    "**Points: 15**\n",
    "\n",
    "Topics of this exercise sheet are:\n",
    "* P-Values\n",
    "* Correlations\n",
    "\n",
    "Please let us know if you have questions or problems! <br>\n",
    "Contact us during the exercise session or on [Piazza](https://piazza.com/unibas.ch/spring2024/63982).\n",
    "\n",
    "**Automatic Feedback**\n",
    "\n",
    "This notebook can be automatically graded using Otter grader. To find how many points you get, simply run `grader.check_all()` from a new cell. "
   ]
  },
  {
   "cell_type": "code",
   "id": "a5ea3e5b",
   "metadata": {
    "ExecuteTime": {
     "end_time": "2024-05-01T11:31:21.564223Z",
     "start_time": "2024-05-01T11:31:21.560245Z"
    }
   },
   "source": [
    "import pandas as pd\n",
    "import seaborn as sns\n",
    "import matplotlib.pyplot as plt\n",
    "import numpy as np\n",
    "from scipy import stats\n",
    "from scipy.stats import norm\n",
    "\n",
    "\n",
    "print(sns.__version__, type(plt), type(stats))"
   ],
   "outputs": [
    {
     "name": "stdout",
     "output_type": "stream",
     "text": [
      "0.12.2 <class 'module'> <class 'module'>\n"
     ]
    }
   ],
   "execution_count": 104
  },
  {
   "cell_type": "markdown",
   "id": "b53424b9",
   "metadata": {},
   "source": [
    "![Basel](basel.jpg)"
   ]
  },
  {
   "cell_type": "markdown",
   "id": "fcdfa59a",
   "metadata": {},
   "source": [
    "# Basel's neighborhoods\n",
    "We are working with a dataset containing information about Basel and its neighborhoods. You can find it here: https://opendata.swiss/de/dataset/kennzahlen-zu-den-basler-wohnvierteln-und-landgemeinden. It's also uploaded as a csv to this folder."
   ]
  },
  {
   "cell_type": "code",
   "id": "8351c0d5",
   "metadata": {
    "ExecuteTime": {
     "end_time": "2024-05-01T11:31:21.602307Z",
     "start_time": "2024-05-01T11:31:21.580557Z"
    }
   },
   "source": [
    "bs = pd.read_csv(\"basel_neighborhoods.csv\", sep=\";\")\n",
    "bs.head()"
   ],
   "outputs": [
    {
     "data": {
      "text/plain": [
       "   publikationsjahr  wohnviertel_id     wohnviertel_name  \\\n",
       "0              2015               1  Altstadt Grossbasel   \n",
       "1              2015               2            Vorstädte   \n",
       "2              2015               7           Bruderholz   \n",
       "3              2015               8           Bachletten   \n",
       "4              2015              10               Iselin   \n",
       "\n",
       "   anteil_sozialhilfeempfaenger  anteil_auslaender  \\\n",
       "0                      0.017115           0.251426   \n",
       "1                      0.031635           0.353328   \n",
       "2                      0.017662           0.229827   \n",
       "3                      0.022092           0.210320   \n",
       "4                      0.089462           0.360277   \n",
       "\n",
       "   anteil_personen_ohne_religionszugehoerigkeit  \\\n",
       "0                                      0.517930   \n",
       "1                                      0.532251   \n",
       "2                                      0.458660   \n",
       "3                                      0.455482   \n",
       "4                                      0.445545   \n",
       "\n",
       "   anteil_personen_in_einpersonenhaushalten  gymnasialquote  altersquotient  \\\n",
       "0                                  0.324463        0.777778        0.297921   \n",
       "1                                  0.345813        0.636364        0.374726   \n",
       "2                                  0.166817        0.608108        0.442465   \n",
       "3                                  0.224974        0.609137        0.374629   \n",
       "4                                  0.284152        0.262357        0.260469   \n",
       "\n",
       "   anteil_sesshafte  ...  baujahr_der_wohngebaeude  anteil_einfamilienhaeuser  \\\n",
       "0          0.328851  ...               1825.400406                   0.101626   \n",
       "1          0.279170  ...               1899.097967                   0.075786   \n",
       "2          0.427310  ...               1948.410577                   0.734615   \n",
       "3          0.421825  ...               1934.025590                   0.561775   \n",
       "4          0.331530  ...               1937.165632                   0.167702   \n",
       "\n",
       "   anteil_gruenflaechen  flaeche_pro_wohnung  wohnflaeche_pro_person  \\\n",
       "0              0.066693            90.808059               55.739958   \n",
       "1              0.194198            81.803421               51.200218   \n",
       "2              0.713769           109.383218               50.067809   \n",
       "3              0.408619            93.179580               47.396467   \n",
       "4              0.375125            68.638626               37.648552   \n",
       "\n",
       "   vermoegenssteuer_pro_veranlagung  einkommenssteuer_pro_veranlagung  \\\n",
       "0                       4297.479726                      15795.731129   \n",
       "1                       4902.317140                      14894.945946   \n",
       "2                       8585.686671                      18103.101406   \n",
       "3                       1632.650810                      11363.577884   \n",
       "4                        425.867934                       6405.308048   \n",
       "\n",
       "   erwerbstaetigenquote  arbeitsplaetze_pro_einwohner  arbeitslosenquote  \n",
       "0              0.824263                      4.354447           0.019072  \n",
       "1              0.779869                      4.530718           0.023471  \n",
       "2              0.752834                      0.130144           0.023127  \n",
       "3              0.790006                      0.190061           0.023636  \n",
       "4              0.701177                      0.155020           0.042679  \n",
       "\n",
       "[5 rows x 21 columns]"
      ],
      "text/html": [
       "<div>\n",
       "<style scoped>\n",
       "    .dataframe tbody tr th:only-of-type {\n",
       "        vertical-align: middle;\n",
       "    }\n",
       "\n",
       "    .dataframe tbody tr th {\n",
       "        vertical-align: top;\n",
       "    }\n",
       "\n",
       "    .dataframe thead th {\n",
       "        text-align: right;\n",
       "    }\n",
       "</style>\n",
       "<table border=\"1\" class=\"dataframe\">\n",
       "  <thead>\n",
       "    <tr style=\"text-align: right;\">\n",
       "      <th></th>\n",
       "      <th>publikationsjahr</th>\n",
       "      <th>wohnviertel_id</th>\n",
       "      <th>wohnviertel_name</th>\n",
       "      <th>anteil_sozialhilfeempfaenger</th>\n",
       "      <th>anteil_auslaender</th>\n",
       "      <th>anteil_personen_ohne_religionszugehoerigkeit</th>\n",
       "      <th>anteil_personen_in_einpersonenhaushalten</th>\n",
       "      <th>gymnasialquote</th>\n",
       "      <th>altersquotient</th>\n",
       "      <th>anteil_sesshafte</th>\n",
       "      <th>...</th>\n",
       "      <th>baujahr_der_wohngebaeude</th>\n",
       "      <th>anteil_einfamilienhaeuser</th>\n",
       "      <th>anteil_gruenflaechen</th>\n",
       "      <th>flaeche_pro_wohnung</th>\n",
       "      <th>wohnflaeche_pro_person</th>\n",
       "      <th>vermoegenssteuer_pro_veranlagung</th>\n",
       "      <th>einkommenssteuer_pro_veranlagung</th>\n",
       "      <th>erwerbstaetigenquote</th>\n",
       "      <th>arbeitsplaetze_pro_einwohner</th>\n",
       "      <th>arbeitslosenquote</th>\n",
       "    </tr>\n",
       "  </thead>\n",
       "  <tbody>\n",
       "    <tr>\n",
       "      <th>0</th>\n",
       "      <td>2015</td>\n",
       "      <td>1</td>\n",
       "      <td>Altstadt Grossbasel</td>\n",
       "      <td>0.017115</td>\n",
       "      <td>0.251426</td>\n",
       "      <td>0.517930</td>\n",
       "      <td>0.324463</td>\n",
       "      <td>0.777778</td>\n",
       "      <td>0.297921</td>\n",
       "      <td>0.328851</td>\n",
       "      <td>...</td>\n",
       "      <td>1825.400406</td>\n",
       "      <td>0.101626</td>\n",
       "      <td>0.066693</td>\n",
       "      <td>90.808059</td>\n",
       "      <td>55.739958</td>\n",
       "      <td>4297.479726</td>\n",
       "      <td>15795.731129</td>\n",
       "      <td>0.824263</td>\n",
       "      <td>4.354447</td>\n",
       "      <td>0.019072</td>\n",
       "    </tr>\n",
       "    <tr>\n",
       "      <th>1</th>\n",
       "      <td>2015</td>\n",
       "      <td>2</td>\n",
       "      <td>Vorstädte</td>\n",
       "      <td>0.031635</td>\n",
       "      <td>0.353328</td>\n",
       "      <td>0.532251</td>\n",
       "      <td>0.345813</td>\n",
       "      <td>0.636364</td>\n",
       "      <td>0.374726</td>\n",
       "      <td>0.279170</td>\n",
       "      <td>...</td>\n",
       "      <td>1899.097967</td>\n",
       "      <td>0.075786</td>\n",
       "      <td>0.194198</td>\n",
       "      <td>81.803421</td>\n",
       "      <td>51.200218</td>\n",
       "      <td>4902.317140</td>\n",
       "      <td>14894.945946</td>\n",
       "      <td>0.779869</td>\n",
       "      <td>4.530718</td>\n",
       "      <td>0.023471</td>\n",
       "    </tr>\n",
       "    <tr>\n",
       "      <th>2</th>\n",
       "      <td>2015</td>\n",
       "      <td>7</td>\n",
       "      <td>Bruderholz</td>\n",
       "      <td>0.017662</td>\n",
       "      <td>0.229827</td>\n",
       "      <td>0.458660</td>\n",
       "      <td>0.166817</td>\n",
       "      <td>0.608108</td>\n",
       "      <td>0.442465</td>\n",
       "      <td>0.427310</td>\n",
       "      <td>...</td>\n",
       "      <td>1948.410577</td>\n",
       "      <td>0.734615</td>\n",
       "      <td>0.713769</td>\n",
       "      <td>109.383218</td>\n",
       "      <td>50.067809</td>\n",
       "      <td>8585.686671</td>\n",
       "      <td>18103.101406</td>\n",
       "      <td>0.752834</td>\n",
       "      <td>0.130144</td>\n",
       "      <td>0.023127</td>\n",
       "    </tr>\n",
       "    <tr>\n",
       "      <th>3</th>\n",
       "      <td>2015</td>\n",
       "      <td>8</td>\n",
       "      <td>Bachletten</td>\n",
       "      <td>0.022092</td>\n",
       "      <td>0.210320</td>\n",
       "      <td>0.455482</td>\n",
       "      <td>0.224974</td>\n",
       "      <td>0.609137</td>\n",
       "      <td>0.374629</td>\n",
       "      <td>0.421825</td>\n",
       "      <td>...</td>\n",
       "      <td>1934.025590</td>\n",
       "      <td>0.561775</td>\n",
       "      <td>0.408619</td>\n",
       "      <td>93.179580</td>\n",
       "      <td>47.396467</td>\n",
       "      <td>1632.650810</td>\n",
       "      <td>11363.577884</td>\n",
       "      <td>0.790006</td>\n",
       "      <td>0.190061</td>\n",
       "      <td>0.023636</td>\n",
       "    </tr>\n",
       "    <tr>\n",
       "      <th>4</th>\n",
       "      <td>2015</td>\n",
       "      <td>10</td>\n",
       "      <td>Iselin</td>\n",
       "      <td>0.089462</td>\n",
       "      <td>0.360277</td>\n",
       "      <td>0.445545</td>\n",
       "      <td>0.284152</td>\n",
       "      <td>0.262357</td>\n",
       "      <td>0.260469</td>\n",
       "      <td>0.331530</td>\n",
       "      <td>...</td>\n",
       "      <td>1937.165632</td>\n",
       "      <td>0.167702</td>\n",
       "      <td>0.375125</td>\n",
       "      <td>68.638626</td>\n",
       "      <td>37.648552</td>\n",
       "      <td>425.867934</td>\n",
       "      <td>6405.308048</td>\n",
       "      <td>0.701177</td>\n",
       "      <td>0.155020</td>\n",
       "      <td>0.042679</td>\n",
       "    </tr>\n",
       "  </tbody>\n",
       "</table>\n",
       "<p>5 rows × 21 columns</p>\n",
       "</div>"
      ]
     },
     "execution_count": 105,
     "metadata": {},
     "output_type": "execute_result"
    }
   ],
   "execution_count": 105
  },
  {
   "cell_type": "markdown",
   "id": "6df2cb40",
   "metadata": {},
   "source": [
    "## Question 1) P value (10 points)\n",
    "Let's see if there's an answer to the following question: Did the amount of green spaces in Basel's neighborhoods increase *significantly* between 2015 and 2021? <br>\n",
    "\n",
    "The column that measures the amount of green spaces (parks and such) is called `anteil_gruenflaechen`."
   ]
  },
  {
   "cell_type": "markdown",
   "id": "1aa0a0f0",
   "metadata": {},
   "source": [
    "### 1a) Observed difference (1 point)\n",
    "What is the observed difference between the mean of the amount of green spaces in 2015 and in 2021? <br>\n",
    "Assign the mean of the amount of green spaces for the years 2015 and 2021 to the variables `mean_2015` and `mean_2021` respectively.\n",
    "\n",
    "*Hint:* You can average over all neighborhoods"
   ]
  },
  {
   "cell_type": "code",
   "id": "a9cc9c70",
   "metadata": {
    "nbgrader": {
     "grade": false,
     "grade_id": "cell-c1d5d57296720457",
     "locked": false,
     "schema_version": 3,
     "solution": true,
     "task": false
    },
    "ExecuteTime": {
     "end_time": "2024-05-01T11:31:21.673266Z",
     "start_time": "2024-05-01T11:31:21.667325Z"
    }
   },
   "source": [
    "class Question1a:\n",
    "    bs_2015 = bs[bs['publikationsjahr'] == 2015]\n",
    "    bs_2021 = bs[bs['publikationsjahr'] == 2021]\n",
    "    \n",
    "    mean_2015 = bs_2015['anteil_gruenflaechen'].mean()\n",
    "    mean_2021 = bs_2021['anteil_gruenflaechen'].mean()\n",
    "    \n",
    "    print(mean_2021 - mean_2015)"
   ],
   "outputs": [
    {
     "name": "stdout",
     "output_type": "stream",
     "text": [
      "0.010221135919047608\n"
     ]
    }
   ],
   "execution_count": 106
  },
  {
   "cell_type": "code",
   "id": "709a6e45",
   "metadata": {
    "deletable": false,
    "editable": false,
    "ExecuteTime": {
     "end_time": "2024-05-01T11:31:21.696177Z",
     "start_time": "2024-05-01T11:31:21.688902Z"
    }
   },
   "source": [
    "grader.check(\"Question 1a\")"
   ],
   "outputs": [
    {
     "data": {
      "text/plain": [
       "Question 1a results: All test cases passed!"
      ],
      "text/html": [
       "<p><strong><pre style='display: inline;'>Question 1a</pre></strong> passed! 🌈</p>"
      ]
     },
     "execution_count": 107,
     "metadata": {},
     "output_type": "execute_result"
    }
   ],
   "execution_count": 107
  },
  {
   "cell_type": "markdown",
   "id": "64b1bdc7",
   "metadata": {},
   "source": [
    "### 1b) Artificial variables (3 points)\n",
    "Let us make a new dataframe called: \n",
    "- `neighborhoods` \n",
    "  - This new dataframe contains the neighborhoods of Basel in a column called `wohnviertel_name.` Additionally, it should have a column called `increase_green_space` that has \n",
    "      - the number 1 if the amount of green space increased between 2015 and 2021 for this neighborhood\n",
    "      - the number 0 otherwise\n",
    "      \n",
    "*More formally:*\n",
    "$$\n",
    "  \\begin{equation}\n",
    "    increase\\_green\\_space=\n",
    "    \\begin{cases}\n",
    "      1, & \\text{if}\\ \\text{anteil\\_gruenflaechen\\_2021}[x] > \\text{ anteil\\_gruenflaechen\\_2015}[x], x \\in \\text { wohnviertelname}  \\\\\n",
    "      0, & \\text{otherwise}\n",
    "    \\end{cases}\n",
    "  \\end{equation}\n",
    "$$\n",
    "**Hints:** \n",
    "- Spread the data into two new dataframes: `bs_2021` and `bs_2015`. `bs_2021` will also be reused in this exercise sheet's last exercise.\n",
    "- Create from `bs_2021` and `bs_2015` a merged dataframe on the column `wohnviertel_name` and use the `suffixes=(2021,2015)` option "
   ]
  },
  {
   "cell_type": "code",
   "id": "e89085e7",
   "metadata": {
    "nbgrader": {
     "grade": false,
     "grade_id": "cell-ce997035c2a68011",
     "locked": false,
     "schema_version": 3,
     "solution": true,
     "task": false
    },
    "ExecuteTime": {
     "end_time": "2024-05-01T11:31:21.762495Z",
     "start_time": "2024-05-01T11:31:21.746230Z"
    }
   },
   "source": [
    "def test_increase(num_after: pd.Series, num_before: pd.Series):\n",
    "    return 1 if num_after - num_before > 0 else 0\n",
    "\n",
    "\n",
    "class Question1b:\n",
    "    bs_2021 = Question1a.bs_2021[['wohnviertel_name', 'anteil_gruenflaechen']]\n",
    "    bs_2015 = Question1a.bs_2015[['wohnviertel_name', 'anteil_gruenflaechen']]\n",
    "    neighborhoods = pd.merge(\n",
    "        bs_2021,\n",
    "        bs_2015,\n",
    "        on='wohnviertel_name',\n",
    "        suffixes=(2021, 2015)\n",
    "    )\n",
    "    neighborhoods['increase_green_space'] = neighborhoods.apply(\n",
    "        lambda x: test_increase(\n",
    "            x['anteil_gruenflaechen2021'],\n",
    "            x['anteil_gruenflaechen2015']\n",
    "        ),\n",
    "        axis=1\n",
    "    )\n",
    "\n",
    "\n",
    "Question1b.neighborhoods"
   ],
   "outputs": [
    {
     "data": {
      "text/plain": [
       "       wohnviertel_name  anteil_gruenflaechen2021  anteil_gruenflaechen2015  \\\n",
       "0   Altstadt Grossbasel                  0.066659                  0.066693   \n",
       "1             Vorstädte                  0.194799                  0.194198   \n",
       "2            Bachletten                  0.413414                  0.408619   \n",
       "3              Gotthelf                  0.321409                  0.325109   \n",
       "4            St. Johann                  0.282184                  0.273127   \n",
       "5           Hirzbrunnen                  0.595905                  0.587749   \n",
       "6              Rosental                  0.156311                  0.083872   \n",
       "7               Am Ring                  0.240857                  0.239018   \n",
       "8          Gundeldingen                  0.176211                  0.174296   \n",
       "9            Bruderholz                  0.712127                  0.713769   \n",
       "10               Iselin                  0.362679                  0.375125   \n",
       "11  Altstadt Kleinbasel                  0.080960                  0.086158   \n",
       "12                Clara                  0.159184                  0.157663   \n",
       "13             Matthäus                  0.166081                  0.167294   \n",
       "14               Riehen                  0.794699                  0.797197   \n",
       "15               Breite                  0.358109                  0.358597   \n",
       "16            St. Alban                  0.323058                  0.322732   \n",
       "17            Wettstein                  0.280554                  0.275020   \n",
       "18              Klybeck                  0.123285                  0.113490   \n",
       "19        Kleinhüningen                  0.223025                  0.095810   \n",
       "20            Bettingen                  0.902122                  0.903448   \n",
       "\n",
       "    increase_green_space  \n",
       "0                      0  \n",
       "1                      1  \n",
       "2                      1  \n",
       "3                      0  \n",
       "4                      1  \n",
       "5                      1  \n",
       "6                      1  \n",
       "7                      1  \n",
       "8                      1  \n",
       "9                      0  \n",
       "10                     0  \n",
       "11                     0  \n",
       "12                     1  \n",
       "13                     0  \n",
       "14                     0  \n",
       "15                     0  \n",
       "16                     1  \n",
       "17                     1  \n",
       "18                     1  \n",
       "19                     1  \n",
       "20                     0  "
      ],
      "text/html": [
       "<div>\n",
       "<style scoped>\n",
       "    .dataframe tbody tr th:only-of-type {\n",
       "        vertical-align: middle;\n",
       "    }\n",
       "\n",
       "    .dataframe tbody tr th {\n",
       "        vertical-align: top;\n",
       "    }\n",
       "\n",
       "    .dataframe thead th {\n",
       "        text-align: right;\n",
       "    }\n",
       "</style>\n",
       "<table border=\"1\" class=\"dataframe\">\n",
       "  <thead>\n",
       "    <tr style=\"text-align: right;\">\n",
       "      <th></th>\n",
       "      <th>wohnviertel_name</th>\n",
       "      <th>anteil_gruenflaechen2021</th>\n",
       "      <th>anteil_gruenflaechen2015</th>\n",
       "      <th>increase_green_space</th>\n",
       "    </tr>\n",
       "  </thead>\n",
       "  <tbody>\n",
       "    <tr>\n",
       "      <th>0</th>\n",
       "      <td>Altstadt Grossbasel</td>\n",
       "      <td>0.066659</td>\n",
       "      <td>0.066693</td>\n",
       "      <td>0</td>\n",
       "    </tr>\n",
       "    <tr>\n",
       "      <th>1</th>\n",
       "      <td>Vorstädte</td>\n",
       "      <td>0.194799</td>\n",
       "      <td>0.194198</td>\n",
       "      <td>1</td>\n",
       "    </tr>\n",
       "    <tr>\n",
       "      <th>2</th>\n",
       "      <td>Bachletten</td>\n",
       "      <td>0.413414</td>\n",
       "      <td>0.408619</td>\n",
       "      <td>1</td>\n",
       "    </tr>\n",
       "    <tr>\n",
       "      <th>3</th>\n",
       "      <td>Gotthelf</td>\n",
       "      <td>0.321409</td>\n",
       "      <td>0.325109</td>\n",
       "      <td>0</td>\n",
       "    </tr>\n",
       "    <tr>\n",
       "      <th>4</th>\n",
       "      <td>St. Johann</td>\n",
       "      <td>0.282184</td>\n",
       "      <td>0.273127</td>\n",
       "      <td>1</td>\n",
       "    </tr>\n",
       "    <tr>\n",
       "      <th>5</th>\n",
       "      <td>Hirzbrunnen</td>\n",
       "      <td>0.595905</td>\n",
       "      <td>0.587749</td>\n",
       "      <td>1</td>\n",
       "    </tr>\n",
       "    <tr>\n",
       "      <th>6</th>\n",
       "      <td>Rosental</td>\n",
       "      <td>0.156311</td>\n",
       "      <td>0.083872</td>\n",
       "      <td>1</td>\n",
       "    </tr>\n",
       "    <tr>\n",
       "      <th>7</th>\n",
       "      <td>Am Ring</td>\n",
       "      <td>0.240857</td>\n",
       "      <td>0.239018</td>\n",
       "      <td>1</td>\n",
       "    </tr>\n",
       "    <tr>\n",
       "      <th>8</th>\n",
       "      <td>Gundeldingen</td>\n",
       "      <td>0.176211</td>\n",
       "      <td>0.174296</td>\n",
       "      <td>1</td>\n",
       "    </tr>\n",
       "    <tr>\n",
       "      <th>9</th>\n",
       "      <td>Bruderholz</td>\n",
       "      <td>0.712127</td>\n",
       "      <td>0.713769</td>\n",
       "      <td>0</td>\n",
       "    </tr>\n",
       "    <tr>\n",
       "      <th>10</th>\n",
       "      <td>Iselin</td>\n",
       "      <td>0.362679</td>\n",
       "      <td>0.375125</td>\n",
       "      <td>0</td>\n",
       "    </tr>\n",
       "    <tr>\n",
       "      <th>11</th>\n",
       "      <td>Altstadt Kleinbasel</td>\n",
       "      <td>0.080960</td>\n",
       "      <td>0.086158</td>\n",
       "      <td>0</td>\n",
       "    </tr>\n",
       "    <tr>\n",
       "      <th>12</th>\n",
       "      <td>Clara</td>\n",
       "      <td>0.159184</td>\n",
       "      <td>0.157663</td>\n",
       "      <td>1</td>\n",
       "    </tr>\n",
       "    <tr>\n",
       "      <th>13</th>\n",
       "      <td>Matthäus</td>\n",
       "      <td>0.166081</td>\n",
       "      <td>0.167294</td>\n",
       "      <td>0</td>\n",
       "    </tr>\n",
       "    <tr>\n",
       "      <th>14</th>\n",
       "      <td>Riehen</td>\n",
       "      <td>0.794699</td>\n",
       "      <td>0.797197</td>\n",
       "      <td>0</td>\n",
       "    </tr>\n",
       "    <tr>\n",
       "      <th>15</th>\n",
       "      <td>Breite</td>\n",
       "      <td>0.358109</td>\n",
       "      <td>0.358597</td>\n",
       "      <td>0</td>\n",
       "    </tr>\n",
       "    <tr>\n",
       "      <th>16</th>\n",
       "      <td>St. Alban</td>\n",
       "      <td>0.323058</td>\n",
       "      <td>0.322732</td>\n",
       "      <td>1</td>\n",
       "    </tr>\n",
       "    <tr>\n",
       "      <th>17</th>\n",
       "      <td>Wettstein</td>\n",
       "      <td>0.280554</td>\n",
       "      <td>0.275020</td>\n",
       "      <td>1</td>\n",
       "    </tr>\n",
       "    <tr>\n",
       "      <th>18</th>\n",
       "      <td>Klybeck</td>\n",
       "      <td>0.123285</td>\n",
       "      <td>0.113490</td>\n",
       "      <td>1</td>\n",
       "    </tr>\n",
       "    <tr>\n",
       "      <th>19</th>\n",
       "      <td>Kleinhüningen</td>\n",
       "      <td>0.223025</td>\n",
       "      <td>0.095810</td>\n",
       "      <td>1</td>\n",
       "    </tr>\n",
       "    <tr>\n",
       "      <th>20</th>\n",
       "      <td>Bettingen</td>\n",
       "      <td>0.902122</td>\n",
       "      <td>0.903448</td>\n",
       "      <td>0</td>\n",
       "    </tr>\n",
       "  </tbody>\n",
       "</table>\n",
       "</div>"
      ]
     },
     "execution_count": 108,
     "metadata": {},
     "output_type": "execute_result"
    }
   ],
   "execution_count": 108
  },
  {
   "cell_type": "code",
   "id": "579057ec",
   "metadata": {
    "deletable": false,
    "editable": false,
    "ExecuteTime": {
     "end_time": "2024-05-01T11:31:21.791825Z",
     "start_time": "2024-05-01T11:31:21.782173Z"
    }
   },
   "source": [
    "grader.check(\"Question 1b\")"
   ],
   "outputs": [
    {
     "data": {
      "text/plain": [
       "Question 1b results: All test cases passed!"
      ],
      "text/html": [
       "<p><strong><pre style='display: inline;'>Question 1b</pre></strong> passed! 🌈</p>"
      ]
     },
     "execution_count": 109,
     "metadata": {},
     "output_type": "execute_result"
    }
   ],
   "execution_count": 109
  },
  {
   "cell_type": "markdown",
   "id": "f72b7c77",
   "metadata": {},
   "source": [
    "### 1c) Amount of neighborhoods with an increase in green spaces (2 points)"
   ]
  },
  {
   "cell_type": "markdown",
   "id": "b3a11e55",
   "metadata": {},
   "source": [
    "We want to verify if there was an increase or decrease in green spaces. For this, we work under the null hypothesis:\n",
    "$$ \\mathbb{P}(\\text{green spaces increase}) -0.5 = 0. $$\n",
    "\n",
    "\n",
    "What is the percentage of neighborhoods that had increased green spaces from 2015 to 2021? Save this decimal number (float) in the variable called `increase_2021`. <br>\n",
    "This value will let us calculate the difference to our null hypothesis value since it is our $ \\mathbb{P}(\\text{green spaces increase})$. Assign the difference of `increase_2021` to our null hypothesis value (0.5) to the variable called `difference_null_hypothesis` (float)."
   ]
  },
  {
   "cell_type": "code",
   "id": "b05b9f67",
   "metadata": {
    "nbgrader": {
     "grade": false,
     "grade_id": "cell-707efa52cfcacb2c",
     "locked": false,
     "schema_version": 3,
     "solution": true,
     "task": false
    },
    "ExecuteTime": {
     "end_time": "2024-05-01T11:31:21.916811Z",
     "start_time": "2024-05-01T11:31:21.911985Z"
    }
   },
   "source": [
    "class Question1c:\n",
    "    nh = Question1b.neighborhoods\n",
    "    increase_2021 = nh[nh['increase_green_space'] == 1].shape[0] / nh.shape[0]\n",
    "    difference_null_hypothesis = increase_2021 - 0.5\n",
    "    print(increase_2021, difference_null_hypothesis)"
   ],
   "outputs": [
    {
     "name": "stdout",
     "output_type": "stream",
     "text": [
      "0.5714285714285714 0.0714285714285714\n"
     ]
    }
   ],
   "execution_count": 110
  },
  {
   "cell_type": "code",
   "id": "6ef86de5",
   "metadata": {
    "deletable": false,
    "editable": false,
    "ExecuteTime": {
     "end_time": "2024-05-01T11:31:21.995871Z",
     "start_time": "2024-05-01T11:31:21.990137Z"
    }
   },
   "source": [
    "grader.check(\"Question 1c\")"
   ],
   "outputs": [
    {
     "data": {
      "text/plain": [
       "Question 1c results: All test cases passed!"
      ],
      "text/html": [
       "<p><strong><pre style='display: inline;'>Question 1c</pre></strong> passed! 💯</p>"
      ]
     },
     "execution_count": 111,
     "metadata": {},
     "output_type": "execute_result"
    }
   ],
   "execution_count": 111
  },
  {
   "cell_type": "markdown",
   "id": "01193004",
   "metadata": {},
   "source": [
    "### 1d) Calculate the p-value (3 points)\n",
    "What is the p-value for the significant difference in green space between 2015 and 2021? In other words: What is the p-value for: $$\n",
    "\\begin{align*}\n",
    "P(|mean2021 - 0.5| > \\text{observed\\_difference})\n",
    "\\end{align*}\n",
    "$$\n",
    "Assign the p-value to the variable called `p_value`\n",
    "\n",
    "*Hint:* Look at the slides from lecture 9 to find an example."
   ]
  },
  {
   "cell_type": "code",
   "id": "9cd59742",
   "metadata": {
    "nbgrader": {
     "grade": false,
     "grade_id": "cell-07f7fc5a4f401a11",
     "locked": false,
     "schema_version": 3,
     "solution": true,
     "task": false
    },
    "ExecuteTime": {
     "end_time": "2024-05-01T11:31:22.059253Z",
     "start_time": "2024-05-01T11:31:22.054205Z"
    }
   },
   "source": [
    "class Question1d:\n",
    "    N = Question1c.nh.shape[0]\n",
    "    t = np.sqrt(N) * Question1c.difference_null_hypothesis / 0.5\n",
    "    p_value = 1 - (norm.cdf(t) - norm.cdf(-t))\n",
    "    print(\"The p-value is: \", p_value)"
   ],
   "outputs": [
    {
     "name": "stdout",
     "output_type": "stream",
     "text": [
      "The p-value is:  0.5126907602619235\n"
     ]
    }
   ],
   "execution_count": 112
  },
  {
   "cell_type": "code",
   "id": "1875fd0d",
   "metadata": {
    "deletable": false,
    "editable": false,
    "ExecuteTime": {
     "end_time": "2024-05-01T11:31:22.111836Z",
     "start_time": "2024-05-01T11:31:22.105652Z"
    }
   },
   "source": [
    "grader.check(\"Question 1d\")"
   ],
   "outputs": [
    {
     "data": {
      "text/plain": [
       "Question 1d results: All test cases passed!"
      ],
      "text/html": [
       "<p><strong><pre style='display: inline;'>Question 1d</pre></strong> passed! 🚀</p>"
      ]
     },
     "execution_count": 113,
     "metadata": {},
     "output_type": "execute_result"
    }
   ],
   "execution_count": 113
  },
  {
   "cell_type": "markdown",
   "id": "fc324600",
   "metadata": {},
   "source": [
    "### 1e) Do we reject or fail to reject the null hypothesis based on our p value? (1 point)\n",
    "Here our significance value is 0.05.\n",
    "\n",
    "Please write your answer like this:\n",
    "* If we reject the null hypothesis: null_hypothesis = \"reject\"\n",
    "* If we can not reject the null hypothesis: null_hypothesis = \"fail to reject\"\n",
    "\n",
    "(Hint: Read the question carefully and google it if you're not sure what it means)"
   ]
  },
  {
   "cell_type": "markdown",
   "id": "e09e4982",
   "metadata": {
    "deletable": false,
    "editable": false
   },
   "source": [
    "<!-- BEGIN QUESTION -->\n",
    "\n",
    "<!--\n",
    "BEGIN QUESTION\n",
    "name: Question 1e      # (required) the path to a requirements.txt file\n",
    "manual: true     # whether this is a manually-graded question\n",
    "points: 1      # how many points this question is worth; defaults to 1 internally\n",
    "check_cell: false  # whether to include a check cell after this question (for autograded questions only)\n",
    "-->"
   ]
  },
  {
   "cell_type": "code",
   "id": "c0ad391e",
   "metadata": {
    "nbgrader": {
     "grade": false,
     "grade_id": "cell-e09f38db783d9e60",
     "locked": false,
     "schema_version": 3,
     "solution": true,
     "task": false
    },
    "ExecuteTime": {
     "end_time": "2024-05-01T11:31:22.152684Z",
     "start_time": "2024-05-01T11:31:22.150042Z"
    }
   },
   "source": [
    "class Question1e:\n",
    "    null_hypothesis = \"fail to reject\""
   ],
   "outputs": [],
   "execution_count": 114
  },
  {
   "cell_type": "code",
   "id": "714e9ae5-8b72-4a68-a06c-9cf61513e334",
   "metadata": {
    "ExecuteTime": {
     "end_time": "2024-05-01T11:31:22.173193Z",
     "start_time": "2024-05-01T11:31:22.167406Z"
    }
   },
   "source": [
    "grader.check(\"Question 1e\")"
   ],
   "outputs": [
    {
     "data": {
      "text/plain": [
       "Question 1e results:\n",
       "    Question 1e - 1 result:\n",
       "        ❌ Test case failed\n",
       "        Error at line 11 in test Question 1e:\n",
       "             assert False, \"***We will grade this question only after submission, in order not to reveal the answer***\"\n",
       "        AssertionError: ***We will grade this question only after submission, in order not to reveal the answer***"
      ],
      "text/html": [
       "<p><strong style='color: red;'><pre style='display: inline;'>Question 1e</pre> results:</strong></p><p><strong><pre style='display: inline;'>Question 1e - 1</pre> result:</strong></p><pre>    ❌ Test case failed\n",
       "    Error at line 11 in test Question 1e:\n",
       "         assert False, \"***We will grade this question only after submission, in order not to reveal the answer***\"\n",
       "    AssertionError: ***We will grade this question only after submission, in order not to reveal the answer***</pre>"
      ]
     },
     "execution_count": 115,
     "metadata": {},
     "output_type": "execute_result"
    }
   ],
   "execution_count": 115
  },
  {
   "cell_type": "markdown",
   "id": "c2f4e6d2",
   "metadata": {},
   "source": [
    "<!-- END QUESTION -->\n",
    "\n",
    "\n",
    "\n",
    "## Question 2) Correlation and regression (5 points)\n",
    "\n",
    "### 2a) Plotting the correlation (2 points)\n",
    "Make a scatterplot **using pandas plotting** function that shows you how income tax `einkommenssteuer_pro_veranlagung` and apartment size `flaeche_pro_wohnung` are correlated. \n",
    "\n",
    "Plot **for the year 2021**: \n",
    "- `einkommenssteuer_pro_veranlagung` on the *x*-axis and  \n",
    "- `flaeche_pro_wohnung` on the *y*-axis.\n"
   ]
  },
  {
   "cell_type": "markdown",
   "id": "2f8c0831",
   "metadata": {
    "deletable": false,
    "editable": false
   },
   "source": [
    "<!-- BEGIN QUESTION -->\n",
    "\n",
    "<!--\n",
    "BEGIN QUESTION\n",
    "name: Question 2a      # (required) the path to a requirements.txt file\n",
    "manual: true     # whether this is a manually-graded question\n",
    "points: 2     # how many points this question is worth; defaults to 1 internally\n",
    "check_cell: false  # whether to include a check cell after this question (for autograded questions only)\n",
    "-->"
   ]
  },
  {
   "cell_type": "code",
   "id": "f0e660fc",
   "metadata": {
    "nbgrader": {
     "grade": true,
     "grade_id": "cell-30fc240c2ed71fb4",
     "locked": false,
     "points": 0,
     "schema_version": 3,
     "solution": true,
     "task": false
    },
    "ExecuteTime": {
     "end_time": "2024-05-01T11:31:22.466160Z",
     "start_time": "2024-05-01T11:31:22.185037Z"
    }
   },
   "source": [
    "class Question2a:\n",
    "    corr_plot = Question1a.bs_2021.plot.scatter(\n",
    "        x='einkommenssteuer_pro_veranlagung',\n",
    "        y='flaeche_pro_wohnung',\n",
    "    )  # your scatter plot\n",
    "    display(corr_plot)"
   ],
   "outputs": [
    {
     "data": {
      "text/plain": [
       "<Axes: xlabel='einkommenssteuer_pro_veranlagung', ylabel='flaeche_pro_wohnung'>"
      ]
     },
     "metadata": {},
     "output_type": "display_data"
    },
    {
     "data": {
      "text/plain": [
       "<Figure size 640x480 with 1 Axes>"
      ],
      "image/png": "[encoded data removed]"
     },
     "metadata": {},
     "output_type": "display_data"
    }
   ],
   "execution_count": 116
  },
  {
   "cell_type": "code",
   "id": "ba512689-8ac6-415e-85db-98528bef75ba",
   "metadata": {
    "ExecuteTime": {
     "end_time": "2024-05-01T11:31:22.475762Z",
     "start_time": "2024-05-01T11:31:22.468518Z"
    }
   },
   "source": [
    "grader.check(\"Question 2a\")"
   ],
   "outputs": [
    {
     "data": {
      "text/plain": [
       "Question 2a results: All test cases passed!"
      ],
      "text/html": [
       "<p><strong><pre style='display: inline;'>Question 2a</pre></strong> passed! 🍀</p>"
      ]
     },
     "execution_count": 117,
     "metadata": {},
     "output_type": "execute_result"
    }
   ],
   "execution_count": 117
  },
  {
   "cell_type": "markdown",
   "id": "0d1f1a1f",
   "metadata": {},
   "source": [
    "<!-- END QUESTION -->\n",
    "\n",
    "\n",
    "\n",
    "### 2b) Correlation coefficient (1 point)\n",
    "What is the correlation coefficient between income tax and apartments size in Basel for 2021? Assign this number (float) to the variable called `corr_coeff`.\n",
    "\n",
    "*Hint:* pandas.dataframe has a function called `.corr()`"
   ]
  },
  {
   "cell_type": "code",
   "id": "3eacccc8",
   "metadata": {
    "nbgrader": {
     "grade": false,
     "grade_id": "cell-5a5ef833de831dee",
     "locked": false,
     "schema_version": 3,
     "solution": true,
     "task": false
    },
    "ExecuteTime": {
     "end_time": "2024-05-01T11:31:22.481126Z",
     "start_time": "2024-05-01T11:31:22.477161Z"
    }
   },
   "source": [
    "class Question2b:\n",
    "    income_tax = Question1a.bs_2021['einkommenssteuer_pro_veranlagung']\n",
    "    apartment_size = Question1a.bs_2021['flaeche_pro_wohnung']\n",
    "    corr_coeff = income_tax.corr(apartment_size)\n",
    "    print(\"correlation coefficient: \", corr_coeff)"
   ],
   "outputs": [
    {
     "name": "stdout",
     "output_type": "stream",
     "text": [
      "correlation coefficient:  0.8537433905040707\n"
     ]
    }
   ],
   "execution_count": 118
  },
  {
   "cell_type": "code",
   "id": "f07e778c",
   "metadata": {
    "deletable": false,
    "editable": false,
    "ExecuteTime": {
     "end_time": "2024-05-01T11:31:22.489311Z",
     "start_time": "2024-05-01T11:31:22.483658Z"
    }
   },
   "source": [
    "grader.check(\"Question 2b\")"
   ],
   "outputs": [
    {
     "data": {
      "text/plain": [
       "Question 2b results: All test cases passed!"
      ],
      "text/html": [
       "<p><strong><pre style='display: inline;'>Question 2b</pre></strong> passed! 🚀</p>"
      ]
     },
     "execution_count": 119,
     "metadata": {},
     "output_type": "execute_result"
    }
   ],
   "execution_count": 119
  },
  {
   "cell_type": "markdown",
   "id": "62994d0b",
   "metadata": {},
   "source": [
    "### 2c) Plot another correlation (1 point)\n",
    "Make a scatter plot **using seaborn** that shows you how living space per person `wohnflaeche_pro_person` and apartment size `flaeche_pro_wohnung` are correlated **for the year 2021.**\n",
    "\n",
    "**General Remark:** If you have to plot something on the *x and y axis, always ask yourself: Which variable is dependent on the other?* "
   ]
  },
  {
   "cell_type": "markdown",
   "id": "640d8ba5",
   "metadata": {
    "deletable": false,
    "editable": false
   },
   "source": [
    "<!-- BEGIN QUESTION -->\n",
    "\n",
    "<!--\n",
    "BEGIN QUESTION\n",
    "name: Question 2c      # (required) the path to a requirements.txt file\n",
    "manual: true     # whether this is a manually-graded question\n",
    "points: 1    # how many points this question is worth; defaults to 1 internally\n",
    "check_cell: false  # whether to include a check cell after this question (for autograded questions only)\n",
    "-->"
   ]
  },
  {
   "cell_type": "code",
   "id": "403a4255",
   "metadata": {
    "nbgrader": {
     "grade": true,
     "grade_id": "cell-c1967853363f5c89",
     "locked": false,
     "points": 0,
     "schema_version": 3,
     "solution": true,
     "task": false
    },
    "ExecuteTime": {
     "end_time": "2024-05-01T11:33:01.183244Z",
     "start_time": "2024-05-01T11:33:00.907722Z"
    }
   },
   "source": [
    "class Question2c:\n",
    "    corr_plot = sns.scatterplot(\n",
    "        Question1a.bs_2021,\n",
    "        y='flaeche_pro_wohnung',\n",
    "        x='wohnflaeche_pro_person'\n",
    "    )\n",
    "    display(corr_plot)"
   ],
   "outputs": [
    {
     "data": {
      "text/plain": [
       "<Axes: xlabel='wohnflaeche_pro_person', ylabel='flaeche_pro_wohnung'>"
      ]
     },
     "metadata": {},
     "output_type": "display_data"
    },
    {
     "data": {
      "text/plain": [
       "<Figure size 640x480 with 1 Axes>"
      ],
      "image/png": "[encoded data removed]"
     },
     "metadata": {},
     "output_type": "display_data"
    }
   ],
   "execution_count": 125
  },
  {
   "cell_type": "code",
   "id": "9dc2a57a",
   "metadata": {
    "ExecuteTime": {
     "end_time": "2024-05-01T11:33:02.074589Z",
     "start_time": "2024-05-01T11:33:02.068078Z"
    }
   },
   "source": [
    "grader.check(\"Question 2c\")"
   ],
   "outputs": [
    {
     "data": {
      "text/plain": [
       "Question 2c results: All test cases passed!"
      ],
      "text/html": [
       "<p><strong><pre style='display: inline;'>Question 2c</pre></strong> passed! 🍀</p>"
      ]
     },
     "execution_count": 126,
     "metadata": {},
     "output_type": "execute_result"
    }
   ],
   "execution_count": 126
  },
  {
   "cell_type": "markdown",
   "id": "5cf7837f",
   "metadata": {},
   "source": [
    "<!-- END QUESTION -->\n",
    "\n",
    "\n",
    "\n",
    "What do you notice on this plot, what kind of correlation do you observe? What could be problematic about this correlation?\n",
    "Write your answer in the cell below as a comment (use #)."
   ]
  },
  {
   "cell_type": "code",
   "id": "815cb61b",
   "metadata": {
    "nbgrader": {
     "grade": true,
     "grade_id": "cell-bbd1af1856fa03f5",
     "locked": false,
     "points": 0,
     "schema_version": 3,
     "solution": true,
     "task": false
    },
    "ExecuteTime": {
     "end_time": "2024-05-01T11:35:16.419681Z",
     "start_time": "2024-05-01T11:35:16.416923Z"
    }
   },
   "source": [
    "# 1. There is a positive correlation.\n",
    "# 2. The correlation seems to be exponential, so a linear regression might not be the the best measure."
   ],
   "outputs": [],
   "execution_count": 127
  },
  {
   "cell_type": "markdown",
   "id": "29e21070",
   "metadata": {},
   "source": [
    "### 2d) Regression (1 point)\n",
    "\n",
    "Compute the **slope** `alpha` and **intercept** `beta` of the regression line that relates income tax (predictor) and apartment_size. \n",
    "\n",
    "Using the data from the year 2021 `Question1b.bs_2021`. Plot the data and the regression line.\n",
    "\n",
    "\n",
    "**Reminder:**$ \\text{ The regression line is defined as: } f(x) = \\alpha x + \\beta$\n",
    "$$\n",
    "\\begin{align*}\n",
    "&\\alpha = corr(x,y) \\cdot \\frac{\\sigma_y}{\\sigma_x}, &\\text{ } \\\\\n",
    "& \\beta = \\bar{y} - \\alpha \\cdot \\bar{x} \\\\\n",
    "& x = \\text{tax}, y = \\text{appartment size},  \\\\ \n",
    "& \\bar{x},\\text{ }\\bar{y} = \\text{arithmetic mean}\n",
    "\\end{align*}\n",
    "$$ \n",
    "\n",
    "*Hints:*\n",
    "- Make use of the following functions in pandas:  \n",
    "    - `mean()`\n",
    "    - `std()`\n",
    "    - `corr()`"
   ]
  },
  {
   "cell_type": "code",
   "id": "7d76c416",
   "metadata": {
    "nbgrader": {
     "grade": false,
     "grade_id": "cell-540ceba74e68d292",
     "locked": false,
     "schema_version": 3,
     "solution": true,
     "task": false
    },
    "ExecuteTime": {
     "end_time": "2024-05-01T11:43:35.710980Z",
     "start_time": "2024-05-01T11:43:35.347027Z"
    }
   },
   "source": [
    "class Question2d:\n",
    "    bs = Question1a.bs_2021\n",
    "    \n",
    "    mean_income_tax = bs['einkommenssteuer_pro_veranlagung'].mean()\n",
    "    stddev_income_tax = bs['einkommenssteuer_pro_veranlagung'].std()\n",
    "    \n",
    "    mean_apartment_size = bs['flaeche_pro_wohnung'].mean()\n",
    "    stddev_apartment_size = bs['flaeche_pro_wohnung'].std()\n",
    "    \n",
    "    corr = bs['einkommenssteuer_pro_veranlagung'].corr(\n",
    "        bs['flaeche_pro_wohnung']\n",
    "    )\n",
    "    \n",
    "    alpha = corr * stddev_apartment_size / stddev_income_tax\n",
    "    beta = mean_apartment_size - (alpha * mean_income_tax)\n",
    "    \n",
    "    sns.regplot(\n",
    "        bs,\n",
    "        x='einkommenssteuer_pro_veranlagung',\n",
    "        y='flaeche_pro_wohnung'\n",
    "    )"
   ],
   "outputs": [
    {
     "data": {
      "text/plain": [
       "<Figure size 640x480 with 1 Axes>"
      ],
      "image/png": "[encoded data removed]"
     },
     "metadata": {},
     "output_type": "display_data"
    }
   ],
   "execution_count": 134
  },
  {
   "cell_type": "code",
   "id": "8ccd3cae",
   "metadata": {
    "deletable": false,
    "editable": false,
    "ExecuteTime": {
     "end_time": "2024-05-01T11:43:36.878270Z",
     "start_time": "2024-05-01T11:43:36.872944Z"
    }
   },
   "source": [
    "grader.check(\"Question 2d\")"
   ],
   "outputs": [
    {
     "data": {
      "text/plain": [
       "Question 2d results: All test cases passed!"
      ],
      "text/html": [
       "<p><strong><pre style='display: inline;'>Question 2d</pre></strong> passed! ✨</p>"
      ]
     },
     "execution_count": 135,
     "metadata": {},
     "output_type": "execute_result"
    }
   ],
   "execution_count": 135
  },
  {
   "cell_type": "markdown",
   "id": "0cb28e41",
   "metadata": {
    "deletable": false,
    "editable": false
   },
   "source": [
    "---\n",
    "\n",
    "To double-check your work, the cell below will rerun all of the autograder tests."
   ]
  },
  {
   "cell_type": "code",
   "id": "e14cc266",
   "metadata": {
    "deletable": false,
    "editable": false,
    "ExecuteTime": {
     "end_time": "2024-05-01T11:43:38.458940Z",
     "start_time": "2024-05-01T11:43:38.437706Z"
    }
   },
   "source": [
    "grader.check_all()"
   ],
   "outputs": [
    {
     "data": {
      "text/plain": [
       "Question 1a results: All test cases passed!\n",
       "\n",
       "Question 1b results: All test cases passed!\n",
       "\n",
       "Question 1c results: All test cases passed!\n",
       "\n",
       "Question 1d results: All test cases passed!\n",
       "\n",
       "Question 1e results:\n",
       "    Question 1e - 1 result:\n",
       "        ❌ Test case failed\n",
       "        Error at line 11 in test Question 1e:\n",
       "             assert False, \"***We will grade this question only after submission, in order not to reveal the answer***\"\n",
       "        AssertionError: ***We will grade this question only after submission, in order not to reveal the answer***\n",
       "\n",
       "Question 2a results: All test cases passed!\n",
       "\n",
       "Question 2b results: All test cases passed!\n",
       "\n",
       "Question 2c results: All test cases passed!\n",
       "\n",
       "Question 2d results: All test cases passed!"
      ]
     },
     "execution_count": 136,
     "metadata": {},
     "output_type": "execute_result"
    }
   ],
   "execution_count": 136
  },
  {
   "cell_type": "code",
   "id": "1402530e",
   "metadata": {},
   "source": [],
   "outputs": [],
   "execution_count": null
  }
 ],
 "metadata": {
  "celltoolbar": "Create Assignment",
  "kernelspec": {
   "display_name": "Python 3 (ipykernel)",
   "language": "python",
   "name": "python3"
  },
  "language_info": {
   "codemirror_mode": {
    "name": "ipython",
    "version": 3
   },
   "file_extension": ".py",
   "mimetype": "text/x-python",
   "name": "python",
   "nbconvert_exporter": "python",
   "pygments_lexer": "ipython3",
   "version": "3.12.3"
  }
 },
 "nbformat": 4,
 "nbformat_minor": 5
}
