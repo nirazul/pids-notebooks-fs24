{
 "cells": [
  {
   "cell_type": "code",
   "execution_count": null,
   "id": "62d1d055-f161-42e5-b68b-e37db654bdd1",
   "metadata": {},
   "outputs": [],
   "source": [
    "# Initialize Otter\n",
    "import otter\n",
    "grader = otter.Notebook(\"09-exercise-pids2024.ipynb\")"
   ]
  },
  {
   "cell_type": "markdown",
   "id": "d04746a8",
   "metadata": {},
   "source": [
    "# Exercise sheet 9\n",
    "**Hello everyone!**\n",
    "\n",
    "**Points: 15**\n",
    "\n",
    "Topics of this exercise sheet are:\n",
    "* P-Values\n",
    "* Correlations\n",
    "\n",
    "Please let us know if you have questions or problems! <br>\n",
    "Contact us during the exercise session or on [Piazza](https://piazza.com/unibas.ch/spring2024/63982).\n",
    "\n",
    "**Automatic Feedback**\n",
    "\n",
    "This notebook can be automatically graded using Otter grader. To find how many points you get, simply run `grader.check_all()` from a new cell. "
   ]
  },
  {
   "cell_type": "code",
   "execution_count": null,
   "id": "a5ea3e5b",
   "metadata": {},
   "outputs": [],
   "source": [
    "import pandas as pd\n",
    "import seaborn as sns\n",
    "import matplotlib.pyplot as plt\n",
    "import numpy as np\n",
    "from scipy import stats\n",
    "from scipy.stats import norm"
   ]
  },
  {
   "cell_type": "markdown",
   "id": "b53424b9",
   "metadata": {},
   "source": [
    "![Basel](basel.jpg)"
   ]
  },
  {
   "cell_type": "markdown",
   "id": "fcdfa59a",
   "metadata": {},
   "source": [
    "# Basel's neighborhoods\n",
    "We are working with a dataset containing information about Basel and its neighborhoods. You can find it here: https://opendata.swiss/de/dataset/kennzahlen-zu-den-basler-wohnvierteln-und-landgemeinden. It's also uploaded as a csv to this folder."
   ]
  },
  {
   "cell_type": "code",
   "execution_count": null,
   "id": "8351c0d5",
   "metadata": {},
   "outputs": [],
   "source": [
    "bs = pd.read_csv(\"basel_neighborhoods.csv\", sep=\";\")\n",
    "bs.head()"
   ]
  },
  {
   "cell_type": "markdown",
   "id": "6df2cb40",
   "metadata": {},
   "source": [
    "## Question 1) P value (10 points)\n",
    "Let's see if there's an answer to the following question: Did the amount of green spaces in Basel's neighborhoods increase *significantly* between 2015 and 2021? <br>\n",
    "\n",
    "The column that measures the amount of green spaces (parks and such) is called `anteil_gruenflaechen`."
   ]
  },
  {
   "cell_type": "markdown",
   "id": "1aa0a0f0",
   "metadata": {},
   "source": [
    "### 1a) Observed difference (1 point)\n",
    "What is the observed difference between the mean of the amount of green spaces in 2015 and in 2021? <br>\n",
    "Assign the mean of the amount of green spaces for the years 2015 and 2021 to the variables `mean_2015` and `mean_2021` respectively.\n",
    "\n",
    "*Hint:* You can average over all neighborhoods"
   ]
  },
  {
   "cell_type": "code",
   "execution_count": null,
   "id": "a9cc9c70",
   "metadata": {
    "nbgrader": {
     "grade": false,
     "grade_id": "cell-c1d5d57296720457",
     "locked": false,
     "schema_version": 3,
     "solution": true,
     "task": false
    }
   },
   "outputs": [],
   "source": [
    "class Question1a:\n",
    "    mean_2015 = ...\n",
    "    mean_2021 = ...\n",
    "    \n",
    "    print(mean_2021 - mean_2015)"
   ]
  },
  {
   "cell_type": "code",
   "execution_count": null,
   "id": "709a6e45",
   "metadata": {
    "deletable": false,
    "editable": false
   },
   "outputs": [],
   "source": [
    "grader.check(\"Question 1a\")"
   ]
  },
  {
   "cell_type": "markdown",
   "id": "64b1bdc7",
   "metadata": {},
   "source": [
    "### 1b) Artificial variables (3 points)\n",
    "Let us make a new dataframe called: \n",
    "- `neighborhoods` \n",
    "  - This new dataframe contains the neighborhoods of Basel in a column called `wohnviertel_name.` Additionally, it should have a column called `increase_green_space` that has \n",
    "      - the number 1 if the amount of green space increased between 2015 and 2021 for this neighborhood\n",
    "      - the number 0 otherwise\n",
    "      \n",
    "*More formally:*\n",
    "$$\n",
    "  \\begin{equation}\n",
    "    increase\\_green\\_space=\n",
    "    \\begin{cases}\n",
    "      1, & \\text{if}\\ \\text{anteil\\_gruenflaechen\\_2021}[x] > \\text{ anteil\\_gruenflaechen\\_2015}[x], x \\in \\text { wohnviertelname}  \\\\\n",
    "      0, & \\text{otherwise}\n",
    "    \\end{cases}\n",
    "  \\end{equation}\n",
    "$$\n",
    "**Hints:** \n",
    "- Spread the data into two new dataframes: `bs_2021` and `bs_2015`. `bs_2021` will also be reused in this exercise sheet's last exercise.\n",
    "- Create from `bs_2021` and `bs_2015` a merged dataframe on the column `wohnviertel_name` and use the `suffixes=(2021,2015)` option "
   ]
  },
  {
   "cell_type": "code",
   "execution_count": null,
   "id": "e89085e7",
   "metadata": {
    "nbgrader": {
     "grade": false,
     "grade_id": "cell-ce997035c2a68011",
     "locked": false,
     "schema_version": 3,
     "solution": true,
     "task": false
    }
   },
   "outputs": [],
   "source": [
    "class Question1b:\n",
    "    ...\n",
    "    neighborhoods = ...\n",
    "    display(neighborhoods.head())"
   ]
  },
  {
   "cell_type": "code",
   "execution_count": null,
   "id": "579057ec",
   "metadata": {
    "deletable": false,
    "editable": false
   },
   "outputs": [],
   "source": [
    "grader.check(\"Question 1b\")"
   ]
  },
  {
   "cell_type": "markdown",
   "id": "f72b7c77",
   "metadata": {},
   "source": [
    "### 1c) Amount of neighborhoods with an increase in green spaces (2 points)"
   ]
  },
  {
   "cell_type": "markdown",
   "id": "b3a11e55",
   "metadata": {},
   "source": [
    "We want to verify if there was an increase or decrease in green spaces. For this, we work under the null hypothesis:\n",
    "$$ \\mathbb{P}(\\text{green spaces increase}) -0.5 = 0. $$\n",
    "\n",
    "\n",
    "What is the percentage of neighborhoods that had increased green spaces from 2015 to 2021? Save this decimal number (float) in the variable called `increase_2021`. <br>\n",
    "This value will let us calculate the difference to our null hypothesis value since it is our $ \\mathbb{P}(\\text{green spaces increase})$. Assign the difference of `increase_2021` to our null hypothesis value (0.5) to the variable called `difference_null_hypothesis` (float)."
   ]
  },
  {
   "cell_type": "code",
   "execution_count": null,
   "id": "b05b9f67",
   "metadata": {
    "nbgrader": {
     "grade": false,
     "grade_id": "cell-707efa52cfcacb2c",
     "locked": false,
     "schema_version": 3,
     "solution": true,
     "task": false
    }
   },
   "outputs": [],
   "source": [
    "class Question1c:\n",
    "    increase_2021 = ...\n",
    "    difference_null_hypothesis = ...\n",
    "    print(increase_2021, difference_null_hypothesis)"
   ]
  },
  {
   "cell_type": "code",
   "execution_count": null,
   "id": "6ef86de5",
   "metadata": {
    "deletable": false,
    "editable": false
   },
   "outputs": [],
   "source": [
    "grader.check(\"Question 1c\")"
   ]
  },
  {
   "cell_type": "markdown",
   "id": "01193004",
   "metadata": {},
   "source": [
    "### 1d) Calculate the p-value (3 points)\n",
    "What is the p-value for the significant difference in green space between 2015 and 2021? In other words: What is the p-value for: $$\n",
    "\\begin{align*}\n",
    "P(|mean2021 - 0.5| > \\text{observed\\_difference})\n",
    "\\end{align*}\n",
    "$$\n",
    "Assign the p-value to the variable called `p_value`\n",
    "\n",
    "*Hint:* Look at the slides from lecture 9 to find an example."
   ]
  },
  {
   "cell_type": "code",
   "execution_count": null,
   "id": "9cd59742",
   "metadata": {
    "nbgrader": {
     "grade": false,
     "grade_id": "cell-07f7fc5a4f401a11",
     "locked": false,
     "schema_version": 3,
     "solution": true,
     "task": false
    }
   },
   "outputs": [],
   "source": [
    "class Question1d:\n",
    "    ...\n",
    "    p_value = ...\n",
    "    print(\"The p-value is: \", p_value)"
   ]
  },
  {
   "cell_type": "code",
   "execution_count": null,
   "id": "1875fd0d",
   "metadata": {
    "deletable": false,
    "editable": false
   },
   "outputs": [],
   "source": [
    "grader.check(\"Question 1d\")"
   ]
  },
  {
   "cell_type": "markdown",
   "id": "fc324600",
   "metadata": {},
   "source": [
    "### 1e) Do we reject or fail to reject the null hypothesis based on our p value? (1 point)\n",
    "Here our significance value is 0.05.\n",
    "\n",
    "Please write your answer like this:\n",
    "* If we reject the null hypothesis: null_hypothesis = \"reject\"\n",
    "* If we can not reject the null hypothesis: null_hypothesis = \"fail to reject\"\n",
    "\n",
    "(Hint: Read the question carefully and google it if you're not sure what it means)"
   ]
  },
  {
   "cell_type": "markdown",
   "id": "e09e4982",
   "metadata": {
    "deletable": false,
    "editable": false
   },
   "source": [
    "<!-- BEGIN QUESTION -->\n",
    "\n",
    "<!--\n",
    "BEGIN QUESTION\n",
    "name: Question 1e      # (required) the path to a requirements.txt file\n",
    "manual: true     # whether this is a manually-graded question\n",
    "points: 1      # how many points this question is worth; defaults to 1 internally\n",
    "check_cell: false  # whether to include a check cell after this question (for autograded questions only)\n",
    "-->"
   ]
  },
  {
   "cell_type": "code",
   "execution_count": null,
   "id": "c0ad391e",
   "metadata": {
    "nbgrader": {
     "grade": false,
     "grade_id": "cell-e09f38db783d9e60",
     "locked": false,
     "schema_version": 3,
     "solution": true,
     "task": false
    }
   },
   "outputs": [],
   "source": [
    "class Question1e:\n",
    "    null_hypothesis = \"...\""
   ]
  },
  {
   "cell_type": "code",
   "execution_count": null,
   "id": "714e9ae5-8b72-4a68-a06c-9cf61513e334",
   "metadata": {},
   "outputs": [],
   "source": [
    "grader.check(\"Question 1e\")"
   ]
  },
  {
   "cell_type": "markdown",
   "id": "c2f4e6d2",
   "metadata": {},
   "source": [
    "<!-- END QUESTION -->\n",
    "\n",
    "\n",
    "\n",
    "## Question 2) Correlation and regression (5 points)\n",
    "\n",
    "### 2a) Plotting the correlation (2 points)\n",
    "Make a scatterplot **using pandas plotting** function that shows you how income tax `einkommenssteuer_pro_veranlagung` and apartment size `flaeche_pro_wohnung` are correlated. \n",
    "\n",
    "Plot **for the year 2021**: \n",
    "- `einkommenssteuer_pro_veranlagung` on the *x*-axis and  \n",
    "- `flaeche_pro_wohnung` on the *y*-axis.\n"
   ]
  },
  {
   "cell_type": "markdown",
   "id": "2f8c0831",
   "metadata": {
    "deletable": false,
    "editable": false
   },
   "source": [
    "<!-- BEGIN QUESTION -->\n",
    "\n",
    "<!--\n",
    "BEGIN QUESTION\n",
    "name: Question 2a      # (required) the path to a requirements.txt file\n",
    "manual: true     # whether this is a manually-graded question\n",
    "points: 2     # how many points this question is worth; defaults to 1 internally\n",
    "check_cell: false  # whether to include a check cell after this question (for autograded questions only)\n",
    "-->"
   ]
  },
  {
   "cell_type": "code",
   "execution_count": null,
   "id": "f0e660fc",
   "metadata": {
    "nbgrader": {
     "grade": true,
     "grade_id": "cell-30fc240c2ed71fb4",
     "locked": false,
     "points": 0,
     "schema_version": 3,
     "solution": true,
     "task": false
    }
   },
   "outputs": [],
   "source": [
    "class Question2a:\n",
    "    corr_plot = ...  # your scatter plot\n",
    "    display(corr_plot)"
   ]
  },
  {
   "cell_type": "code",
   "execution_count": null,
   "id": "ba512689-8ac6-415e-85db-98528bef75ba",
   "metadata": {},
   "outputs": [],
   "source": [
    "grader.check(\"Question 2a\")"
   ]
  },
  {
   "cell_type": "markdown",
   "id": "0d1f1a1f",
   "metadata": {},
   "source": [
    "<!-- END QUESTION -->\n",
    "\n",
    "\n",
    "\n",
    "### 2b) Correlation coefficient (1 point)\n",
    "What is the correlation coefficient between income tax and apartments size in Basel for 2021? Assign this number (float) to the variable called `corr_coeff`.\n",
    "\n",
    "*Hint:* pandas.dataframe has a function called `.corr()`"
   ]
  },
  {
   "cell_type": "code",
   "execution_count": null,
   "id": "3eacccc8",
   "metadata": {
    "nbgrader": {
     "grade": false,
     "grade_id": "cell-5a5ef833de831dee",
     "locked": false,
     "schema_version": 3,
     "solution": true,
     "task": false
    }
   },
   "outputs": [],
   "source": [
    "class Question2b:\n",
    "    corr_coeff = ...\n",
    "    print(\"correlation coefficient: \", corr_coeff)"
   ]
  },
  {
   "cell_type": "code",
   "execution_count": null,
   "id": "f07e778c",
   "metadata": {
    "deletable": false,
    "editable": false
   },
   "outputs": [],
   "source": [
    "grader.check(\"Question 2b\")"
   ]
  },
  {
   "cell_type": "markdown",
   "id": "62994d0b",
   "metadata": {},
   "source": [
    "### 2c) Plot another correlation (1 point)\n",
    "Make a scatter plot **using seaborn** that shows you how living space per person `wohnflaeche_pro_person` and apartment size `flaeche_pro_wohnung` are correlated **for the year 2021.**\n",
    "\n",
    "**General Remark:** If you have to plot something on the *x and y axis, always ask yourself: Which variable is dependent on the other?* "
   ]
  },
  {
   "cell_type": "markdown",
   "id": "640d8ba5",
   "metadata": {
    "deletable": false,
    "editable": false
   },
   "source": [
    "<!-- BEGIN QUESTION -->\n",
    "\n",
    "<!--\n",
    "BEGIN QUESTION\n",
    "name: Question 2c      # (required) the path to a requirements.txt file\n",
    "manual: true     # whether this is a manually-graded question\n",
    "points: 1    # how many points this question is worth; defaults to 1 internally\n",
    "check_cell: false  # whether to include a check cell after this question (for autograded questions only)\n",
    "-->"
   ]
  },
  {
   "cell_type": "code",
   "execution_count": null,
   "id": "403a4255",
   "metadata": {
    "nbgrader": {
     "grade": true,
     "grade_id": "cell-c1967853363f5c89",
     "locked": false,
     "points": 0,
     "schema_version": 3,
     "solution": true,
     "task": false
    }
   },
   "outputs": [],
   "source": [
    "class Question2c:\n",
    "    corr_plot = ...\n",
    "    display(corr_plot)"
   ]
  },
  {
   "cell_type": "code",
   "execution_count": null,
   "id": "9dc2a57a",
   "metadata": {},
   "outputs": [],
   "source": [
    "grader.check(\"Question 2c\")"
   ]
  },
  {
   "cell_type": "markdown",
   "id": "5cf7837f",
   "metadata": {},
   "source": [
    "<!-- END QUESTION -->\n",
    "\n",
    "\n",
    "\n",
    "What do you notice on this plot, what kind of correlation do you observe? What could be problematic about this correlation?\n",
    "Write your answer in the cell below as a comment (use #)."
   ]
  },
  {
   "cell_type": "code",
   "execution_count": null,
   "id": "815cb61b",
   "metadata": {
    "nbgrader": {
     "grade": true,
     "grade_id": "cell-bbd1af1856fa03f5",
     "locked": false,
     "points": 0,
     "schema_version": 3,
     "solution": true,
     "task": false
    }
   },
   "outputs": [],
   "source": [
    "# WRITE DOWN YOUR OBSERVATIONS"
   ]
  },
  {
   "cell_type": "markdown",
   "id": "29e21070",
   "metadata": {},
   "source": [
    "### 2d) Regression (1 point)\n",
    "\n",
    "Compute the **slope** `alpha` and **intercept** `beta` of the regression line that relates income tax (predictor) and apartment_size. \n",
    "\n",
    "Using the data from the year 2021 `Question1b.bs_2021`. Plot the data and the regression line.\n",
    "\n",
    "\n",
    "**Reminder:**$ \\text{ The regression line is defined as: } f(x) = \\alpha x + \\beta$\n",
    "$$\n",
    "\\begin{align*}\n",
    "&\\alpha = corr(x,y) \\cdot \\frac{\\sigma_y}{\\sigma_x}, &\\text{ } \\\\\n",
    "& \\beta = \\bar{y} - \\alpha \\cdot \\bar{x} \\\\\n",
    "& x = \\text{tax}, y = \\text{appartment size},  \\\\ \n",
    "& \\bar{x},\\text{ }\\bar{y} = \\text{arithmetic mean}\n",
    "\\end{align*}\n",
    "$$ \n",
    "\n",
    "*Hints:*\n",
    "- Make use of the following functions in pandas:  \n",
    "    - `mean()`\n",
    "    - `std()`\n",
    "    - `corr()`"
   ]
  },
  {
   "cell_type": "code",
   "execution_count": null,
   "id": "7d76c416",
   "metadata": {
    "nbgrader": {
     "grade": false,
     "grade_id": "cell-540ceba74e68d292",
     "locked": false,
     "schema_version": 3,
     "solution": true,
     "task": false
    }
   },
   "outputs": [],
   "source": [
    "class Question2d:\n",
    "\n",
    "    mean_income_tax = ...\n",
    "    stddev_income_tax = ...\n",
    "\n",
    "    mean_apartment_size = ...\n",
    "    stddev_apartment_size = ...\n",
    "  \n",
    "    corr = ...\n",
    "\n",
    "    alpha = ...\n",
    "    beta = ...\n",
    "\n",
    "    ..."
   ]
  },
  {
   "cell_type": "code",
   "execution_count": null,
   "id": "8ccd3cae",
   "metadata": {
    "deletable": false,
    "editable": false
   },
   "outputs": [],
   "source": [
    "grader.check(\"Question 2d\")"
   ]
  },
  {
   "cell_type": "markdown",
   "id": "0cb28e41",
   "metadata": {
    "deletable": false,
    "editable": false
   },
   "source": [
    "---\n",
    "\n",
    "To double-check your work, the cell below will rerun all of the autograder tests."
   ]
  },
  {
   "cell_type": "code",
   "execution_count": null,
   "id": "e14cc266",
   "metadata": {
    "deletable": false,
    "editable": false
   },
   "outputs": [],
   "source": [
    "grader.check_all()"
   ]
  },
  {
   "cell_type": "code",
   "execution_count": null,
   "id": "1402530e",
   "metadata": {},
   "outputs": [],
   "source": []
  }
 ],
 "metadata": {
  "celltoolbar": "Create Assignment",
  "kernelspec": {
   "display_name": "Python 3 (ipykernel)",
   "language": "python",
   "name": "conda-env-pids_2023-py"
  },
  "language_info": {
   "codemirror_mode": {
    "name": "ipython",
    "version": 3
   },
   "file_extension": ".py",
   "mimetype": "text/x-python",
   "name": "python",
   "nbconvert_exporter": "python",
   "pygments_lexer": "ipython3",
   "version": "3.12.3"
  }
 },
 "nbformat": 4,
 "nbformat_minor": 5
}
