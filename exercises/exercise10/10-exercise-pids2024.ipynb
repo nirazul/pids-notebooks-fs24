{
 "cells": [
  {
   "cell_type": "code",
   "id": "c1924d69-ad5a-4b81-92e1-e93833e224b0",
   "metadata": {
    "ExecuteTime": {
     "end_time": "2024-05-15T21:52:46.728955Z",
     "start_time": "2024-05-15T21:52:46.722420Z"
    }
   },
   "source": [
    "# Initialize Otter\n",
    "import otter\n",
    "\n",
    "grader = otter.Notebook(\"10-exercise-pids2024.ipynb\")"
   ],
   "outputs": [],
   "execution_count": 177
  },
  {
   "cell_type": "markdown",
   "id": "670d3603-9d27-40f8-af72-4ffc9d828d0f",
   "metadata": {},
   "source": [
    "# Exercise sheet 10\n",
    "\n",
    "**Hello everyone!**\n",
    "\n",
    "**Points: 15**\n",
    "\n",
    "Topics of this exercise sheet are:\n",
    "* Regression with scikit-learn\n",
    "* Neural networks\n",
    "* Overfitting\n",
    "\n",
    "Please let us know if you have questions or problems! <br>\n",
    "Contact us during the exercise session or on [Piazza](https://piazza.com/unibas.ch/spring2024/63982).\n",
    "\n",
    "**Automatic Feedback**\n",
    "\n",
    "This notebook can be automatically graded using Otter grader. To find how many points you get, simply run `grader.check_all()` from a new cell. "
   ]
  },
  {
   "cell_type": "code",
   "id": "de6a078f-c508-48af-8b53-fb060ef6ec27",
   "metadata": {
    "ExecuteTime": {
     "end_time": "2024-05-15T21:52:46.843916Z",
     "start_time": "2024-05-15T21:52:46.840614Z"
    }
   },
   "source": [
    "import numpy as np\n",
    "import pandas as pd\n",
    "import matplotlib.pyplot as plt\n",
    "\n",
    "from sklearn.neural_network import MLPRegressor, MLPClassifier\n",
    "from sklearn.preprocessing import StandardScaler\n",
    "from sklearn import linear_model\n",
    "from sklearn.metrics import r2_score, mean_squared_error"
   ],
   "outputs": [],
   "execution_count": 178
  },
  {
   "cell_type": "markdown",
   "id": "ebd92a25-5e0b-4297-be23-7279b54cf4ad",
   "metadata": {},
   "source": [
    "# Question 1: Diagnosing diabetes using linear regression (5 Points)\n",
    "In this initial exercise, you will implement a program that learns to diagnose diabetes based on various measurements. The prognosis here is a numerical value that describes the progression of the disease. Therefore, this is a regression problem.\n",
    "\n",
    "Let's load the data:"
   ]
  },
  {
   "cell_type": "code",
   "id": "555618dc-7866-4d68-baf4-ad18fe9d78c3",
   "metadata": {
    "ExecuteTime": {
     "end_time": "2024-05-15T21:52:46.878402Z",
     "start_time": "2024-05-15T21:52:46.863867Z"
    }
   },
   "source": [
    "df = pd.read_csv(\"daten/diabetes.csv\")\n",
    "df.head()"
   ],
   "outputs": [
    {
     "data": {
      "text/plain": [
       "   age  sex   bmi     bp   s1     s2    s3   s4      s5  s6  target\n",
       "0   59    2  32.1  101.0  157   93.2  38.0  4.0  4.8598  87     151\n",
       "1   48    1  21.6   87.0  183  103.2  70.0  3.0  3.8918  69      75\n",
       "2   72    2  30.5   93.0  156   93.6  41.0  4.0  4.6728  85     141\n",
       "3   24    1  25.3   84.0  198  131.4  40.0  5.0  4.8903  89     206\n",
       "4   50    1  23.0  101.0  192  125.4  52.0  4.0  4.2905  80     135"
      ],
      "text/html": [
       "<div>\n",
       "<style scoped>\n",
       "    .dataframe tbody tr th:only-of-type {\n",
       "        vertical-align: middle;\n",
       "    }\n",
       "\n",
       "    .dataframe tbody tr th {\n",
       "        vertical-align: top;\n",
       "    }\n",
       "\n",
       "    .dataframe thead th {\n",
       "        text-align: right;\n",
       "    }\n",
       "</style>\n",
       "<table border=\"1\" class=\"dataframe\">\n",
       "  <thead>\n",
       "    <tr style=\"text-align: right;\">\n",
       "      <th></th>\n",
       "      <th>age</th>\n",
       "      <th>sex</th>\n",
       "      <th>bmi</th>\n",
       "      <th>bp</th>\n",
       "      <th>s1</th>\n",
       "      <th>s2</th>\n",
       "      <th>s3</th>\n",
       "      <th>s4</th>\n",
       "      <th>s5</th>\n",
       "      <th>s6</th>\n",
       "      <th>target</th>\n",
       "    </tr>\n",
       "  </thead>\n",
       "  <tbody>\n",
       "    <tr>\n",
       "      <th>0</th>\n",
       "      <td>59</td>\n",
       "      <td>2</td>\n",
       "      <td>32.1</td>\n",
       "      <td>101.0</td>\n",
       "      <td>157</td>\n",
       "      <td>93.2</td>\n",
       "      <td>38.0</td>\n",
       "      <td>4.0</td>\n",
       "      <td>4.8598</td>\n",
       "      <td>87</td>\n",
       "      <td>151</td>\n",
       "    </tr>\n",
       "    <tr>\n",
       "      <th>1</th>\n",
       "      <td>48</td>\n",
       "      <td>1</td>\n",
       "      <td>21.6</td>\n",
       "      <td>87.0</td>\n",
       "      <td>183</td>\n",
       "      <td>103.2</td>\n",
       "      <td>70.0</td>\n",
       "      <td>3.0</td>\n",
       "      <td>3.8918</td>\n",
       "      <td>69</td>\n",
       "      <td>75</td>\n",
       "    </tr>\n",
       "    <tr>\n",
       "      <th>2</th>\n",
       "      <td>72</td>\n",
       "      <td>2</td>\n",
       "      <td>30.5</td>\n",
       "      <td>93.0</td>\n",
       "      <td>156</td>\n",
       "      <td>93.6</td>\n",
       "      <td>41.0</td>\n",
       "      <td>4.0</td>\n",
       "      <td>4.6728</td>\n",
       "      <td>85</td>\n",
       "      <td>141</td>\n",
       "    </tr>\n",
       "    <tr>\n",
       "      <th>3</th>\n",
       "      <td>24</td>\n",
       "      <td>1</td>\n",
       "      <td>25.3</td>\n",
       "      <td>84.0</td>\n",
       "      <td>198</td>\n",
       "      <td>131.4</td>\n",
       "      <td>40.0</td>\n",
       "      <td>5.0</td>\n",
       "      <td>4.8903</td>\n",
       "      <td>89</td>\n",
       "      <td>206</td>\n",
       "    </tr>\n",
       "    <tr>\n",
       "      <th>4</th>\n",
       "      <td>50</td>\n",
       "      <td>1</td>\n",
       "      <td>23.0</td>\n",
       "      <td>101.0</td>\n",
       "      <td>192</td>\n",
       "      <td>125.4</td>\n",
       "      <td>52.0</td>\n",
       "      <td>4.0</td>\n",
       "      <td>4.2905</td>\n",
       "      <td>80</td>\n",
       "      <td>135</td>\n",
       "    </tr>\n",
       "  </tbody>\n",
       "</table>\n",
       "</div>"
      ]
     },
     "execution_count": 179,
     "metadata": {},
     "output_type": "execute_result"
    }
   ],
   "execution_count": 179
  },
  {
   "cell_type": "markdown",
   "id": "9b6f090a-aaf5-40f4-8f31-a4380c0fd0d7",
   "metadata": {},
   "source": [
    "Each row represents the measurements for one patient. All measurements have been standardized by subtracting the mean value, and the last column target quantifies the progression of diabetes after one year. All measurements are standardized, thus the other columns correspond to the following measurements:\n",
    "\n",
    "    age: Age in years.\n",
    "    sex: Biological sex, encoded and standardized as a numerical value.\n",
    "    bmi: Body Mass Index (BMI).\n",
    "    bp: Average blood pressure (in mm Hg).\n",
    "    s1: Total serum cholesterol level (in mg/dL).\n",
    "    s2: Low-density cholesterol (LDL) (in mg/dL).\n",
    "    s3: High-density cholesterol (HDL) (in mg/dL).\n",
    "    s4: Total serum triglyceride level (in mg/dL).\n",
    "    s5: Liver enzyme Alanine Aminotransferase (ALT).\n",
    "    s6: Fasting blood sugar level (in mg/dL)."
   ]
  },
  {
   "cell_type": "markdown",
   "id": "3b371902-5f25-4e91-8e9c-46651bfb9487",
   "metadata": {},
   "source": [
    "### Queston 1a) (1 Point)\n",
    "\n",
    "Create two DataFrames X and y. Here, y should contain only the target values and X all the other columns."
   ]
  },
  {
   "cell_type": "code",
   "id": "e59e848c-5cdf-4035-bb3a-d5e5fd34b002",
   "metadata": {
    "ExecuteTime": {
     "end_time": "2024-05-15T21:52:46.901141Z",
     "start_time": "2024-05-15T21:52:46.897160Z"
    }
   },
   "source": [
    "class Question1a:\n",
    "    X = df[df.columns.drop(['target'])]\n",
    "    y = df['target']"
   ],
   "outputs": [],
   "execution_count": 180
  },
  {
   "cell_type": "code",
   "id": "4fc93e72-2e88-4c6a-8df7-af6c86bb9463",
   "metadata": {
    "ExecuteTime": {
     "end_time": "2024-05-15T21:52:46.929736Z",
     "start_time": "2024-05-15T21:52:46.922587Z"
    }
   },
   "source": [
    "grader.check(\"Question 1a\")"
   ],
   "outputs": [
    {
     "data": {
      "text/plain": [
       "Question 1a results: All test cases passed!"
      ],
      "text/html": [
       "<p><strong><pre style='display: inline;'>Question 1a</pre></strong> passed! ✨</p>"
      ]
     },
     "execution_count": 181,
     "metadata": {},
     "output_type": "execute_result"
    }
   ],
   "execution_count": 181
  },
  {
   "cell_type": "markdown",
   "id": "35695b79-c242-49a4-a961-8555e54a9d61",
   "metadata": {},
   "source": [
    "### 1b) Fit the linear regression model (2 Points)\n",
    "\n",
    "Create a linear regression model using [scikit-learn](https://scikit-learn.org/stable/index.html)  and fit a linear regression to the diabetes dataset.\n",
    "(You can find explanations and examples [here](https://scikit-learn.org/stable/modules/linear_model.html#ordinary-least-squares)). Make predictions of the data in `X` with your model and store them in the variabel `y_pred`."
   ]
  },
  {
   "cell_type": "code",
   "id": "a3fd95e0-8afb-42e9-b29d-3ce4c60ebfbf",
   "metadata": {
    "ExecuteTime": {
     "end_time": "2024-05-15T21:52:46.989672Z",
     "start_time": "2024-05-15T21:52:46.979983Z"
    }
   },
   "source": [
    "class Question1b:\n",
    "    X = Question1a.X\n",
    "    y = Question1a.y\n",
    "\n",
    "    reg = linear_model.LinearRegression()\n",
    "    reg.fit(X, y)\n",
    "\n",
    "    print(reg)\n",
    "\n",
    "    y_pred = reg.predict(X)"
   ],
   "outputs": [
    {
     "name": "stdout",
     "output_type": "stream",
     "text": [
      "LinearRegression()\n"
     ]
    }
   ],
   "execution_count": 182
  },
  {
   "cell_type": "code",
   "id": "aa65201b-7816-421a-998e-4eb194e6092c",
   "metadata": {
    "ExecuteTime": {
     "end_time": "2024-05-15T21:52:47.015017Z",
     "start_time": "2024-05-15T21:52:47.007097Z"
    }
   },
   "source": [
    "grader.check(\"Question 1b\")"
   ],
   "outputs": [
    {
     "data": {
      "text/plain": [
       "Question 1b results: All test cases passed!"
      ],
      "text/html": [
       "<p><strong><pre style='display: inline;'>Question 1b</pre></strong> passed! 💯</p>"
      ]
     },
     "execution_count": 183,
     "metadata": {},
     "output_type": "execute_result"
    }
   ],
   "execution_count": 183
  },
  {
   "cell_type": "markdown",
   "id": "9534db0e-c2be-4da0-ba33-8cacbd87197c",
   "metadata": {},
   "source": [
    "### 1c) Evaluate the linear regression model (2 Points)\n",
    "\n",
    "Next, you should evaluate your model. Scikit-learn provides various metrics for this purpose. We will use the mean squared error [mean_squared_error](https://scikit-learn.org/stable/modules/generated/sklearn.metrics.mean_squared_error.html#sklearn.metrics.mean_squared_error) and the [r2_score](https://scikit-learn.org/stable/modules/generated/sklearn.metrics.r2_score.html#sklearn.metrics.r2_score). While the mean squared error should be familiar, the r2_score is maybe not. The r2_score (also known as the Coefficient of determination or measure of explained variance) is a dimensionless number typically ranging from 0 to 1. A value of 1 means that the data has been perfectly explained. A value of 0 means that the prediction is no better than if one had simply used the average of the target values for the prediction. Negative values indicate that the prediction is even worse than if one had not used the measurements at all and always estimated the mean value. \n",
    "\n",
    "Compute the r2 score and the mean squared error using the metrics from scikit learn. How do you interpret the results? "
   ]
  },
  {
   "cell_type": "code",
   "id": "63cc2800-0bf7-4140-af80-c5259ed5e354",
   "metadata": {
    "ExecuteTime": {
     "end_time": "2024-05-15T21:52:47.107198Z",
     "start_time": "2024-05-15T21:52:47.098681Z"
    }
   },
   "source": [
    "class Question1c:\n",
    "    mse = mean_squared_error(Question1b.y_pred, Question1b.y)\n",
    "    r2 = r2_score(Question1b.y, Question1b.y_pred)\n",
    "    print(f\"mse: {mse}, r2 score: {r2}\")"
   ],
   "outputs": [
    {
     "name": "stdout",
     "output_type": "stream",
     "text": [
      "mse: 2881.0519254794312, r2 score: 0.5032777882050409\n"
     ]
    }
   ],
   "execution_count": 184
  },
  {
   "cell_type": "code",
   "id": "2359ede8-bac4-465c-b695-30f348ee773f",
   "metadata": {
    "ExecuteTime": {
     "end_time": "2024-05-15T21:52:47.148794Z",
     "start_time": "2024-05-15T21:52:47.143006Z"
    }
   },
   "source": [
    "grader.check(\"Question 1c\")"
   ],
   "outputs": [
    {
     "data": {
      "text/plain": [
       "Question 1c results: All test cases passed!"
      ],
      "text/html": [
       "<p><strong><pre style='display: inline;'>Question 1c</pre></strong> passed! ✨</p>"
      ]
     },
     "execution_count": 185,
     "metadata": {},
     "output_type": "execute_result"
    }
   ],
   "execution_count": 185
  },
  {
   "cell_type": "markdown",
   "id": "436dbbcd-b551-41a9-b50f-e9f93a04cd0f",
   "metadata": {},
   "source": [
    "## Question 2: Diagnosing Diabetes using Neural Networks (5 Points)\n",
    "\n",
    "In this task, you will again use the diabetes dataset from the previous task, but this time train a neural network to diagnose the disease. For this purpose, we will again use scikit-learn.\n",
    "\n",
    "Scikit-learn supports only one type of neural network, namely the so-called Multilayer Perceptrons. These are neural networks in which each neuron in a layer is connected to all neurons in the next layer. Accordingly, the definition of the network is simple. You can specify the number of neurons in the hidden layers through a list. Multilayer Perceptrons can be used for both regression and classification ([MLPClassifier](https://scikit-learn.org/stable/modules/generated/sklearn.neural_network.MLPClassifier.html)). Take a look at the documentation for [MLPRegressor](https://scikit-learn.org/stable/modules/generated/sklearn.neural_network.MLPRegressor.html) to get an overview of how to use the model.\n"
   ]
  },
  {
   "cell_type": "markdown",
   "id": "32e22b29",
   "metadata": {},
   "source": []
  },
  {
   "cell_type": "markdown",
   "id": "065dd945-fc95-48d3-b9d8-58e027c35c2f",
   "metadata": {},
   "source": [
    "### Question 2a) Scaling the data (2 Points)\n",
    "\n",
    "\n",
    "Since we need to find the parameters through optimization in neural networks, it is often helpful to scale the data so that the observations for each measurement have a mean of 0 and the same standard deviation. You can achieve this using the following code snippet, which utilizes the [StandardScaler](https://scikit-learn.org/stable/modules/generated/sklearn.preprocessing.StandardScaler.html) from scikit-learn."
   ]
  },
  {
   "cell_type": "code",
   "id": "826247c3-e036-42cd-9ae9-3baa25a68042",
   "metadata": {
    "ExecuteTime": {
     "end_time": "2024-05-15T21:52:47.250539Z",
     "start_time": "2024-05-15T21:52:47.238110Z"
    }
   },
   "source": [
    "class Question2a:\n",
    "    scaler = StandardScaler()\n",
    "    scaler.fit(Question1a.X)\n",
    "    X_scaled = scaler.transform(Question1a.X)\n",
    "\n",
    "    print(f\"mean {X_scaled.mean(axis=0)} stddev {X_scaled.std(axis=0)}\")"
   ],
   "outputs": [
    {
     "name": "stdout",
     "output_type": "stream",
     "text": [
      "mean [-8.14375628e-17  9.41621820e-17 -8.14375628e-16  8.24555324e-16\n",
      "  1.32336040e-16  6.71859893e-16  4.07187814e-17 -1.01796954e-16\n",
      "  2.21917359e-15  4.27547205e-16] stddev [1. 1. 1. 1. 1. 1. 1. 1. 1. 1.]\n"
     ]
    }
   ],
   "execution_count": 186
  },
  {
   "cell_type": "code",
   "id": "78114341-b986-4b1e-be84-936ee894c62e",
   "metadata": {
    "ExecuteTime": {
     "end_time": "2024-05-15T21:52:47.289689Z",
     "start_time": "2024-05-15T21:52:47.282516Z"
    }
   },
   "source": [
    "grader.check(\"Question 2a\")"
   ],
   "outputs": [
    {
     "data": {
      "text/plain": [
       "Question 2a results: All test cases passed!"
      ],
      "text/html": [
       "<p><strong><pre style='display: inline;'>Question 2a</pre></strong> passed! 🍀</p>"
      ]
     },
     "execution_count": 187,
     "metadata": {},
     "output_type": "execute_result"
    }
   ],
   "execution_count": 187
  },
  {
   "cell_type": "markdown",
   "id": "81c83165-6234-4f9b-99d5-c95fd885e671",
   "metadata": {},
   "source": [
    "### Question 2b: Training a neural network (3 Points)"
   ]
  },
  {
   "cell_type": "markdown",
   "id": "68f763bd-be70-48bb-b044-666651f7fdac",
   "metadata": {},
   "source": [
    "Now define a neural network with 1 hidden layer, containing 10 neurons. Compute predications and calculate the `r2_score` again. Set the number of iterations for optimization (`max_iter`) to 30000 (see [Documentation](https://scikit-learn.org/stable/modules/generated/sklearn.neural_network.MLPRegressor.html))."
   ]
  },
  {
   "cell_type": "code",
   "id": "93e53302-9457-4d10-ab43-86cc69ffabdf",
   "metadata": {
    "scrolled": true,
    "ExecuteTime": {
     "end_time": "2024-05-15T21:52:55.903907Z",
     "start_time": "2024-05-15T21:52:47.335035Z"
    }
   },
   "source": [
    "class Question2b:\n",
    "    mlp = MLPRegressor(hidden_layer_sizes=(10,), max_iter=30000, random_state=420)\n",
    "    mlp.fit(Question2a.X_scaled, np.squeeze(Question1a.y))\n",
    "    y_pred = mlp.predict(Question2a.X_scaled)\n",
    "    r2 = r2_score(Question1a.y, y_pred)\n",
    "    print(f\"r2_score: {r2}\")"
   ],
   "outputs": [
    {
     "name": "stdout",
     "output_type": "stream",
     "text": [
      "r2_score: 0.6215946209980502\n"
     ]
    }
   ],
   "execution_count": 188
  },
  {
   "cell_type": "code",
   "id": "51211603-ac3e-4449-a8e8-20c0721317a8",
   "metadata": {
    "ExecuteTime": {
     "end_time": "2024-05-15T21:52:55.913870Z",
     "start_time": "2024-05-15T21:52:55.906981Z"
    }
   },
   "source": [
    "grader.check(\"Question 2b\")"
   ],
   "outputs": [
    {
     "data": {
      "text/plain": [
       "Question 2b results: All test cases passed!"
      ],
      "text/html": [
       "<p><strong><pre style='display: inline;'>Question 2b</pre></strong> passed! 💯</p>"
      ]
     },
     "execution_count": 189,
     "metadata": {},
     "output_type": "execute_result"
    }
   ],
   "execution_count": 189
  },
  {
   "cell_type": "markdown",
   "id": "8c7161d5-3613-46ed-8dd7-97abb9b1280c",
   "metadata": {},
   "source": [
    "# Question 3 Overfitting (5 Points)\n",
    "\n",
    "\n",
    "When we define machine learning models with many parameters, there is a risk that they will not learn the patterns in the data, but simply memorize the data. As preparation for the next lecture, we want to investigate this phenomenon in this task."
   ]
  },
  {
   "cell_type": "markdown",
   "id": "a08af22a-912e-48d9-9646-28935acdaf97",
   "metadata": {},
   "source": [
    "### Question 3a (2 Points)\n",
    "\n",
    "Copy your solution from above and fit the model again. This time, however, use multiple hidden layers and a larger number of neurons. Can you achieve an `r2_score` of over 0.99?\n"
   ]
  },
  {
   "cell_type": "code",
   "id": "07a67504-7526-49aa-b289-4329e5232bf5",
   "metadata": {
    "ExecuteTime": {
     "end_time": "2024-05-15T21:53:00.781227Z",
     "start_time": "2024-05-15T21:52:55.915957Z"
    }
   },
   "source": [
    "class Question3a:\n",
    "    mlp = MLPRegressor(hidden_layer_sizes=(40, 40, 40), max_iter=30000, random_state=420)\n",
    "    mlp.fit(Question2a.X_scaled, np.squeeze(Question1a.y))\n",
    "    y_pred = mlp.predict(Question2a.X_scaled)\n",
    "    r2 = r2_score(Question1a.y, y_pred)\n",
    "\n",
    "    print(Question1a.y)\n",
    "    print('---')\n",
    "    print(y_pred)\n",
    "\n",
    "    print(f\"r2_score: {r2}\")"
   ],
   "outputs": [
    {
     "name": "stdout",
     "output_type": "stream",
     "text": [
      "     target\n",
      "0       151\n",
      "1        75\n",
      "2       141\n",
      "3       206\n",
      "4       135\n",
      "..      ...\n",
      "344     200\n",
      "345     139\n",
      "346     139\n",
      "347      88\n",
      "348     148\n",
      "\n",
      "[349 rows x 1 columns]\n",
      "---\n",
      "[166.77015827  59.047549   149.84396788 204.99355256 134.1493321\n",
      "  96.94935819 136.5946819   63.38456955 101.89024896 309.79360454\n",
      "  99.64228952  69.78294889 169.7830803  185.79289519 120.16887594\n",
      " 168.1566964  166.09157873 148.76363909  96.756097   170.79211513\n",
      "  68.13617205  50.89106029  69.88752807 246.15948337 181.61883234\n",
      " 200.35281061 136.58375585  83.75068804 129.55646479 283.60602302\n",
      " 127.61241312  57.17888538 342.05832149  86.2851749   64.5619283\n",
      " 102.63506786 265.88911206 275.16625033 249.60387022  90.92416202\n",
      " 102.8905221   54.04810809  57.38821939  92.37217958 252.51132305\n",
      "  53.95396694 184.96787173 136.49706816  75.94997293 136.16997267\n",
      " 153.5917611  184.13217626  60.05216325 104.27855226 181.487435\n",
      " 129.28235485  51.0449808   37.59392375 170.67764288 170.32186061\n",
      "  57.83012468 153.75498411  55.76001676 129.13141576  73.58401024\n",
      " 167.66889306 129.43502033 120.27783427 136.85049325 176.58515565\n",
      "  48.51699804 269.11701804 198.41106658 111.40347186  84.97433836\n",
      "  37.91778967 169.10565226 198.66260169 251.43249286 110.69646498\n",
      " 143.28705044  56.51404834  51.43358763 207.8867515   63.55257311\n",
      " 138.23333347  52.17634114 135.23517883  41.55227147 111.08984182\n",
      "  96.66352341 162.51084974  48.59439542  96.28836774  89.65829208\n",
      " 161.32945246 165.57947004 278.14917254  85.96678299  81.18513821\n",
      " 125.87380384 101.98935429 302.08048791 194.95168669  96.58384015\n",
      "  66.39061446 138.30868545 143.54909256 226.40231713  81.55192115\n",
      " 104.23496687  55.50400212 244.99950693 288.83825855 255.84883693\n",
      " 229.19953813 252.31089682 281.03227935 176.38265492 200.71942787\n",
      " 196.2320093  174.49543585 179.36762367  81.71884354 116.90874502\n",
      " 157.14449725 101.85795237 108.68169746 115.82615404 264.60002066\n",
      " 272.92075841 152.12878098 108.04052163  77.69399917 103.57244318\n",
      " 268.71511109  81.33453798 281.23745769 323.77886928 279.36542134\n",
      " 107.2402981  313.47994809 220.60246386  59.6159569  166.27803613\n",
      " 256.94610675 177.3323446  125.04930495  94.24464916 123.84301437\n",
      " 288.13462016  87.22105689 290.06709526  66.43081149 187.93066867\n",
      " 186.43261419  29.06043187  78.39687247  99.1751539  192.42420883\n",
      "  53.61741518 212.81434697 171.89401911 131.87961796 216.22869058\n",
      "  60.20450462  69.10220887 214.28844817 272.69681754 150.91310095\n",
      "  46.59643496  75.06539497 290.73247542 105.03232682 149.53962828\n",
      " 127.76847053 227.2031779  217.48233955  78.60205304 149.5272055\n",
      " 101.69065126  62.51912142 135.30858612 181.69380332 262.72576164\n",
      " 100.97705119 134.2214208  144.17440531 141.22181722  79.6316516\n",
      " 288.80063925 174.58188511  90.85464416 115.12813574  84.25552417\n",
      " 135.23374734  71.1168352  128.03013136 140.45108623  89.26124176\n",
      " 156.87102392  38.57555708 194.15303977 219.31614808 280.13560726\n",
      "  96.46793444 188.28238819 200.24794645 151.77142359  79.3539033\n",
      " 191.80369378  69.04896939  73.59804149  45.78629448  64.09293514\n",
      " 273.97408114 242.27082284 295.01265765 210.31419722 183.09053123\n",
      "  76.2157238   96.52407684 250.73461804 149.18996559  73.45573816\n",
      " 207.53892476  75.43755932 108.39915112 161.87169644  48.87635759\n",
      " 217.00094639 153.05123365 251.30016032  91.1812184  248.78180086\n",
      " 117.25579947  65.70666432  72.51558868 253.16585051 258.88682041\n",
      " 277.13154452 172.68321142  67.56308525  41.08552995 181.78732009\n",
      " 123.4277749   77.19187496  52.30027167 254.61391324 214.73105628\n",
      " 301.61640212 240.48248452  90.6729125  148.10937945 300.13479551\n",
      " 153.81098847 342.74774151  63.0877278   91.06224229  49.31558747\n",
      "  41.01880447 101.87483512 305.50147656 114.01470024 139.27320025\n",
      "  71.79110819  43.40963931 114.20112753 260.88298378  86.16424589\n",
      " 199.92002067 129.50158349 181.53748378 241.04868561  65.49352974\n",
      "  96.76033946 281.51324038  63.2895222   93.51234015 197.635131\n",
      " 263.45989173  92.58711037 225.89031897 172.98215298 155.988136\n",
      " 233.16335484  58.60206592 219.23441889  78.7106115   66.01002938\n",
      " 327.65130072 246.54092692  86.37195956 198.95375891  56.25491755\n",
      "  85.61725831  89.94674723  31.39122211 130.36564517  98.0932906\n",
      " 276.55375671  62.97827667 195.66220996 236.80786884 251.81338435\n",
      " 123.94218567  56.59319259 168.50021474 112.77642897 142.00162809\n",
      " 105.83241806 178.47587749 141.42951229 194.27326006 146.89890949\n",
      "  98.32113556 207.69569156 189.57719096 107.05096159 192.96360102\n",
      " 120.12454406 227.98053047 237.37017741 244.89781327 244.88113215\n",
      " 192.77948889 138.96728456 235.85112762  76.63519974 134.45346137\n",
      " 243.18215619 195.27460701 267.64206605 141.73823173  78.48544444\n",
      " 117.23604291 303.71970373  99.59095951 206.91942645  93.75841123\n",
      " 216.67463491 262.45071921 179.78432267 114.6709547  199.6727367\n",
      " 135.54129392 133.88273318  87.50013732 148.17514166]\n",
      "r2_score: 0.9946155734246784\n"
     ]
    }
   ],
   "execution_count": 190
  },
  {
   "cell_type": "code",
   "id": "e28805d3-aff8-4350-8c4b-2bf26dbf17c8",
   "metadata": {
    "ExecuteTime": {
     "end_time": "2024-05-15T21:53:00.792306Z",
     "start_time": "2024-05-15T21:53:00.784790Z"
    }
   },
   "source": [
    "grader.check(\"Question 3a\")"
   ],
   "outputs": [
    {
     "data": {
      "text/plain": [
       "Question 3a results:\n",
       "    Question 3a - 1 result:\n",
       "        ❌ Test case failed\n",
       "        Error at line 14 in test Question 3a:\n",
       "             assert_true((y - y_pred).abs().mean() < 15)\n",
       "        ValueError: Unable to coerce to Series, length must be 1: given 349"
      ],
      "text/html": [
       "<p><strong style='color: red;'><pre style='display: inline;'>Question 3a</pre> results:</strong></p><p><strong><pre style='display: inline;'>Question 3a - 1</pre> result:</strong></p><pre>    ❌ Test case failed\n",
       "    Error at line 14 in test Question 3a:\n",
       "         assert_true((y - y_pred).abs().mean() < 15)\n",
       "    ValueError: Unable to coerce to Series, length must be 1: given 349</pre>"
      ]
     },
     "execution_count": 191,
     "metadata": {},
     "output_type": "execute_result"
    }
   ],
   "execution_count": 191
  },
  {
   "cell_type": "markdown",
   "id": "7ea051b3-abf4-4a33-95bd-30a6ee3a4ccd",
   "metadata": {},
   "source": [
    "### Question 3b: Predicting on the test set (3 Points) \n",
    "\n",
    "We have created a second dataset `diabetes_test.csv` for you. This contains data from additional patients. Take the adjusted model and make predictions for these patients. What do you observe? What is the `r2_score`? Tip: don't forget to scale the measurements again."
   ]
  },
  {
   "cell_type": "code",
   "id": "efb74476-7f9c-48b7-a1fb-a256eadaf5a5",
   "metadata": {
    "ExecuteTime": {
     "end_time": "2024-05-15T21:53:00.810295Z",
     "start_time": "2024-05-15T21:53:00.794305Z"
    }
   },
   "source": [
    "class Question3b:\n",
    "    df_test = pd.read_csv(\"daten/diabetes_test.csv\")\n",
    "\n",
    "    X_test = df_test[df_test.columns.drop(['target'])]\n",
    "    y_test = df_test[['target']].copy()\n",
    "\n",
    "    scaler = StandardScaler()\n",
    "    scaler.fit(X_test)\n",
    "\n",
    "    mlp = Question3a.mlp\n",
    "\n",
    "    X_test_scaled = scaler.transform(X_test)\n",
    "    y_pred_test = mlp.predict(X_test_scaled)\n",
    "    r2 = r2_score(y_test, y_pred_test)\n",
    "    print(\"r2 test: \", r2)"
   ],
   "outputs": [
    {
     "name": "stdout",
     "output_type": "stream",
     "text": [
      "r2 test:  -0.6686289649121682\n"
     ]
    }
   ],
   "execution_count": 192
  },
  {
   "cell_type": "code",
   "id": "ba010afe-0791-4f98-b2c9-639d886b4226",
   "metadata": {
    "ExecuteTime": {
     "end_time": "2024-05-15T21:53:00.819644Z",
     "start_time": "2024-05-15T21:53:00.812314Z"
    }
   },
   "source": [
    "grader.check(\"Question 3b\")"
   ],
   "outputs": [
    {
     "data": {
      "text/plain": [
       "Question 3b results: All test cases passed!"
      ],
      "text/html": [
       "<p><strong><pre style='display: inline;'>Question 3b</pre></strong> passed! 🚀</p>"
      ]
     },
     "execution_count": 193,
     "metadata": {},
     "output_type": "execute_result"
    }
   ],
   "execution_count": 193
  },
  {
   "cell_type": "markdown",
   "id": "6fc13b84-9ed9-4e0d-bb26-4c9eb3b11853",
   "metadata": {},
   "source": [
    " What do you observe? Can you explain the behaviour?"
   ]
  },
  {
   "cell_type": "markdown",
   "id": "68bb1811-4a08-400c-9d38-5a2a0883cece",
   "metadata": {},
   "source": [
    "Your answer"
   ]
  },
  {
   "cell_type": "code",
   "id": "bd593f18-ab3d-4323-a13c-2e69a2689e31",
   "metadata": {
    "ExecuteTime": {
     "end_time": "2024-05-15T21:53:00.844951Z",
     "start_time": "2024-05-15T21:53:00.822085Z"
    }
   },
   "source": [
    "grader.check_all()"
   ],
   "outputs": [
    {
     "data": {
      "text/plain": [
       "Question 1a results: All test cases passed!\n",
       "\n",
       "Question 1b results: All test cases passed!\n",
       "\n",
       "Question 1c results: All test cases passed!\n",
       "\n",
       "Question 2a results: All test cases passed!\n",
       "\n",
       "Question 2b results: All test cases passed!\n",
       "\n",
       "Question 3a results:\n",
       "    Question 3a - 1 result:\n",
       "        ❌ Test case failed\n",
       "        Error at line 14 in test Question 3a:\n",
       "             assert_true((y - y_pred).abs().mean() < 15)\n",
       "        ValueError: Unable to coerce to Series, length must be 1: given 349\n",
       "\n",
       "Question 3b results: All test cases passed!"
      ]
     },
     "execution_count": 194,
     "metadata": {},
     "output_type": "execute_result"
    }
   ],
   "execution_count": 194
  },
  {
   "cell_type": "code",
   "id": "a3999c44-bcbc-43cc-9d22-79165a03b007",
   "metadata": {
    "ExecuteTime": {
     "end_time": "2024-05-15T21:53:00.850067Z",
     "start_time": "2024-05-15T21:53:00.847312Z"
    }
   },
   "source": [],
   "outputs": [],
   "execution_count": 194
  }
 ],
 "metadata": {
  "kernelspec": {
   "display_name": "Python 3 (ipykernel)",
   "language": "python",
   "name": "python3"
  },
  "language_info": {
   "codemirror_mode": {
    "name": "ipython",
    "version": 3
   },
   "file_extension": ".py",
   "mimetype": "text/x-python",
   "name": "python",
   "nbconvert_exporter": "python",
   "pygments_lexer": "ipython3",
   "version": "3.9.19"
  }
 },
 "nbformat": 4,
 "nbformat_minor": 5
}
