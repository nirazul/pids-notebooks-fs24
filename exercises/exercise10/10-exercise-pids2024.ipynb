{
 "cells": [
  {
   "cell_type": "code",
   "execution_count": null,
   "id": "c1924d69-ad5a-4b81-92e1-e93833e224b0",
   "metadata": {},
   "outputs": [],
   "source": [
    "# Initialize Otter\n",
    "import otter\n",
    "grader = otter.Notebook(\"10-exercise-pids2024.ipynb\")"
   ]
  },
  {
   "cell_type": "markdown",
   "id": "670d3603-9d27-40f8-af72-4ffc9d828d0f",
   "metadata": {},
   "source": [
    "# Exercise sheet 10\n",
    "\n",
    "**Hello everyone!**\n",
    "\n",
    "**Points: 15**\n",
    "\n",
    "Topics of this exercise sheet are:\n",
    "* Regression with scikit-learn\n",
    "* Neural networks\n",
    "* Overfitting\n",
    "\n",
    "Please let us know if you have questions or problems! <br>\n",
    "Contact us during the exercise session or on [Piazza](https://piazza.com/unibas.ch/spring2024/63982).\n",
    "\n",
    "**Automatic Feedback**\n",
    "\n",
    "This notebook can be automatically graded using Otter grader. To find how many points you get, simply run `grader.check_all()` from a new cell. "
   ]
  },
  {
   "cell_type": "code",
   "execution_count": null,
   "id": "de6a078f-c508-48af-8b53-fb060ef6ec27",
   "metadata": {},
   "outputs": [],
   "source": [
    "import numpy as np\n",
    "import pandas as pd\n",
    "import matplotlib.pyplot as plt\n",
    "\n",
    "from sklearn.neural_network import MLPRegressor, MLPClassifier\n",
    "from sklearn.preprocessing import StandardScaler\n",
    "from sklearn import linear_model\n",
    "from sklearn.metrics import r2_score, mean_squared_error"
   ]
  },
  {
   "cell_type": "markdown",
   "id": "ebd92a25-5e0b-4297-be23-7279b54cf4ad",
   "metadata": {},
   "source": [
    "# Question 1: Diagnosing diabetes using linear regression (5 Points)\n",
    "In this initial exercise, you will implement a program that learns to diagnose diabetes based on various measurements. The prognosis here is a numerical value that describes the progression of the disease. Therefore, this is a regression problem.\n",
    "\n",
    "Let's load the data:"
   ]
  },
  {
   "cell_type": "code",
   "execution_count": null,
   "id": "555618dc-7866-4d68-baf4-ad18fe9d78c3",
   "metadata": {},
   "outputs": [],
   "source": [
    "df = pd.read_csv(\"daten/diabetes.csv\")\n",
    "df.head()"
   ]
  },
  {
   "cell_type": "markdown",
   "id": "9b6f090a-aaf5-40f4-8f31-a4380c0fd0d7",
   "metadata": {},
   "source": [
    "Each row represents the measurements for one patient. All measurements have been standardized by subtracting the mean value, and the last column target quantifies the progression of diabetes after one year. All measurements are standardized, thus the other columns correspond to the following measurements:\n",
    "\n",
    "    age: Age in years.\n",
    "    sex: Biological sex, encoded and standardized as a numerical value.\n",
    "    bmi: Body Mass Index (BMI).\n",
    "    bp: Average blood pressure (in mm Hg).\n",
    "    s1: Total serum cholesterol level (in mg/dL).\n",
    "    s2: Low-density cholesterol (LDL) (in mg/dL).\n",
    "    s3: High-density cholesterol (HDL) (in mg/dL).\n",
    "    s4: Total serum triglyceride level (in mg/dL).\n",
    "    s5: Liver enzyme Alanine Aminotransferase (ALT).\n",
    "    s6: Fasting blood sugar level (in mg/dL)."
   ]
  },
  {
   "cell_type": "markdown",
   "id": "3b371902-5f25-4e91-8e9c-46651bfb9487",
   "metadata": {},
   "source": [
    "### Queston 1a) (1 Point)\n",
    "\n",
    "Create two DataFrames X and y. Here, y should contain only the target values and X all the other columns."
   ]
  },
  {
   "cell_type": "code",
   "execution_count": null,
   "id": "e59e848c-5cdf-4035-bb3a-d5e5fd34b002",
   "metadata": {},
   "outputs": [],
   "source": [
    "class Question1a:\n",
    "    X = ...\n",
    "    y = ..."
   ]
  },
  {
   "cell_type": "code",
   "execution_count": null,
   "id": "4fc93e72-2e88-4c6a-8df7-af6c86bb9463",
   "metadata": {},
   "outputs": [],
   "source": [
    "grader.check(\"Question 1a\")"
   ]
  },
  {
   "cell_type": "markdown",
   "id": "35695b79-c242-49a4-a961-8555e54a9d61",
   "metadata": {},
   "source": [
    "### 1b) Fit the linear regression model (2 Points)\n",
    "\n",
    "Create a linear regression model using [scikit-learn](https://scikit-learn.org/stable/index.html)  and fit a linear regression to the diabetes dataset.\n",
    "(You can find explanations and examples [here](https://scikit-learn.org/stable/modules/linear_model.html#ordinary-least-squares)). Make predictions of the data in `X` with your model and store them in the variabel `y_pred`."
   ]
  },
  {
   "cell_type": "code",
   "execution_count": null,
   "id": "a3fd95e0-8afb-42e9-b29d-3ce4c60ebfbf",
   "metadata": {},
   "outputs": [],
   "source": [
    "class Question1b:\n",
    "    X = Question1a.X\n",
    "    y = Question1a.y\n",
    "    ...\n",
    "    y_pred = ..."
   ]
  },
  {
   "cell_type": "code",
   "execution_count": null,
   "id": "aa65201b-7816-421a-998e-4eb194e6092c",
   "metadata": {},
   "outputs": [],
   "source": [
    "grader.check(\"Question 1b\")"
   ]
  },
  {
   "cell_type": "markdown",
   "id": "9534db0e-c2be-4da0-ba33-8cacbd87197c",
   "metadata": {},
   "source": [
    "### 1c) Evaluate the linear regression model (2 Points)\n",
    "\n",
    "Next, you should evaluate your model. Scikit-learn provides various metrics for this purpose. We will use the mean squared error [mean_squared_error](https://scikit-learn.org/stable/modules/generated/sklearn.metrics.mean_squared_error.html#sklearn.metrics.mean_squared_error) and the [r2_score](https://scikit-learn.org/stable/modules/generated/sklearn.metrics.r2_score.html#sklearn.metrics.r2_score). While the mean squared error should be familiar, the r2_score is maybe not. The r2_score (also known as the Coefficient of determination or measure of explained variance) is a dimensionless number typically ranging from 0 to 1. A value of 1 means that the data has been perfectly explained. A value of 0 means that the prediction is no better than if one had simply used the average of the target values for the prediction. Negative values indicate that the prediction is even worse than if one had not used the measurements at all and always estimated the mean value. \n",
    "\n",
    "Compute the r2 score and the mean squared error using the metrics from scikit learn. How do you interpret the results? "
   ]
  },
  {
   "cell_type": "code",
   "execution_count": null,
   "id": "63cc2800-0bf7-4140-af80-c5259ed5e354",
   "metadata": {},
   "outputs": [],
   "source": [
    "class Question1c:\n",
    "    mse = ...\n",
    "    r2 = ...\n",
    "    print(f\"mse: {mse}, r2 score: {r2}\")"
   ]
  },
  {
   "cell_type": "code",
   "execution_count": null,
   "id": "2359ede8-bac4-465c-b695-30f348ee773f",
   "metadata": {},
   "outputs": [],
   "source": [
    "grader.check(\"Question 1c\")"
   ]
  },
  {
   "cell_type": "markdown",
   "id": "436dbbcd-b551-41a9-b50f-e9f93a04cd0f",
   "metadata": {},
   "source": [
    "## Question 2: Diagnosing Diabetes using Neural Networks (5 Points)\n",
    "\n",
    "In this task, you will again use the diabetes dataset from the previous task, but this time train a neural network to diagnose the disease. For this purpose, we will again use scikit-learn.\n",
    "\n",
    "Scikit-learn supports only one type of neural network, namely the so-called Multilayer Perceptrons. These are neural networks in which each neuron in a layer is connected to all neurons in the next layer. Accordingly, the definition of the network is simple. You can specify the number of neurons in the hidden layers through a list. Multilayer Perceptrons can be used for both regression and classification ([MLPClassifier](https://scikit-learn.org/stable/modules/generated/sklearn.neural_network.MLPClassifier.html)). Take a look at the documentation for [MLPRegressor](https://scikit-learn.org/stable/modules/generated/sklearn.neural_network.MLPRegressor.html) to get an overview of how to use the model.\n"
   ]
  },
  {
   "cell_type": "markdown",
   "id": "32e22b29",
   "metadata": {},
   "source": []
  },
  {
   "cell_type": "markdown",
   "id": "065dd945-fc95-48d3-b9d8-58e027c35c2f",
   "metadata": {},
   "source": [
    "### Question 2a) Scaling the data (2 Points)\n",
    "\n",
    "\n",
    "Since we need to find the parameters through optimization in neural networks, it is often helpful to scale the data so that the observations for each measurement have a mean of 0 and the same standard deviation. You can achieve this using the following code snippet, which utilizes the [StandardScaler](https://scikit-learn.org/stable/modules/generated/sklearn.preprocessing.StandardScaler.html) from scikit-learn."
   ]
  },
  {
   "cell_type": "code",
   "execution_count": null,
   "id": "826247c3-e036-42cd-9ae9-3baa25a68042",
   "metadata": {},
   "outputs": [],
   "source": [
    "class Question2a:\n",
    "    X_scaled = ...\n",
    "    \n",
    "    print(f\"mean {X_scaled.mean(axis=0)} stddev {X_scaled.std(axis=0)}\")"
   ]
  },
  {
   "cell_type": "code",
   "execution_count": null,
   "id": "78114341-b986-4b1e-be84-936ee894c62e",
   "metadata": {},
   "outputs": [],
   "source": [
    "grader.check(\"Question 2a\")"
   ]
  },
  {
   "cell_type": "markdown",
   "id": "81c83165-6234-4f9b-99d5-c95fd885e671",
   "metadata": {},
   "source": [
    "### Question 2b: Training a neural network (3 Points)"
   ]
  },
  {
   "cell_type": "markdown",
   "id": "68f763bd-be70-48bb-b044-666651f7fdac",
   "metadata": {},
   "source": [
    "Now define a neural network with 1 hidden layer, containing 10 neurons. Compute predications and calculate the `r2_score` again. Set the number of iterations for optimization (`max_iter`) to 30000 (see [Documentation](https://scikit-learn.org/stable/modules/generated/sklearn.neural_network.MLPRegressor.html))."
   ]
  },
  {
   "cell_type": "code",
   "execution_count": null,
   "id": "93e53302-9457-4d10-ab43-86cc69ffabdf",
   "metadata": {
    "scrolled": true
   },
   "outputs": [],
   "source": [
    "class Question2b:\n",
    "    ...\n",
    "    y_pred = ...\n",
    "    r2 = ...\n",
    "    print(f\"r2_score: {r2}\")"
   ]
  },
  {
   "cell_type": "code",
   "execution_count": null,
   "id": "51211603-ac3e-4449-a8e8-20c0721317a8",
   "metadata": {},
   "outputs": [],
   "source": [
    "grader.check(\"Question 2b\")"
   ]
  },
  {
   "cell_type": "markdown",
   "id": "8c7161d5-3613-46ed-8dd7-97abb9b1280c",
   "metadata": {},
   "source": [
    "# Question 3 Overfitting (5 Points)\n",
    "\n",
    "\n",
    "When we define machine learning models with many parameters, there is a risk that they will not learn the patterns in the data, but simply memorize the data. As preparation for the next lecture, we want to investigate this phenomenon in this task."
   ]
  },
  {
   "cell_type": "markdown",
   "id": "a08af22a-912e-48d9-9646-28935acdaf97",
   "metadata": {},
   "source": [
    "### Question 3a (2 Points)\n",
    "\n",
    "Copy your solution from above and fit the model again. This time, however, use multiple hidden layers and a larger number of neurons. Can you achieve an `r2_score` of over 0.99?\n"
   ]
  },
  {
   "cell_type": "code",
   "execution_count": null,
   "id": "07a67504-7526-49aa-b289-4329e5232bf5",
   "metadata": {},
   "outputs": [],
   "source": [
    "class Question3a:\n",
    "    ...\n",
    "    y_pred = ...\n",
    "    r2 =  ...\n",
    "    print(f\"r2 score {r2}\")"
   ]
  },
  {
   "cell_type": "code",
   "execution_count": null,
   "id": "e28805d3-aff8-4350-8c4b-2bf26dbf17c8",
   "metadata": {},
   "outputs": [],
   "source": [
    "grader.check(\"Question 3a\")"
   ]
  },
  {
   "cell_type": "markdown",
   "id": "7ea051b3-abf4-4a33-95bd-30a6ee3a4ccd",
   "metadata": {},
   "source": [
    "### Question 3b: Predicting on the test set (3 Points) \n",
    "\n",
    "We have created a second dataset `diabetes_test.csv` for you. This contains data from additional patients. Take the adjusted model and make predictions for these patients. What do you observe? What is the `r2_score`? Tip: don't forget to scale the measurements again."
   ]
  },
  {
   "cell_type": "code",
   "execution_count": null,
   "id": "efb74476-7f9c-48b7-a1fb-a256eadaf5a5",
   "metadata": {},
   "outputs": [],
   "source": [
    "class Question3b:\n",
    "    df_test = pd.read_csv(\"daten/diabetes_test.csv\")\n",
    "    ...\n",
    "    X_test_scaled = ...\n",
    "    y_pred_test= ...\n",
    "    r2 = ...\n",
    "    print(\"r2 test: \", r2)"
   ]
  },
  {
   "cell_type": "code",
   "execution_count": null,
   "id": "ba010afe-0791-4f98-b2c9-639d886b4226",
   "metadata": {},
   "outputs": [],
   "source": [
    "grader.check(\"Question 3b\")"
   ]
  },
  {
   "cell_type": "markdown",
   "id": "6fc13b84-9ed9-4e0d-bb26-4c9eb3b11853",
   "metadata": {},
   "source": [
    " What do you observe? Can you explain the behaviour?"
   ]
  },
  {
   "cell_type": "markdown",
   "id": "68bb1811-4a08-400c-9d38-5a2a0883cece",
   "metadata": {},
   "source": [
    "Your answer"
   ]
  },
  {
   "cell_type": "code",
   "execution_count": null,
   "id": "bd593f18-ab3d-4323-a13c-2e69a2689e31",
   "metadata": {},
   "outputs": [],
   "source": [
    "grader.check_all()"
   ]
  },
  {
   "cell_type": "code",
   "execution_count": null,
   "id": "a3999c44-bcbc-43cc-9d22-79165a03b007",
   "metadata": {},
   "outputs": [],
   "source": []
  }
 ],
 "metadata": {
  "kernelspec": {
   "display_name": "Python [conda env:.conda-python_pids_2024]",
   "language": "python",
   "name": "conda-env-.conda-python_pids_2024-py"
  },
  "language_info": {
   "codemirror_mode": {
    "name": "ipython",
    "version": 3
   },
   "file_extension": ".py",
   "mimetype": "text/x-python",
   "name": "python",
   "nbconvert_exporter": "python",
   "pygments_lexer": "ipython3",
   "version": "3.9.19"
  }
 },
 "nbformat": 4,
 "nbformat_minor": 5
}
