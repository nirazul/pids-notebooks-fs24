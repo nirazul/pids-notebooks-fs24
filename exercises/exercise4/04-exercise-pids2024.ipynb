{
 "cells": [
  {
   "cell_type": "code",
   "execution_count": null,
   "id": "0536b10e",
   "metadata": {},
   "outputs": [],
   "source": [
    "# Initialize Otter\n",
    "import otter\n",
    "grader = otter.Notebook(\"04-exercise-pids2024.ipynb\")"
   ]
  },
  {
   "cell_type": "markdown",
   "id": "7766cdb6",
   "metadata": {
    "nbgrader": {
     "grade": false,
     "grade_id": "cell-1229f81499f5ebea",
     "locked": true,
     "schema_version": 3,
     "solution": false,
     "task": false
    }
   },
   "source": [
    "# Exercise sheet 4\n",
    "**Hello everyone!**\n",
    "\n",
    "# Points: 15\n",
    "\n",
    "Topics of this exercise sheet are:\n",
    "* Working with seaborn\n",
    "* Data visualization principles\n",
    "\n",
    "Please let us know if you have questions or problems! <br>\n",
    "Contact us during the exercise session or on [Piazza](https://piazza.com/unibas.ch/spring2024/63982).\n",
    "\n",
    "**Automatic Feedback**\n",
    "\n",
    "This notebook can be automatically graded using Otter grader. To find how many points you get, simply run `grader.check_all()` from a new cell. "
   ]
  },
  {
   "cell_type": "code",
   "execution_count": null,
   "id": "a264d59b",
   "metadata": {
    "nbgrader": {
     "grade": false,
     "grade_id": "cell-87e8c3397dfc076e",
     "locked": true,
     "schema_version": 3,
     "solution": false,
     "task": false
    }
   },
   "outputs": [],
   "source": [
    "import pandas as pd\n",
    "import seaborn as sns\n",
    "import matplotlib.pyplot as plt\n",
    "import numpy as np"
   ]
  },
  {
   "cell_type": "markdown",
   "id": "4bd74d15",
   "metadata": {
    "nbgrader": {
     "grade": false,
     "grade_id": "cell-7ee686f735cd4d6c",
     "locked": true,
     "schema_version": 3,
     "solution": false,
     "task": false
    }
   },
   "source": [
    "## Question 1 (7 points)\n",
    "\n",
    "We will use data from [Kaggle](https://www.kaggle.com/datasets/prasertk/healthy-lifestyle-cities-report-2021) about different cities around the world."
   ]
  },
  {
   "cell_type": "code",
   "execution_count": null,
   "id": "d25bcf0d",
   "metadata": {
    "nbgrader": {
     "grade": false,
     "grade_id": "cell-cae8e70374ab5e6d",
     "locked": true,
     "schema_version": 3,
     "solution": false,
     "task": false
    }
   },
   "outputs": [],
   "source": [
    "cities = pd.read_csv(\"healthy_lifestyle_city_2021.csv\")\n",
    "cities"
   ]
  },
  {
   "cell_type": "markdown",
   "id": "332c17b1",
   "metadata": {
    "nbgrader": {
     "grade": false,
     "grade_id": "cell-f30ccb790dff9fe2",
     "locked": true,
     "schema_version": 3,
     "solution": false,
     "task": false
    }
   },
   "source": [
    "### 1a) (2 points)\n",
    "\n",
    "**Replace** the values in the columns:\n",
    "       \n",
    "- \"Cost of a bottle of water(City)\"\n",
    "- \"Sunshine hours(City)\"\n",
    "- \"Cost of a monthly gym membership(City)\"\n",
    "- \"Obesity levels(Country)\"\n",
    "       \n",
    "with numerical values (float). Make sure to also convert percentage values. For example, a value \"20.40%\" should be converted to \"0.204\".\n",
    "  \n",
    "  In case values are missing (as indicated by the `-`) replace them with `np.nan`, which is used in Pandas to mark missing values. \n",
    "\n",
    "  **Hint:** Extract the column, apply the pandas functions `.str` and `.astype()` and `.replace()` and write the changed column back into the dataframe. Use the help function to find examples of how to use the above functions.\n",
    "\n",
    "  **Take note:** Once you have replaced the columns, re-running this cell will give you an error since methods like .str do not apply to the replaced float values.\n",
    "            \n",
    "\n"
   ]
  },
  {
   "cell_type": "code",
   "execution_count": null,
   "id": "385b435b",
   "metadata": {
    "nbgrader": {
     "grade": false,
     "grade_id": "cell-67e48526cb3d882c",
     "locked": false,
     "schema_version": 3,
     "solution": true,
     "task": false
    }
   },
   "outputs": [],
   "source": [
    "class Question1a:\n",
    "    \n",
    "    # extract and transform columns\n",
    "    cost_of_water_column = ...\n",
    "    sunshine_hours_column = ...\n",
    "    cost_of_gym_column = ...\n",
    "    obesity_level_column = ...\n",
    "\n",
    "    # write it back into the cities dataframe"
   ]
  },
  {
   "cell_type": "code",
   "execution_count": null,
   "id": "deb0f787",
   "metadata": {},
   "outputs": [],
   "source": [
    "grader.check(\"Question 1a\")"
   ]
  },
  {
   "cell_type": "markdown",
   "id": "00653158",
   "metadata": {
    "nbgrader": {
     "grade": false,
     "grade_id": "cell-3d9402382f967adc",
     "locked": true,
     "schema_version": 3,
     "solution": false,
     "task": false
    }
   },
   "source": [
    "### 1b (1 point)\n",
    "What is the mean of the column \"Obesity levels(Country)\"?\n",
    "\n",
    "Assign this number to the variable *mean_obesity_level*."
   ]
  },
  {
   "cell_type": "code",
   "execution_count": null,
   "id": "6e0b6775",
   "metadata": {
    "nbgrader": {
     "grade": false,
     "grade_id": "cell-8c8767ce075ccffb",
     "locked": false,
     "schema_version": 3,
     "solution": true,
     "task": false
    }
   },
   "outputs": [],
   "source": [
    "class Question1b:\n",
    "    mean_obesity_level = ...\n"
   ]
  },
  {
   "cell_type": "code",
   "execution_count": null,
   "id": "28777f64",
   "metadata": {},
   "outputs": [],
   "source": [
    "grader.check(\"Question 1b\")"
   ]
  },
  {
   "cell_type": "markdown",
   "id": "99eb43d2",
   "metadata": {
    "nbgrader": {
     "grade": false,
     "grade_id": "cell-535e41a827712440",
     "locked": true,
     "schema_version": 3,
     "solution": false,
     "task": false
    }
   },
   "source": [
    "### 1c (1 point)\n",
    "Is the mean a good measure to summarize the values of \"Obesity levels(Country)\"?\n",
    "\n",
    "* Create a histogram ( with 13 bins) for the column \"Obesity levels(Country)\" using the seaborn plot function.\n",
    "\n",
    "* Which of the following distributions describes best the distribution you see on the histogramm of Obesity levels?\n",
    "        - Gaussian\n",
    "        - Bimodal\n",
    "        - Binomial\n",
    "        - Poisson\n",
    "  \n",
    "    * Assign the correct distribution (its name as a string) to the variable \"distribution\". Beware: Python is case sensitive.\n",
    "    \n",
    "    \n",
    "* Is the mean a good measure to summarize the values of \"Obesity levels(Country)\"? Yes or No?\n",
    "    * Assign \"yes\" or \"no\" (as strings) to the variable called \"answer\"."
   ]
  },
  {
   "cell_type": "code",
   "execution_count": null,
   "id": "e69b4e29",
   "metadata": {
    "nbgrader": {
     "grade": false,
     "grade_id": "cell-73833e6a3bef14f2",
     "locked": false,
     "schema_version": 3,
     "solution": true,
     "task": false
    }
   },
   "outputs": [],
   "source": [
    "class Question1c:\n",
    "    obesity_levels_hist = ...\n",
    "    distribution = ...\n",
    "    answer = ..."
   ]
  },
  {
   "cell_type": "code",
   "execution_count": null,
   "id": "7be5f6aa",
   "metadata": {},
   "outputs": [],
   "source": [
    "grader.check(\"Question 1c\")"
   ]
  },
  {
   "cell_type": "markdown",
   "id": "908396a5",
   "metadata": {
    "nbgrader": {
     "grade": false,
     "grade_id": "cell-631f01b5f3a50947",
     "locked": true,
     "schema_version": 3,
     "solution": false,
     "task": false
    }
   },
   "source": [
    "### 1d) (2 points)\n",
    "Please make a new column (for the existing data frame) called \"Continent\" containing the continent of each city (type: string). <br>\n",
    "If a city is in multiple continents, choose one (it will make the following plots cleaner). <br>\n",
    "Use this list of continent names: Africa, America, Antarctica, Australia, Asia, Europe, Oceania.\n",
    "\n",
    "Save it back to the variable cities \n",
    "\n",
    "**Hint:** There is no fancy function you need, just patience. One possible solution is to create a `dict` with the names as the key and the continent as the value and then use pandas `apply` function to map the cities to the continent. Or, you just unglamerously add the continent value one by one into a list that you make into a column. "
   ]
  },
  {
   "cell_type": "code",
   "execution_count": null,
   "id": "0d10860b",
   "metadata": {
    "nbgrader": {
     "grade": false,
     "grade_id": "cell-36f40a02cef87b84",
     "locked": false,
     "schema_version": 3,
     "solution": true,
     "task": false
    }
   },
   "outputs": [],
   "source": [
    "class Question1d:\n",
    "    cities_with_continents = cities.copy()\n",
    "    ...\n",
    "    "
   ]
  },
  {
   "cell_type": "code",
   "execution_count": null,
   "id": "69cef362",
   "metadata": {},
   "outputs": [],
   "source": [
    "grader.check(\"Question 1d\")"
   ]
  },
  {
   "cell_type": "markdown",
   "id": "760fbca6",
   "metadata": {
    "nbgrader": {
     "grade": false,
     "grade_id": "cell-9342741838d32621",
     "locked": true,
     "schema_version": 3,
     "solution": false,
     "task": false
    }
   },
   "source": [
    "### 1e) (1 point)\n",
    "What does the column \"Continent\" have to do with question 1c? (Hint: This is pretty similar to the penguin flipper lengths from the lecture)\n",
    "\n",
    "* Using the seaborn histogram function (bins=10) display the column \"Obesity levels(Country)\" in a way such that countries on the same continent show up in the same color.\n",
    "* Bars from different continents, that belong to the same bin, should be stacked on top of eachother.\n",
    "* How many bins for the continent of asia do you see?\n",
    "    * Assign this number to the variable called *asia_bins*"
   ]
  },
  {
   "cell_type": "code",
   "execution_count": null,
   "id": "77fcd2ef",
   "metadata": {
    "nbgrader": {
     "grade": false,
     "grade_id": "cell-2520395026cab69f",
     "locked": false,
     "schema_version": 3,
     "solution": true,
     "task": false
    }
   },
   "outputs": [],
   "source": [
    "class Question1e:\n",
    "    color_code_plot= ...\n",
    "    asia_bins= ...\n",
    "\n",
    "    #We can now see that countries in Asia have very different obesity levels than countries in other continents.\n",
    "    #This means that we should take e.g. a mean per continent."
   ]
  },
  {
   "cell_type": "code",
   "execution_count": null,
   "id": "1a29e5e6",
   "metadata": {},
   "outputs": [],
   "source": [
    "grader.check(\"Question 1e\")"
   ]
  },
  {
   "cell_type": "markdown",
   "id": "59b57343",
   "metadata": {
    "nbgrader": {
     "grade": false,
     "grade_id": "cell-8badaa62016a4890",
     "locked": true,
     "schema_version": 3,
     "solution": false,
     "task": false
    }
   },
   "source": [
    "![](https://upload.wikimedia.org/wikipedia/commons/8/89/Melbourne_skyline_from_Williamstown.png)"
   ]
  },
  {
   "cell_type": "markdown",
   "id": "b52bb667",
   "metadata": {
    "nbgrader": {
     "grade": false,
     "grade_id": "cell-74aa8649cf06473d",
     "locked": true,
     "schema_version": 3,
     "solution": false,
     "task": false
    }
   },
   "source": [
    "## Question 2 (6 points)\n",
    "You have gotten the job as data visualization expert in Melbourne. 🎉 Congratulations! <br>\n",
    "Your first task is to make a stunning plot to convince everyone that Melbourne is the best city in the whole wide world! We want to print it on posters! Or at least in the national tourism brochure.\n",
    "\n",
    "* Make **one plot** using any and all (evil) principles of data visualization. If you need inspiration, look at the examples on the lecture slides or here: https://www.youtube.com/watch?v=E91bGT9BjYk or google \"misleading data visualization\".\n",
    "\n",
    "\n",
    "\n",
    "Upload your plot to our [padlet](https://padlet.com/marcelluthi/melbourne-advertisement-20avx3t39rtz6b8n) (copy-paste or drag-and-drop). Write an appealing title and make sure your full name is either in the title or captions (the 6 points for this task are handed out based on this upload)\n",
    "\n"
   ]
  },
  {
   "cell_type": "markdown",
   "id": "a9eec4fa",
   "metadata": {
    "deletable": false,
    "editable": false,
    "nbgrader": {
     "grade": false,
     "grade_id": "cell-a87310bacd77f388",
     "locked": true,
     "schema_version": 3,
     "solution": false,
     "task": false
    }
   },
   "source": [
    "<!-- BEGIN QUESTION -->\n",
    "\n",
    "<!--\n",
    "BEGIN QUESTION\n",
    "name: Question 2      # (required) the path to a requirements.txt file\n",
    "manual: true     # whether this is a manually-graded question\n",
    "points: 6     # how many points this question is worth; defaults to 1 internally\n",
    "check_cell: false  # whether to include a check cell after this question (for autograded questions only)\n",
    "-->"
   ]
  },
  {
   "cell_type": "code",
   "execution_count": null,
   "id": "18981c69",
   "metadata": {},
   "outputs": [],
   "source": [
    "## solution ##\n",
    "plt.plot(...);"
   ]
  },
  {
   "cell_type": "markdown",
   "id": "fbc5f302",
   "metadata": {
    "nbgrader": {
     "grade": false,
     "grade_id": "cell-6cb3f5a1cf371788",
     "locked": true,
     "schema_version": 3,
     "solution": false,
     "task": false
    }
   },
   "source": [
    "<!-- END QUESTION -->\n",
    "\n",
    "\n",
    "\n",
    "## Question 3 (2 points)\n",
    "\n",
    "Where did this data even come from? Find one instance where a data point in the cities dataframe looks false. Write one sentence explaining why it is false and provide a source proving your claim."
   ]
  },
  {
   "cell_type": "markdown",
   "id": "eb782d03",
   "metadata": {
    "deletable": false,
    "editable": false
   },
   "source": [
    "<!-- BEGIN QUESTION -->\n",
    "\n",
    "<!--\n",
    "BEGIN QUESTION\n",
    "name: Question 3      # (required) the path to a requirements.txt file\n",
    "manual: true     # whether this is a manually-graded question\n",
    "points: 2     # how many points this question is worth; defaults to 1 internally\n",
    "check_cell: false  # whether to include a check cell after this question (for autograded questions only)\n",
    "-->"
   ]
  },
  {
   "cell_type": "code",
   "execution_count": null,
   "id": "a488beae",
   "metadata": {
    "nbgrader": {
     "grade": true,
     "grade_id": "cell-b705817b0aa8fe76",
     "locked": false,
     "points": 0,
     "schema_version": 3,
     "solution": true,
     "task": false
    }
   },
   "outputs": [],
   "source": [
    "## solution ##\n"
   ]
  },
  {
   "cell_type": "markdown",
   "id": "669886d0",
   "metadata": {
    "deletable": false,
    "editable": false
   },
   "source": [
    "---\n",
    "\n",
    "To double-check your work, the cell below will rerun all of the autograder tests."
   ]
  },
  {
   "cell_type": "code",
   "execution_count": null,
   "id": "0ef6d7f0",
   "metadata": {
    "deletable": false,
    "editable": false
   },
   "outputs": [],
   "source": [
    "grader.check_all()"
   ]
  }
 ],
 "metadata": {
  "celltoolbar": "Create Assignment",
  "kernelspec": {
   "display_name": "Python 3 (ipykernel)",
   "language": "python",
   "name": "conda-env-pids_2023-py"
  },
  "language_info": {
   "codemirror_mode": {
    "name": "ipython",
    "version": 3
   },
   "file_extension": ".py",
   "mimetype": "text/x-python",
   "name": "python",
   "nbconvert_exporter": "python",
   "pygments_lexer": "ipython3",
   "version": "3.12.2"
  }
 },
 "nbformat": 4,
 "nbformat_minor": 5
}
