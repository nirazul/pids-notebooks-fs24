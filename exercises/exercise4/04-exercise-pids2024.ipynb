{
 "cells": [
  {
   "cell_type": "code",
   "execution_count": 215,
   "id": "0536b10e",
   "metadata": {
    "ExecuteTime": {
     "end_time": "2024-03-23T09:05:43.118437Z",
     "start_time": "2024-03-23T09:05:43.110107Z"
    }
   },
   "outputs": [],
   "source": [
    "import numpy as np\n",
    "# Initialize Otter\n",
    "import otter\n",
    "from matplotlib import pyplot as plt\n",
    "\n",
    "\n",
    "grader = otter.Notebook(\"04-exercise-pids2024.ipynb\")"
   ]
  },
  {
   "cell_type": "markdown",
   "id": "7766cdb6",
   "metadata": {
    "nbgrader": {
     "grade": false,
     "grade_id": "cell-1229f81499f5ebea",
     "locked": true,
     "schema_version": 3,
     "solution": false,
     "task": false
    }
   },
   "source": [
    "# Exercise sheet 4\n",
    "**Hello everyone!**\n",
    "\n",
    "# Points: 15\n",
    "\n",
    "Topics of this exercise sheet are:\n",
    "* Working with seaborn\n",
    "* Data visualization principles\n",
    "\n",
    "Please let us know if you have questions or problems! <br>\n",
    "Contact us during the exercise session or on [Piazza](https://piazza.com/unibas.ch/spring2024/63982).\n",
    "\n",
    "**Automatic Feedback**\n",
    "\n",
    "This notebook can be automatically graded using Otter grader. To find how many points you get, simply run `grader.check_all()` from a new cell. "
   ]
  },
  {
   "cell_type": "code",
   "execution_count": 216,
   "id": "a264d59b",
   "metadata": {
    "nbgrader": {
     "grade": false,
     "grade_id": "cell-87e8c3397dfc076e",
     "locked": true,
     "schema_version": 3,
     "solution": false,
     "task": false
    },
    "ExecuteTime": {
     "end_time": "2024-03-23T09:05:43.190159Z",
     "start_time": "2024-03-23T09:05:43.186829Z"
    }
   },
   "outputs": [],
   "source": [
    "import pandas as pd\n",
    "import seaborn as sns"
   ]
  },
  {
   "cell_type": "markdown",
   "id": "4bd74d15",
   "metadata": {
    "nbgrader": {
     "grade": false,
     "grade_id": "cell-7ee686f735cd4d6c",
     "locked": true,
     "schema_version": 3,
     "solution": false,
     "task": false
    }
   },
   "source": [
    "## Question 1 (7 points)\n",
    "\n",
    "We will use data from [Kaggle](https://www.kaggle.com/datasets/prasertk/healthy-lifestyle-cities-report-2021) about different cities around the world."
   ]
  },
  {
   "cell_type": "code",
   "execution_count": 217,
   "id": "d25bcf0d",
   "metadata": {
    "nbgrader": {
     "grade": false,
     "grade_id": "cell-cae8e70374ab5e6d",
     "locked": true,
     "schema_version": 3,
     "solution": false,
     "task": false
    },
    "ExecuteTime": {
     "end_time": "2024-03-23T09:05:43.228125Z",
     "start_time": "2024-03-23T09:05:43.199896Z"
    }
   },
   "outputs": [
    {
     "data": {
      "text/plain": "                City  Rank Sunshine hours(City)  \\\n0          Amsterdam     1                 1858   \n1             Sydney     2                 2636   \n2             Vienna     3                 1884   \n3          Stockholm     4                 1821   \n4         Copenhagen     5                 1630   \n5           Helsinki     6                 1662   \n6            Fukuoka     7                 2769   \n7             Berlin     8                 1626   \n8          Barcelona     9                 2591   \n9          Vancouver    10                 1938   \n10         Melbourne    11                 2363   \n11           Beijing    12                 2671   \n12           Bangkok    13                 2624   \n13      Buenos Aires    14                 2525   \n14           Toronto    15                 2066   \n15            Madrid    16                 2769   \n16           Jakarta    17                 2983   \n17             Seoul    18                 2066   \n18         Frankfurt    19                 1662   \n19            Geneva    20                    -   \n20          Tel Aviv    21                 3311   \n21          Istanbul    22                 2218   \n22             Cairo    23                 3542   \n23            Taipei    24                 1405   \n24       Los Angeles    25                 3254   \n25            Mumbai    26                 2584   \n26            Boston    27                 2634   \n27            Dublin    28                 1453   \n28             Tokyo    29                 1877   \n29           Chicago    30                 2508   \n30         Hong Kong    31                 1836   \n31          Shanghai    32                 1776   \n32          Brussels    33                 1546   \n33     San Francisco    34                 3062   \n34             Paris    35                 1662   \n35         Sao Paulo    36                 2003   \n36            Zurich    37                 1566   \n37            London    38                 1633   \n38      Johannesburg    39                 3124   \n39             Milan    40                 1915   \n40  Washington, D.C.    41                 2528   \n41          New York    42                 2535   \n42            Moscow    43                 1901   \n43       Mexico City    44                 2555   \n\n   Cost of a bottle of water(City) Obesity levels(Country)  \\\n0                            £1.92                  20.40%   \n1                            £1.48                  29.00%   \n2                            £1.94                  20.10%   \n3                            £1.72                  20.60%   \n4                            £2.19                  19.70%   \n5                            £1.60                  22.20%   \n6                            £0.78                   4.30%   \n7                            £1.55                  22.30%   \n8                            £1.19                  23.80%   \n9                            £1.08                  29.40%   \n10                           £1.57                  29.00%   \n11                           £0.26                   6.20%   \n12                           £0.22                  10.00%   \n13                           £0.57                  28.30%   \n14                           £1.09                  29.40%   \n15                           £1.30                  23.80%   \n16                           £0.21                   6.90%   \n17                           £0.59                   4.70%   \n18                           £1.95                  22.30%   \n19                           £2.62                  19.50%   \n20                           £1.63                  26.10%   \n21                           £0.15                  32.10%   \n22                           £0.16                  32.00%   \n23                           £0.57                   6.20%   \n24                           £1.52                  36.20%   \n25                           £0.15                   3.90%   \n26                           £1.39                  36.20%   \n27                           £1.40                  25.30%   \n28                           £0.76                   4.30%   \n29                           £1.20                  36.20%   \n30                           £0.75                   6.20%   \n31                           £0.29                   6.20%   \n32                           £2.11                  22.10%   \n33                           £1.60                  36.20%   \n34                           £1.95                  21.60%   \n35                           £0.44                  22.10%   \n36                           £3.20                  19.50%   \n37                           £1.16                  27.80%   \n38                           £0.59                  28.30%   \n39                           £1.15                  19.90%   \n40                           £1.45                  36.20%   \n41                           £1.32                  36.20%   \n42                           £0.41                  23.10%   \n43                           £0.45                  28.90%   \n\n    Life expectancy(years) (Country) Pollution(Index score) (City)  \\\n0                               81.2                         30.93   \n1                               82.1                         26.86   \n2                               81.0                         17.33   \n3                               81.8                         19.63   \n4                               79.8                         21.24   \n5                               80.4                         13.08   \n6                               83.2                             -   \n7                               80.6                         39.41   \n8                               82.2                         65.19   \n9                               81.7                         24.26   \n10                              82.1                         25.90   \n11                              75.4                         85.43   \n12                              74.1                         76.64   \n13                              75.9                         52.64   \n14                              81.7                         37.83   \n15                              82.2                         52.68   \n16                              68.5                         84.39   \n17                              81.3                         57.82   \n18                              80.6                         37.78   \n19                              82.6                         27.25   \n20                              81.9                         47.28   \n21                              74.7                         69.49   \n22                              70.7                         91.74   \n23                              75.4                         49.32   \n24                              78.8                         66.07   \n25                              67.3                         82.84   \n26                              78.8                         27.03   \n27                              80.5                         40.07   \n28                              83.2                         42.84   \n29                              78.8                         43.33   \n30                              75.4                         67.46   \n31                              75.4                         77.40   \n32                              80.4                         62.67   \n33                              78.8                         47.36   \n34                              81.8                         65.10   \n35                              73.9                         79.78   \n36                              82.6                         17.31   \n37                              80.4                         58.91   \n38                              56.3                         61.83   \n39                              82.7                         67.19   \n40                              78.8                         39.18   \n41                              78.8                         57.36   \n42                              69.5                         57.63   \n43                              76.4                         82.78   \n\n   Annual avg. hours worked  Happiness levels(Country)  \\\n0                      1434                       7.44   \n1                      1712                       7.22   \n2                      1501                       7.29   \n3                      1452                       7.35   \n4                      1380                       7.64   \n5                      1540                       7.80   \n6                      1644                       5.87   \n7                      1386                       7.07   \n8                      1686                       6.40   \n9                      1670                       7.23   \n10                     1712                       7.22   \n11                        -                       5.12   \n12                        -                       5.99   \n13                        -                       5.97   \n14                     1670                       7.23   \n15                     1686                       6.40   \n16                        -                       5.28   \n17                     1967                       5.87   \n18                     1386                       7.07   \n19                     1557                       7.56   \n20                     1898                       7.12   \n21                     1832                       5.13   \n22                        -                       4.15   \n23                        -                       5.12   \n24                     1779                       6.94   \n25                        -                       3.57   \n26                     1779                       6.94   \n27                     1772                       7.09   \n28                     1644                       5.87   \n29                     1779                       6.94   \n30                        -                       5.51   \n31                        -                       5.12   \n32                     1583                       6.86   \n33                     1779                       6.94   \n34                     1505                       6.66   \n35                        -                       6.37   \n36                     1557                       7.56   \n37                     1538                       7.16   \n38                        -                       4.81   \n39                     1718                       6.38   \n40                     1779                       6.94   \n41                     1779                       6.94   \n42                     1965                       5.54   \n43                     2137                       6.46   \n\n    Outdoor activities(City)  Number of take out places(City)  \\\n0                        422                             1048   \n1                        406                             1103   \n2                        132                             1008   \n3                        129                              598   \n4                        154                              523   \n5                        113                              309   \n6                         35                              539   \n7                        254                             1729   \n8                        585                             2344   \n9                        218                              788   \n10                       243                              813   \n11                       223                              261   \n12                       377                             1796   \n13                       246                             1435   \n14                       174                             1656   \n15                       216                             2491   \n16                       114                              833   \n17                       144                              389   \n18                        23                              551   \n19                        44                              444   \n20                       139                              420   \n21                       419                              934   \n22                       323                              250   \n23                       134                              717   \n24                       223                             1439   \n25                       187                             1183   \n26                        88                              588   \n27                       159                              659   \n28                       387                             5802   \n29                       171                             1320   \n30                       277                             1257   \n31                       108                              346   \n32                        55                              988   \n33                       242                             1031   \n34                       331                             4363   \n35                       158                             3355   \n36                        69                              538   \n37                       433                             6417   \n38                       194                              492   \n39                       110                             2396   \n40                        83                              744   \n41                       359                             3081   \n42                       322                             3206   \n43                       192                             1313   \n\n   Cost of a monthly gym membership(City)  \n0                                  £34.90  \n1                                  £41.66  \n2                                  £25.74  \n3                                  £37.31  \n4                                  £32.53  \n5                                  £35.23  \n6                                  £55.87  \n7                                  £26.11  \n8                                  £37.80  \n9                                  £31.04  \n10                                 £36.89  \n11                                 £38.62  \n12                                 £50.03  \n13                                 £22.45  \n14                                 £32.64  \n15                                 £34.54  \n16                                 £29.94  \n17                                 £43.03  \n18                                 £39.01  \n19                                 £70.00  \n20                                 £58.31  \n21                                 £16.97  \n22                                 £23.25  \n23                                 £34.76  \n24                                 £32.00  \n25                                 £19.54  \n26                                 £46.27  \n27                                 £37.35  \n28                                 £70.82  \n29                                 £41.14  \n30                                 £57.95  \n31                                 £44.68  \n32                                 £25.34  \n33                                 £65.13  \n34                                 £35.93  \n35                                 £16.07  \n36                                 £73.11  \n37                                 £42.71  \n38                                 £24.28  \n39                                 £53.49  \n40                                 £65.99  \n41                                 £64.66  \n42                                 £31.40  \n43                                 £41.99  ",
      "text/html": "<div>\n<style scoped>\n    .dataframe tbody tr th:only-of-type {\n        vertical-align: middle;\n    }\n\n    .dataframe tbody tr th {\n        vertical-align: top;\n    }\n\n    .dataframe thead th {\n        text-align: right;\n    }\n</style>\n<table border=\"1\" class=\"dataframe\">\n  <thead>\n    <tr style=\"text-align: right;\">\n      <th></th>\n      <th>City</th>\n      <th>Rank</th>\n      <th>Sunshine hours(City)</th>\n      <th>Cost of a bottle of water(City)</th>\n      <th>Obesity levels(Country)</th>\n      <th>Life expectancy(years) (Country)</th>\n      <th>Pollution(Index score) (City)</th>\n      <th>Annual avg. hours worked</th>\n      <th>Happiness levels(Country)</th>\n      <th>Outdoor activities(City)</th>\n      <th>Number of take out places(City)</th>\n      <th>Cost of a monthly gym membership(City)</th>\n    </tr>\n  </thead>\n  <tbody>\n    <tr>\n      <th>0</th>\n      <td>Amsterdam</td>\n      <td>1</td>\n      <td>1858</td>\n      <td>£1.92</td>\n      <td>20.40%</td>\n      <td>81.2</td>\n      <td>30.93</td>\n      <td>1434</td>\n      <td>7.44</td>\n      <td>422</td>\n      <td>1048</td>\n      <td>£34.90</td>\n    </tr>\n    <tr>\n      <th>1</th>\n      <td>Sydney</td>\n      <td>2</td>\n      <td>2636</td>\n      <td>£1.48</td>\n      <td>29.00%</td>\n      <td>82.1</td>\n      <td>26.86</td>\n      <td>1712</td>\n      <td>7.22</td>\n      <td>406</td>\n      <td>1103</td>\n      <td>£41.66</td>\n    </tr>\n    <tr>\n      <th>2</th>\n      <td>Vienna</td>\n      <td>3</td>\n      <td>1884</td>\n      <td>£1.94</td>\n      <td>20.10%</td>\n      <td>81.0</td>\n      <td>17.33</td>\n      <td>1501</td>\n      <td>7.29</td>\n      <td>132</td>\n      <td>1008</td>\n      <td>£25.74</td>\n    </tr>\n    <tr>\n      <th>3</th>\n      <td>Stockholm</td>\n      <td>4</td>\n      <td>1821</td>\n      <td>£1.72</td>\n      <td>20.60%</td>\n      <td>81.8</td>\n      <td>19.63</td>\n      <td>1452</td>\n      <td>7.35</td>\n      <td>129</td>\n      <td>598</td>\n      <td>£37.31</td>\n    </tr>\n    <tr>\n      <th>4</th>\n      <td>Copenhagen</td>\n      <td>5</td>\n      <td>1630</td>\n      <td>£2.19</td>\n      <td>19.70%</td>\n      <td>79.8</td>\n      <td>21.24</td>\n      <td>1380</td>\n      <td>7.64</td>\n      <td>154</td>\n      <td>523</td>\n      <td>£32.53</td>\n    </tr>\n    <tr>\n      <th>5</th>\n      <td>Helsinki</td>\n      <td>6</td>\n      <td>1662</td>\n      <td>£1.60</td>\n      <td>22.20%</td>\n      <td>80.4</td>\n      <td>13.08</td>\n      <td>1540</td>\n      <td>7.80</td>\n      <td>113</td>\n      <td>309</td>\n      <td>£35.23</td>\n    </tr>\n    <tr>\n      <th>6</th>\n      <td>Fukuoka</td>\n      <td>7</td>\n      <td>2769</td>\n      <td>£0.78</td>\n      <td>4.30%</td>\n      <td>83.2</td>\n      <td>-</td>\n      <td>1644</td>\n      <td>5.87</td>\n      <td>35</td>\n      <td>539</td>\n      <td>£55.87</td>\n    </tr>\n    <tr>\n      <th>7</th>\n      <td>Berlin</td>\n      <td>8</td>\n      <td>1626</td>\n      <td>£1.55</td>\n      <td>22.30%</td>\n      <td>80.6</td>\n      <td>39.41</td>\n      <td>1386</td>\n      <td>7.07</td>\n      <td>254</td>\n      <td>1729</td>\n      <td>£26.11</td>\n    </tr>\n    <tr>\n      <th>8</th>\n      <td>Barcelona</td>\n      <td>9</td>\n      <td>2591</td>\n      <td>£1.19</td>\n      <td>23.80%</td>\n      <td>82.2</td>\n      <td>65.19</td>\n      <td>1686</td>\n      <td>6.40</td>\n      <td>585</td>\n      <td>2344</td>\n      <td>£37.80</td>\n    </tr>\n    <tr>\n      <th>9</th>\n      <td>Vancouver</td>\n      <td>10</td>\n      <td>1938</td>\n      <td>£1.08</td>\n      <td>29.40%</td>\n      <td>81.7</td>\n      <td>24.26</td>\n      <td>1670</td>\n      <td>7.23</td>\n      <td>218</td>\n      <td>788</td>\n      <td>£31.04</td>\n    </tr>\n    <tr>\n      <th>10</th>\n      <td>Melbourne</td>\n      <td>11</td>\n      <td>2363</td>\n      <td>£1.57</td>\n      <td>29.00%</td>\n      <td>82.1</td>\n      <td>25.90</td>\n      <td>1712</td>\n      <td>7.22</td>\n      <td>243</td>\n      <td>813</td>\n      <td>£36.89</td>\n    </tr>\n    <tr>\n      <th>11</th>\n      <td>Beijing</td>\n      <td>12</td>\n      <td>2671</td>\n      <td>£0.26</td>\n      <td>6.20%</td>\n      <td>75.4</td>\n      <td>85.43</td>\n      <td>-</td>\n      <td>5.12</td>\n      <td>223</td>\n      <td>261</td>\n      <td>£38.62</td>\n    </tr>\n    <tr>\n      <th>12</th>\n      <td>Bangkok</td>\n      <td>13</td>\n      <td>2624</td>\n      <td>£0.22</td>\n      <td>10.00%</td>\n      <td>74.1</td>\n      <td>76.64</td>\n      <td>-</td>\n      <td>5.99</td>\n      <td>377</td>\n      <td>1796</td>\n      <td>£50.03</td>\n    </tr>\n    <tr>\n      <th>13</th>\n      <td>Buenos Aires</td>\n      <td>14</td>\n      <td>2525</td>\n      <td>£0.57</td>\n      <td>28.30%</td>\n      <td>75.9</td>\n      <td>52.64</td>\n      <td>-</td>\n      <td>5.97</td>\n      <td>246</td>\n      <td>1435</td>\n      <td>£22.45</td>\n    </tr>\n    <tr>\n      <th>14</th>\n      <td>Toronto</td>\n      <td>15</td>\n      <td>2066</td>\n      <td>£1.09</td>\n      <td>29.40%</td>\n      <td>81.7</td>\n      <td>37.83</td>\n      <td>1670</td>\n      <td>7.23</td>\n      <td>174</td>\n      <td>1656</td>\n      <td>£32.64</td>\n    </tr>\n    <tr>\n      <th>15</th>\n      <td>Madrid</td>\n      <td>16</td>\n      <td>2769</td>\n      <td>£1.30</td>\n      <td>23.80%</td>\n      <td>82.2</td>\n      <td>52.68</td>\n      <td>1686</td>\n      <td>6.40</td>\n      <td>216</td>\n      <td>2491</td>\n      <td>£34.54</td>\n    </tr>\n    <tr>\n      <th>16</th>\n      <td>Jakarta</td>\n      <td>17</td>\n      <td>2983</td>\n      <td>£0.21</td>\n      <td>6.90%</td>\n      <td>68.5</td>\n      <td>84.39</td>\n      <td>-</td>\n      <td>5.28</td>\n      <td>114</td>\n      <td>833</td>\n      <td>£29.94</td>\n    </tr>\n    <tr>\n      <th>17</th>\n      <td>Seoul</td>\n      <td>18</td>\n      <td>2066</td>\n      <td>£0.59</td>\n      <td>4.70%</td>\n      <td>81.3</td>\n      <td>57.82</td>\n      <td>1967</td>\n      <td>5.87</td>\n      <td>144</td>\n      <td>389</td>\n      <td>£43.03</td>\n    </tr>\n    <tr>\n      <th>18</th>\n      <td>Frankfurt</td>\n      <td>19</td>\n      <td>1662</td>\n      <td>£1.95</td>\n      <td>22.30%</td>\n      <td>80.6</td>\n      <td>37.78</td>\n      <td>1386</td>\n      <td>7.07</td>\n      <td>23</td>\n      <td>551</td>\n      <td>£39.01</td>\n    </tr>\n    <tr>\n      <th>19</th>\n      <td>Geneva</td>\n      <td>20</td>\n      <td>-</td>\n      <td>£2.62</td>\n      <td>19.50%</td>\n      <td>82.6</td>\n      <td>27.25</td>\n      <td>1557</td>\n      <td>7.56</td>\n      <td>44</td>\n      <td>444</td>\n      <td>£70.00</td>\n    </tr>\n    <tr>\n      <th>20</th>\n      <td>Tel Aviv</td>\n      <td>21</td>\n      <td>3311</td>\n      <td>£1.63</td>\n      <td>26.10%</td>\n      <td>81.9</td>\n      <td>47.28</td>\n      <td>1898</td>\n      <td>7.12</td>\n      <td>139</td>\n      <td>420</td>\n      <td>£58.31</td>\n    </tr>\n    <tr>\n      <th>21</th>\n      <td>Istanbul</td>\n      <td>22</td>\n      <td>2218</td>\n      <td>£0.15</td>\n      <td>32.10%</td>\n      <td>74.7</td>\n      <td>69.49</td>\n      <td>1832</td>\n      <td>5.13</td>\n      <td>419</td>\n      <td>934</td>\n      <td>£16.97</td>\n    </tr>\n    <tr>\n      <th>22</th>\n      <td>Cairo</td>\n      <td>23</td>\n      <td>3542</td>\n      <td>£0.16</td>\n      <td>32.00%</td>\n      <td>70.7</td>\n      <td>91.74</td>\n      <td>-</td>\n      <td>4.15</td>\n      <td>323</td>\n      <td>250</td>\n      <td>£23.25</td>\n    </tr>\n    <tr>\n      <th>23</th>\n      <td>Taipei</td>\n      <td>24</td>\n      <td>1405</td>\n      <td>£0.57</td>\n      <td>6.20%</td>\n      <td>75.4</td>\n      <td>49.32</td>\n      <td>-</td>\n      <td>5.12</td>\n      <td>134</td>\n      <td>717</td>\n      <td>£34.76</td>\n    </tr>\n    <tr>\n      <th>24</th>\n      <td>Los Angeles</td>\n      <td>25</td>\n      <td>3254</td>\n      <td>£1.52</td>\n      <td>36.20%</td>\n      <td>78.8</td>\n      <td>66.07</td>\n      <td>1779</td>\n      <td>6.94</td>\n      <td>223</td>\n      <td>1439</td>\n      <td>£32.00</td>\n    </tr>\n    <tr>\n      <th>25</th>\n      <td>Mumbai</td>\n      <td>26</td>\n      <td>2584</td>\n      <td>£0.15</td>\n      <td>3.90%</td>\n      <td>67.3</td>\n      <td>82.84</td>\n      <td>-</td>\n      <td>3.57</td>\n      <td>187</td>\n      <td>1183</td>\n      <td>£19.54</td>\n    </tr>\n    <tr>\n      <th>26</th>\n      <td>Boston</td>\n      <td>27</td>\n      <td>2634</td>\n      <td>£1.39</td>\n      <td>36.20%</td>\n      <td>78.8</td>\n      <td>27.03</td>\n      <td>1779</td>\n      <td>6.94</td>\n      <td>88</td>\n      <td>588</td>\n      <td>£46.27</td>\n    </tr>\n    <tr>\n      <th>27</th>\n      <td>Dublin</td>\n      <td>28</td>\n      <td>1453</td>\n      <td>£1.40</td>\n      <td>25.30%</td>\n      <td>80.5</td>\n      <td>40.07</td>\n      <td>1772</td>\n      <td>7.09</td>\n      <td>159</td>\n      <td>659</td>\n      <td>£37.35</td>\n    </tr>\n    <tr>\n      <th>28</th>\n      <td>Tokyo</td>\n      <td>29</td>\n      <td>1877</td>\n      <td>£0.76</td>\n      <td>4.30%</td>\n      <td>83.2</td>\n      <td>42.84</td>\n      <td>1644</td>\n      <td>5.87</td>\n      <td>387</td>\n      <td>5802</td>\n      <td>£70.82</td>\n    </tr>\n    <tr>\n      <th>29</th>\n      <td>Chicago</td>\n      <td>30</td>\n      <td>2508</td>\n      <td>£1.20</td>\n      <td>36.20%</td>\n      <td>78.8</td>\n      <td>43.33</td>\n      <td>1779</td>\n      <td>6.94</td>\n      <td>171</td>\n      <td>1320</td>\n      <td>£41.14</td>\n    </tr>\n    <tr>\n      <th>30</th>\n      <td>Hong Kong</td>\n      <td>31</td>\n      <td>1836</td>\n      <td>£0.75</td>\n      <td>6.20%</td>\n      <td>75.4</td>\n      <td>67.46</td>\n      <td>-</td>\n      <td>5.51</td>\n      <td>277</td>\n      <td>1257</td>\n      <td>£57.95</td>\n    </tr>\n    <tr>\n      <th>31</th>\n      <td>Shanghai</td>\n      <td>32</td>\n      <td>1776</td>\n      <td>£0.29</td>\n      <td>6.20%</td>\n      <td>75.4</td>\n      <td>77.40</td>\n      <td>-</td>\n      <td>5.12</td>\n      <td>108</td>\n      <td>346</td>\n      <td>£44.68</td>\n    </tr>\n    <tr>\n      <th>32</th>\n      <td>Brussels</td>\n      <td>33</td>\n      <td>1546</td>\n      <td>£2.11</td>\n      <td>22.10%</td>\n      <td>80.4</td>\n      <td>62.67</td>\n      <td>1583</td>\n      <td>6.86</td>\n      <td>55</td>\n      <td>988</td>\n      <td>£25.34</td>\n    </tr>\n    <tr>\n      <th>33</th>\n      <td>San Francisco</td>\n      <td>34</td>\n      <td>3062</td>\n      <td>£1.60</td>\n      <td>36.20%</td>\n      <td>78.8</td>\n      <td>47.36</td>\n      <td>1779</td>\n      <td>6.94</td>\n      <td>242</td>\n      <td>1031</td>\n      <td>£65.13</td>\n    </tr>\n    <tr>\n      <th>34</th>\n      <td>Paris</td>\n      <td>35</td>\n      <td>1662</td>\n      <td>£1.95</td>\n      <td>21.60%</td>\n      <td>81.8</td>\n      <td>65.10</td>\n      <td>1505</td>\n      <td>6.66</td>\n      <td>331</td>\n      <td>4363</td>\n      <td>£35.93</td>\n    </tr>\n    <tr>\n      <th>35</th>\n      <td>Sao Paulo</td>\n      <td>36</td>\n      <td>2003</td>\n      <td>£0.44</td>\n      <td>22.10%</td>\n      <td>73.9</td>\n      <td>79.78</td>\n      <td>-</td>\n      <td>6.37</td>\n      <td>158</td>\n      <td>3355</td>\n      <td>£16.07</td>\n    </tr>\n    <tr>\n      <th>36</th>\n      <td>Zurich</td>\n      <td>37</td>\n      <td>1566</td>\n      <td>£3.20</td>\n      <td>19.50%</td>\n      <td>82.6</td>\n      <td>17.31</td>\n      <td>1557</td>\n      <td>7.56</td>\n      <td>69</td>\n      <td>538</td>\n      <td>£73.11</td>\n    </tr>\n    <tr>\n      <th>37</th>\n      <td>London</td>\n      <td>38</td>\n      <td>1633</td>\n      <td>£1.16</td>\n      <td>27.80%</td>\n      <td>80.4</td>\n      <td>58.91</td>\n      <td>1538</td>\n      <td>7.16</td>\n      <td>433</td>\n      <td>6417</td>\n      <td>£42.71</td>\n    </tr>\n    <tr>\n      <th>38</th>\n      <td>Johannesburg</td>\n      <td>39</td>\n      <td>3124</td>\n      <td>£0.59</td>\n      <td>28.30%</td>\n      <td>56.3</td>\n      <td>61.83</td>\n      <td>-</td>\n      <td>4.81</td>\n      <td>194</td>\n      <td>492</td>\n      <td>£24.28</td>\n    </tr>\n    <tr>\n      <th>39</th>\n      <td>Milan</td>\n      <td>40</td>\n      <td>1915</td>\n      <td>£1.15</td>\n      <td>19.90%</td>\n      <td>82.7</td>\n      <td>67.19</td>\n      <td>1718</td>\n      <td>6.38</td>\n      <td>110</td>\n      <td>2396</td>\n      <td>£53.49</td>\n    </tr>\n    <tr>\n      <th>40</th>\n      <td>Washington, D.C.</td>\n      <td>41</td>\n      <td>2528</td>\n      <td>£1.45</td>\n      <td>36.20%</td>\n      <td>78.8</td>\n      <td>39.18</td>\n      <td>1779</td>\n      <td>6.94</td>\n      <td>83</td>\n      <td>744</td>\n      <td>£65.99</td>\n    </tr>\n    <tr>\n      <th>41</th>\n      <td>New York</td>\n      <td>42</td>\n      <td>2535</td>\n      <td>£1.32</td>\n      <td>36.20%</td>\n      <td>78.8</td>\n      <td>57.36</td>\n      <td>1779</td>\n      <td>6.94</td>\n      <td>359</td>\n      <td>3081</td>\n      <td>£64.66</td>\n    </tr>\n    <tr>\n      <th>42</th>\n      <td>Moscow</td>\n      <td>43</td>\n      <td>1901</td>\n      <td>£0.41</td>\n      <td>23.10%</td>\n      <td>69.5</td>\n      <td>57.63</td>\n      <td>1965</td>\n      <td>5.54</td>\n      <td>322</td>\n      <td>3206</td>\n      <td>£31.40</td>\n    </tr>\n    <tr>\n      <th>43</th>\n      <td>Mexico City</td>\n      <td>44</td>\n      <td>2555</td>\n      <td>£0.45</td>\n      <td>28.90%</td>\n      <td>76.4</td>\n      <td>82.78</td>\n      <td>2137</td>\n      <td>6.46</td>\n      <td>192</td>\n      <td>1313</td>\n      <td>£41.99</td>\n    </tr>\n  </tbody>\n</table>\n</div>"
     },
     "execution_count": 217,
     "metadata": {},
     "output_type": "execute_result"
    }
   ],
   "source": [
    "cities = pd.read_csv(\"healthy_lifestyle_city_2021.csv\")\n",
    "cities"
   ]
  },
  {
   "cell_type": "markdown",
   "id": "332c17b1",
   "metadata": {
    "nbgrader": {
     "grade": false,
     "grade_id": "cell-f30ccb790dff9fe2",
     "locked": true,
     "schema_version": 3,
     "solution": false,
     "task": false
    }
   },
   "source": [
    "### 1a) (2 points)\n",
    "\n",
    "**Replace** the values in the columns:\n",
    "       \n",
    "- \"Cost of a bottle of water(City)\"\n",
    "- \"Sunshine hours(City)\"\n",
    "- \"Cost of a monthly gym membership(City)\"\n",
    "- \"Obesity levels(Country)\"\n",
    "       \n",
    "with numerical values (float). Make sure to also convert percentage values. For example, a value \"20.40%\" should be converted to \"0.204\".\n",
    "  \n",
    "  In case values are missing (as indicated by the `-`) replace them with `np.nan`, which is used in Pandas to mark missing values. \n",
    "\n",
    "  **Hint:** Extract the column, apply the pandas functions `.str` and `.astype()` and `.replace()` and write the changed column back into the dataframe. Use the help function to find examples of how to use the above functions.\n",
    "\n",
    "  **Take note:** Once you have replaced the columns, re-running this cell will give you an error since methods like .str do not apply to the replaced float values."
   ]
  },
  {
   "cell_type": "code",
   "outputs": [],
   "source": [
    "cities = pd.read_csv(\"healthy_lifestyle_city_2021.csv\")\n",
    "\n",
    "\n",
    "class Helpers:\n",
    "    @staticmethod\n",
    "    def convert_to_unitless(series: pd.Series, unit: str):\n",
    "        return series.replace(f\"[\\${unit},)]\", '', regex=True).astype(float)\n",
    "    \n",
    "    @staticmethod\n",
    "    def replace_na_value(series: pd.Series, na_value: str):\n",
    "        return series.replace(na_value, np.nan).astype(float)\n",
    "\n",
    "\n",
    "class Question1a:\n",
    "    cost_of_water_column = Helpers.convert_to_unitless(cities['Cost of a bottle of water(City)'], '£')\n",
    "    sunshine_hours_column = Helpers.replace_na_value(cities['Sunshine hours(City)'], '-')\n",
    "    cost_of_gym_column = Helpers.convert_to_unitless(cities['Cost of a monthly gym membership(City)'], '£')\n",
    "    obesity_level_column = Helpers.convert_to_unitless(cities['Obesity levels(Country)'], '%') / 100\n",
    "    \n",
    "    cities['Cost of a bottle of water(City)'] = cost_of_water_column\n",
    "    cities['Sunshine hours(City)'] = sunshine_hours_column\n",
    "    cities['Cost of a monthly gym membership(City)'] = cost_of_gym_column\n",
    "    cities['Obesity levels(Country)'] = obesity_level_column\n"
   ],
   "metadata": {
    "collapsed": false,
    "ExecuteTime": {
     "end_time": "2024-03-23T09:05:43.242965Z",
     "start_time": "2024-03-23T09:05:43.230375Z"
    }
   },
   "id": "e33c165ec1a88dfa",
   "execution_count": 218
  },
  {
   "cell_type": "code",
   "execution_count": 219,
   "id": "deb0f787",
   "metadata": {
    "ExecuteTime": {
     "end_time": "2024-03-23T09:05:43.254332Z",
     "start_time": "2024-03-23T09:05:43.244744Z"
    }
   },
   "outputs": [
    {
     "data": {
      "text/plain": "Question 1a results: All test cases passed!",
      "text/html": "<p><strong><pre style='display: inline;'>Question 1a</pre></strong> passed! 🌈</p>"
     },
     "execution_count": 219,
     "metadata": {},
     "output_type": "execute_result"
    }
   ],
   "source": [
    "grader.check(\"Question 1a\")"
   ]
  },
  {
   "cell_type": "markdown",
   "id": "00653158",
   "metadata": {
    "nbgrader": {
     "grade": false,
     "grade_id": "cell-3d9402382f967adc",
     "locked": true,
     "schema_version": 3,
     "solution": false,
     "task": false
    }
   },
   "source": [
    "### 1b (1 point)\n",
    "What is the mean of the column \"Obesity levels(Country)\"?\n",
    "\n",
    "Assign this number to the variable *mean_obesity_level*."
   ]
  },
  {
   "cell_type": "code",
   "execution_count": 220,
   "id": "6e0b6775",
   "metadata": {
    "nbgrader": {
     "grade": false,
     "grade_id": "cell-8c8767ce075ccffb",
     "locked": false,
     "schema_version": 3,
     "solution": true,
     "task": false
    },
    "ExecuteTime": {
     "end_time": "2024-03-23T09:05:43.271032Z",
     "start_time": "2024-03-23T09:05:43.266514Z"
    }
   },
   "outputs": [],
   "source": [
    "class Question1b:\n",
    "    mean_obesity_level = cities['Obesity levels(Country)'].mean()\n"
   ]
  },
  {
   "cell_type": "code",
   "execution_count": 221,
   "id": "28777f64",
   "metadata": {
    "ExecuteTime": {
     "end_time": "2024-03-23T09:05:43.290471Z",
     "start_time": "2024-03-23T09:05:43.283065Z"
    }
   },
   "outputs": [
    {
     "data": {
      "text/plain": "Question 1b results: All test cases passed!",
      "text/html": "<p><strong><pre style='display: inline;'>Question 1b</pre></strong> passed! 🚀</p>"
     },
     "execution_count": 221,
     "metadata": {},
     "output_type": "execute_result"
    }
   ],
   "source": [
    "grader.check(\"Question 1b\")"
   ]
  },
  {
   "cell_type": "markdown",
   "id": "99eb43d2",
   "metadata": {
    "nbgrader": {
     "grade": false,
     "grade_id": "cell-535e41a827712440",
     "locked": true,
     "schema_version": 3,
     "solution": false,
     "task": false
    }
   },
   "source": [
    "### 1c (1 point)\n",
    "Is the mean a good measure to summarize the values of \"Obesity levels(Country)\"?\n",
    "\n",
    "* Create a histogram ( with 13 bins) for the column \"Obesity levels(Country)\" using the seaborn plot function.\n",
    "\n",
    "* Which of the following distributions describes best the distribution you see on the histogramm of Obesity levels?\n",
    "        - Gaussian\n",
    "        - Bimodal\n",
    "        - Binomial\n",
    "        - Poisson\n",
    "  \n",
    "    * Assign the correct distribution (its name as a string) to the variable \"distribution\". Beware: Python is case sensitive.\n",
    "    \n",
    "    \n",
    "* Is the mean a good measure to summarize the values of \"Obesity levels(Country)\"? Yes or No?\n",
    "    * Assign \"yes\" or \"no\" (as strings) to the variable called \"answer\"."
   ]
  },
  {
   "cell_type": "code",
   "execution_count": 222,
   "id": "e69b4e29",
   "metadata": {
    "nbgrader": {
     "grade": false,
     "grade_id": "cell-73833e6a3bef14f2",
     "locked": false,
     "schema_version": 3,
     "solution": true,
     "task": false
    },
    "ExecuteTime": {
     "end_time": "2024-03-23T09:05:43.618779Z",
     "start_time": "2024-03-23T09:05:43.297212Z"
    }
   },
   "outputs": [
    {
     "data": {
      "text/plain": "<Figure size 640x480 with 1 Axes>",
      "image/png": "[encoded data removed]"
     },
     "metadata": {},
     "output_type": "display_data"
    }
   ],
   "source": [
    "class Question1c:\n",
    "    obesity_levels_hist = sns.histplot(cities['Obesity levels(Country)'], bins=13)\n",
    "    distribution = 'Bimodal'\n",
    "    answer = 'no'"
   ]
  },
  {
   "cell_type": "code",
   "execution_count": 223,
   "id": "7be5f6aa",
   "metadata": {
    "ExecuteTime": {
     "end_time": "2024-03-23T09:05:43.629196Z",
     "start_time": "2024-03-23T09:05:43.621540Z"
    }
   },
   "outputs": [
    {
     "data": {
      "text/plain": "Question 1c results: All test cases passed!",
      "text/html": "<p><strong><pre style='display: inline;'>Question 1c</pre></strong> passed! 🎉</p>"
     },
     "execution_count": 223,
     "metadata": {},
     "output_type": "execute_result"
    }
   ],
   "source": [
    "grader.check(\"Question 1c\")"
   ]
  },
  {
   "cell_type": "markdown",
   "id": "908396a5",
   "metadata": {
    "nbgrader": {
     "grade": false,
     "grade_id": "cell-631f01b5f3a50947",
     "locked": true,
     "schema_version": 3,
     "solution": false,
     "task": false
    }
   },
   "source": [
    "### 1d) (2 points)\n",
    "Please make a new column (for the existing data frame) called \"Continent\" containing the continent of each city (type: string). <br>\n",
    "If a city is in multiple continents, choose one (it will make the following plots cleaner). <br>\n",
    "Use this list of continent names: Africa, America, Antarctica, Australia, Asia, Europe, Oceania.\n",
    "\n",
    "Save it back to the variable cities \n",
    "\n",
    "**Hint:** There is no fancy function you need, just patience. One possible solution is to create a `dict` with the names as the key and the continent as the value and then use pandas `apply` function to map the cities to the continent. Or, you just unglamerously add the continent value one by one into a list that you make into a column. "
   ]
  },
  {
   "cell_type": "code",
   "execution_count": 224,
   "id": "0d10860b",
   "metadata": {
    "nbgrader": {
     "grade": false,
     "grade_id": "cell-36f40a02cef87b84",
     "locked": false,
     "schema_version": 3,
     "solution": true,
     "task": false
    },
    "ExecuteTime": {
     "end_time": "2024-03-23T09:05:43.670081Z",
     "start_time": "2024-03-23T09:05:43.631146Z"
    }
   },
   "outputs": [
    {
     "data": {
      "text/plain": "                City  Continent  Rank  Sunshine hours(City)  \\\n0          Amsterdam     Europe     1                1858.0   \n1             Sydney  Australia     2                2636.0   \n2             Vienna     Europe     3                1884.0   \n3          Stockholm     Europe     4                1821.0   \n4         Copenhagen     Europe     5                1630.0   \n5           Helsinki     Europe     6                1662.0   \n6            Fukuoka       Asia     7                2769.0   \n7             Berlin     Europe     8                1626.0   \n8          Barcelona     Europe     9                2591.0   \n9          Vancouver     Europe    10                1938.0   \n10         Melbourne  Australia    11                2363.0   \n11           Beijing       Asia    12                2671.0   \n12           Bangkok       Asia    13                2624.0   \n13      Buenos Aires    America    14                2525.0   \n14           Toronto    America    15                2066.0   \n15            Madrid     Europe    16                2769.0   \n16           Jakarta    Oceania    17                2983.0   \n17             Seoul       Asia    18                2066.0   \n18         Frankfurt     Europe    19                1662.0   \n19            Geneva     Europe    20                   NaN   \n20          Tel Aviv       Asia    21                3311.0   \n21          Istanbul     Europe    22                2218.0   \n22             Cairo       Asia    23                3542.0   \n23            Taipei       Asia    24                1405.0   \n24       Los Angeles    America    25                3254.0   \n25            Mumbai       Asia    26                2584.0   \n26            Boston    America    27                2634.0   \n27            Dublin     Europe    28                1453.0   \n28             Tokyo       Asia    29                1877.0   \n29           Chicago    America    30                2508.0   \n30         Hong Kong       Asia    31                1836.0   \n31          Shanghai       Asia    32                1776.0   \n32          Brussels     Europe    33                1546.0   \n33     San Francisco    America    34                3062.0   \n34             Paris     Europe    35                1662.0   \n35         Sao Paulo    America    36                2003.0   \n36            Zurich     Europe    37                1566.0   \n37            London     Europe    38                1633.0   \n38      Johannesburg     Africa    39                3124.0   \n39             Milan     Europe    40                1915.0   \n40  Washington, D.C.    America    41                2528.0   \n41          New York    America    42                2535.0   \n42            Moscow     Europe    43                1901.0   \n43       Mexico City    America    44                2555.0   \n\n    Cost of a bottle of water(City)  Obesity levels(Country)  \\\n0                              1.92                    0.204   \n1                              1.48                    0.290   \n2                              1.94                    0.201   \n3                              1.72                    0.206   \n4                              2.19                    0.197   \n5                              1.60                    0.222   \n6                              0.78                    0.043   \n7                              1.55                    0.223   \n8                              1.19                    0.238   \n9                              1.08                    0.294   \n10                             1.57                    0.290   \n11                             0.26                    0.062   \n12                             0.22                    0.100   \n13                             0.57                    0.283   \n14                             1.09                    0.294   \n15                             1.30                    0.238   \n16                             0.21                    0.069   \n17                             0.59                    0.047   \n18                             1.95                    0.223   \n19                             2.62                    0.195   \n20                             1.63                    0.261   \n21                             0.15                    0.321   \n22                             0.16                    0.320   \n23                             0.57                    0.062   \n24                             1.52                    0.362   \n25                             0.15                    0.039   \n26                             1.39                    0.362   \n27                             1.40                    0.253   \n28                             0.76                    0.043   \n29                             1.20                    0.362   \n30                             0.75                    0.062   \n31                             0.29                    0.062   \n32                             2.11                    0.221   \n33                             1.60                    0.362   \n34                             1.95                    0.216   \n35                             0.44                    0.221   \n36                             3.20                    0.195   \n37                             1.16                    0.278   \n38                             0.59                    0.283   \n39                             1.15                    0.199   \n40                             1.45                    0.362   \n41                             1.32                    0.362   \n42                             0.41                    0.231   \n43                             0.45                    0.289   \n\n    Life expectancy(years) (Country) Pollution(Index score) (City)  \\\n0                               81.2                         30.93   \n1                               82.1                         26.86   \n2                               81.0                         17.33   \n3                               81.8                         19.63   \n4                               79.8                         21.24   \n5                               80.4                         13.08   \n6                               83.2                             -   \n7                               80.6                         39.41   \n8                               82.2                         65.19   \n9                               81.7                         24.26   \n10                              82.1                         25.90   \n11                              75.4                         85.43   \n12                              74.1                         76.64   \n13                              75.9                         52.64   \n14                              81.7                         37.83   \n15                              82.2                         52.68   \n16                              68.5                         84.39   \n17                              81.3                         57.82   \n18                              80.6                         37.78   \n19                              82.6                         27.25   \n20                              81.9                         47.28   \n21                              74.7                         69.49   \n22                              70.7                         91.74   \n23                              75.4                         49.32   \n24                              78.8                         66.07   \n25                              67.3                         82.84   \n26                              78.8                         27.03   \n27                              80.5                         40.07   \n28                              83.2                         42.84   \n29                              78.8                         43.33   \n30                              75.4                         67.46   \n31                              75.4                         77.40   \n32                              80.4                         62.67   \n33                              78.8                         47.36   \n34                              81.8                         65.10   \n35                              73.9                         79.78   \n36                              82.6                         17.31   \n37                              80.4                         58.91   \n38                              56.3                         61.83   \n39                              82.7                         67.19   \n40                              78.8                         39.18   \n41                              78.8                         57.36   \n42                              69.5                         57.63   \n43                              76.4                         82.78   \n\n   Annual avg. hours worked  Happiness levels(Country)  \\\n0                      1434                       7.44   \n1                      1712                       7.22   \n2                      1501                       7.29   \n3                      1452                       7.35   \n4                      1380                       7.64   \n5                      1540                       7.80   \n6                      1644                       5.87   \n7                      1386                       7.07   \n8                      1686                       6.40   \n9                      1670                       7.23   \n10                     1712                       7.22   \n11                        -                       5.12   \n12                        -                       5.99   \n13                        -                       5.97   \n14                     1670                       7.23   \n15                     1686                       6.40   \n16                        -                       5.28   \n17                     1967                       5.87   \n18                     1386                       7.07   \n19                     1557                       7.56   \n20                     1898                       7.12   \n21                     1832                       5.13   \n22                        -                       4.15   \n23                        -                       5.12   \n24                     1779                       6.94   \n25                        -                       3.57   \n26                     1779                       6.94   \n27                     1772                       7.09   \n28                     1644                       5.87   \n29                     1779                       6.94   \n30                        -                       5.51   \n31                        -                       5.12   \n32                     1583                       6.86   \n33                     1779                       6.94   \n34                     1505                       6.66   \n35                        -                       6.37   \n36                     1557                       7.56   \n37                     1538                       7.16   \n38                        -                       4.81   \n39                     1718                       6.38   \n40                     1779                       6.94   \n41                     1779                       6.94   \n42                     1965                       5.54   \n43                     2137                       6.46   \n\n    Outdoor activities(City)  Number of take out places(City)  \\\n0                        422                             1048   \n1                        406                             1103   \n2                        132                             1008   \n3                        129                              598   \n4                        154                              523   \n5                        113                              309   \n6                         35                              539   \n7                        254                             1729   \n8                        585                             2344   \n9                        218                              788   \n10                       243                              813   \n11                       223                              261   \n12                       377                             1796   \n13                       246                             1435   \n14                       174                             1656   \n15                       216                             2491   \n16                       114                              833   \n17                       144                              389   \n18                        23                              551   \n19                        44                              444   \n20                       139                              420   \n21                       419                              934   \n22                       323                              250   \n23                       134                              717   \n24                       223                             1439   \n25                       187                             1183   \n26                        88                              588   \n27                       159                              659   \n28                       387                             5802   \n29                       171                             1320   \n30                       277                             1257   \n31                       108                              346   \n32                        55                              988   \n33                       242                             1031   \n34                       331                             4363   \n35                       158                             3355   \n36                        69                              538   \n37                       433                             6417   \n38                       194                              492   \n39                       110                             2396   \n40                        83                              744   \n41                       359                             3081   \n42                       322                             3206   \n43                       192                             1313   \n\n    Cost of a monthly gym membership(City)  \n0                                    34.90  \n1                                    41.66  \n2                                    25.74  \n3                                    37.31  \n4                                    32.53  \n5                                    35.23  \n6                                    55.87  \n7                                    26.11  \n8                                    37.80  \n9                                    31.04  \n10                                   36.89  \n11                                   38.62  \n12                                   50.03  \n13                                   22.45  \n14                                   32.64  \n15                                   34.54  \n16                                   29.94  \n17                                   43.03  \n18                                   39.01  \n19                                   70.00  \n20                                   58.31  \n21                                   16.97  \n22                                   23.25  \n23                                   34.76  \n24                                   32.00  \n25                                   19.54  \n26                                   46.27  \n27                                   37.35  \n28                                   70.82  \n29                                   41.14  \n30                                   57.95  \n31                                   44.68  \n32                                   25.34  \n33                                   65.13  \n34                                   35.93  \n35                                   16.07  \n36                                   73.11  \n37                                   42.71  \n38                                   24.28  \n39                                   53.49  \n40                                   65.99  \n41                                   64.66  \n42                                   31.40  \n43                                   41.99  ",
      "text/html": "<div>\n<style scoped>\n    .dataframe tbody tr th:only-of-type {\n        vertical-align: middle;\n    }\n\n    .dataframe tbody tr th {\n        vertical-align: top;\n    }\n\n    .dataframe thead th {\n        text-align: right;\n    }\n</style>\n<table border=\"1\" class=\"dataframe\">\n  <thead>\n    <tr style=\"text-align: right;\">\n      <th></th>\n      <th>City</th>\n      <th>Continent</th>\n      <th>Rank</th>\n      <th>Sunshine hours(City)</th>\n      <th>Cost of a bottle of water(City)</th>\n      <th>Obesity levels(Country)</th>\n      <th>Life expectancy(years) (Country)</th>\n      <th>Pollution(Index score) (City)</th>\n      <th>Annual avg. hours worked</th>\n      <th>Happiness levels(Country)</th>\n      <th>Outdoor activities(City)</th>\n      <th>Number of take out places(City)</th>\n      <th>Cost of a monthly gym membership(City)</th>\n    </tr>\n  </thead>\n  <tbody>\n    <tr>\n      <th>0</th>\n      <td>Amsterdam</td>\n      <td>Europe</td>\n      <td>1</td>\n      <td>1858.0</td>\n      <td>1.92</td>\n      <td>0.204</td>\n      <td>81.2</td>\n      <td>30.93</td>\n      <td>1434</td>\n      <td>7.44</td>\n      <td>422</td>\n      <td>1048</td>\n      <td>34.90</td>\n    </tr>\n    <tr>\n      <th>1</th>\n      <td>Sydney</td>\n      <td>Australia</td>\n      <td>2</td>\n      <td>2636.0</td>\n      <td>1.48</td>\n      <td>0.290</td>\n      <td>82.1</td>\n      <td>26.86</td>\n      <td>1712</td>\n      <td>7.22</td>\n      <td>406</td>\n      <td>1103</td>\n      <td>41.66</td>\n    </tr>\n    <tr>\n      <th>2</th>\n      <td>Vienna</td>\n      <td>Europe</td>\n      <td>3</td>\n      <td>1884.0</td>\n      <td>1.94</td>\n      <td>0.201</td>\n      <td>81.0</td>\n      <td>17.33</td>\n      <td>1501</td>\n      <td>7.29</td>\n      <td>132</td>\n      <td>1008</td>\n      <td>25.74</td>\n    </tr>\n    <tr>\n      <th>3</th>\n      <td>Stockholm</td>\n      <td>Europe</td>\n      <td>4</td>\n      <td>1821.0</td>\n      <td>1.72</td>\n      <td>0.206</td>\n      <td>81.8</td>\n      <td>19.63</td>\n      <td>1452</td>\n      <td>7.35</td>\n      <td>129</td>\n      <td>598</td>\n      <td>37.31</td>\n    </tr>\n    <tr>\n      <th>4</th>\n      <td>Copenhagen</td>\n      <td>Europe</td>\n      <td>5</td>\n      <td>1630.0</td>\n      <td>2.19</td>\n      <td>0.197</td>\n      <td>79.8</td>\n      <td>21.24</td>\n      <td>1380</td>\n      <td>7.64</td>\n      <td>154</td>\n      <td>523</td>\n      <td>32.53</td>\n    </tr>\n    <tr>\n      <th>5</th>\n      <td>Helsinki</td>\n      <td>Europe</td>\n      <td>6</td>\n      <td>1662.0</td>\n      <td>1.60</td>\n      <td>0.222</td>\n      <td>80.4</td>\n      <td>13.08</td>\n      <td>1540</td>\n      <td>7.80</td>\n      <td>113</td>\n      <td>309</td>\n      <td>35.23</td>\n    </tr>\n    <tr>\n      <th>6</th>\n      <td>Fukuoka</td>\n      <td>Asia</td>\n      <td>7</td>\n      <td>2769.0</td>\n      <td>0.78</td>\n      <td>0.043</td>\n      <td>83.2</td>\n      <td>-</td>\n      <td>1644</td>\n      <td>5.87</td>\n      <td>35</td>\n      <td>539</td>\n      <td>55.87</td>\n    </tr>\n    <tr>\n      <th>7</th>\n      <td>Berlin</td>\n      <td>Europe</td>\n      <td>8</td>\n      <td>1626.0</td>\n      <td>1.55</td>\n      <td>0.223</td>\n      <td>80.6</td>\n      <td>39.41</td>\n      <td>1386</td>\n      <td>7.07</td>\n      <td>254</td>\n      <td>1729</td>\n      <td>26.11</td>\n    </tr>\n    <tr>\n      <th>8</th>\n      <td>Barcelona</td>\n      <td>Europe</td>\n      <td>9</td>\n      <td>2591.0</td>\n      <td>1.19</td>\n      <td>0.238</td>\n      <td>82.2</td>\n      <td>65.19</td>\n      <td>1686</td>\n      <td>6.40</td>\n      <td>585</td>\n      <td>2344</td>\n      <td>37.80</td>\n    </tr>\n    <tr>\n      <th>9</th>\n      <td>Vancouver</td>\n      <td>Europe</td>\n      <td>10</td>\n      <td>1938.0</td>\n      <td>1.08</td>\n      <td>0.294</td>\n      <td>81.7</td>\n      <td>24.26</td>\n      <td>1670</td>\n      <td>7.23</td>\n      <td>218</td>\n      <td>788</td>\n      <td>31.04</td>\n    </tr>\n    <tr>\n      <th>10</th>\n      <td>Melbourne</td>\n      <td>Australia</td>\n      <td>11</td>\n      <td>2363.0</td>\n      <td>1.57</td>\n      <td>0.290</td>\n      <td>82.1</td>\n      <td>25.90</td>\n      <td>1712</td>\n      <td>7.22</td>\n      <td>243</td>\n      <td>813</td>\n      <td>36.89</td>\n    </tr>\n    <tr>\n      <th>11</th>\n      <td>Beijing</td>\n      <td>Asia</td>\n      <td>12</td>\n      <td>2671.0</td>\n      <td>0.26</td>\n      <td>0.062</td>\n      <td>75.4</td>\n      <td>85.43</td>\n      <td>-</td>\n      <td>5.12</td>\n      <td>223</td>\n      <td>261</td>\n      <td>38.62</td>\n    </tr>\n    <tr>\n      <th>12</th>\n      <td>Bangkok</td>\n      <td>Asia</td>\n      <td>13</td>\n      <td>2624.0</td>\n      <td>0.22</td>\n      <td>0.100</td>\n      <td>74.1</td>\n      <td>76.64</td>\n      <td>-</td>\n      <td>5.99</td>\n      <td>377</td>\n      <td>1796</td>\n      <td>50.03</td>\n    </tr>\n    <tr>\n      <th>13</th>\n      <td>Buenos Aires</td>\n      <td>America</td>\n      <td>14</td>\n      <td>2525.0</td>\n      <td>0.57</td>\n      <td>0.283</td>\n      <td>75.9</td>\n      <td>52.64</td>\n      <td>-</td>\n      <td>5.97</td>\n      <td>246</td>\n      <td>1435</td>\n      <td>22.45</td>\n    </tr>\n    <tr>\n      <th>14</th>\n      <td>Toronto</td>\n      <td>America</td>\n      <td>15</td>\n      <td>2066.0</td>\n      <td>1.09</td>\n      <td>0.294</td>\n      <td>81.7</td>\n      <td>37.83</td>\n      <td>1670</td>\n      <td>7.23</td>\n      <td>174</td>\n      <td>1656</td>\n      <td>32.64</td>\n    </tr>\n    <tr>\n      <th>15</th>\n      <td>Madrid</td>\n      <td>Europe</td>\n      <td>16</td>\n      <td>2769.0</td>\n      <td>1.30</td>\n      <td>0.238</td>\n      <td>82.2</td>\n      <td>52.68</td>\n      <td>1686</td>\n      <td>6.40</td>\n      <td>216</td>\n      <td>2491</td>\n      <td>34.54</td>\n    </tr>\n    <tr>\n      <th>16</th>\n      <td>Jakarta</td>\n      <td>Oceania</td>\n      <td>17</td>\n      <td>2983.0</td>\n      <td>0.21</td>\n      <td>0.069</td>\n      <td>68.5</td>\n      <td>84.39</td>\n      <td>-</td>\n      <td>5.28</td>\n      <td>114</td>\n      <td>833</td>\n      <td>29.94</td>\n    </tr>\n    <tr>\n      <th>17</th>\n      <td>Seoul</td>\n      <td>Asia</td>\n      <td>18</td>\n      <td>2066.0</td>\n      <td>0.59</td>\n      <td>0.047</td>\n      <td>81.3</td>\n      <td>57.82</td>\n      <td>1967</td>\n      <td>5.87</td>\n      <td>144</td>\n      <td>389</td>\n      <td>43.03</td>\n    </tr>\n    <tr>\n      <th>18</th>\n      <td>Frankfurt</td>\n      <td>Europe</td>\n      <td>19</td>\n      <td>1662.0</td>\n      <td>1.95</td>\n      <td>0.223</td>\n      <td>80.6</td>\n      <td>37.78</td>\n      <td>1386</td>\n      <td>7.07</td>\n      <td>23</td>\n      <td>551</td>\n      <td>39.01</td>\n    </tr>\n    <tr>\n      <th>19</th>\n      <td>Geneva</td>\n      <td>Europe</td>\n      <td>20</td>\n      <td>NaN</td>\n      <td>2.62</td>\n      <td>0.195</td>\n      <td>82.6</td>\n      <td>27.25</td>\n      <td>1557</td>\n      <td>7.56</td>\n      <td>44</td>\n      <td>444</td>\n      <td>70.00</td>\n    </tr>\n    <tr>\n      <th>20</th>\n      <td>Tel Aviv</td>\n      <td>Asia</td>\n      <td>21</td>\n      <td>3311.0</td>\n      <td>1.63</td>\n      <td>0.261</td>\n      <td>81.9</td>\n      <td>47.28</td>\n      <td>1898</td>\n      <td>7.12</td>\n      <td>139</td>\n      <td>420</td>\n      <td>58.31</td>\n    </tr>\n    <tr>\n      <th>21</th>\n      <td>Istanbul</td>\n      <td>Europe</td>\n      <td>22</td>\n      <td>2218.0</td>\n      <td>0.15</td>\n      <td>0.321</td>\n      <td>74.7</td>\n      <td>69.49</td>\n      <td>1832</td>\n      <td>5.13</td>\n      <td>419</td>\n      <td>934</td>\n      <td>16.97</td>\n    </tr>\n    <tr>\n      <th>22</th>\n      <td>Cairo</td>\n      <td>Asia</td>\n      <td>23</td>\n      <td>3542.0</td>\n      <td>0.16</td>\n      <td>0.320</td>\n      <td>70.7</td>\n      <td>91.74</td>\n      <td>-</td>\n      <td>4.15</td>\n      <td>323</td>\n      <td>250</td>\n      <td>23.25</td>\n    </tr>\n    <tr>\n      <th>23</th>\n      <td>Taipei</td>\n      <td>Asia</td>\n      <td>24</td>\n      <td>1405.0</td>\n      <td>0.57</td>\n      <td>0.062</td>\n      <td>75.4</td>\n      <td>49.32</td>\n      <td>-</td>\n      <td>5.12</td>\n      <td>134</td>\n      <td>717</td>\n      <td>34.76</td>\n    </tr>\n    <tr>\n      <th>24</th>\n      <td>Los Angeles</td>\n      <td>America</td>\n      <td>25</td>\n      <td>3254.0</td>\n      <td>1.52</td>\n      <td>0.362</td>\n      <td>78.8</td>\n      <td>66.07</td>\n      <td>1779</td>\n      <td>6.94</td>\n      <td>223</td>\n      <td>1439</td>\n      <td>32.00</td>\n    </tr>\n    <tr>\n      <th>25</th>\n      <td>Mumbai</td>\n      <td>Asia</td>\n      <td>26</td>\n      <td>2584.0</td>\n      <td>0.15</td>\n      <td>0.039</td>\n      <td>67.3</td>\n      <td>82.84</td>\n      <td>-</td>\n      <td>3.57</td>\n      <td>187</td>\n      <td>1183</td>\n      <td>19.54</td>\n    </tr>\n    <tr>\n      <th>26</th>\n      <td>Boston</td>\n      <td>America</td>\n      <td>27</td>\n      <td>2634.0</td>\n      <td>1.39</td>\n      <td>0.362</td>\n      <td>78.8</td>\n      <td>27.03</td>\n      <td>1779</td>\n      <td>6.94</td>\n      <td>88</td>\n      <td>588</td>\n      <td>46.27</td>\n    </tr>\n    <tr>\n      <th>27</th>\n      <td>Dublin</td>\n      <td>Europe</td>\n      <td>28</td>\n      <td>1453.0</td>\n      <td>1.40</td>\n      <td>0.253</td>\n      <td>80.5</td>\n      <td>40.07</td>\n      <td>1772</td>\n      <td>7.09</td>\n      <td>159</td>\n      <td>659</td>\n      <td>37.35</td>\n    </tr>\n    <tr>\n      <th>28</th>\n      <td>Tokyo</td>\n      <td>Asia</td>\n      <td>29</td>\n      <td>1877.0</td>\n      <td>0.76</td>\n      <td>0.043</td>\n      <td>83.2</td>\n      <td>42.84</td>\n      <td>1644</td>\n      <td>5.87</td>\n      <td>387</td>\n      <td>5802</td>\n      <td>70.82</td>\n    </tr>\n    <tr>\n      <th>29</th>\n      <td>Chicago</td>\n      <td>America</td>\n      <td>30</td>\n      <td>2508.0</td>\n      <td>1.20</td>\n      <td>0.362</td>\n      <td>78.8</td>\n      <td>43.33</td>\n      <td>1779</td>\n      <td>6.94</td>\n      <td>171</td>\n      <td>1320</td>\n      <td>41.14</td>\n    </tr>\n    <tr>\n      <th>30</th>\n      <td>Hong Kong</td>\n      <td>Asia</td>\n      <td>31</td>\n      <td>1836.0</td>\n      <td>0.75</td>\n      <td>0.062</td>\n      <td>75.4</td>\n      <td>67.46</td>\n      <td>-</td>\n      <td>5.51</td>\n      <td>277</td>\n      <td>1257</td>\n      <td>57.95</td>\n    </tr>\n    <tr>\n      <th>31</th>\n      <td>Shanghai</td>\n      <td>Asia</td>\n      <td>32</td>\n      <td>1776.0</td>\n      <td>0.29</td>\n      <td>0.062</td>\n      <td>75.4</td>\n      <td>77.40</td>\n      <td>-</td>\n      <td>5.12</td>\n      <td>108</td>\n      <td>346</td>\n      <td>44.68</td>\n    </tr>\n    <tr>\n      <th>32</th>\n      <td>Brussels</td>\n      <td>Europe</td>\n      <td>33</td>\n      <td>1546.0</td>\n      <td>2.11</td>\n      <td>0.221</td>\n      <td>80.4</td>\n      <td>62.67</td>\n      <td>1583</td>\n      <td>6.86</td>\n      <td>55</td>\n      <td>988</td>\n      <td>25.34</td>\n    </tr>\n    <tr>\n      <th>33</th>\n      <td>San Francisco</td>\n      <td>America</td>\n      <td>34</td>\n      <td>3062.0</td>\n      <td>1.60</td>\n      <td>0.362</td>\n      <td>78.8</td>\n      <td>47.36</td>\n      <td>1779</td>\n      <td>6.94</td>\n      <td>242</td>\n      <td>1031</td>\n      <td>65.13</td>\n    </tr>\n    <tr>\n      <th>34</th>\n      <td>Paris</td>\n      <td>Europe</td>\n      <td>35</td>\n      <td>1662.0</td>\n      <td>1.95</td>\n      <td>0.216</td>\n      <td>81.8</td>\n      <td>65.10</td>\n      <td>1505</td>\n      <td>6.66</td>\n      <td>331</td>\n      <td>4363</td>\n      <td>35.93</td>\n    </tr>\n    <tr>\n      <th>35</th>\n      <td>Sao Paulo</td>\n      <td>America</td>\n      <td>36</td>\n      <td>2003.0</td>\n      <td>0.44</td>\n      <td>0.221</td>\n      <td>73.9</td>\n      <td>79.78</td>\n      <td>-</td>\n      <td>6.37</td>\n      <td>158</td>\n      <td>3355</td>\n      <td>16.07</td>\n    </tr>\n    <tr>\n      <th>36</th>\n      <td>Zurich</td>\n      <td>Europe</td>\n      <td>37</td>\n      <td>1566.0</td>\n      <td>3.20</td>\n      <td>0.195</td>\n      <td>82.6</td>\n      <td>17.31</td>\n      <td>1557</td>\n      <td>7.56</td>\n      <td>69</td>\n      <td>538</td>\n      <td>73.11</td>\n    </tr>\n    <tr>\n      <th>37</th>\n      <td>London</td>\n      <td>Europe</td>\n      <td>38</td>\n      <td>1633.0</td>\n      <td>1.16</td>\n      <td>0.278</td>\n      <td>80.4</td>\n      <td>58.91</td>\n      <td>1538</td>\n      <td>7.16</td>\n      <td>433</td>\n      <td>6417</td>\n      <td>42.71</td>\n    </tr>\n    <tr>\n      <th>38</th>\n      <td>Johannesburg</td>\n      <td>Africa</td>\n      <td>39</td>\n      <td>3124.0</td>\n      <td>0.59</td>\n      <td>0.283</td>\n      <td>56.3</td>\n      <td>61.83</td>\n      <td>-</td>\n      <td>4.81</td>\n      <td>194</td>\n      <td>492</td>\n      <td>24.28</td>\n    </tr>\n    <tr>\n      <th>39</th>\n      <td>Milan</td>\n      <td>Europe</td>\n      <td>40</td>\n      <td>1915.0</td>\n      <td>1.15</td>\n      <td>0.199</td>\n      <td>82.7</td>\n      <td>67.19</td>\n      <td>1718</td>\n      <td>6.38</td>\n      <td>110</td>\n      <td>2396</td>\n      <td>53.49</td>\n    </tr>\n    <tr>\n      <th>40</th>\n      <td>Washington, D.C.</td>\n      <td>America</td>\n      <td>41</td>\n      <td>2528.0</td>\n      <td>1.45</td>\n      <td>0.362</td>\n      <td>78.8</td>\n      <td>39.18</td>\n      <td>1779</td>\n      <td>6.94</td>\n      <td>83</td>\n      <td>744</td>\n      <td>65.99</td>\n    </tr>\n    <tr>\n      <th>41</th>\n      <td>New York</td>\n      <td>America</td>\n      <td>42</td>\n      <td>2535.0</td>\n      <td>1.32</td>\n      <td>0.362</td>\n      <td>78.8</td>\n      <td>57.36</td>\n      <td>1779</td>\n      <td>6.94</td>\n      <td>359</td>\n      <td>3081</td>\n      <td>64.66</td>\n    </tr>\n    <tr>\n      <th>42</th>\n      <td>Moscow</td>\n      <td>Europe</td>\n      <td>43</td>\n      <td>1901.0</td>\n      <td>0.41</td>\n      <td>0.231</td>\n      <td>69.5</td>\n      <td>57.63</td>\n      <td>1965</td>\n      <td>5.54</td>\n      <td>322</td>\n      <td>3206</td>\n      <td>31.40</td>\n    </tr>\n    <tr>\n      <th>43</th>\n      <td>Mexico City</td>\n      <td>America</td>\n      <td>44</td>\n      <td>2555.0</td>\n      <td>0.45</td>\n      <td>0.289</td>\n      <td>76.4</td>\n      <td>82.78</td>\n      <td>2137</td>\n      <td>6.46</td>\n      <td>192</td>\n      <td>1313</td>\n      <td>41.99</td>\n    </tr>\n  </tbody>\n</table>\n</div>"
     },
     "execution_count": 224,
     "metadata": {},
     "output_type": "execute_result"
    }
   ],
   "source": [
    "class Question1d:\n",
    "    cities_with_continents = cities.copy()\n",
    "    cities_with_continents.insert(1, column='Continent', value='')\n",
    "    \n",
    "    cities_with_continent_values = {\n",
    "        'Africa': ['Johannesburg', ],\n",
    "        'America': ['Buenos Aires', 'Toronto', 'Los Angeles', 'Boston', 'Chicago', 'San Francisco', 'Sao Paulo',\n",
    "            \"Washington, D.C.\", 'New York', 'Mexico City', ],\n",
    "        'Antarctica': [],\n",
    "        'Australia': ['Sydney', 'Melbourne'],\n",
    "        'Asia': ['Fukuoka', 'Beijing', 'Bangkok', 'Seoul', 'Tel Aviv', 'Cairo', 'Taipei', 'Mumbai', 'Tokyo',\n",
    "            'Hong Kong',\n",
    "            'Shanghai', ],\n",
    "        'Europe': ['Amsterdam', 'Vienna', 'Stockholm', 'Copenhagen', 'Helsinki', 'Berlin', 'Barcelona', 'Vancouver',\n",
    "            'Madrid', 'Frankfurt', 'Geneva', 'Istanbul', 'Dublin', 'Brussels', 'Paris', 'Zurich', 'London', 'Milan',\n",
    "            'Moscow', ],\n",
    "        'Oceania': ['Jakarta', ],\n",
    "    }\n",
    "    \n",
    "    for continent, cities_of_continent in cities_with_continent_values.items():\n",
    "        cities_with_continents.loc[cities_with_continents['City'].isin(cities_of_continent), 'Continent'] = continent\n",
    "\n",
    "\n",
    "Question1d().cities_with_continents\n"
   ]
  },
  {
   "cell_type": "code",
   "execution_count": 225,
   "id": "69cef362",
   "metadata": {
    "ExecuteTime": {
     "end_time": "2024-03-23T09:05:43.682781Z",
     "start_time": "2024-03-23T09:05:43.674017Z"
    }
   },
   "outputs": [
    {
     "data": {
      "text/plain": "Question 1d results: All test cases passed!",
      "text/html": "<p><strong><pre style='display: inline;'>Question 1d</pre></strong> passed! 🎉</p>"
     },
     "execution_count": 225,
     "metadata": {},
     "output_type": "execute_result"
    }
   ],
   "source": [
    "grader.check(\"Question 1d\")"
   ]
  },
  {
   "cell_type": "markdown",
   "id": "760fbca6",
   "metadata": {
    "nbgrader": {
     "grade": false,
     "grade_id": "cell-9342741838d32621",
     "locked": true,
     "schema_version": 3,
     "solution": false,
     "task": false
    }
   },
   "source": [
    "### 1e) (1 point)\n",
    "What does the column \"Continent\" have to do with question 1c? (Hint: This is pretty similar to the penguin flipper lengths from the lecture)\n",
    "\n",
    "* Using the seaborn histogram function (bins=10) display the column \"Obesity levels(Country)\" in a way such that countries on the same continent show up in the same color.\n",
    "* Bars from different continents, that belong to the same bin, should be stacked on top of eachother.\n",
    "* How many bins for the continent of asia do you see?\n",
    "    * Assign this number to the variable called *asia_bins*"
   ]
  },
  {
   "cell_type": "code",
   "execution_count": 226,
   "id": "77fcd2ef",
   "metadata": {
    "nbgrader": {
     "grade": false,
     "grade_id": "cell-2520395026cab69f",
     "locked": false,
     "schema_version": 3,
     "solution": true,
     "task": false
    },
    "ExecuteTime": {
     "end_time": "2024-03-23T09:05:44.181780Z",
     "start_time": "2024-03-23T09:05:43.684269Z"
    }
   },
   "outputs": [
    {
     "data": {
      "text/plain": "<Figure size 640x480 with 1 Axes>",
      "image/png": "[encoded data removed]"
     },
     "metadata": {},
     "output_type": "display_data"
    }
   ],
   "source": [
    "class Question1e:\n",
    "    color_code_plot = sns.histplot(\n",
    "        data=Question1d().cities_with_continents,\n",
    "        x='Obesity levels(Country)',\n",
    "        hue='Continent',\n",
    "        multiple='stack',\n",
    "        bins=10\n",
    "    )\n",
    "    asia_bins = 4\n",
    "    \n",
    "    #We can now see that countries in Asia have very different obesity levels than countries in other continents.\n",
    "    #This means that we should take e.g. a mean per continent."
   ]
  },
  {
   "cell_type": "code",
   "execution_count": 227,
   "id": "1a29e5e6",
   "metadata": {
    "ExecuteTime": {
     "end_time": "2024-03-23T09:05:44.190733Z",
     "start_time": "2024-03-23T09:05:44.184419Z"
    }
   },
   "outputs": [
    {
     "data": {
      "text/plain": "Question 1e results: All test cases passed!",
      "text/html": "<p><strong><pre style='display: inline;'>Question 1e</pre></strong> passed! 🍀</p>"
     },
     "execution_count": 227,
     "metadata": {},
     "output_type": "execute_result"
    }
   ],
   "source": [
    "grader.check(\"Question 1e\")"
   ]
  },
  {
   "cell_type": "markdown",
   "id": "59b57343",
   "metadata": {
    "nbgrader": {
     "grade": false,
     "grade_id": "cell-8badaa62016a4890",
     "locked": true,
     "schema_version": 3,
     "solution": false,
     "task": false
    }
   },
   "source": [
    "![](https://upload.wikimedia.org/wikipedia/commons/8/89/Melbourne_skyline_from_Williamstown.png)"
   ]
  },
  {
   "cell_type": "markdown",
   "id": "b52bb667",
   "metadata": {
    "nbgrader": {
     "grade": false,
     "grade_id": "cell-74aa8649cf06473d",
     "locked": true,
     "schema_version": 3,
     "solution": false,
     "task": false
    }
   },
   "source": [
    "## Question 2 (6 points)\n",
    "You have gotten the job as data visualization expert in Melbourne. 🎉 Congratulations! <br>\n",
    "Your first task is to make a stunning plot to convince everyone that Melbourne is the best city in the whole wide world! We want to print it on posters! Or at least in the national tourism brochure.\n",
    "\n",
    "* Make **one plot** using any and all (evil) principles of data visualization. If you need inspiration, look at the examples on the lecture slides or here: https://www.youtube.com/watch?v=E91bGT9BjYk or google \"misleading data visualization\".\n",
    "\n",
    "\n",
    "\n",
    "Upload your plot to our [padlet](https://padlet.com/marcelluthi/melbourne-advertisement-20avx3t39rtz6b8n) (copy-paste or drag-and-drop). Write an appealing title and make sure your full name is either in the title or captions (the 6 points for this task are handed out based on this upload)\n",
    "\n"
   ]
  },
  {
   "cell_type": "markdown",
   "id": "a9eec4fa",
   "metadata": {
    "deletable": false,
    "editable": false,
    "nbgrader": {
     "grade": false,
     "grade_id": "cell-a87310bacd77f388",
     "locked": true,
     "schema_version": 3,
     "solution": false,
     "task": false
    }
   },
   "source": [
    "<!-- BEGIN QUESTION -->\n",
    "\n",
    "<!--\n",
    "BEGIN QUESTION\n",
    "name: Question 2      # (required) the path to a requirements.txt file\n",
    "manual: true     # whether this is a manually-graded question\n",
    "points: 6     # how many points this question is worth; defaults to 1 internally\n",
    "check_cell: false  # whether to include a check cell after this question (for autograded questions only)\n",
    "-->"
   ]
  },
  {
   "cell_type": "code",
   "execution_count": 297,
   "id": "18981c69",
   "metadata": {
    "ExecuteTime": {
     "end_time": "2024-03-23T09:32:55.440966Z",
     "start_time": "2024-03-23T09:32:55.231424Z"
    }
   },
   "outputs": [
    {
     "data": {
      "text/plain": "<Figure size 640x480 with 1 Axes>",
      "image/png": "[encoded data removed]"
     },
     "metadata": {},
     "output_type": "display_data"
    }
   ],
   "source": [
    "## solution ##\n",
    "sunshine_x = ['Melbourne', 'Moscow', 'Helsinki', 'Berlin']\n",
    "sunshine_y = list(map(lambda city: cities.loc[cities['City'] == city]['Sunshine hours(City)'].iloc[0], sunshine_x))\n",
    "\n",
    "sunshine_y\n",
    "\n",
    "fig, ax = plt.subplots()\n",
    "barplot = ax.bar(x=sunshine_x, height=sunshine_y, label='Sunshine', color='green');\n",
    "ax.set_ylim(1500, 2500);\n",
    "ax.set_title('Sunshine hours by city', fontsize=10)\n",
    "fig.suptitle('Melbourne – Come to the sunny place!', fontsize=20, y=1.05)\n",
    "fig.text(0.5, 0.97, \"by Rouven Bühlmann\", horizontalalignment=\"center\")\n",
    "\n",
    "barplot[0].set_color('red')"
   ]
  },
  {
   "cell_type": "markdown",
   "id": "fbc5f302",
   "metadata": {
    "nbgrader": {
     "grade": false,
     "grade_id": "cell-6cb3f5a1cf371788",
     "locked": true,
     "schema_version": 3,
     "solution": false,
     "task": false
    }
   },
   "source": [
    "<!-- END QUESTION -->\n",
    "\n",
    "\n",
    "\n",
    "## Question 3 (2 points)\n",
    "\n",
    "Where did this data even come from? Find one instance where a data point in the cities dataframe looks false. Write one sentence explaining why it is false and provide a source proving your claim."
   ]
  },
  {
   "cell_type": "markdown",
   "id": "eb782d03",
   "metadata": {
    "deletable": false,
    "editable": false
   },
   "source": [
    "<!-- BEGIN QUESTION -->\n",
    "\n",
    "<!--\n",
    "BEGIN QUESTION\n",
    "name: Question 3      # (required) the path to a requirements.txt file\n",
    "manual: true     # whether this is a manually-graded question\n",
    "points: 2     # how many points this question is worth; defaults to 1 internally\n",
    "check_cell: false  # whether to include a check cell after this question (for autograded questions only)\n",
    "-->"
   ]
  },
  {
   "cell_type": "code",
   "execution_count": 303,
   "id": "a488beae",
   "metadata": {
    "nbgrader": {
     "grade": true,
     "grade_id": "cell-b705817b0aa8fe76",
     "locked": false,
     "points": 0,
     "schema_version": 3,
     "solution": true,
     "task": false
    },
    "ExecuteTime": {
     "end_time": "2024-03-23T19:49:52.160417Z",
     "start_time": "2024-03-23T19:49:52.157146Z"
    }
   },
   "outputs": [],
   "source": [
    "## solution ##\n",
    "answer = '''\n",
    "I've cross checked the data point \"Sunshine hours(City)\" for Zurich by using Meteo Suisse data for the measuring station \"Zurich, Fluntern\"; the value found in the Kaggle dataset does not match any yearly value in the Meteo Suisse dataset, being lower than any of the values from 2014 onwards.\n",
    "Quelle: https://www.meteoschweiz.admin.ch/service-und-publikationen/applikationen/ext/climate-overview-series-public.html\n",
    "'''"
   ]
  },
  {
   "cell_type": "markdown",
   "id": "669886d0",
   "metadata": {
    "deletable": false,
    "editable": false
   },
   "source": [
    "---\n",
    "\n",
    "To double-check your work, the cell below will rerun all of the autograder tests."
   ]
  },
  {
   "cell_type": "code",
   "execution_count": 304,
   "id": "0ef6d7f0",
   "metadata": {
    "deletable": false,
    "editable": false,
    "ExecuteTime": {
     "end_time": "2024-03-23T19:49:57.811915Z",
     "start_time": "2024-03-23T19:49:57.795473Z"
    }
   },
   "outputs": [
    {
     "data": {
      "text/plain": "Question 1a results: All test cases passed!\n\nQuestion 1b results: All test cases passed!\n\nQuestion 1c results: All test cases passed!\n\nQuestion 1d results: All test cases passed!\n\nQuestion 1e results: All test cases passed!"
     },
     "execution_count": 304,
     "metadata": {},
     "output_type": "execute_result"
    }
   ],
   "source": [
    "grader.check_all()"
   ]
  }
 ],
 "metadata": {
  "celltoolbar": "Create Assignment",
  "kernelspec": {
   "name": "python3",
   "language": "python",
   "display_name": "Python 3 (ipykernel)"
  },
  "language_info": {
   "codemirror_mode": {
    "name": "ipython",
    "version": 3
   },
   "file_extension": ".py",
   "mimetype": "text/x-python",
   "name": "python",
   "nbconvert_exporter": "python",
   "pygments_lexer": "ipython3",
   "version": "3.12.2"
  }
 },
 "nbformat": 4,
 "nbformat_minor": 5
}
