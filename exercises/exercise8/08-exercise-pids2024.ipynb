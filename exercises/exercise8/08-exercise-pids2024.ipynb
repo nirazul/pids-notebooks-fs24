{
 "cells": [
  {
   "cell_type": "code",
   "id": "93119d59",
   "metadata": {
    "ExecuteTime": {
     "end_time": "2024-04-17T11:46:02.180907Z",
     "start_time": "2024-04-17T11:46:01.778640Z"
    }
   },
   "source": [
    "# Initialize Otter\n",
    "import otter\n",
    "\n",
    "\n",
    "grader = otter.Notebook(\"08-exercise-pids2024.ipynb\")"
   ],
   "outputs": [],
   "execution_count": 5
  },
  {
   "cell_type": "markdown",
   "id": "24138852",
   "metadata": {
    "nbgrader": {
     "grade": false,
     "grade_id": "cell-525c2fd5f3e93d2b",
     "locked": true,
     "schema_version": 3,
     "solution": false,
     "task": false
    }
   },
   "source": [
    "# Exercise sheet 8\n",
    "**Hello everyone!**\n",
    "\n",
    "**Points: 15**\n",
    "\n",
    "Topics of this exercise sheet are:\n",
    "* Central Limit Theorem\n",
    "* Confidence Interval\n",
    "\n",
    "\n",
    "Please let us know if you have questions or problems! <br>\n",
    "Contact us during the exercise session or on [Piazza](https://piazza.com/unibas.ch/spring2024/63982).\n",
    "\n",
    "**Automatic Feedback**\n",
    "\n",
    "This notebook can be automatically graded using Otter grader. To find how many points you get, simply run `grader.check_all()` from a new cell. \n"
   ]
  },
  {
   "cell_type": "code",
   "id": "27cd51cd",
   "metadata": {
    "nbgrader": {
     "grade": false,
     "grade_id": "cell-41524afeb7ebe206",
     "locked": true,
     "schema_version": 3,
     "solution": false,
     "task": false
    },
    "ExecuteTime": {
     "end_time": "2024-04-17T12:06:53.088373Z",
     "start_time": "2024-04-17T12:06:53.079553Z"
    }
   },
   "source": [
    "import pandas as pd\n",
    "import seaborn as sns\n",
    "import matplotlib.pyplot as plt\n",
    "import numpy as np\n",
    "from scipy import stats\n",
    "\n",
    "\n",
    "print(pd.__version__)\n",
    "print(type(plt))"
   ],
   "outputs": [
    {
     "name": "stdout",
     "output_type": "stream",
     "text": [
      "2.0.3\n",
      "<class 'module'>\n"
     ]
    }
   ],
   "execution_count": 50
  },
  {
   "cell_type": "markdown",
   "id": "7b3af4bc",
   "metadata": {
    "nbgrader": {
     "grade": false,
     "grade_id": "cell-53460d34058f3491",
     "locked": true,
     "schema_version": 3,
     "solution": false,
     "task": false
    }
   },
   "source": [
    "# 1 (8 points)\n",
    "\n",
    "We define a random variable $X_\\text{mean}$ as follows:\n",
    "$$\n",
    "X_\\text{mean} = \\dfrac{1}{N} \\sum_{i=1}^N X_i \n",
    "$$\n",
    "Where $X_i \\sim$ Binomial($n,p$). As discussed in the last lecture, we can analytically compute the mean and variance of this random variable:\n",
    "$$\n",
    "\\mathbb{E}[X_\\text{mean}] = \\dfrac{1}{N} \\sum_{i=1}^N \\mathbb{E}[X_i] = np\n",
    "$$\n",
    "$$\n",
    "\\text{Var}[X_\\text{mean}] = \\dfrac{1}{N^2} \\sum_{i=1}^N \\text{Var}[X_i] = \\dfrac{np(1-p)}{N}\n",
    "$$\n",
    "In this exercise, we want to verify the analytical results experimentally.\n",
    "As the first step, let's define a Binomial random variable:"
   ]
  },
  {
   "cell_type": "code",
   "id": "180711ec",
   "metadata": {
    "nbgrader": {
     "grade": false,
     "grade_id": "cell-de32fce7c84d1792",
     "locked": true,
     "schema_version": 3,
     "solution": false,
     "task": false
    },
    "ExecuteTime": {
     "end_time": "2024-04-17T12:06:54.137931Z",
     "start_time": "2024-04-17T12:06:54.114979Z"
    }
   },
   "source": [
    "n = 20  # The total number of trials\n",
    "p = 0.5  # The probability of success in each trial\n",
    "X = stats.binom(n, p)\n",
    "# Please check this page for more information: \n",
    "# https://docs.scipy.org/doc/scipy-0.13.0/reference/generated/scipy.stats.binom.html#scipy.stats.binom"
   ],
   "outputs": [],
   "execution_count": 51
  },
  {
   "cell_type": "markdown",
   "id": "c4edc684",
   "metadata": {
    "nbgrader": {
     "grade": false,
     "grade_id": "cell-5d9cbb87ed2f5e87",
     "locked": true,
     "schema_version": 3,
     "solution": false,
     "task": false
    }
   },
   "source": [
    "### 1a (2 points)\n",
    "Generate a matrix with size $m \\times N$ containing samples from the given Binomial distribution and store the matrix in variable 'x'. Then calculate the mean of each row of matrix `x` and and store the row-wise means in a vector with size $m$ and call it `mean`. Plot the histogram of the calculated mean-vector.\n",
    "\n",
    "**Important**: In this jupyter-notebook we introduce a class for each exercise. This is to introduce a new namespace per exercise, which allows us to use the same variable names (e.g. `N`, `m`) in different exercises. Please write all your code in the class body and not outside. \n",
    "\n",
    "**Important**: Please do not use a \"for-loop\" for sample generation; X.rvs can take the shape of the matrix and generate it."
   ]
  },
  {
   "cell_type": "code",
   "id": "083c6133",
   "metadata": {
    "nbgrader": {
     "grade": false,
     "grade_id": "cell-cda45808f0efe171",
     "locked": false,
     "schema_version": 3,
     "solution": true,
     "task": false
    },
    "ExecuteTime": {
     "end_time": "2024-04-17T15:06:18.676790Z",
     "start_time": "2024-04-17T15:06:18.665516Z"
    }
   },
   "source": [
    "class Question1a:\n",
    "    m = 100\n",
    "    N = 10\n",
    "    np.random.seed(0)\n",
    "    \n",
    "    x = X.rvs(size=(m, N))\n",
    "    mean = np.mean(x, axis=1)\n",
    "    \n",
    "    print(mean)"
   ],
   "outputs": [
    {
     "name": "stdout",
     "output_type": "stream",
     "text": [
      "[10.9 10.1 10.8 10.4  9.2  9.6  8.9  9.8  9.6  8.7 10.6 11.  10.1 10.1\n",
      " 11.6  9.6 10.3  8.8 10.2  9.4  9.4 10.1 11.1  8.9  9.3 10.9  9.2 12.1\n",
      " 10.  10.2  8.8  9.6  9.   9.8  9.5  9.7 10.8 10.6 11.1  8.9 10.   7.8\n",
      " 11.   9.8 11.1 10.3  9.4 12.3  9.8  9.8  9.9 10.1  8.9  9.6  9.8  9.8\n",
      " 11.9 10.3  8.8 11.3  9.2 10.5 11.   9.7 10.7  9.7  9.8  9.7  9.6  9.1\n",
      "  8.1  9.7 11.3  9.2  9.8  9.4 11.8 10.1  9.   9.8 10.6  9.5  9.1 10.1\n",
      "  9.9  9.8 10.9 10.2 10.6 10.3  9.3 10.2 10.3  9.5  9.5 10.1  9.5 10.7\n",
      " 11.4  9.2]\n"
     ]
    }
   ],
   "execution_count": 69
  },
  {
   "cell_type": "code",
   "id": "df3562ac",
   "metadata": {
    "deletable": false,
    "editable": false,
    "ExecuteTime": {
     "end_time": "2024-04-17T12:06:55.191443Z",
     "start_time": "2024-04-17T12:06:55.183289Z"
    }
   },
   "source": [
    "grader.check(\"Question 1a\")"
   ],
   "outputs": [
    {
     "data": {
      "text/plain": [
       "Question 1a results: All test cases passed!"
      ],
      "text/html": [
       "<p><strong><pre style='display: inline;'>Question 1a</pre></strong> passed! 🚀</p>"
      ]
     },
     "execution_count": 53,
     "metadata": {},
     "output_type": "execute_result"
    }
   ],
   "execution_count": 53
  },
  {
   "cell_type": "markdown",
   "id": "86e155b6",
   "metadata": {
    "nbgrader": {
     "grade": false,
     "grade_id": "cell-6fcab90fcffa4ae2",
     "locked": true,
     "schema_version": 3,
     "solution": false,
     "task": false
    }
   },
   "source": [
    "### 1b (4 points)\n",
    "Now we want to repeat this process for $N=\\{1,2,...,k\\}$ instead of a single $N=10$. So write a code to generate the mean for each $N$ (as you did for $N=10$) and store all the calculated means in a variable called `means`, which would be a matrix with size $k \\times m$.\n",
    "\n",
    "**Important**: Please do not use a \"for-loop\" for sample generation; X.rvs can take the shape of the matrix and generate it. You can use \"for-loop\" anywhere else."
   ]
  },
  {
   "cell_type": "code",
   "id": "1de80838",
   "metadata": {
    "nbgrader": {
     "grade": false,
     "grade_id": "cell-0f3266550e4db393",
     "locked": false,
     "schema_version": 3,
     "solution": true,
     "task": false
    },
    "ExecuteTime": {
     "end_time": "2024-04-17T19:53:33.810899Z",
     "start_time": "2024-04-17T19:53:33.730285Z"
    }
   },
   "source": [
    "class Question1b:\n",
    "    m = 100\n",
    "    k = 50\n",
    "    np.random.seed(0)\n",
    "    means = np.zeros([k, m])\n",
    "    \n",
    "    for i in range(k):\n",
    "        x = X.rvs(size=(m, i + 1))\n",
    "        means[i] = x.mean(axis=1)\n",
    "\n",
    "\n",
    "Question1b.means"
   ],
   "outputs": [
    {
     "data": {
      "text/plain": [
       "array([[10.        , 11.        , 11.        , ...,  5.        ,\n",
       "        12.        ,  4.        ],\n",
       "       [10.        , 12.5       ,  9.        , ...,  9.        ,\n",
       "         9.5       , 14.        ],\n",
       "       [11.33333333,  8.        ,  8.33333333, ..., 11.33333333,\n",
       "        11.33333333, 11.33333333],\n",
       "       ...,\n",
       "       [ 9.83333333, 10.16666667, 10.10416667, ...,  9.41666667,\n",
       "         9.95833333, 10.29166667],\n",
       "       [10.32653061,  9.89795918, 10.42857143, ..., 10.48979592,\n",
       "        10.40816327, 10.04081633],\n",
       "       [10.02      ,  9.8       ,  9.6       , ...,  9.68      ,\n",
       "         9.4       ,  9.66      ]])"
      ]
     },
     "execution_count": 107,
     "metadata": {},
     "output_type": "execute_result"
    }
   ],
   "execution_count": 107
  },
  {
   "cell_type": "code",
   "id": "bafc9a22",
   "metadata": {
    "deletable": false,
    "editable": false,
    "ExecuteTime": {
     "end_time": "2024-04-17T18:24:28.464303Z",
     "start_time": "2024-04-17T18:24:28.450529Z"
    }
   },
   "source": [
    "grader.check(\"Question 1b\")"
   ],
   "outputs": [
    {
     "data": {
      "text/plain": [
       "Question 1b results: All test cases passed!"
      ],
      "text/html": [
       "<p><strong><pre style='display: inline;'>Question 1b</pre></strong> passed! ✨</p>"
      ]
     },
     "execution_count": 106,
     "metadata": {},
     "output_type": "execute_result"
    }
   ],
   "execution_count": 106
  },
  {
   "cell_type": "markdown",
   "id": "51c3efe0",
   "metadata": {
    "nbgrader": {
     "grade": false,
     "grade_id": "cell-0682fdc8882d815c",
     "locked": true,
     "schema_version": 3,
     "solution": false,
     "task": false
    }
   },
   "source": [
    "### 1c (2 points)\n",
    "Now calculate the variance of the mean for a given N. This means that you need to calculate the variance of each row of the matrix `Question1b.means` computed in 1b. Store the variances in a vector with size k and call this vector `variances`. Plot the vector `variances` with respect to $N=\\{1,2,...,k\\}$."
   ]
  },
  {
   "cell_type": "code",
   "id": "936f43b5",
   "metadata": {
    "nbgrader": {
     "grade": false,
     "grade_id": "cell-183fea12257ba84f",
     "locked": false,
     "schema_version": 3,
     "solution": true,
     "task": false
    },
    "ExecuteTime": {
     "end_time": "2024-04-17T19:56:02.212991Z",
     "start_time": "2024-04-17T19:56:01.789988Z"
    }
   },
   "source": [
    "class Question1c:\n",
    "    k = Question1b.k\n",
    "    variances = np.var(Question1b.means, axis=1)\n",
    "    \n",
    "    plt.plot(variances)"
   ],
   "outputs": [
    {
     "data": {
      "text/plain": [
       "<Figure size 640x480 with 1 Axes>"
      ],
      "image/png": "[encoded data removed]"
     },
     "metadata": {},
     "output_type": "display_data"
    }
   ],
   "execution_count": 110
  },
  {
   "cell_type": "code",
   "id": "b21aa8c3",
   "metadata": {
    "deletable": false,
    "editable": false,
    "ExecuteTime": {
     "end_time": "2024-04-17T19:56:20.233069Z",
     "start_time": "2024-04-17T19:56:20.210503Z"
    }
   },
   "source": [
    "grader.check(\"Question 1c\")"
   ],
   "outputs": [
    {
     "data": {
      "text/plain": [
       "Question 1c results: All test cases passed!"
      ],
      "text/html": [
       "<p><strong><pre style='display: inline;'>Question 1c</pre></strong> passed! 🌈</p>"
      ]
     },
     "execution_count": 111,
     "metadata": {},
     "output_type": "execute_result"
    }
   ],
   "execution_count": 111
  },
  {
   "cell_type": "markdown",
   "id": "3c183c18",
   "metadata": {
    "nbgrader": {
     "grade": false,
     "grade_id": "cell-3b593abf923267bc",
     "locked": true,
     "schema_version": 3,
     "solution": false,
     "task": false
    }
   },
   "source": [
    "Does the variance decrease as we increase the number of samples ($N$)? Why?"
   ]
  },
  {
   "cell_type": "markdown",
   "id": "a2021f50",
   "metadata": {
    "nbgrader": {
     "grade": true,
     "grade_id": "cell-dfab7379a295c647",
     "locked": false,
     "points": 0,
     "schema_version": 3,
     "solution": true,
     "task": false
    }
   },
   "source": "* yes"
  },
  {
   "cell_type": "markdown",
   "id": "29728b10",
   "metadata": {
    "nbgrader": {
     "grade": false,
     "grade_id": "cell-bf218f2a711395fc",
     "locked": true,
     "schema_version": 3,
     "solution": false,
     "task": false
    }
   },
   "source": [
    "# 2 (7 points)\n",
    "## Confidence Interval\n",
    "In this exercise, we work on confidence interval calculation using the bootstrap technique.\n",
    "Let's generate $N$ samples from Gaussian distribution:"
   ]
  },
  {
   "cell_type": "code",
   "id": "4f28ee60",
   "metadata": {
    "nbgrader": {
     "grade": false,
     "grade_id": "cell-feab5992c895e9e3",
     "locked": true,
     "schema_version": 3,
     "solution": false,
     "task": false
    },
    "ExecuteTime": {
     "end_time": "2024-04-17T20:51:10.124633Z",
     "start_time": "2024-04-17T20:51:09.870177Z"
    }
   },
   "source": [
    "mu = 0.0\n",
    "sigma = 1.0\n",
    "N = 400\n",
    "\n",
    "np.random.seed(0)\n",
    "X = stats.norm(loc=mu, scale=sigma)\n",
    "x = X.rvs(N)\n",
    "sns.histplot(x)\n",
    "\n",
    "# Please check this page for more information: \n",
    "# https://docs.scipy.org/doc/scipy/reference/generated/scipy.stats.norm.html"
   ],
   "outputs": [
    {
     "data": {
      "text/plain": [
       "<Axes: ylabel='Count'>"
      ]
     },
     "execution_count": 150,
     "metadata": {},
     "output_type": "execute_result"
    },
    {
     "data": {
      "text/plain": [
       "<Figure size 640x480 with 1 Axes>"
      ],
      "image/png": "[encoded data removed]"
     },
     "metadata": {},
     "output_type": "display_data"
    }
   ],
   "execution_count": 150
  },
  {
   "cell_type": "markdown",
   "id": "6ead6342",
   "metadata": {},
   "source": [
    "### 2a (3 points)\n",
    "\n",
    "As discussed in the previous lecture, we can use the bootstrap technique to find the confidence interval. In this exercise, we are going to estimate the confidence interval using bootstrap technique. For this we use the bootstrap function from the scipy.stats module.\n",
    "\n",
    "Given $N$ samples and a confidence level of 0.95, the scipy bootstrap function does the following steps to calculate the confidence interval:\n",
    "1. Randomly select $N$ samples with replacement from the given samples. Sampling with replacement allows us to generate different batches of samples with size $N$ from a single set.\n",
    "2. Calculate the mean of the $N$ selected samples.\n",
    "3. Repeat steps 1 and 2 for a total of $k$ times and store the means in a vector.\n",
    "4. Calculate the 2.5th and 97.5th percentiles of the means vector and store them in the 'CI' variable.\n",
    "\n",
    "This function calculates the confidence interval of a given statistic, such as mean or median. Let's use the scipy bootstrap function to estimate the confidence interval in our sample distribution `x` above and store the function output in `bootstrap_ci` variable. Note that we are estimating the 'mean' and using the 'percentile' method.\n",
    "Please visit [this](https://docs.scipy.org/doc/scipy/reference/generated/scipy.stats.bootstrap.html) website for further information."
   ]
  },
  {
   "cell_type": "code",
   "id": "b0963460",
   "metadata": {
    "ExecuteTime": {
     "end_time": "2024-04-17T20:51:17.863552Z",
     "start_time": "2024-04-17T20:51:17.854390Z"
    }
   },
   "source": [
    "import numpy as np\n",
    "\n",
    "\n",
    "class Question2a:\n",
    "    k = 50\n",
    "    confidence_level = 0.95\n",
    "    np.random.seed(0)\n",
    "    \n",
    "    bootstrap_ci = stats.bootstrap(\n",
    "        (x,),\n",
    "        np.mean,\n",
    "        confidence_level=confidence_level,\n",
    "        n_resamples=k,\n",
    "    )\n",
    "    \n",
    "    CI_scipy = [bootstrap_ci.confidence_interval[0],\n",
    "        bootstrap_ci.confidence_interval[1]]\n",
    "    print(\"The {} confidence interval for N={} is: [{:.3f}, {:.3f}].\".format(\n",
    "        confidence_level, N, CI_scipy[0], CI_scipy[1]))"
   ],
   "outputs": [
    {
     "name": "stdout",
     "output_type": "stream",
     "text": [
      "The 0.95 confidence interval for N=400 is: [-0.134, 0.077].\n"
     ]
    }
   ],
   "execution_count": 151
  },
  {
   "cell_type": "code",
   "id": "b8efd898",
   "metadata": {
    "deletable": false,
    "editable": false,
    "ExecuteTime": {
     "end_time": "2024-04-17T20:51:18.475068Z",
     "start_time": "2024-04-17T20:51:18.468610Z"
    }
   },
   "source": [
    "grader.check(\"Question 2a\")"
   ],
   "outputs": [
    {
     "data": {
      "text/plain": [
       "Question 2a results: All test cases passed!"
      ],
      "text/html": [
       "<p><strong><pre style='display: inline;'>Question 2a</pre></strong> passed! 🍀</p>"
      ]
     },
     "execution_count": 152,
     "metadata": {},
     "output_type": "execute_result"
    }
   ],
   "execution_count": 152
  },
  {
   "cell_type": "markdown",
   "id": "9bf4a0d0",
   "metadata": {},
   "source": [
    "### 2b (1 points)\n",
    "Compute the confidence interval for $N = 4000$ (instead of 400) and store the function output in 'bootstrap_ci_4000'."
   ]
  },
  {
   "cell_type": "code",
   "id": "5adefc2b",
   "metadata": {
    "ExecuteTime": {
     "end_time": "2024-04-17T20:51:19.948721Z",
     "start_time": "2024-04-17T20:51:19.564197Z"
    }
   },
   "source": [
    "\n",
    "import numpy as np\n",
    "\n",
    "\n",
    "class Question2b:\n",
    "    mu = 0.0\n",
    "    sigma = 1.0\n",
    "    N = 4000  # previously 400\n",
    "    \n",
    "    np.random.seed(0)\n",
    "    X = stats.norm(loc=mu, scale=sigma)\n",
    "    x = X.rvs(N)\n",
    "    sns.histplot(x)\n",
    "    \n",
    "    k = 50\n",
    "    confidence_level = 0.95\n",
    "    \n",
    "    bootstrap_ci_4000 = stats.bootstrap(\n",
    "        (x,),\n",
    "        np.mean,\n",
    "        confidence_level=confidence_level,\n",
    "        n_resamples=k,\n",
    "    )\n",
    "    \n",
    "    CI_scipy_4000 = [bootstrap_ci_4000.confidence_interval[0],\n",
    "        bootstrap_ci_4000.confidence_interval[1]]\n",
    "    print(\"The {} confidence interval for N={} is: [{:.3f}, {:.3f}].\".format(\n",
    "        confidence_level,\n",
    "        N, CI_scipy_4000[0],\n",
    "        CI_scipy_4000[1]))"
   ],
   "outputs": [
    {
     "name": "stdout",
     "output_type": "stream",
     "text": [
      "The 0.95 confidence interval for N=4000 is: [-0.057, 0.002].\n"
     ]
    },
    {
     "data": {
      "text/plain": [
       "<Figure size 640x480 with 1 Axes>"
      ],
      "image/png": "[encoded data removed]"
     },
     "metadata": {},
     "output_type": "display_data"
    }
   ],
   "execution_count": 153
  },
  {
   "cell_type": "code",
   "id": "a80c8c1d",
   "metadata": {
    "deletable": false,
    "editable": false,
    "ExecuteTime": {
     "end_time": "2024-04-17T20:51:20.175161Z",
     "start_time": "2024-04-17T20:51:20.166827Z"
    }
   },
   "source": [
    "grader.check(\"Question 2b\")"
   ],
   "outputs": [
    {
     "data": {
      "text/plain": [
       "Question 2b results: All test cases passed!"
      ],
      "text/html": [
       "<p><strong><pre style='display: inline;'>Question 2b</pre></strong> passed! 🎉</p>"
      ]
     },
     "execution_count": 154,
     "metadata": {},
     "output_type": "execute_result"
    }
   ],
   "execution_count": 154
  },
  {
   "cell_type": "markdown",
   "id": "55dbf3a0",
   "metadata": {},
   "source": [
    "Does the confidencence interval shrink by increasing the number of samples ($N$)? Why?"
   ]
  },
  {
   "cell_type": "markdown",
   "id": "99e72b6c",
   "metadata": {},
   "source": "* It shrinks because more samples result in a smaller standard error"
  },
  {
   "cell_type": "markdown",
   "id": "c6979f11",
   "metadata": {
    "nbgrader": {
     "grade": false,
     "grade_id": "cell-a7768c9418cb5405",
     "locked": true,
     "schema_version": 3,
     "solution": false,
     "task": false
    }
   },
   "source": [
    "### 2c (3 points)\n",
    "\n",
    "In this exercise, we will implement the bootstrap technique from scratch to estimate the confidence interval of a given set of samples. Please implement the steps explained in question 2a. This will allow us to compare our implementation with the one provided by scipy.stats module. Please store the estimated confidence interval in the 'CI' variable."
   ]
  },
  {
   "cell_type": "code",
   "id": "a27e8afe",
   "metadata": {
    "nbgrader": {
     "grade": false,
     "grade_id": "cell-5b337223591e2e4e",
     "locked": false,
     "schema_version": 3,
     "solution": true,
     "task": false
    },
    "ExecuteTime": {
     "end_time": "2024-04-18T08:04:20.177354Z",
     "start_time": "2024-04-18T08:04:20.152535Z"
    }
   },
   "source": [
    "class Question2c:\n",
    "    N = 4000  # previously 400\n",
    "    \n",
    "    np.random.seed(0)\n",
    "    X = stats.norm(loc=mu, scale=sigma)\n",
    "    x = X.rvs(N)\n",
    "    \n",
    "    k = 50\n",
    "    confidence_level = 0.95\n",
    "    means = np.zeros([k])\n",
    "    \n",
    "    for i in range(k):\n",
    "        xx = X.rvs(N)\n",
    "        means[i] = xx.mean()\n",
    "    \n",
    "    CI = [np.percentile(means, 2.5), np.percentile(means, 97.5)]\n",
    "    \n",
    "    print(\"The {} confidence interval for N={} is: [{:.3f}, {:.3f}].\".format(\n",
    "        confidence_level, N, CI[0], CI[1]))"
   ],
   "outputs": [
    {
     "name": "stdout",
     "output_type": "stream",
     "text": [
      "The 0.95 confidence interval for N=4000 is: [-0.023, 0.033].\n"
     ]
    }
   ],
   "execution_count": 160
  },
  {
   "cell_type": "code",
   "id": "a921c868",
   "metadata": {
    "deletable": false,
    "editable": false,
    "ExecuteTime": {
     "end_time": "2024-04-18T08:04:21.402556Z",
     "start_time": "2024-04-18T08:04:21.372500Z"
    }
   },
   "source": [
    "grader.check(\"Question 2c\")"
   ],
   "outputs": [
    {
     "data": {
      "text/plain": [
       "Question 2c results: All test cases passed!"
      ],
      "text/html": [
       "<p><strong><pre style='display: inline;'>Question 2c</pre></strong> passed! 🌈</p>"
      ]
     },
     "execution_count": 161,
     "metadata": {},
     "output_type": "execute_result"
    }
   ],
   "execution_count": 161
  },
  {
   "cell_type": "markdown",
   "id": "6be93110",
   "metadata": {
    "deletable": false,
    "editable": false
   },
   "source": [
    "---\n",
    "\n",
    "To double-check your work, the cell below will rerun all of the autograder tests."
   ]
  },
  {
   "cell_type": "code",
   "id": "53012cdf",
   "metadata": {
    "deletable": false,
    "editable": false,
    "ExecuteTime": {
     "end_time": "2024-04-18T08:04:23.409619Z",
     "start_time": "2024-04-18T08:04:23.386071Z"
    }
   },
   "source": [
    "grader.check_all()"
   ],
   "outputs": [
    {
     "data": {
      "text/plain": [
       "Question 1a results: All test cases passed!\n",
       "\n",
       "Question 1b results: All test cases passed!\n",
       "\n",
       "Question 1c results: All test cases passed!\n",
       "\n",
       "Question 2a results: All test cases passed!\n",
       "\n",
       "Question 2b results: All test cases passed!\n",
       "\n",
       "Question 2c results: All test cases passed!"
      ]
     },
     "execution_count": 162,
     "metadata": {},
     "output_type": "execute_result"
    }
   ],
   "execution_count": 162
  },
  {
   "metadata": {},
   "cell_type": "code",
   "outputs": [],
   "execution_count": null,
   "source": "",
   "id": "832c15d88a73779f"
  }
 ],
 "metadata": {
  "celltoolbar": "Create Assignment",
  "kernelspec": {
   "display_name": "Python 3 (ipykernel)",
   "language": "python",
   "name": "python3"
  },
  "language_info": {
   "codemirror_mode": {
    "name": "ipython",
    "version": 3
   },
   "file_extension": ".py",
   "mimetype": "text/x-python",
   "name": "python",
   "nbconvert_exporter": "python",
   "pygments_lexer": "ipython3",
   "version": "3.12.1"
  },
  "vscode": {
   "interpreter": {
    "hash": "07cb0c0be5d5c09ece9af089e9de2ad5458cdd62d0537c1d9b85ed67c101dd7b"
   }
  }
 },
 "nbformat": 4,
 "nbformat_minor": 5
}
