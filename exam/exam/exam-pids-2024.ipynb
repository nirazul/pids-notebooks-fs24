{
 "cells": [
  {
   "cell_type": "markdown",
   "id": "882cb365",
   "metadata": {
    "deletable": false
   },
   "source": [
    "# Exam- PiDS 2024. Time: 80 Minutes"
   ]
  },
  {
   "cell_type": "markdown",
   "id": "4711f064",
   "metadata": {
    "deletable": false,
    "exercise_id": 0
   },
   "source": [
    "Rouven Bühlmann\n",
    "rouven.buehlmann@stud.unibas.ch"
   ]
  },
  {
   "cell_type": "markdown",
   "id": "c8835b00",
   "metadata": {},
   "source": [
    "## Theory (40 Points)"
   ]
  },
  {
   "cell_type": "markdown",
   "id": "865dfba8",
   "metadata": {
    "deletable": false
   },
   "source": [
    "### Question 1: Data science (2 Points)\n",
    "\n",
    "Which of the following activites are **not** part of a typical data science workflow?\n",
    "\n",
    "1. Market analysis\n",
    "2. Data encryption\n",
    "3. Data cleaning\n",
    "4. Exploratory data analysis"
   ]
  },
  {
   "cell_type": "code",
   "id": "db6c8933",
   "metadata": {
    "deletable": false,
    "exercise_id": 1,
    "ExecuteTime": {
     "end_time": "2024-06-21T15:14:29.428828Z",
     "start_time": "2024-06-21T15:14:29.425691Z"
    }
   },
   "source": [
    "q1 = [1, 2]  # these are not part of a typical data science workflow"
   ],
   "outputs": [],
   "execution_count": 1
  },
  {
   "cell_type": "markdown",
   "id": "87cd4239",
   "metadata": {
    "deletable": false
   },
   "source": [
    "### Question 2: Tidy data (2 Points)\n",
    "\n",
    "Which of the following statements regarding tidy data is true?\n",
    "\n",
    "1. Each row in a dataframe should correspond to a variable.\n",
    "2. A column header should be a value.\n",
    "3. The dataframe should contain no missing values.\n",
    "4. Different types of observational units should be stored in separate tables."
   ]
  },
  {
   "cell_type": "code",
   "id": "2d9d18bf",
   "metadata": {
    "deletable": false,
    "exercise_id": 2,
    "ExecuteTime": {
     "end_time": "2024-06-21T15:14:29.433491Z",
     "start_time": "2024-06-21T15:14:29.430439Z"
    }
   },
   "source": [
    "q2 = [3, 4]  # to 3: the DF may contain NaN values, however"
   ],
   "outputs": [],
   "execution_count": 2
  },
  {
   "cell_type": "markdown",
   "id": "e3e9dadc",
   "metadata": {
    "deletable": false
   },
   "source": [
    "### Question 3:  PPDAC-cycle (4 Points)\n",
    "\n",
    "Order the following activies according to the PPDAC cycle.\n",
    "\n",
    "1. Devise new ideas\n",
    "2. Decide what to measure/ how\n",
    "3. Data cleaning\n",
    "4. Hypothesis generation\n",
    "5. Understand and define problem\n",
    "6. Interpretation/Communication\n",
    "7. Construct tables and graphs\n",
    "8. Fix a study design\n",
    "9. Collect data\n",
    "10. Plan data recoding and collecting\n",
    "11. Look for patterns"
   ]
  },
  {
   "cell_type": "code",
   "id": "f7487246",
   "metadata": {
    "deletable": false,
    "exercise_id": 3,
    "ExecuteTime": {
     "end_time": "2024-06-22T08:26:22.439445Z",
     "start_time": "2024-06-22T08:26:22.436334Z"
    }
   },
   "source": [
    "q3_p = [5]  # add the elements corresponding to the first step in the ppdac cycle\n",
    "q3_p_ = [4, 8, 10]  # add the elements corresponding to the second step in the ppdac cycle\n",
    "q3_d = [3, 7, 9]  # ...\n",
    "q3_a = [2, 11]  # ...\n",
    "q3_c = [1, 6]  # ..."
   ],
   "outputs": [],
   "execution_count": 1
  },
  {
   "cell_type": "markdown",
   "id": "d637308f",
   "metadata": {
    "deletable": false
   },
   "source": [
    "### Question 4: Visualization (2 Points)\n",
    "\n",
    "Which of the following statements regarding visualization is true?\n",
    "\n",
    "1. As tidy data makes visualization difficult, visualization should be done before melting a dataset.\n",
    "2. Visualization is used to generate hypotheses for subsequent analysis.\n",
    "3. Outliers in data should be removed before the visualization.\n",
    "4. Visualization techniques should only be used after statistical analysis is complete."
   ]
  },
  {
   "cell_type": "code",
   "id": "d5dc49cd",
   "metadata": {
    "deletable": false,
    "exercise_id": 4,
    "ExecuteTime": {
     "end_time": "2024-06-21T15:14:29.446453Z",
     "start_time": "2024-06-21T15:14:29.443395Z"
    }
   },
   "source": [
    "q4 = [2]"
   ],
   "outputs": [],
   "execution_count": 4
  },
  {
   "cell_type": "markdown",
   "id": "6f3527a9",
   "metadata": {
    "deletable": false
   },
   "source": [
    "### Question 5: Visualization (2 Points)\n",
    "\n",
    "Which of the following statements regarding visualization is true?\n",
    "\n",
    "1. For a Barplot not to be misleading, the y-axis should always contain the origin.\n",
    "2. A scatter plot is a good tool to get an impression of how two variables are correlated.\n",
    "3. Pie charts are especially effective for visualization as humans are good to estimate relative areas.\n",
    "4. For effective visualizations, the bars in a bar chart should always be ordered according to increasing value."
   ]
  },
  {
   "cell_type": "code",
   "id": "25e85f56",
   "metadata": {
    "deletable": false,
    "exercise_id": 5,
    "ExecuteTime": {
     "end_time": "2024-06-21T15:14:29.451375Z",
     "start_time": "2024-06-21T15:14:29.448321Z"
    }
   },
   "source": "q5 = [1, 2, 4]  # to 4: if the scale is at least ordinal",
   "outputs": [],
   "execution_count": 5
  },
  {
   "cell_type": "markdown",
   "id": "6d2be54b",
   "metadata": {
    "deletable": false
   },
   "source": [
    "### Question 6: Visualizing distributions (2 Points)\n",
    "\n",
    "Which of the following statements regarding distributions, histogram and density plots is true?\n",
    "\n",
    "1. Choosing the wrong number of bins in a histogram might hide important characteristics of a distribution.\n",
    "2. If a distribution is discrete, histograms should be prefered over density plots.\n",
    "3. If data is categorical, a bar plot should be preferred over a  histogram.\n",
    "4. To visualize a distribution, we typically use seaborn as matplotlib cannot visualize distributions. "
   ]
  },
  {
   "cell_type": "code",
   "id": "81a69d57",
   "metadata": {
    "deletable": false,
    "exercise_id": 6,
    "ExecuteTime": {
     "end_time": "2024-06-21T15:14:29.455495Z",
     "start_time": "2024-06-21T15:14:29.452749Z"
    }
   },
   "source": [
    "q6 = [1, 3]"
   ],
   "outputs": [],
   "execution_count": 6
  },
  {
   "cell_type": "markdown",
   "id": "91c89b82",
   "metadata": {
    "deletable": false
   },
   "source": [
    "### Question 7: Probabilities (2 Points)\n",
    "\n",
    "Assume we throw two fair dice. Which of the following statements are true?\n",
    "\n",
    "1. The probability of rolling a sum of 7 is greater than the probability of rolling a sum of 2.\n",
    "2. The probability of rolling a sum of 12 is 1/36.\n",
    "3. The probability of rolling a sum smaller or equal to 12 is 1. \n",
    "4. The probability of rolling doubles (both dice showing the same number) is 1/6."
   ]
  },
  {
   "cell_type": "code",
   "id": "7dba33da",
   "metadata": {
    "deletable": false,
    "exercise_id": 7,
    "ExecuteTime": {
     "end_time": "2024-06-21T15:14:29.461339Z",
     "start_time": "2024-06-21T15:14:29.457204Z"
    }
   },
   "source": [
    "q7 = [1, 2, 3, 4]"
   ],
   "outputs": [],
   "execution_count": 7
  },
  {
   "cell_type": "markdown",
   "id": "01f28336",
   "metadata": {
    "deletable": false
   },
   "source": [
    "### Question 8: Samples and random variables (2 Points)\n",
    "\n",
    "Given a sample $X_1, \\ldots, X_n$ from some distribution. Let $\\overline{X}=\\frac{1}{n} \\sum_{i=1}^n X_i$ be the sample mean. Explain in one sentence why $\\overline{X}$ is a random variable.  \n"
   ]
  },
  {
   "cell_type": "code",
   "id": "979f8d57",
   "metadata": {
    "deletable": false,
    "exercise_id": 8,
    "ExecuteTime": {
     "end_time": "2024-06-21T15:14:29.466060Z",
     "start_time": "2024-06-21T15:14:29.463053Z"
    }
   },
   "source": [
    "q8 = \"The central limit theorem explains that the sample mean of a distribution follows a normal distribution.\""
   ],
   "outputs": [],
   "execution_count": 8
  },
  {
   "cell_type": "markdown",
   "id": "3b0b69f5",
   "metadata": {
    "deletable": false
   },
   "source": [
    "### Question 9: Training a machine learning model (2 Points)\n",
    "\n",
    "Explain in 1 sentence why training a classifier only on the training set might be misleading. "
   ]
  },
  {
   "cell_type": "code",
   "id": "ce059f52",
   "metadata": {
    "deletable": false,
    "exercise_id": 9,
    "ExecuteTime": {
     "end_time": "2024-06-21T15:14:29.470537Z",
     "start_time": "2024-06-21T15:14:29.467553Z"
    }
   },
   "source": "q9 = \"It is possible that the classifier only memorizes the training data and tends to overfitting. This is why we need test data, which is new to the classifier.\"",
   "outputs": [],
   "execution_count": 9
  },
  {
   "cell_type": "markdown",
   "id": "ab4cc252",
   "metadata": {
    "deletable": false
   },
   "source": [
    "### Question 10: Convergence (2 Points)\n",
    "\n",
    "Which theorem can be used to justify that the mean of a sample converges to the true population mean\n",
    "1. The law of large numbers\n",
    "2. The law of total probability\n",
    "3. Bayes theorem \n",
    "4. The Glivenko-Cantelli theorem\n"
   ]
  },
  {
   "cell_type": "code",
   "id": "dfce0b50",
   "metadata": {
    "deletable": false,
    "exercise_id": 10,
    "ExecuteTime": {
     "end_time": "2024-06-21T15:14:29.475029Z",
     "start_time": "2024-06-21T15:14:29.471922Z"
    }
   },
   "source": [
    "q10 = 1  # Replace 0 with 1, 2, 3 or 4"
   ],
   "outputs": [],
   "execution_count": 10
  },
  {
   "cell_type": "markdown",
   "id": "ea1e44d4",
   "metadata": {},
   "source": [
    "### Question 11: Bootstrapping (2 Points)\n",
    "\n",
    "Explain in one sentence the idea behind bootstrapping."
   ]
  },
  {
   "cell_type": "code",
   "id": "0c32c1df",
   "metadata": {
    "deletable": false,
    "exercise_id": 11,
    "ExecuteTime": {
     "end_time": "2024-06-21T15:14:29.479652Z",
     "start_time": "2024-06-21T15:14:29.476815Z"
    }
   },
   "source": [
    "q11 = \"Taking a random sample over and over again while replacing the taken values to arrive at an approximation of the true distribution.\""
   ],
   "outputs": [],
   "execution_count": 11
  },
  {
   "cell_type": "markdown",
   "id": "812b30c5-e4ae-44f2-92dc-1ac51872c53d",
   "metadata": {
    "deletable": false
   },
   "source": [
    "### Question 12: Random variables (2 Points)\n",
    "\n",
    "Which of the following statements regarding a random variables are true?\n",
    "\n",
    "1. A discrete random variable is completely defined by its probability density function.\n",
    "2. For a continuous random variable, it holds that its density function $p(x)$ is zero ($p(x) = 0$) for every $x$.\n",
    "3. The value of the cdf F(x) is always smaller or equal to 1.\n",
    "4. given a pmf, we can always compute the corresponding cdf."
   ]
  },
  {
   "cell_type": "code",
   "id": "fc2ae91b-3e98-4cd4-832c-87807646227e",
   "metadata": {
    "deletable": false,
    "exercise_id": 12,
    "ExecuteTime": {
     "end_time": "2024-06-21T15:14:29.487854Z",
     "start_time": "2024-06-21T15:14:29.485223Z"
    }
   },
   "source": [
    "q12 = [1, 2, 3, 4]"
   ],
   "outputs": [],
   "execution_count": 12
  },
  {
   "cell_type": "markdown",
   "id": "2c155f78-8d1b-47ee-956f-fe1f2517238c",
   "metadata": {
    "deletable": false
   },
   "source": [
    "### Question 13: Standard error (2 Points)\n",
    "\n",
    "Which statements about the standard error are true?\n",
    "1. It measures the standardized error of the regression line.\n",
    "2. It corresponds to the standard deviation of the mean of a sample.\n",
    "3. It is often used to define confidence intervals around an estimated mean.\n",
    "4. It can be estimated using bootstrap."
   ]
  },
  {
   "cell_type": "code",
   "id": "992d2aa9-924a-4f36-a216-33fa39119ec3",
   "metadata": {
    "deletable": false,
    "exercise_id": 13,
    "ExecuteTime": {
     "end_time": "2024-06-21T15:14:29.492452Z",
     "start_time": "2024-06-21T15:14:29.489426Z"
    }
   },
   "source": [
    "q13 = [2, 3]"
   ],
   "outputs": [],
   "execution_count": 13
  },
  {
   "cell_type": "markdown",
   "id": "6fa59e26-9dfc-45c8-8458-dd917e112913",
   "metadata": {
    "deletable": false
   },
   "source": [
    "### Question 14: Confidence intervals (2 Points)\n",
    "\n",
    "Which of the following statements about confidence intervals and p-values are true?\n",
    "\n",
    "1. A confidence interval provides a range of values within which the true population parameter is expected to lie with a certain level of confidence.  \n",
    "2. A p-value indicates the probability that the observed data would occur if the null hypothesis were true.  \n",
    "3. Lowering the probability that the confidence interval contains the true parameter, makes the interval smaller.\n",
    "4. Both confidence intervals and p-values communicate how certain we are about a situation."
   ]
  },
  {
   "cell_type": "code",
   "id": "8620916d-1273-4fb8-a227-512f3b07f987",
   "metadata": {
    "deletable": false,
    "exercise_id": 14,
    "ExecuteTime": {
     "end_time": "2024-06-21T15:14:29.497263Z",
     "start_time": "2024-06-21T15:14:29.494197Z"
    }
   },
   "source": [
    "q14 = [1, 2, 3]"
   ],
   "outputs": [],
   "execution_count": 14
  },
  {
   "cell_type": "markdown",
   "id": "94f67c1e-96f5-4656-ac11-dfe24df22949",
   "metadata": {
    "deletable": false
   },
   "source": [
    "### Question 15: Regression (2 Points)\n",
    "\n",
    "Given the following graph:, What could be the correlation coefficient between the x and y values?\n",
    "\n",
    "![regr](scatter.png)\n",
    "\n",
    "1. 0.3\n",
    "2. -0.5\n",
    "3. 0.8\n",
    "4. -0.9"
   ]
  },
  {
   "cell_type": "code",
   "id": "7d48f368-9824-4e5b-a7b4-a0ba59d9d3bc",
   "metadata": {
    "deletable": false,
    "exercise_id": 15,
    "ExecuteTime": {
     "end_time": "2024-06-21T15:14:29.501988Z",
     "start_time": "2024-06-21T15:14:29.498799Z"
    }
   },
   "source": [
    "q15 = 2"
   ],
   "outputs": [],
   "execution_count": 15
  },
  {
   "cell_type": "markdown",
   "id": "2110e7cc-aa64-4b90-8b37-10d6d7ab75a5",
   "metadata": {
    "deletable": false
   },
   "source": [
    "### Question 16: Central limit theorem (2 Points)\n",
    "\n",
    "Explain in one sentence why the central limit theorem is so important in data science. "
   ]
  },
  {
   "cell_type": "code",
   "id": "8098e157-639c-4fd6-aeae-27e1775c93a7",
   "metadata": {
    "deletable": false,
    "exercise_id": 16,
    "ExecuteTime": {
     "end_time": "2024-06-21T15:14:29.507467Z",
     "start_time": "2024-06-21T15:14:29.503625Z"
    }
   },
   "source": [
    "q16 = \"It allows us to analyze data of phenomens that are comprised of many smaller effects/distributions that overlap.\""
   ],
   "outputs": [],
   "execution_count": 16
  },
  {
   "cell_type": "markdown",
   "id": "0e69b3e3-fe48-433b-99fb-c4b77765dd55",
   "metadata": {
    "deletable": false
   },
   "source": [
    "### Question 17: Supervised learning (4 Points)\n",
    "\n",
    "Write down at least two components that need to be specified to implement a solution for a supervised learning problem. \n"
   ]
  },
  {
   "cell_type": "code",
   "id": "ad11f91d-8f97-44fb-85d6-ef743a2a5ed3",
   "metadata": {
    "deletable": false,
    "exercise_id": 17,
    "ExecuteTime": {
     "end_time": "2024-06-21T15:14:29.513589Z",
     "start_time": "2024-06-21T15:14:29.509954Z"
    }
   },
   "source": [
    "q17_1 = \"target variable\"\n",
    "q17_2 = \"training/test data\""
   ],
   "outputs": [],
   "execution_count": 17
  },
  {
   "cell_type": "markdown",
   "id": "a60ef3f9-fae6-4dad-8a7d-567919f4c25c",
   "metadata": {
    "deletable": false
   },
   "source": [
    "### Question 18: Neural networks (2 Points)\n",
    "\n",
    "Which of the following statements about neural networks for are true?\n",
    "\n",
    "1. A neural network with n inputs might have at most n parameters\n",
    "2. The inputs of the network are transformed in each layer, such that the relationship to the target variable becomes simpler in the each layer\n",
    "3. Neural networks can only be used for regression, but not for classification\n",
    "4. The parameters of a network can be found by solving a linear system of equations"
   ]
  },
  {
   "cell_type": "code",
   "id": "9c2be5b7-60e8-4ea9-be22-ac2d2794be63",
   "metadata": {
    "deletable": false,
    "exercise_id": 18,
    "ExecuteTime": {
     "end_time": "2024-06-21T15:14:29.518251Z",
     "start_time": "2024-06-21T15:14:29.515114Z"
    }
   },
   "source": [
    "q18 = [2]"
   ],
   "outputs": [],
   "execution_count": 18
  },
  {
   "cell_type": "markdown",
   "id": "2e774137",
   "metadata": {
    "deletable": false
   },
   "source": [
    "# Practice (40 Points)\n",
    "\n",
    "You have access to the documentation of the following libraries:\n",
    "\n",
    "- [numpy](https://numpy.org/doc/stable/reference/)\n",
    "- [scipy](https://docs.scipy.org/doc/scipy/reference/)\n",
    "- [matplotlib](https://matplotlib.org/stable/api/index.html)\n",
    "- [seaborn](https://seaborn.pydata.org/api.html)\n",
    "- [pandas](https://pandas.pydata.org/docs/reference/index.html)\n",
    "- [scikit-learn](https://scikit-learn.org/stable/api/index.html)"
   ]
  },
  {
   "cell_type": "markdown",
   "id": "b322470b",
   "metadata": {
    "deletable": false
   },
   "source": [
    "Let's load the libraries:"
   ]
  },
  {
   "cell_type": "code",
   "id": "b1ccbe5f",
   "metadata": {
    "deletable": false,
    "ExecuteTime": {
     "end_time": "2024-06-21T15:14:29.523731Z",
     "start_time": "2024-06-21T15:14:29.520230Z"
    }
   },
   "source": [
    "import seaborn as sns\n",
    "import numpy as np\n",
    "import matplotlib.pyplot as plt\n",
    "import pandas as pd\n",
    "import scipy"
   ],
   "outputs": [],
   "execution_count": 19
  },
  {
   "cell_type": "markdown",
   "id": "e09dbc67",
   "metadata": {
    "deletable": false
   },
   "source": [
    "### Question 19: Creating dataframes / cleaning (6 Points)\n",
    "\n",
    "You get from your marketing departement the following table\n",
    "\n",
    "| Name | Age | Country | Height |  \n",
    "|------|-----|-----------|---------|\n",
    "| Alice | 25 | USA | 1.72 m | \n",
    "| Bob | unknown | US | 1.9 m |  \n",
    "| Hans | 32 | CH | 1.8 m | \n",
    "| Alice | 25 |  USA | 1.72 m | \n",
    "\n",
    "You immediately recognize that the data quality is not good and that there are at least 4 problems with this dataset. \n",
    "\n",
    "Create a pandas dataframe with this data. Make sure you fix all the problems. \n",
    "\n",
    "* *Hint: The easiest way to create a dataframe is to use a dictionary*\n",
    "* *Hint: If you know what the problems are but you don't know how to fix it, write it as a comment.*\n"
   ]
  },
  {
   "cell_type": "code",
   "id": "896b58a0",
   "metadata": {
    "deletable": false,
    "exercise_id": 19,
    "ExecuteTime": {
     "end_time": "2024-06-21T15:14:29.549863Z",
     "start_time": "2024-06-21T15:14:29.526217Z"
    }
   },
   "source": [
    "df = pd.DataFrame({\n",
    "    'Age': {\n",
    "        'Alice': 25,\n",
    "        'Bob': np.NaN,\n",
    "        'Hans': 32,\n",
    "    },\n",
    "    'Country': {\n",
    "        'Alice': 'USA',\n",
    "        'Bob': 'USA',\n",
    "        'Hans': 'CH',\n",
    "    },\n",
    "    'Height (cm)': {\n",
    "        'Alice': 172,\n",
    "        'Bob': 190,\n",
    "        'Hans': 180,\n",
    "    },\n",
    "})  # create your dataframe here\n",
    "display(df.head())"
   ],
   "outputs": [
    {
     "data": {
      "text/plain": [
       "        Age Country  Height (cm)\n",
       "Alice  25.0     USA          172\n",
       "Bob     NaN     USA          190\n",
       "Hans   32.0      CH          180"
      ],
      "text/html": [
       "<div>\n",
       "<style scoped>\n",
       "    .dataframe tbody tr th:only-of-type {\n",
       "        vertical-align: middle;\n",
       "    }\n",
       "\n",
       "    .dataframe tbody tr th {\n",
       "        vertical-align: top;\n",
       "    }\n",
       "\n",
       "    .dataframe thead th {\n",
       "        text-align: right;\n",
       "    }\n",
       "</style>\n",
       "<table border=\"1\" class=\"dataframe\">\n",
       "  <thead>\n",
       "    <tr style=\"text-align: right;\">\n",
       "      <th></th>\n",
       "      <th>Age</th>\n",
       "      <th>Country</th>\n",
       "      <th>Height (cm)</th>\n",
       "    </tr>\n",
       "  </thead>\n",
       "  <tbody>\n",
       "    <tr>\n",
       "      <th>Alice</th>\n",
       "      <td>25.0</td>\n",
       "      <td>USA</td>\n",
       "      <td>172</td>\n",
       "    </tr>\n",
       "    <tr>\n",
       "      <th>Bob</th>\n",
       "      <td>NaN</td>\n",
       "      <td>USA</td>\n",
       "      <td>190</td>\n",
       "    </tr>\n",
       "    <tr>\n",
       "      <th>Hans</th>\n",
       "      <td>32.0</td>\n",
       "      <td>CH</td>\n",
       "      <td>180</td>\n",
       "    </tr>\n",
       "  </tbody>\n",
       "</table>\n",
       "</div>"
      ]
     },
     "metadata": {},
     "output_type": "display_data"
    }
   ],
   "execution_count": 20
  },
  {
   "cell_type": "markdown",
   "id": "b62746d7",
   "metadata": {
    "deletable": false
   },
   "source": [
    "### Question 20: Plotting (2 Points)\n",
    "\n",
    "Use seaborn to visualize the distribution of `sepal_length` for the different species of flowers in the iris dataset. \n",
    "\n",
    "*Hint: Use seaborn's `displot` function.*\n"
   ]
  },
  {
   "cell_type": "code",
   "id": "81dc9071",
   "metadata": {
    "deletable": false,
    "exercise_id": 20,
    "ExecuteTime": {
     "end_time": "2024-06-21T15:14:31.423354Z",
     "start_time": "2024-06-21T15:14:29.551590Z"
    }
   },
   "source": [
    "# Your answer\n",
    "import seaborn as sns\n",
    "\n",
    "df = sns.load_dataset(\"iris\")\n",
    "display(df.head())\n",
    "# your plot\n",
    "sns.displot(data=df, x='sepal_length', y='species')"
   ],
   "outputs": [
    {
     "data": {
      "text/plain": [
       "   sepal_length  sepal_width  petal_length  petal_width species\n",
       "0           5.1          3.5           1.4          0.2  setosa\n",
       "1           4.9          3.0           1.4          0.2  setosa\n",
       "2           4.7          3.2           1.3          0.2  setosa\n",
       "3           4.6          3.1           1.5          0.2  setosa\n",
       "4           5.0          3.6           1.4          0.2  setosa"
      ],
      "text/html": [
       "<div>\n",
       "<style scoped>\n",
       "    .dataframe tbody tr th:only-of-type {\n",
       "        vertical-align: middle;\n",
       "    }\n",
       "\n",
       "    .dataframe tbody tr th {\n",
       "        vertical-align: top;\n",
       "    }\n",
       "\n",
       "    .dataframe thead th {\n",
       "        text-align: right;\n",
       "    }\n",
       "</style>\n",
       "<table border=\"1\" class=\"dataframe\">\n",
       "  <thead>\n",
       "    <tr style=\"text-align: right;\">\n",
       "      <th></th>\n",
       "      <th>sepal_length</th>\n",
       "      <th>sepal_width</th>\n",
       "      <th>petal_length</th>\n",
       "      <th>petal_width</th>\n",
       "      <th>species</th>\n",
       "    </tr>\n",
       "  </thead>\n",
       "  <tbody>\n",
       "    <tr>\n",
       "      <th>0</th>\n",
       "      <td>5.1</td>\n",
       "      <td>3.5</td>\n",
       "      <td>1.4</td>\n",
       "      <td>0.2</td>\n",
       "      <td>setosa</td>\n",
       "    </tr>\n",
       "    <tr>\n",
       "      <th>1</th>\n",
       "      <td>4.9</td>\n",
       "      <td>3.0</td>\n",
       "      <td>1.4</td>\n",
       "      <td>0.2</td>\n",
       "      <td>setosa</td>\n",
       "    </tr>\n",
       "    <tr>\n",
       "      <th>2</th>\n",
       "      <td>4.7</td>\n",
       "      <td>3.2</td>\n",
       "      <td>1.3</td>\n",
       "      <td>0.2</td>\n",
       "      <td>setosa</td>\n",
       "    </tr>\n",
       "    <tr>\n",
       "      <th>3</th>\n",
       "      <td>4.6</td>\n",
       "      <td>3.1</td>\n",
       "      <td>1.5</td>\n",
       "      <td>0.2</td>\n",
       "      <td>setosa</td>\n",
       "    </tr>\n",
       "    <tr>\n",
       "      <th>4</th>\n",
       "      <td>5.0</td>\n",
       "      <td>3.6</td>\n",
       "      <td>1.4</td>\n",
       "      <td>0.2</td>\n",
       "      <td>setosa</td>\n",
       "    </tr>\n",
       "  </tbody>\n",
       "</table>\n",
       "</div>"
      ]
     },
     "metadata": {},
     "output_type": "display_data"
    },
    {
     "name": "stderr",
     "output_type": "stream",
     "text": [
      "/Users/nirazul/opt/anaconda3/envs/intro-data-science/lib/python3.8/site-packages/seaborn/axisgrid.py:118: UserWarning: The figure layout has changed to tight\n",
      "  self._figure.tight_layout(*args, **kwargs)\n"
     ]
    },
    {
     "data": {
      "text/plain": [
       "<seaborn.axisgrid.FacetGrid at 0x7f9d851161c0>"
      ]
     },
     "execution_count": 21,
     "metadata": {},
     "output_type": "execute_result"
    },
    {
     "data": {
      "text/plain": [
       "<Figure size 500x500 with 1 Axes>"
      ],
      "image/png": "[encoded data removed]"
     },
     "metadata": {},
     "output_type": "display_data"
    }
   ],
   "execution_count": 21
  },
  {
   "cell_type": "markdown",
   "id": "352fe7f1",
   "metadata": {
    "deletable": false,
    "exercise_id": 6
   },
   "source": [
    "### Question 21: Tidy data (6 Points)\n",
    "\n",
    "The following dataset is not tidy. Melt the dataset to make it tidy. Choose descriptive column names and, change the values in the melted dataset if it makes things more clear.  \n"
   ]
  },
  {
   "cell_type": "code",
   "id": "31ea8a0d",
   "metadata": {
    "deletable": false,
    "exercise_id": 21,
    "ExecuteTime": {
     "end_time": "2024-06-21T15:14:32.482176Z",
     "start_time": "2024-06-21T15:14:31.425859Z"
    }
   },
   "source": [
    "\n",
    "df = pd.read_csv(\"untidy.csv\")\n",
    "display(df.head())\n",
    "df_tidy = df.melt(\n",
    "    id_vars=['Product'],\n",
    "    value_vars=['January_Sales', 'February_Sales', 'March_Sales'],\n",
    "    value_name='Sales',\n",
    "    var_name='Month',\n",
    ")  # melt the dataset\n",
    "df_tidy.replace(to_replace='January_Sales', value='January', inplace=True)  # other cleaning up operation, if necessary\n",
    "df_tidy.replace(to_replace='February_Sales', value='February',\n",
    "                inplace=True)  # other cleaning up operation, if necessary\n",
    "df_tidy.replace(to_replace='March_Sales', value='March', inplace=True)  # other cleaning up operation, if necessary\n",
    "display(df_tidy.head())\n"
   ],
   "outputs": [
    {
     "ename": "FileNotFoundError",
     "evalue": "[Errno 2] No such file or directory: 'untidy.csv'",
     "output_type": "error",
     "traceback": [
      "\u001B[0;31m---------------------------------------------------------------------------\u001B[0m",
      "\u001B[0;31mFileNotFoundError\u001B[0m                         Traceback (most recent call last)",
      "Cell \u001B[0;32mIn[22], line 1\u001B[0m\n\u001B[0;32m----> 1\u001B[0m df \u001B[38;5;241m=\u001B[39m \u001B[43mpd\u001B[49m\u001B[38;5;241;43m.\u001B[39;49m\u001B[43mread_csv\u001B[49m\u001B[43m(\u001B[49m\u001B[38;5;124;43m\"\u001B[39;49m\u001B[38;5;124;43muntidy.csv\u001B[39;49m\u001B[38;5;124;43m\"\u001B[39;49m\u001B[43m)\u001B[49m\n\u001B[1;32m      2\u001B[0m display(df\u001B[38;5;241m.\u001B[39mhead())\n\u001B[1;32m      3\u001B[0m df_tidy \u001B[38;5;241m=\u001B[39m df\u001B[38;5;241m.\u001B[39mmelt(\n\u001B[1;32m      4\u001B[0m     id_vars\u001B[38;5;241m=\u001B[39m[\u001B[38;5;124m'\u001B[39m\u001B[38;5;124mProduct\u001B[39m\u001B[38;5;124m'\u001B[39m], \n\u001B[1;32m      5\u001B[0m     value_vars\u001B[38;5;241m=\u001B[39m[\u001B[38;5;124m'\u001B[39m\u001B[38;5;124mJanuary_Sales\u001B[39m\u001B[38;5;124m'\u001B[39m, \u001B[38;5;124m'\u001B[39m\u001B[38;5;124mFebruary_Sales\u001B[39m\u001B[38;5;124m'\u001B[39m, \u001B[38;5;124m'\u001B[39m\u001B[38;5;124mMarch_Sales\u001B[39m\u001B[38;5;124m'\u001B[39m], \n\u001B[1;32m      6\u001B[0m     value_name\u001B[38;5;241m=\u001B[39m\u001B[38;5;124m'\u001B[39m\u001B[38;5;124mSales\u001B[39m\u001B[38;5;124m'\u001B[39m,\n\u001B[1;32m      7\u001B[0m     var_name\u001B[38;5;241m=\u001B[39m\u001B[38;5;124m'\u001B[39m\u001B[38;5;124mMonth\u001B[39m\u001B[38;5;124m'\u001B[39m,\n\u001B[1;32m      8\u001B[0m ) \u001B[38;5;66;03m# melt the dataset\u001B[39;00m\n",
      "File \u001B[0;32m~/opt/anaconda3/envs/intro-data-science/lib/python3.8/site-packages/pandas/io/parsers/readers.py:912\u001B[0m, in \u001B[0;36mread_csv\u001B[0;34m(filepath_or_buffer, sep, delimiter, header, names, index_col, usecols, dtype, engine, converters, true_values, false_values, skipinitialspace, skiprows, skipfooter, nrows, na_values, keep_default_na, na_filter, verbose, skip_blank_lines, parse_dates, infer_datetime_format, keep_date_col, date_parser, date_format, dayfirst, cache_dates, iterator, chunksize, compression, thousands, decimal, lineterminator, quotechar, quoting, doublequote, escapechar, comment, encoding, encoding_errors, dialect, on_bad_lines, delim_whitespace, low_memory, memory_map, float_precision, storage_options, dtype_backend)\u001B[0m\n\u001B[1;32m    899\u001B[0m kwds_defaults \u001B[38;5;241m=\u001B[39m _refine_defaults_read(\n\u001B[1;32m    900\u001B[0m     dialect,\n\u001B[1;32m    901\u001B[0m     delimiter,\n\u001B[0;32m   (...)\u001B[0m\n\u001B[1;32m    908\u001B[0m     dtype_backend\u001B[38;5;241m=\u001B[39mdtype_backend,\n\u001B[1;32m    909\u001B[0m )\n\u001B[1;32m    910\u001B[0m kwds\u001B[38;5;241m.\u001B[39mupdate(kwds_defaults)\n\u001B[0;32m--> 912\u001B[0m \u001B[38;5;28;01mreturn\u001B[39;00m \u001B[43m_read\u001B[49m\u001B[43m(\u001B[49m\u001B[43mfilepath_or_buffer\u001B[49m\u001B[43m,\u001B[49m\u001B[43m \u001B[49m\u001B[43mkwds\u001B[49m\u001B[43m)\u001B[49m\n",
      "File \u001B[0;32m~/opt/anaconda3/envs/intro-data-science/lib/python3.8/site-packages/pandas/io/parsers/readers.py:577\u001B[0m, in \u001B[0;36m_read\u001B[0;34m(filepath_or_buffer, kwds)\u001B[0m\n\u001B[1;32m    574\u001B[0m _validate_names(kwds\u001B[38;5;241m.\u001B[39mget(\u001B[38;5;124m\"\u001B[39m\u001B[38;5;124mnames\u001B[39m\u001B[38;5;124m\"\u001B[39m, \u001B[38;5;28;01mNone\u001B[39;00m))\n\u001B[1;32m    576\u001B[0m \u001B[38;5;66;03m# Create the parser.\u001B[39;00m\n\u001B[0;32m--> 577\u001B[0m parser \u001B[38;5;241m=\u001B[39m \u001B[43mTextFileReader\u001B[49m\u001B[43m(\u001B[49m\u001B[43mfilepath_or_buffer\u001B[49m\u001B[43m,\u001B[49m\u001B[43m \u001B[49m\u001B[38;5;241;43m*\u001B[39;49m\u001B[38;5;241;43m*\u001B[39;49m\u001B[43mkwds\u001B[49m\u001B[43m)\u001B[49m\n\u001B[1;32m    579\u001B[0m \u001B[38;5;28;01mif\u001B[39;00m chunksize \u001B[38;5;129;01mor\u001B[39;00m iterator:\n\u001B[1;32m    580\u001B[0m     \u001B[38;5;28;01mreturn\u001B[39;00m parser\n",
      "File \u001B[0;32m~/opt/anaconda3/envs/intro-data-science/lib/python3.8/site-packages/pandas/io/parsers/readers.py:1407\u001B[0m, in \u001B[0;36mTextFileReader.__init__\u001B[0;34m(self, f, engine, **kwds)\u001B[0m\n\u001B[1;32m   1404\u001B[0m     \u001B[38;5;28mself\u001B[39m\u001B[38;5;241m.\u001B[39moptions[\u001B[38;5;124m\"\u001B[39m\u001B[38;5;124mhas_index_names\u001B[39m\u001B[38;5;124m\"\u001B[39m] \u001B[38;5;241m=\u001B[39m kwds[\u001B[38;5;124m\"\u001B[39m\u001B[38;5;124mhas_index_names\u001B[39m\u001B[38;5;124m\"\u001B[39m]\n\u001B[1;32m   1406\u001B[0m \u001B[38;5;28mself\u001B[39m\u001B[38;5;241m.\u001B[39mhandles: IOHandles \u001B[38;5;241m|\u001B[39m \u001B[38;5;28;01mNone\u001B[39;00m \u001B[38;5;241m=\u001B[39m \u001B[38;5;28;01mNone\u001B[39;00m\n\u001B[0;32m-> 1407\u001B[0m \u001B[38;5;28mself\u001B[39m\u001B[38;5;241m.\u001B[39m_engine \u001B[38;5;241m=\u001B[39m \u001B[38;5;28;43mself\u001B[39;49m\u001B[38;5;241;43m.\u001B[39;49m\u001B[43m_make_engine\u001B[49m\u001B[43m(\u001B[49m\u001B[43mf\u001B[49m\u001B[43m,\u001B[49m\u001B[43m \u001B[49m\u001B[38;5;28;43mself\u001B[39;49m\u001B[38;5;241;43m.\u001B[39;49m\u001B[43mengine\u001B[49m\u001B[43m)\u001B[49m\n",
      "File \u001B[0;32m~/opt/anaconda3/envs/intro-data-science/lib/python3.8/site-packages/pandas/io/parsers/readers.py:1661\u001B[0m, in \u001B[0;36mTextFileReader._make_engine\u001B[0;34m(self, f, engine)\u001B[0m\n\u001B[1;32m   1659\u001B[0m     \u001B[38;5;28;01mif\u001B[39;00m \u001B[38;5;124m\"\u001B[39m\u001B[38;5;124mb\u001B[39m\u001B[38;5;124m\"\u001B[39m \u001B[38;5;129;01mnot\u001B[39;00m \u001B[38;5;129;01min\u001B[39;00m mode:\n\u001B[1;32m   1660\u001B[0m         mode \u001B[38;5;241m+\u001B[39m\u001B[38;5;241m=\u001B[39m \u001B[38;5;124m\"\u001B[39m\u001B[38;5;124mb\u001B[39m\u001B[38;5;124m\"\u001B[39m\n\u001B[0;32m-> 1661\u001B[0m \u001B[38;5;28mself\u001B[39m\u001B[38;5;241m.\u001B[39mhandles \u001B[38;5;241m=\u001B[39m \u001B[43mget_handle\u001B[49m\u001B[43m(\u001B[49m\n\u001B[1;32m   1662\u001B[0m \u001B[43m    \u001B[49m\u001B[43mf\u001B[49m\u001B[43m,\u001B[49m\n\u001B[1;32m   1663\u001B[0m \u001B[43m    \u001B[49m\u001B[43mmode\u001B[49m\u001B[43m,\u001B[49m\n\u001B[1;32m   1664\u001B[0m \u001B[43m    \u001B[49m\u001B[43mencoding\u001B[49m\u001B[38;5;241;43m=\u001B[39;49m\u001B[38;5;28;43mself\u001B[39;49m\u001B[38;5;241;43m.\u001B[39;49m\u001B[43moptions\u001B[49m\u001B[38;5;241;43m.\u001B[39;49m\u001B[43mget\u001B[49m\u001B[43m(\u001B[49m\u001B[38;5;124;43m\"\u001B[39;49m\u001B[38;5;124;43mencoding\u001B[39;49m\u001B[38;5;124;43m\"\u001B[39;49m\u001B[43m,\u001B[49m\u001B[43m \u001B[49m\u001B[38;5;28;43;01mNone\u001B[39;49;00m\u001B[43m)\u001B[49m\u001B[43m,\u001B[49m\n\u001B[1;32m   1665\u001B[0m \u001B[43m    \u001B[49m\u001B[43mcompression\u001B[49m\u001B[38;5;241;43m=\u001B[39;49m\u001B[38;5;28;43mself\u001B[39;49m\u001B[38;5;241;43m.\u001B[39;49m\u001B[43moptions\u001B[49m\u001B[38;5;241;43m.\u001B[39;49m\u001B[43mget\u001B[49m\u001B[43m(\u001B[49m\u001B[38;5;124;43m\"\u001B[39;49m\u001B[38;5;124;43mcompression\u001B[39;49m\u001B[38;5;124;43m\"\u001B[39;49m\u001B[43m,\u001B[49m\u001B[43m \u001B[49m\u001B[38;5;28;43;01mNone\u001B[39;49;00m\u001B[43m)\u001B[49m\u001B[43m,\u001B[49m\n\u001B[1;32m   1666\u001B[0m \u001B[43m    \u001B[49m\u001B[43mmemory_map\u001B[49m\u001B[38;5;241;43m=\u001B[39;49m\u001B[38;5;28;43mself\u001B[39;49m\u001B[38;5;241;43m.\u001B[39;49m\u001B[43moptions\u001B[49m\u001B[38;5;241;43m.\u001B[39;49m\u001B[43mget\u001B[49m\u001B[43m(\u001B[49m\u001B[38;5;124;43m\"\u001B[39;49m\u001B[38;5;124;43mmemory_map\u001B[39;49m\u001B[38;5;124;43m\"\u001B[39;49m\u001B[43m,\u001B[49m\u001B[43m \u001B[49m\u001B[38;5;28;43;01mFalse\u001B[39;49;00m\u001B[43m)\u001B[49m\u001B[43m,\u001B[49m\n\u001B[1;32m   1667\u001B[0m \u001B[43m    \u001B[49m\u001B[43mis_text\u001B[49m\u001B[38;5;241;43m=\u001B[39;49m\u001B[43mis_text\u001B[49m\u001B[43m,\u001B[49m\n\u001B[1;32m   1668\u001B[0m \u001B[43m    \u001B[49m\u001B[43merrors\u001B[49m\u001B[38;5;241;43m=\u001B[39;49m\u001B[38;5;28;43mself\u001B[39;49m\u001B[38;5;241;43m.\u001B[39;49m\u001B[43moptions\u001B[49m\u001B[38;5;241;43m.\u001B[39;49m\u001B[43mget\u001B[49m\u001B[43m(\u001B[49m\u001B[38;5;124;43m\"\u001B[39;49m\u001B[38;5;124;43mencoding_errors\u001B[39;49m\u001B[38;5;124;43m\"\u001B[39;49m\u001B[43m,\u001B[49m\u001B[43m \u001B[49m\u001B[38;5;124;43m\"\u001B[39;49m\u001B[38;5;124;43mstrict\u001B[39;49m\u001B[38;5;124;43m\"\u001B[39;49m\u001B[43m)\u001B[49m\u001B[43m,\u001B[49m\n\u001B[1;32m   1669\u001B[0m \u001B[43m    \u001B[49m\u001B[43mstorage_options\u001B[49m\u001B[38;5;241;43m=\u001B[39;49m\u001B[38;5;28;43mself\u001B[39;49m\u001B[38;5;241;43m.\u001B[39;49m\u001B[43moptions\u001B[49m\u001B[38;5;241;43m.\u001B[39;49m\u001B[43mget\u001B[49m\u001B[43m(\u001B[49m\u001B[38;5;124;43m\"\u001B[39;49m\u001B[38;5;124;43mstorage_options\u001B[39;49m\u001B[38;5;124;43m\"\u001B[39;49m\u001B[43m,\u001B[49m\u001B[43m \u001B[49m\u001B[38;5;28;43;01mNone\u001B[39;49;00m\u001B[43m)\u001B[49m\u001B[43m,\u001B[49m\n\u001B[1;32m   1670\u001B[0m \u001B[43m\u001B[49m\u001B[43m)\u001B[49m\n\u001B[1;32m   1671\u001B[0m \u001B[38;5;28;01massert\u001B[39;00m \u001B[38;5;28mself\u001B[39m\u001B[38;5;241m.\u001B[39mhandles \u001B[38;5;129;01mis\u001B[39;00m \u001B[38;5;129;01mnot\u001B[39;00m \u001B[38;5;28;01mNone\u001B[39;00m\n\u001B[1;32m   1672\u001B[0m f \u001B[38;5;241m=\u001B[39m \u001B[38;5;28mself\u001B[39m\u001B[38;5;241m.\u001B[39mhandles\u001B[38;5;241m.\u001B[39mhandle\n",
      "File \u001B[0;32m~/opt/anaconda3/envs/intro-data-science/lib/python3.8/site-packages/pandas/io/common.py:859\u001B[0m, in \u001B[0;36mget_handle\u001B[0;34m(path_or_buf, mode, encoding, compression, memory_map, is_text, errors, storage_options)\u001B[0m\n\u001B[1;32m    854\u001B[0m \u001B[38;5;28;01melif\u001B[39;00m \u001B[38;5;28misinstance\u001B[39m(handle, \u001B[38;5;28mstr\u001B[39m):\n\u001B[1;32m    855\u001B[0m     \u001B[38;5;66;03m# Check whether the filename is to be opened in binary mode.\u001B[39;00m\n\u001B[1;32m    856\u001B[0m     \u001B[38;5;66;03m# Binary mode does not support 'encoding' and 'newline'.\u001B[39;00m\n\u001B[1;32m    857\u001B[0m     \u001B[38;5;28;01mif\u001B[39;00m ioargs\u001B[38;5;241m.\u001B[39mencoding \u001B[38;5;129;01mand\u001B[39;00m \u001B[38;5;124m\"\u001B[39m\u001B[38;5;124mb\u001B[39m\u001B[38;5;124m\"\u001B[39m \u001B[38;5;129;01mnot\u001B[39;00m \u001B[38;5;129;01min\u001B[39;00m ioargs\u001B[38;5;241m.\u001B[39mmode:\n\u001B[1;32m    858\u001B[0m         \u001B[38;5;66;03m# Encoding\u001B[39;00m\n\u001B[0;32m--> 859\u001B[0m         handle \u001B[38;5;241m=\u001B[39m \u001B[38;5;28;43mopen\u001B[39;49m\u001B[43m(\u001B[49m\n\u001B[1;32m    860\u001B[0m \u001B[43m            \u001B[49m\u001B[43mhandle\u001B[49m\u001B[43m,\u001B[49m\n\u001B[1;32m    861\u001B[0m \u001B[43m            \u001B[49m\u001B[43mioargs\u001B[49m\u001B[38;5;241;43m.\u001B[39;49m\u001B[43mmode\u001B[49m\u001B[43m,\u001B[49m\n\u001B[1;32m    862\u001B[0m \u001B[43m            \u001B[49m\u001B[43mencoding\u001B[49m\u001B[38;5;241;43m=\u001B[39;49m\u001B[43mioargs\u001B[49m\u001B[38;5;241;43m.\u001B[39;49m\u001B[43mencoding\u001B[49m\u001B[43m,\u001B[49m\n\u001B[1;32m    863\u001B[0m \u001B[43m            \u001B[49m\u001B[43merrors\u001B[49m\u001B[38;5;241;43m=\u001B[39;49m\u001B[43merrors\u001B[49m\u001B[43m,\u001B[49m\n\u001B[1;32m    864\u001B[0m \u001B[43m            \u001B[49m\u001B[43mnewline\u001B[49m\u001B[38;5;241;43m=\u001B[39;49m\u001B[38;5;124;43m\"\u001B[39;49m\u001B[38;5;124;43m\"\u001B[39;49m\u001B[43m,\u001B[49m\n\u001B[1;32m    865\u001B[0m \u001B[43m        \u001B[49m\u001B[43m)\u001B[49m\n\u001B[1;32m    866\u001B[0m     \u001B[38;5;28;01melse\u001B[39;00m:\n\u001B[1;32m    867\u001B[0m         \u001B[38;5;66;03m# Binary mode\u001B[39;00m\n\u001B[1;32m    868\u001B[0m         handle \u001B[38;5;241m=\u001B[39m \u001B[38;5;28mopen\u001B[39m(handle, ioargs\u001B[38;5;241m.\u001B[39mmode)\n",
      "\u001B[0;31mFileNotFoundError\u001B[0m: [Errno 2] No such file or directory: 'untidy.csv'"
     ]
    }
   ],
   "execution_count": 22
  },
  {
   "cell_type": "markdown",
   "id": "69ae13f9",
   "metadata": {
    "deletable": false,
    "slideshow": {
     "slide_type": "subslide"
    }
   },
   "source": [
    "### Question 22: Random variables and distribution (4 Points)\n",
    "\n",
    "In the following use `scipy`, as well as the already defined binomial distribution to\n",
    "\n",
    "* sample 100 random numbers from the distribution\n",
    "* plot the probability mass function using a suitable plot from matplotlib\n",
    "* compute the probability $\\mathbb{P}(x = 5)$\n",
    "* compute the probability $\\mathbb{P}(x < 7)$\n",
    "\n"
   ]
  },
  {
   "cell_type": "code",
   "id": "661252f6",
   "metadata": {
    "deletable": false,
    "exercise_id": 22,
    "ExecuteTime": {
     "end_time": "2024-06-21T15:14:32.484135Z",
     "start_time": "2024-06-21T15:14:32.483975Z"
    }
   },
   "source": [
    "import scipy.stats as stats\n",
    "import matplotlib.pyplot as plt\n",
    "\n",
    "bindist = stats.binom(n=15, p=0.1)\n",
    "X = bindist.rvs(size=100)  # create the sample\n",
    "pmf_plot = plt.hist(x=X, bins=len(np.unique(X)))  # create the plot\n",
    "p_5 = bindist.pmf(5)  # the probability P(x = 5)\n",
    "p_lt_7 = bindist.cdf(7)  # the probability P(x < 7)\n",
    "\n",
    "print(f\"P(x=5) {p_5} P(x<7) {p_lt_7}\")\n",
    "\n",
    "print(X)"
   ],
   "outputs": [],
   "execution_count": null
  },
  {
   "cell_type": "markdown",
   "id": "a32c15e8",
   "metadata": {
    "deletable": false
   },
   "source": [
    "### Question 23: Conditional probability (6 Points)\n",
    "\n",
    "We use again the iris dataset. Estimate the conditional probability $\\mathbb{P}(\\text{sepal\\_length} < 5 \\,|\\, \\text{species} = \\text{setosa})$.\n",
    "\n",
    "Reminder: The conditional probability is calculated as \n",
    "\n",
    "$\\mathbb{P}(A | B) = \\frac{\\mathbb{P}(A \\cap B)}{\\mathbb{P}(B)}$"
   ]
  },
  {
   "cell_type": "code",
   "id": "d1aea8b4",
   "metadata": {
    "deletable": false,
    "exercise_id": 23
   },
   "source": [
    "df = sns.load_dataset(\"iris\")\n",
    "\n",
    "df_p_setosa = df[df['species'] == 'setosa']\n",
    "df_p_setosa_len_lt_5 = df_p_setosa[df_p_setosa['sepal_length'] < 5]\n",
    "\n",
    "p_setosa = len(df_p_setosa) / df.shape[0]  # replace with your calculations\n",
    "p_setosa_len_lt_5 = len(df_p_setosa_len_lt_5) / df.shape[0]  # replace with your calculations\n",
    "p_sep_len_given_setosa = p_setosa_len_lt_5 / p_setosa  # replace with your calculations\n",
    "\n",
    "print(f\"p_setosa {p_setosa} p_setosa_len_lt_5 {p_setosa_len_lt_5} p_sep_len_given_setosa {p_sep_len_given_setosa}\")"
   ],
   "outputs": [],
   "execution_count": null
  },
  {
   "cell_type": "markdown",
   "id": "9bc88797",
   "metadata": {
    "deletable": false
   },
   "source": [
    "### Question 24: Standardize a dataset (4 Points)\n",
    "\n",
    "Normalize the column `sepal_length` such that it has mean 0 and standard deviation 1. \n",
    "Write the result back into the column `sepal_length` of the original dataframe."
   ]
  },
  {
   "cell_type": "code",
   "id": "0c6ce51f",
   "metadata": {
    "deletable": false,
    "exercise_id": 24,
    "ExecuteTime": {
     "end_time": "2024-06-21T15:14:39.096753Z",
     "start_time": "2024-06-21T15:14:38.898371Z"
    }
   },
   "source": [
    "from sklearn.preprocessing import Normalizer\n",
    "\n",
    "df = sns.load_dataset(\"iris\")\n",
    "display(df)\n",
    "\n",
    "sepal_length = df['sepal_length']\n",
    "sepal_length_mean = sepal_length.mean()\n",
    "sepal_length_std = sepal_length.std()\n",
    "\n",
    "df['sepal_length'] = (sepal_length - sepal_length_mean) / sepal_length_std\n",
    "\n",
    "df"
   ],
   "outputs": [
    {
     "data": {
      "text/plain": [
       "     sepal_length  sepal_width  petal_length  petal_width    species\n",
       "0             5.1          3.5           1.4          0.2     setosa\n",
       "1             4.9          3.0           1.4          0.2     setosa\n",
       "2             4.7          3.2           1.3          0.2     setosa\n",
       "3             4.6          3.1           1.5          0.2     setosa\n",
       "4             5.0          3.6           1.4          0.2     setosa\n",
       "..            ...          ...           ...          ...        ...\n",
       "145           6.7          3.0           5.2          2.3  virginica\n",
       "146           6.3          2.5           5.0          1.9  virginica\n",
       "147           6.5          3.0           5.2          2.0  virginica\n",
       "148           6.2          3.4           5.4          2.3  virginica\n",
       "149           5.9          3.0           5.1          1.8  virginica\n",
       "\n",
       "[150 rows x 5 columns]"
      ],
      "text/html": [
       "<div>\n",
       "<style scoped>\n",
       "    .dataframe tbody tr th:only-of-type {\n",
       "        vertical-align: middle;\n",
       "    }\n",
       "\n",
       "    .dataframe tbody tr th {\n",
       "        vertical-align: top;\n",
       "    }\n",
       "\n",
       "    .dataframe thead th {\n",
       "        text-align: right;\n",
       "    }\n",
       "</style>\n",
       "<table border=\"1\" class=\"dataframe\">\n",
       "  <thead>\n",
       "    <tr style=\"text-align: right;\">\n",
       "      <th></th>\n",
       "      <th>sepal_length</th>\n",
       "      <th>sepal_width</th>\n",
       "      <th>petal_length</th>\n",
       "      <th>petal_width</th>\n",
       "      <th>species</th>\n",
       "    </tr>\n",
       "  </thead>\n",
       "  <tbody>\n",
       "    <tr>\n",
       "      <th>0</th>\n",
       "      <td>5.1</td>\n",
       "      <td>3.5</td>\n",
       "      <td>1.4</td>\n",
       "      <td>0.2</td>\n",
       "      <td>setosa</td>\n",
       "    </tr>\n",
       "    <tr>\n",
       "      <th>1</th>\n",
       "      <td>4.9</td>\n",
       "      <td>3.0</td>\n",
       "      <td>1.4</td>\n",
       "      <td>0.2</td>\n",
       "      <td>setosa</td>\n",
       "    </tr>\n",
       "    <tr>\n",
       "      <th>2</th>\n",
       "      <td>4.7</td>\n",
       "      <td>3.2</td>\n",
       "      <td>1.3</td>\n",
       "      <td>0.2</td>\n",
       "      <td>setosa</td>\n",
       "    </tr>\n",
       "    <tr>\n",
       "      <th>3</th>\n",
       "      <td>4.6</td>\n",
       "      <td>3.1</td>\n",
       "      <td>1.5</td>\n",
       "      <td>0.2</td>\n",
       "      <td>setosa</td>\n",
       "    </tr>\n",
       "    <tr>\n",
       "      <th>4</th>\n",
       "      <td>5.0</td>\n",
       "      <td>3.6</td>\n",
       "      <td>1.4</td>\n",
       "      <td>0.2</td>\n",
       "      <td>setosa</td>\n",
       "    </tr>\n",
       "    <tr>\n",
       "      <th>...</th>\n",
       "      <td>...</td>\n",
       "      <td>...</td>\n",
       "      <td>...</td>\n",
       "      <td>...</td>\n",
       "      <td>...</td>\n",
       "    </tr>\n",
       "    <tr>\n",
       "      <th>145</th>\n",
       "      <td>6.7</td>\n",
       "      <td>3.0</td>\n",
       "      <td>5.2</td>\n",
       "      <td>2.3</td>\n",
       "      <td>virginica</td>\n",
       "    </tr>\n",
       "    <tr>\n",
       "      <th>146</th>\n",
       "      <td>6.3</td>\n",
       "      <td>2.5</td>\n",
       "      <td>5.0</td>\n",
       "      <td>1.9</td>\n",
       "      <td>virginica</td>\n",
       "    </tr>\n",
       "    <tr>\n",
       "      <th>147</th>\n",
       "      <td>6.5</td>\n",
       "      <td>3.0</td>\n",
       "      <td>5.2</td>\n",
       "      <td>2.0</td>\n",
       "      <td>virginica</td>\n",
       "    </tr>\n",
       "    <tr>\n",
       "      <th>148</th>\n",
       "      <td>6.2</td>\n",
       "      <td>3.4</td>\n",
       "      <td>5.4</td>\n",
       "      <td>2.3</td>\n",
       "      <td>virginica</td>\n",
       "    </tr>\n",
       "    <tr>\n",
       "      <th>149</th>\n",
       "      <td>5.9</td>\n",
       "      <td>3.0</td>\n",
       "      <td>5.1</td>\n",
       "      <td>1.8</td>\n",
       "      <td>virginica</td>\n",
       "    </tr>\n",
       "  </tbody>\n",
       "</table>\n",
       "<p>150 rows × 5 columns</p>\n",
       "</div>"
      ]
     },
     "metadata": {},
     "output_type": "display_data"
    },
    {
     "data": {
      "text/plain": [
       "     sepal_length  sepal_width  petal_length  petal_width    species\n",
       "0       -0.897674          3.5           1.4          0.2     setosa\n",
       "1       -1.139200          3.0           1.4          0.2     setosa\n",
       "2       -1.380727          3.2           1.3          0.2     setosa\n",
       "3       -1.501490          3.1           1.5          0.2     setosa\n",
       "4       -1.018437          3.6           1.4          0.2     setosa\n",
       "..            ...          ...           ...          ...        ...\n",
       "145      1.034539          3.0           5.2          2.3  virginica\n",
       "146      0.551486          2.5           5.0          1.9  virginica\n",
       "147      0.793012          3.0           5.2          2.0  virginica\n",
       "148      0.430722          3.4           5.4          2.3  virginica\n",
       "149      0.068433          3.0           5.1          1.8  virginica\n",
       "\n",
       "[150 rows x 5 columns]"
      ],
      "text/html": [
       "<div>\n",
       "<style scoped>\n",
       "    .dataframe tbody tr th:only-of-type {\n",
       "        vertical-align: middle;\n",
       "    }\n",
       "\n",
       "    .dataframe tbody tr th {\n",
       "        vertical-align: top;\n",
       "    }\n",
       "\n",
       "    .dataframe thead th {\n",
       "        text-align: right;\n",
       "    }\n",
       "</style>\n",
       "<table border=\"1\" class=\"dataframe\">\n",
       "  <thead>\n",
       "    <tr style=\"text-align: right;\">\n",
       "      <th></th>\n",
       "      <th>sepal_length</th>\n",
       "      <th>sepal_width</th>\n",
       "      <th>petal_length</th>\n",
       "      <th>petal_width</th>\n",
       "      <th>species</th>\n",
       "    </tr>\n",
       "  </thead>\n",
       "  <tbody>\n",
       "    <tr>\n",
       "      <th>0</th>\n",
       "      <td>-0.897674</td>\n",
       "      <td>3.5</td>\n",
       "      <td>1.4</td>\n",
       "      <td>0.2</td>\n",
       "      <td>setosa</td>\n",
       "    </tr>\n",
       "    <tr>\n",
       "      <th>1</th>\n",
       "      <td>-1.139200</td>\n",
       "      <td>3.0</td>\n",
       "      <td>1.4</td>\n",
       "      <td>0.2</td>\n",
       "      <td>setosa</td>\n",
       "    </tr>\n",
       "    <tr>\n",
       "      <th>2</th>\n",
       "      <td>-1.380727</td>\n",
       "      <td>3.2</td>\n",
       "      <td>1.3</td>\n",
       "      <td>0.2</td>\n",
       "      <td>setosa</td>\n",
       "    </tr>\n",
       "    <tr>\n",
       "      <th>3</th>\n",
       "      <td>-1.501490</td>\n",
       "      <td>3.1</td>\n",
       "      <td>1.5</td>\n",
       "      <td>0.2</td>\n",
       "      <td>setosa</td>\n",
       "    </tr>\n",
       "    <tr>\n",
       "      <th>4</th>\n",
       "      <td>-1.018437</td>\n",
       "      <td>3.6</td>\n",
       "      <td>1.4</td>\n",
       "      <td>0.2</td>\n",
       "      <td>setosa</td>\n",
       "    </tr>\n",
       "    <tr>\n",
       "      <th>...</th>\n",
       "      <td>...</td>\n",
       "      <td>...</td>\n",
       "      <td>...</td>\n",
       "      <td>...</td>\n",
       "      <td>...</td>\n",
       "    </tr>\n",
       "    <tr>\n",
       "      <th>145</th>\n",
       "      <td>1.034539</td>\n",
       "      <td>3.0</td>\n",
       "      <td>5.2</td>\n",
       "      <td>2.3</td>\n",
       "      <td>virginica</td>\n",
       "    </tr>\n",
       "    <tr>\n",
       "      <th>146</th>\n",
       "      <td>0.551486</td>\n",
       "      <td>2.5</td>\n",
       "      <td>5.0</td>\n",
       "      <td>1.9</td>\n",
       "      <td>virginica</td>\n",
       "    </tr>\n",
       "    <tr>\n",
       "      <th>147</th>\n",
       "      <td>0.793012</td>\n",
       "      <td>3.0</td>\n",
       "      <td>5.2</td>\n",
       "      <td>2.0</td>\n",
       "      <td>virginica</td>\n",
       "    </tr>\n",
       "    <tr>\n",
       "      <th>148</th>\n",
       "      <td>0.430722</td>\n",
       "      <td>3.4</td>\n",
       "      <td>5.4</td>\n",
       "      <td>2.3</td>\n",
       "      <td>virginica</td>\n",
       "    </tr>\n",
       "    <tr>\n",
       "      <th>149</th>\n",
       "      <td>0.068433</td>\n",
       "      <td>3.0</td>\n",
       "      <td>5.1</td>\n",
       "      <td>1.8</td>\n",
       "      <td>virginica</td>\n",
       "    </tr>\n",
       "  </tbody>\n",
       "</table>\n",
       "<p>150 rows × 5 columns</p>\n",
       "</div>"
      ]
     },
     "execution_count": 23,
     "metadata": {},
     "output_type": "execute_result"
    }
   ],
   "execution_count": 23
  },
  {
   "cell_type": "markdown",
   "id": "7163d9c5-356e-453d-bcee-de404fda1677",
   "metadata": {
    "deletable": false
   },
   "source": [
    "### Question 25: Linear regression (6 Points)\n",
    "\n",
    "Use scikit-learn to define and fit a linear regression model to the data. \n",
    "Use 40% of the data as test data. \n",
    "Report the r2 score that your (trained) model achieves on the test set. \n"
   ]
  },
  {
   "cell_type": "code",
   "id": "62979187-b9a0-4a06-bb3a-2da5a2a9645e",
   "metadata": {
    "deletable": false,
    "exercise_id": 25
   },
   "source": [
    "from sklearn.model_selection import train_test_split\n",
    "from sklearn.linear_model import LinearRegression\n",
    "from sklearn.metrics import r2_score\n",
    "\n",
    "data = pd.read_csv(\"regression_data.csv\")\n",
    "display(data.head())\n",
    "\n",
    "X = pd.DataFrame(data=(data['x1'], data['x2'], data['x3']))\n",
    "y = data['y']\n",
    "\n",
    "# X_train, X_test, y_train, y_test = train_test_split(X, y, test_size=0.4)\n",
    "model = ...\n",
    "...\n",
    "\n",
    "r2_score = ...\n",
    "print(f\"r2_score {r2_score}\")"
   ],
   "outputs": [],
   "execution_count": null
  },
  {
   "cell_type": "markdown",
   "id": "0dbc801c-e36b-43ce-aaf0-8fe26f974478",
   "metadata": {
    "deletable": false
   },
   "source": [
    "### Question 26: Grid search (6 Points)\n",
    "\n",
    "You want to train a `MLPClassifier` using scikit learn but are unsure about the parameters. \n",
    "Use a grid search over the following parameters and values:\n",
    "\n",
    "| Parameter | Values | \n",
    "| ----------|--------|\n",
    "| `hidden_layer_sizes`| 1 layer with 10 neurons, 2 layers with 5 neurons | \n",
    "| `activation`| tanh, relu | \n",
    "\n",
    "Use 10 fold crossvalidation to do the grid search ."
   ]
  },
  {
   "cell_type": "code",
   "id": "173cebb7-9c09-4569-b033-2cad601621d5",
   "metadata": {
    "deletable": false,
    "exercise_id": 26
   },
   "source": [
    "from sklearn.model_selection import GridSearchCV\n",
    "from sklearn.neural_network import MLPClassifier\n",
    "\n",
    "data = pd.read_csv(\"classification-data.csv\")\n",
    "display(data.head())\n",
    "\n",
    "X = ...\n",
    "y = data['y']\n",
    "\n",
    "# set up the parameter grid, etc\n",
    "cv = GridSearchCV(\n",
    "    param_grid={\n",
    "        'hidden_layer_sizes': (\n",
    "            (10,),\n",
    "            (5, 5)\n",
    "        ),\n",
    "        'activation': ('tanh', 'relu')\n",
    "    }\n",
    ")\n",
    "\n",
    "# perform the grid search\n",
    "gscv = ...\n",
    "...\n",
    "\n",
    "print(\"best parameters are\", gscv.best_params_)"
   ],
   "outputs": [],
   "execution_count": null
  },
  {
   "cell_type": "code",
   "id": "6cf68513-a765-40aa-9c74-cd7c1b5f4f25",
   "metadata": {},
   "source": [],
   "outputs": [],
   "execution_count": null
  }
 ],
 "metadata": {
  "celltoolbar": "Edit Metadata",
  "exercise_series": "pids",
  "kernelspec": {
   "display_name": "Python 3 (ipykernel)",
   "language": "python",
   "name": "python3"
  },
  "language_info": {
   "codemirror_mode": {
    "name": "ipython",
    "version": 3
   },
   "file_extension": ".py",
   "mimetype": "text/x-python",
   "name": "python",
   "nbconvert_exporter": "python",
   "pygments_lexer": "ipython3",
   "version": "3.9.7"
  },
  "notebook_id": 24050,
  "toc": {
   "base_numbering": 1,
   "nav_menu": {},
   "number_sections": false,
   "sideBar": false,
   "skip_h1_title": false,
   "title_cell": "Table of Contents",
   "title_sidebar": "Contents",
   "toc_cell": false,
   "toc_position": {},
   "toc_section_display": false,
   "toc_window_display": false
  }
 },
 "nbformat": 4,
 "nbformat_minor": 5
}
