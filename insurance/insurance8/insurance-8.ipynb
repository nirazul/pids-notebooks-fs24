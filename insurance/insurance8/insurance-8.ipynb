{
 "cells": [
  {
   "cell_type": "markdown",
   "id": "325c057d-8610-4467-9227-39932084e8db",
   "metadata": {},
   "source": [
    "# Exam Insurance - 7\n",
    "\n",
    "Time: 10 Minutes\n",
    "\n",
    "Please solve the following exercises. \n",
    "\n",
    "*You are not allowed to use any previously solved jupyter-notebooks or other external sources (such as google, own notes, chatgpt). Use the built-in help function instead.* "
   ]
  },
  {
   "cell_type": "code",
   "execution_count": 2,
   "id": "9091223e-3bf4-4c23-aef5-562e59214a58",
   "metadata": {},
   "outputs": [],
   "source": [
    "# Initialize Otter\n",
    "import otter\n",
    "grader = otter.Notebook(\"insurance-8.ipynb\")"
   ]
  },
  {
   "cell_type": "code",
   "execution_count": 22,
   "id": "b7bd7428-b3d6-450f-b316-112c0a934c0a",
   "metadata": {},
   "outputs": [],
   "source": [
    "import matplotlib.pyplot as plt\n",
    "import seaborn as sns\n",
    "import numpy as np\n",
    "import pandas as pd\n",
    "import scipy.stats"
   ]
  },
  {
   "cell_type": "markdown",
   "id": "f3e71d6a-5e63-4cb8-a023-4688c3a55b9d",
   "metadata": {},
   "source": [
    "### Question 0\n",
    "\n",
    "What is the number of the blackboard:"
   ]
  },
  {
   "cell_type": "code",
   "execution_count": 8,
   "id": "44e61305-f415-4f13-ac5c-f05ae360291f",
   "metadata": {},
   "outputs": [],
   "source": [
    "class Question0:\n",
    "    answer = ..."
   ]
  },
  {
   "cell_type": "markdown",
   "id": "79738235-9891-4098-86d3-980454162214",
   "metadata": {},
   "source": [
    "As in the exercise sheet, we are working with the Basel Neighborhood data. \n"
   ]
  },
  {
   "cell_type": "code",
   "execution_count": 9,
   "id": "de29a1a5-12d0-438d-9ae9-e8ef3830bf4b",
   "metadata": {},
   "outputs": [
    {
     "data": {
      "text/html": [
       "<div>\n",
       "<style scoped>\n",
       "    .dataframe tbody tr th:only-of-type {\n",
       "        vertical-align: middle;\n",
       "    }\n",
       "\n",
       "    .dataframe tbody tr th {\n",
       "        vertical-align: top;\n",
       "    }\n",
       "\n",
       "    .dataframe thead th {\n",
       "        text-align: right;\n",
       "    }\n",
       "</style>\n",
       "<table border=\"1\" class=\"dataframe\">\n",
       "  <thead>\n",
       "    <tr style=\"text-align: right;\">\n",
       "      <th></th>\n",
       "      <th>publikationsjahr</th>\n",
       "      <th>wohnviertel_id</th>\n",
       "      <th>wohnviertel_name</th>\n",
       "      <th>anteil_sozialhilfeempfaenger</th>\n",
       "      <th>anteil_auslaender</th>\n",
       "      <th>anteil_personen_ohne_religionszugehoerigkeit</th>\n",
       "      <th>anteil_personen_in_einpersonenhaushalten</th>\n",
       "      <th>gymnasialquote</th>\n",
       "      <th>altersquotient</th>\n",
       "      <th>anteil_sesshafte</th>\n",
       "      <th>...</th>\n",
       "      <th>baujahr_der_wohngebaeude</th>\n",
       "      <th>anteil_einfamilienhaeuser</th>\n",
       "      <th>anteil_gruenflaechen</th>\n",
       "      <th>flaeche_pro_wohnung</th>\n",
       "      <th>wohnflaeche_pro_person</th>\n",
       "      <th>vermoegenssteuer_pro_veranlagung</th>\n",
       "      <th>einkommenssteuer_pro_veranlagung</th>\n",
       "      <th>erwerbstaetigenquote</th>\n",
       "      <th>arbeitsplaetze_pro_einwohner</th>\n",
       "      <th>arbeitslosenquote</th>\n",
       "    </tr>\n",
       "  </thead>\n",
       "  <tbody>\n",
       "    <tr>\n",
       "      <th>0</th>\n",
       "      <td>2015</td>\n",
       "      <td>1</td>\n",
       "      <td>Altstadt Grossbasel</td>\n",
       "      <td>0.017115</td>\n",
       "      <td>0.251426</td>\n",
       "      <td>0.517930</td>\n",
       "      <td>0.324463</td>\n",
       "      <td>0.777778</td>\n",
       "      <td>0.297921</td>\n",
       "      <td>0.328851</td>\n",
       "      <td>...</td>\n",
       "      <td>1825.400406</td>\n",
       "      <td>0.101626</td>\n",
       "      <td>0.066693</td>\n",
       "      <td>90.808059</td>\n",
       "      <td>55.739958</td>\n",
       "      <td>4297.479726</td>\n",
       "      <td>15795.731129</td>\n",
       "      <td>0.824263</td>\n",
       "      <td>4.354447</td>\n",
       "      <td>0.019072</td>\n",
       "    </tr>\n",
       "    <tr>\n",
       "      <th>1</th>\n",
       "      <td>2015</td>\n",
       "      <td>2</td>\n",
       "      <td>Vorstädte</td>\n",
       "      <td>0.031635</td>\n",
       "      <td>0.353328</td>\n",
       "      <td>0.532251</td>\n",
       "      <td>0.345813</td>\n",
       "      <td>0.636364</td>\n",
       "      <td>0.374726</td>\n",
       "      <td>0.279170</td>\n",
       "      <td>...</td>\n",
       "      <td>1899.097967</td>\n",
       "      <td>0.075786</td>\n",
       "      <td>0.194198</td>\n",
       "      <td>81.803421</td>\n",
       "      <td>51.200218</td>\n",
       "      <td>4902.317140</td>\n",
       "      <td>14894.945946</td>\n",
       "      <td>0.779869</td>\n",
       "      <td>4.530718</td>\n",
       "      <td>0.023471</td>\n",
       "    </tr>\n",
       "    <tr>\n",
       "      <th>2</th>\n",
       "      <td>2015</td>\n",
       "      <td>7</td>\n",
       "      <td>Bruderholz</td>\n",
       "      <td>0.017662</td>\n",
       "      <td>0.229827</td>\n",
       "      <td>0.458660</td>\n",
       "      <td>0.166817</td>\n",
       "      <td>0.608108</td>\n",
       "      <td>0.442465</td>\n",
       "      <td>0.427310</td>\n",
       "      <td>...</td>\n",
       "      <td>1948.410577</td>\n",
       "      <td>0.734615</td>\n",
       "      <td>0.713769</td>\n",
       "      <td>109.383218</td>\n",
       "      <td>50.067809</td>\n",
       "      <td>8585.686671</td>\n",
       "      <td>18103.101406</td>\n",
       "      <td>0.752834</td>\n",
       "      <td>0.130144</td>\n",
       "      <td>0.023127</td>\n",
       "    </tr>\n",
       "    <tr>\n",
       "      <th>3</th>\n",
       "      <td>2015</td>\n",
       "      <td>8</td>\n",
       "      <td>Bachletten</td>\n",
       "      <td>0.022092</td>\n",
       "      <td>0.210320</td>\n",
       "      <td>0.455482</td>\n",
       "      <td>0.224974</td>\n",
       "      <td>0.609137</td>\n",
       "      <td>0.374629</td>\n",
       "      <td>0.421825</td>\n",
       "      <td>...</td>\n",
       "      <td>1934.025590</td>\n",
       "      <td>0.561775</td>\n",
       "      <td>0.408619</td>\n",
       "      <td>93.179580</td>\n",
       "      <td>47.396467</td>\n",
       "      <td>1632.650810</td>\n",
       "      <td>11363.577884</td>\n",
       "      <td>0.790006</td>\n",
       "      <td>0.190061</td>\n",
       "      <td>0.023636</td>\n",
       "    </tr>\n",
       "    <tr>\n",
       "      <th>4</th>\n",
       "      <td>2015</td>\n",
       "      <td>10</td>\n",
       "      <td>Iselin</td>\n",
       "      <td>0.089462</td>\n",
       "      <td>0.360277</td>\n",
       "      <td>0.445545</td>\n",
       "      <td>0.284152</td>\n",
       "      <td>0.262357</td>\n",
       "      <td>0.260469</td>\n",
       "      <td>0.331530</td>\n",
       "      <td>...</td>\n",
       "      <td>1937.165632</td>\n",
       "      <td>0.167702</td>\n",
       "      <td>0.375125</td>\n",
       "      <td>68.638626</td>\n",
       "      <td>37.648552</td>\n",
       "      <td>425.867934</td>\n",
       "      <td>6405.308048</td>\n",
       "      <td>0.701177</td>\n",
       "      <td>0.155020</td>\n",
       "      <td>0.042679</td>\n",
       "    </tr>\n",
       "  </tbody>\n",
       "</table>\n",
       "<p>5 rows × 21 columns</p>\n",
       "</div>"
      ],
      "text/plain": [
       "   publikationsjahr  wohnviertel_id     wohnviertel_name  \\\n",
       "0              2015               1  Altstadt Grossbasel   \n",
       "1              2015               2            Vorstädte   \n",
       "2              2015               7           Bruderholz   \n",
       "3              2015               8           Bachletten   \n",
       "4              2015              10               Iselin   \n",
       "\n",
       "   anteil_sozialhilfeempfaenger  anteil_auslaender  \\\n",
       "0                      0.017115           0.251426   \n",
       "1                      0.031635           0.353328   \n",
       "2                      0.017662           0.229827   \n",
       "3                      0.022092           0.210320   \n",
       "4                      0.089462           0.360277   \n",
       "\n",
       "   anteil_personen_ohne_religionszugehoerigkeit  \\\n",
       "0                                      0.517930   \n",
       "1                                      0.532251   \n",
       "2                                      0.458660   \n",
       "3                                      0.455482   \n",
       "4                                      0.445545   \n",
       "\n",
       "   anteil_personen_in_einpersonenhaushalten  gymnasialquote  altersquotient  \\\n",
       "0                                  0.324463        0.777778        0.297921   \n",
       "1                                  0.345813        0.636364        0.374726   \n",
       "2                                  0.166817        0.608108        0.442465   \n",
       "3                                  0.224974        0.609137        0.374629   \n",
       "4                                  0.284152        0.262357        0.260469   \n",
       "\n",
       "   anteil_sesshafte  ...  baujahr_der_wohngebaeude  anteil_einfamilienhaeuser  \\\n",
       "0          0.328851  ...               1825.400406                   0.101626   \n",
       "1          0.279170  ...               1899.097967                   0.075786   \n",
       "2          0.427310  ...               1948.410577                   0.734615   \n",
       "3          0.421825  ...               1934.025590                   0.561775   \n",
       "4          0.331530  ...               1937.165632                   0.167702   \n",
       "\n",
       "   anteil_gruenflaechen  flaeche_pro_wohnung  wohnflaeche_pro_person  \\\n",
       "0              0.066693            90.808059               55.739958   \n",
       "1              0.194198            81.803421               51.200218   \n",
       "2              0.713769           109.383218               50.067809   \n",
       "3              0.408619            93.179580               47.396467   \n",
       "4              0.375125            68.638626               37.648552   \n",
       "\n",
       "   vermoegenssteuer_pro_veranlagung  einkommenssteuer_pro_veranlagung  \\\n",
       "0                       4297.479726                      15795.731129   \n",
       "1                       4902.317140                      14894.945946   \n",
       "2                       8585.686671                      18103.101406   \n",
       "3                       1632.650810                      11363.577884   \n",
       "4                        425.867934                       6405.308048   \n",
       "\n",
       "   erwerbstaetigenquote  arbeitsplaetze_pro_einwohner  arbeitslosenquote  \n",
       "0              0.824263                      4.354447           0.019072  \n",
       "1              0.779869                      4.530718           0.023471  \n",
       "2              0.752834                      0.130144           0.023127  \n",
       "3              0.790006                      0.190061           0.023636  \n",
       "4              0.701177                      0.155020           0.042679  \n",
       "\n",
       "[5 rows x 21 columns]"
      ]
     },
     "execution_count": 9,
     "metadata": {},
     "output_type": "execute_result"
    }
   ],
   "source": [
    "bs = pd.read_csv(\"basel_neighborhoods.csv\", sep=\";\")\n",
    "bs.head()"
   ]
  },
  {
   "cell_type": "markdown",
   "id": "3a74b284-1269-4b19-a227-e57b72205ba0",
   "metadata": {},
   "source": [
    "## Question 1\n",
    "\n",
    "Compute the correlation coefficient between \"anteil_auslaender\" (fraction of foreigners) and \n",
    "\"anteil_personen_ohne_religionszugehoerigkeit\" (fraction of people not identifying as religious). "
   ]
  },
  {
   "cell_type": "code",
   "execution_count": 40,
   "id": "67e8124e-a520-4f19-8e28-ce433f08bcfc",
   "metadata": {},
   "outputs": [
    {
     "name": "stdout",
     "output_type": "stream",
     "text": [
      "correlation =  Ellipsis\n"
     ]
    }
   ],
   "source": [
    "from scipy import stats as stats\n",
    "\n",
    "class Question1:\n",
    "    corr = ...\n",
    "    print(\"correlation = \", corr)"
   ]
  },
  {
   "cell_type": "code",
   "execution_count": 33,
   "id": "be034364-82cc-43bd-a5cd-24b70166ef21",
   "metadata": {},
   "outputs": [
    {
     "data": {
      "text/html": [
       "<p><strong><pre style='display: inline;'>Question 1</pre></strong> passed! 🌟</p>"
      ],
      "text/plain": [
       "Question 1 results: All test cases passed!"
      ]
     },
     "execution_count": 33,
     "metadata": {},
     "output_type": "execute_result"
    }
   ],
   "source": [
    "grader.check(\"Question 1\")"
   ]
  },
  {
   "cell_type": "markdown",
   "id": "e7543b52-9f04-4590-9ddc-e72a8620fa59",
   "metadata": {},
   "source": [
    "## Question 2\n",
    "\n",
    "Compute the mean and standard deviation of the \"anteil_auslaender\" in the \"publikationsjahr\" 2015."
   ]
  },
  {
   "cell_type": "code",
   "execution_count": 41,
   "id": "c5bb1142-583f-4100-92c2-4d25aa6ca70d",
   "metadata": {},
   "outputs": [
    {
     "name": "stdout",
     "output_type": "stream",
     "text": [
      "mean Ellipsis, standard dev Ellipsis\n"
     ]
    }
   ],
   "source": [
    "class Question2:\n",
    "    ...\n",
    "    mean_fraction_foreigners = ...\n",
    "    stddev_fraction_foreigners = ...\n",
    "    print(f\"mean {mean_fraction_foreigners}, standard dev {stddev_fraction_foreigners}\")        "
   ]
  },
  {
   "cell_type": "code",
   "execution_count": 37,
   "id": "11ace156-031a-4a51-85fb-cb343350694e",
   "metadata": {},
   "outputs": [
    {
     "data": {
      "text/html": [
       "<p><strong><pre style='display: inline;'>Question 2</pre></strong> passed! 💯</p>"
      ],
      "text/plain": [
       "Question 2 results: All test cases passed!"
      ]
     },
     "execution_count": 37,
     "metadata": {},
     "output_type": "execute_result"
    }
   ],
   "source": [
    "grader.check(\"Question 2\")"
   ]
  },
  {
   "cell_type": "markdown",
   "id": "e13bdf55-396e-411e-8d7c-c72e3fdfa556",
   "metadata": {},
   "source": [
    "## Question 3\n",
    "\n",
    "Compute the probability $P(X - 0.5 > 1.5)$, assuming $X$ follows a standard normal distribution.  "
   ]
  },
  {
   "cell_type": "code",
   "execution_count": 42,
   "id": "e91c4af3-b7dc-4d72-89fa-8f177f05bba1",
   "metadata": {},
   "outputs": [
    {
     "name": "stdout",
     "output_type": "stream",
     "text": [
      "Ellipsis\n"
     ]
    }
   ],
   "source": [
    "class Question3:\n",
    "    ...\n",
    "    p_value = ...\n",
    "    print(p_value)"
   ]
  },
  {
   "cell_type": "code",
   "execution_count": 43,
   "id": "6ce6adf5-5996-45df-9c8d-4f1d3a6601b9",
   "metadata": {},
   "outputs": [
    {
     "data": {
      "text/html": [
       "<p><strong style='color: red;'><pre style='display: inline;'>Question 3</pre> results:</strong></p><p><strong><pre style='display: inline;'>Question 3 - 1</pre> result:</strong></p><pre>    ❌ Test case failed\n",
       "    Error at line 15 in test Question 3:\n",
       "          assert_true(lb < p_value < ub)\n",
       "    TypeError: <' not supported between instances of 'float' and 'ellipsis</pre>"
      ],
      "text/plain": [
       "Question 3 results:\n",
       "    Question 3 - 1 result:\n",
       "        ❌ Test case failed\n",
       "        Error at line 15 in test Question 3:\n",
       "              assert_true(lb < p_value < ub)\n",
       "        TypeError: <' not supported between instances of 'float' and 'ellipsis"
      ]
     },
     "execution_count": 43,
     "metadata": {},
     "output_type": "execute_result"
    }
   ],
   "source": [
    "grader.check(\"Question 3\")"
   ]
  }
 ],
 "metadata": {
  "kernelspec": {
   "display_name": "Python 3 (ipykernel)",
   "language": "python",
   "name": "python3"
  },
  "language_info": {
   "codemirror_mode": {
    "name": "ipython",
    "version": 3
   },
   "file_extension": ".py",
   "mimetype": "text/x-python",
   "name": "python",
   "nbconvert_exporter": "python",
   "pygments_lexer": "ipython3",
   "version": "3.12.3"
  }
 },
 "nbformat": 4,
 "nbformat_minor": 5
}
