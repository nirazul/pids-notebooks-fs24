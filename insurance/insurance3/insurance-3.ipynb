{
 "cells": [
  {
   "cell_type": "markdown",
   "id": "4b164d23",
   "metadata": {},
   "source": [
    "# Exam Insurance - 3\n",
    "\n",
    "Time: 10 Minutes\n",
    "\n",
    "Please solve the following exercises. \n",
    "\n",
    "*You are not allowed to use any previously solved jupyter-notebooks or other external sources (such as google, own notes, chatgpt). Use the built-in help function instead.* "
   ]
  },
  {
   "cell_type": "code",
   "execution_count": null,
   "id": "602aa54e",
   "metadata": {},
   "outputs": [],
   "source": [
    "# Initialize Otter\n",
    "import otter\n",
    "grader = otter.Notebook(\"insurance-3.ipynb\")"
   ]
  },
  {
   "cell_type": "code",
   "execution_count": null,
   "id": "26aa3d68",
   "metadata": {},
   "outputs": [],
   "source": [
    "import pandas as pd\n",
    "import matplotlib.pyplot as plt\n",
    "import json\n",
    "import seaborn as sns"
   ]
  },
  {
   "cell_type": "markdown",
   "id": "713c14c8",
   "metadata": {},
   "source": [
    "We will work with the famous iris flower dataset, which we load next. "
   ]
  },
  {
   "cell_type": "code",
   "execution_count": null,
   "id": "18ff6444",
   "metadata": {},
   "outputs": [],
   "source": [
    "iris = sns.load_dataset(\"iris\")\n",
    "iris.head()"
   ]
  },
  {
   "cell_type": "markdown",
   "id": "6600a842",
   "metadata": {},
   "source": [
    "### Question 0: Attendence\n",
    "\n",
    "Write down the number on the black board."
   ]
  },
  {
   "cell_type": "code",
   "execution_count": null,
   "id": "1d86893b",
   "metadata": {},
   "outputs": [],
   "source": [
    "class Question0:\n",
    "    answer = ..."
   ]
  },
  {
   "cell_type": "markdown",
   "id": "f3d32c85",
   "metadata": {},
   "source": [
    "### Question 1\n",
    "\n",
    "Use pandas plot function to create a scatterplot between `petal_width` (x-axis) and `petal_length` (y-axis)."
   ]
  },
  {
   "cell_type": "code",
   "execution_count": null,
   "id": "049d1b63",
   "metadata": {},
   "outputs": [],
   "source": [
    "class Question1:\n",
    "    plot = ..."
   ]
  },
  {
   "cell_type": "code",
   "execution_count": null,
   "id": "02a8e3f1",
   "metadata": {},
   "outputs": [],
   "source": [
    "grader.check(\"Question 1\")"
   ]
  },
  {
   "cell_type": "markdown",
   "id": "23de84b9",
   "metadata": {},
   "source": [
    "### Question 2\n",
    "\n",
    "Plot a histogram of `sepal_length` and one of `petal_length`. Use 15 bins for the histograms. \n",
    "Plot the first into the figure given by `axs[0]` and the second in `axs[1]`. "
   ]
  },
  {
   "cell_type": "code",
   "execution_count": null,
   "id": "c37eba4b",
   "metadata": {
    "scrolled": false
   },
   "outputs": [],
   "source": [
    "class Question2:\n",
    "    fig, axs = plt.subplots(2,1)\n",
    "    ..."
   ]
  },
  {
   "cell_type": "code",
   "execution_count": null,
   "id": "52a708db",
   "metadata": {},
   "outputs": [],
   "source": [
    "grader.check(\"Question 2\")"
   ]
  },
  {
   "cell_type": "markdown",
   "id": "ec0da959",
   "metadata": {},
   "source": [
    "### Question 3\n",
    "\n",
    "Use `groupby` to group the iris data by `species` and use pandas plot facilities for creating a horizontal bar plot which compares the `sepal_length` for each group."
   ]
  },
  {
   "cell_type": "code",
   "execution_count": null,
   "id": "658a7a6c",
   "metadata": {},
   "outputs": [],
   "source": [
    "class Question3:\n",
    "    plot = ..."
   ]
  },
  {
   "cell_type": "code",
   "execution_count": null,
   "id": "920f0664",
   "metadata": {},
   "outputs": [],
   "source": [
    "grader.check(\"Question 3\")"
   ]
  }
 ],
 "metadata": {
  "kernelspec": {
   "display_name": "Python 3 (ipykernel)",
   "language": "python",
   "name": "conda-env-pids_2023-py"
  },
  "language_info": {
   "codemirror_mode": {
    "name": "ipython",
    "version": 3
   },
   "file_extension": ".py",
   "mimetype": "text/x-python",
   "name": "python",
   "nbconvert_exporter": "python",
   "pygments_lexer": "ipython3",
   "version": "3.10.11"
  }
 },
 "nbformat": 4,
 "nbformat_minor": 5
}
