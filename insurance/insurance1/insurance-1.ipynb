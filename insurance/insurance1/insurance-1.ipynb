{
 "cells": [
  {
   "cell_type": "markdown",
   "id": "6c95afba",
   "metadata": {},
   "source": [
    "# Exam Insurance - 1 \n",
    "\n",
    "Time: 15 Minutes\n",
    "\n",
    "Please solve the following exercises. "
   ]
  },
  {
   "cell_type": "code",
   "execution_count": null,
   "id": "43dc9f54",
   "metadata": {},
   "outputs": [],
   "source": [
    "# Initialize Otter\n",
    "import otter\n",
    "grader = otter.Notebook(\"insurance-1.ipynb\")"
   ]
  },
  {
   "cell_type": "code",
   "execution_count": null,
   "id": "857f19f2",
   "metadata": {},
   "outputs": [],
   "source": [
    "import pandas as pd"
   ]
  },
  {
   "cell_type": "markdown",
   "id": "3209e90e",
   "metadata": {},
   "source": [
    "### Question 1\n",
    "\n"
   ]
  },
  {
   "cell_type": "markdown",
   "id": "c2632f7b",
   "metadata": {},
   "source": [
    "Implement the function `count_num_negative`, which takes a list of numbers and returns how many element in the list are negative. "
   ]
  },
  {
   "cell_type": "code",
   "execution_count": null,
   "id": "cbfbb8f1",
   "metadata": {},
   "outputs": [],
   "source": [
    "class Question1:\n",
    "    \n",
    "    @staticmethod\n",
    "    def count_num_negative(numbers):\n",
    "        \n",
    "        # your code \n",
    "        \n",
    "        return ... # your answer\n",
    "    \n",
    "# Example call\n",
    "Question1.count_num_negative([1, -3, 2])   "
   ]
  },
  {
   "cell_type": "markdown",
   "id": "2fcb40ef",
   "metadata": {},
   "source": [
    "Check your answer:"
   ]
  },
  {
   "cell_type": "code",
   "execution_count": null,
   "id": "448dd40f",
   "metadata": {},
   "outputs": [],
   "source": [
    "grader.check(\"Question 1\")"
   ]
  },
  {
   "cell_type": "markdown",
   "id": "83fc33e0",
   "metadata": {},
   "source": [
    "### Exercise 2\n",
    "\n"
   ]
  },
  {
   "cell_type": "markdown",
   "id": "9f32eb50",
   "metadata": {},
   "source": [
    "Execute the following cell to read the pew dataset. Assign the highest value in the column `frequency` to the variable `max_frequency`. "
   ]
  },
  {
   "cell_type": "code",
   "execution_count": null,
   "id": "c21b885d",
   "metadata": {},
   "outputs": [],
   "source": [
    "import pandas as pd\n",
    "pew = pd.read_csv(\"pew-tidy.csv\")\n",
    "pew.head(10)"
   ]
  },
  {
   "cell_type": "code",
   "execution_count": null,
   "id": "0343d3f0",
   "metadata": {},
   "outputs": [],
   "source": [
    "class Question2:\n",
    "    \n",
    "    max_frequency = ... # Your answer\n",
    "    \n",
    "    print(max_frequency)"
   ]
  },
  {
   "cell_type": "code",
   "execution_count": null,
   "id": "8ea6fb42",
   "metadata": {},
   "outputs": [],
   "source": [
    "grader.check(\"Question 2\")"
   ]
  },
  {
   "cell_type": "markdown",
   "id": "64c080dc",
   "metadata": {},
   "source": [
    "### Question 3\n",
    "\n",
    "Extract all the rows from above dataset for which the religion is `Catholic`"
   ]
  },
  {
   "cell_type": "code",
   "execution_count": null,
   "id": "5c2470da",
   "metadata": {},
   "outputs": [],
   "source": [
    "class Question3:\n",
    "    \n",
    "    pew_catholic = ...  # your answer\n",
    "    \n",
    "    display(pew_catholic)"
   ]
  },
  {
   "cell_type": "code",
   "execution_count": null,
   "id": "fbe82c94",
   "metadata": {},
   "outputs": [],
   "source": [
    "grader.check(\"Question 3\")"
   ]
  }
 ],
 "metadata": {
  "kernelspec": {
   "display_name": "Python [conda env:pids_2023]",
   "language": "python",
   "name": "conda-env-pids_2023-py"
  },
  "language_info": {
   "codemirror_mode": {
    "name": "ipython",
    "version": 3
   },
   "file_extension": ".py",
   "mimetype": "text/x-python",
   "name": "python",
   "nbconvert_exporter": "python",
   "pygments_lexer": "ipython3",
   "version": "3.11.0"
  }
 },
 "nbformat": 4,
 "nbformat_minor": 5
}
