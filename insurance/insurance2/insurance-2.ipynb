{
 "cells": [
  {
   "cell_type": "markdown",
   "id": "6c95afba",
   "metadata": {},
   "source": [
    "# Exam Insurance - 2 \n",
    "\n",
    "Time: 10 Minutes\n",
    "\n",
    "Please solve the following exercises. "
   ]
  },
  {
   "cell_type": "code",
   "execution_count": 1,
   "id": "43dc9f54",
   "metadata": {},
   "outputs": [],
   "source": [
    "# Initialize Otter\n",
    "import otter\n",
    "grader = otter.Notebook(\"insurance-2.ipynb\")"
   ]
  },
  {
   "cell_type": "code",
   "execution_count": 2,
   "id": "857f19f2",
   "metadata": {},
   "outputs": [],
   "source": [
    "import pandas as pd"
   ]
  },
  {
   "cell_type": "markdown",
   "id": "8df8edd1",
   "metadata": {},
   "source": [
    "### Question 0: Attendence\n",
    "\n",
    "Write down the number on the black board."
   ]
  },
  {
   "cell_type": "code",
   "execution_count": 3,
   "id": "63dc20d5",
   "metadata": {},
   "outputs": [],
   "source": [
    "class Question0:\n",
    "    answer = ..."
   ]
  },
  {
   "cell_type": "markdown",
   "id": "3209e90e",
   "metadata": {},
   "source": [
    "### Question 1\n",
    "\n"
   ]
  },
  {
   "cell_type": "markdown",
   "id": "c2632f7b",
   "metadata": {},
   "source": [
    "The following dataset is not tidy. Please make it tidy by melting it. It should have a new column *subject* and a new column *score*.  "
   ]
  },
  {
   "cell_type": "code",
   "execution_count": 4,
   "id": "812b1bc3",
   "metadata": {},
   "outputs": [
    {
     "data": {
      "text/html": [
       "<div>\n",
       "<style scoped>\n",
       "    .dataframe tbody tr th:only-of-type {\n",
       "        vertical-align: middle;\n",
       "    }\n",
       "\n",
       "    .dataframe tbody tr th {\n",
       "        vertical-align: top;\n",
       "    }\n",
       "\n",
       "    .dataframe thead th {\n",
       "        text-align: right;\n",
       "    }\n",
       "</style>\n",
       "<table border=\"1\" class=\"dataframe\">\n",
       "  <thead>\n",
       "    <tr style=\"text-align: right;\">\n",
       "      <th></th>\n",
       "      <th>Student_ID</th>\n",
       "      <th>Name</th>\n",
       "      <th>Math</th>\n",
       "      <th>Science</th>\n",
       "      <th>English</th>\n",
       "    </tr>\n",
       "  </thead>\n",
       "  <tbody>\n",
       "    <tr>\n",
       "      <th>0</th>\n",
       "      <td>S001</td>\n",
       "      <td>Alex</td>\n",
       "      <td>88</td>\n",
       "      <td>84</td>\n",
       "      <td>90</td>\n",
       "    </tr>\n",
       "    <tr>\n",
       "      <th>1</th>\n",
       "      <td>S002</td>\n",
       "      <td>Bryan</td>\n",
       "      <td>72</td>\n",
       "      <td>76</td>\n",
       "      <td>82</td>\n",
       "    </tr>\n",
       "    <tr>\n",
       "      <th>2</th>\n",
       "      <td>S003</td>\n",
       "      <td>Cathy</td>\n",
       "      <td>94</td>\n",
       "      <td>88</td>\n",
       "      <td>95</td>\n",
       "    </tr>\n",
       "    <tr>\n",
       "      <th>3</th>\n",
       "      <td>S004</td>\n",
       "      <td>Diana</td>\n",
       "      <td>89</td>\n",
       "      <td>92</td>\n",
       "      <td>88</td>\n",
       "    </tr>\n",
       "  </tbody>\n",
       "</table>\n",
       "</div>"
      ],
      "text/plain": [
       "  Student_ID   Name  Math  Science  English\n",
       "0       S001   Alex    88       84       90\n",
       "1       S002  Bryan    72       76       82\n",
       "2       S003  Cathy    94       88       95\n",
       "3       S004  Diana    89       92       88"
      ]
     },
     "metadata": {},
     "output_type": "display_data"
    }
   ],
   "source": [
    "data = {\n",
    "    'Student_ID': ['S001', 'S002', 'S003', 'S004'],\n",
    "    'Name': ['Alex', 'Bryan', 'Cathy', 'Diana'],\n",
    "    'Math': [88, 72, 94, 89],\n",
    "    'Science': [84, 76, 88, 92],\n",
    "    'English': [90, 82, 95, 88]\n",
    "}\n",
    "\n",
    "grades = pd.DataFrame(data)\n",
    "display(grades)"
   ]
  },
  {
   "cell_type": "code",
   "execution_count": 8,
   "id": "cbfbb8f1",
   "metadata": {},
   "outputs": [
    {
     "data": {
      "text/html": [
       "<div>\n",
       "<style scoped>\n",
       "    .dataframe tbody tr th:only-of-type {\n",
       "        vertical-align: middle;\n",
       "    }\n",
       "\n",
       "    .dataframe tbody tr th {\n",
       "        vertical-align: top;\n",
       "    }\n",
       "\n",
       "    .dataframe thead th {\n",
       "        text-align: right;\n",
       "    }\n",
       "</style>\n",
       "<table border=\"1\" class=\"dataframe\">\n",
       "  <thead>\n",
       "    <tr style=\"text-align: right;\">\n",
       "      <th></th>\n",
       "      <th>Student_ID</th>\n",
       "      <th>Name</th>\n",
       "      <th>Subject</th>\n",
       "      <th>Score</th>\n",
       "    </tr>\n",
       "  </thead>\n",
       "  <tbody>\n",
       "    <tr>\n",
       "      <th>0</th>\n",
       "      <td>S001</td>\n",
       "      <td>Alex</td>\n",
       "      <td>Math</td>\n",
       "      <td>88</td>\n",
       "    </tr>\n",
       "    <tr>\n",
       "      <th>1</th>\n",
       "      <td>S002</td>\n",
       "      <td>Bryan</td>\n",
       "      <td>Math</td>\n",
       "      <td>72</td>\n",
       "    </tr>\n",
       "    <tr>\n",
       "      <th>2</th>\n",
       "      <td>S003</td>\n",
       "      <td>Cathy</td>\n",
       "      <td>Math</td>\n",
       "      <td>94</td>\n",
       "    </tr>\n",
       "    <tr>\n",
       "      <th>3</th>\n",
       "      <td>S004</td>\n",
       "      <td>Diana</td>\n",
       "      <td>Math</td>\n",
       "      <td>89</td>\n",
       "    </tr>\n",
       "    <tr>\n",
       "      <th>4</th>\n",
       "      <td>S001</td>\n",
       "      <td>Alex</td>\n",
       "      <td>Science</td>\n",
       "      <td>84</td>\n",
       "    </tr>\n",
       "    <tr>\n",
       "      <th>5</th>\n",
       "      <td>S002</td>\n",
       "      <td>Bryan</td>\n",
       "      <td>Science</td>\n",
       "      <td>76</td>\n",
       "    </tr>\n",
       "    <tr>\n",
       "      <th>6</th>\n",
       "      <td>S003</td>\n",
       "      <td>Cathy</td>\n",
       "      <td>Science</td>\n",
       "      <td>88</td>\n",
       "    </tr>\n",
       "    <tr>\n",
       "      <th>7</th>\n",
       "      <td>S004</td>\n",
       "      <td>Diana</td>\n",
       "      <td>Science</td>\n",
       "      <td>92</td>\n",
       "    </tr>\n",
       "    <tr>\n",
       "      <th>8</th>\n",
       "      <td>S001</td>\n",
       "      <td>Alex</td>\n",
       "      <td>English</td>\n",
       "      <td>90</td>\n",
       "    </tr>\n",
       "    <tr>\n",
       "      <th>9</th>\n",
       "      <td>S002</td>\n",
       "      <td>Bryan</td>\n",
       "      <td>English</td>\n",
       "      <td>82</td>\n",
       "    </tr>\n",
       "    <tr>\n",
       "      <th>10</th>\n",
       "      <td>S003</td>\n",
       "      <td>Cathy</td>\n",
       "      <td>English</td>\n",
       "      <td>95</td>\n",
       "    </tr>\n",
       "    <tr>\n",
       "      <th>11</th>\n",
       "      <td>S004</td>\n",
       "      <td>Diana</td>\n",
       "      <td>English</td>\n",
       "      <td>88</td>\n",
       "    </tr>\n",
       "  </tbody>\n",
       "</table>\n",
       "</div>"
      ],
      "text/plain": [
       "   Student_ID   Name  Subject  Score\n",
       "0        S001   Alex     Math     88\n",
       "1        S002  Bryan     Math     72\n",
       "2        S003  Cathy     Math     94\n",
       "3        S004  Diana     Math     89\n",
       "4        S001   Alex  Science     84\n",
       "5        S002  Bryan  Science     76\n",
       "6        S003  Cathy  Science     88\n",
       "7        S004  Diana  Science     92\n",
       "8        S001   Alex  English     90\n",
       "9        S002  Bryan  English     82\n",
       "10       S003  Cathy  English     95\n",
       "11       S004  Diana  English     88"
      ]
     },
     "metadata": {},
     "output_type": "display_data"
    }
   ],
   "source": [
    "class Question1:\n",
    "    \n",
    "    grades_tidy = ...\n",
    "    display(grades_tidy)"
   ]
  },
  {
   "cell_type": "markdown",
   "id": "2fcb40ef",
   "metadata": {},
   "source": [
    "Check your answer:"
   ]
  },
  {
   "cell_type": "code",
   "execution_count": 9,
   "id": "448dd40f",
   "metadata": {},
   "outputs": [
    {
     "data": {
      "text/html": [
       "<p><strong><pre style='display: inline;'>Question 1</pre></strong> passed! 🙌</p>"
      ],
      "text/plain": [
       "Question 1 results: All test cases passed!"
      ]
     },
     "execution_count": 9,
     "metadata": {},
     "output_type": "execute_result"
    }
   ],
   "source": [
    "grader.check(\"Question 1\")"
   ]
  },
  {
   "cell_type": "markdown",
   "id": "83fc33e0",
   "metadata": {},
   "source": [
    "### Question 2\n",
    "\n"
   ]
  },
  {
   "cell_type": "markdown",
   "id": "9f32eb50",
   "metadata": {},
   "source": [
    "Sort the values in the following dataframe according to descending temperatures."
   ]
  },
  {
   "cell_type": "code",
   "execution_count": null,
   "id": "c21b885d",
   "metadata": {},
   "outputs": [],
   "source": [
    "# Creating a DataFrame\n",
    "data = {\n",
    "    'Date': ['2023-03-05', '2023-03-03', '2023-03-04', '2023-03-05', '2023-03-03', '2023-03-04', '2023-03-02', '2023-03-01', '2023-03-02', '2023-03-01', '2023-03-05', '2023-03-03', '2023-03-04', '2023-03-02', '2023-03-01'],\n",
    "    'City': ['New York', 'New York', 'New York', 'Los Angeles', 'Los Angeles', 'Los Angeles', 'Los Angeles', 'Los Angeles', 'New York', 'New York', 'Chicago', 'Chicago', 'Chicago', 'Chicago', 'Chicago'],\n",
    "    'Temperature': [12, 10, 11, 19, 18, 20, 17, 16, 9, 8, 5, 7, 6, 4, 3]\n",
    "}\n",
    "\n",
    "temperatures = pd.DataFrame(data)\n",
    "display(temperatures)\n"
   ]
  },
  {
   "cell_type": "code",
   "execution_count": null,
   "id": "0343d3f0",
   "metadata": {},
   "outputs": [],
   "source": [
    "class Question2:\n",
    "    \n",
    "    temperatures_sorted = ... # your answer\n",
    "    display(temperatures_sorted)"
   ]
  },
  {
   "cell_type": "code",
   "execution_count": null,
   "id": "8ea6fb42",
   "metadata": {},
   "outputs": [],
   "source": [
    "grader.check(\"Question 2\")"
   ]
  },
  {
   "cell_type": "markdown",
   "id": "64c080dc",
   "metadata": {},
   "source": [
    "### Question 3\n",
    "\n",
    "Create a new dataframe `cold_temperatures`, which contains only the rows, where the temperature is below 15 degrees. "
   ]
  },
  {
   "cell_type": "code",
   "execution_count": null,
   "id": "5c2470da",
   "metadata": {},
   "outputs": [],
   "source": [
    "class Question3:\n",
    "    \n",
    "    cold_temperatures = ...  # your answer\n",
    "    display(cold_temperatures)"
   ]
  },
  {
   "cell_type": "code",
   "execution_count": null,
   "id": "fbe82c94",
   "metadata": {},
   "outputs": [],
   "source": [
    "grader.check(\"Question 3\")"
   ]
  },
  {
   "cell_type": "code",
   "execution_count": null,
   "id": "242e095c",
   "metadata": {},
   "outputs": [],
   "source": []
  }
 ],
 "metadata": {
  "kernelspec": {
   "display_name": "Python [conda env:pids_2023]",
   "language": "python",
   "name": "conda-env-pids_2023-py"
  },
  "language_info": {
   "codemirror_mode": {
    "name": "ipython",
    "version": 3
   },
   "file_extension": ".py",
   "mimetype": "text/x-python",
   "name": "python",
   "nbconvert_exporter": "python",
   "pygments_lexer": "ipython3",
   "version": "3.11.0"
  }
 },
 "nbformat": 4,
 "nbformat_minor": 5
}
