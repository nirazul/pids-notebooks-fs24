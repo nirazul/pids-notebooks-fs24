{
 "cells": [
  {
   "cell_type": "markdown",
   "id": "325c057d-8610-4467-9227-39932084e8db",
   "metadata": {},
   "source": [
    "# Exam Insurance - 6\n",
    "\n",
    "Time: 10 Minutes\n",
    "\n",
    "Please solve the following exercises. \n",
    "\n",
    "*You are not allowed to use any previously solved jupyter-notebooks or other external sources (such as google, own notes, chatgpt). Use the built-in help function instead.* "
   ]
  },
  {
   "cell_type": "code",
   "execution_count": null,
   "id": "9091223e-3bf4-4c23-aef5-562e59214a58",
   "metadata": {},
   "outputs": [],
   "source": [
    "# Initialize Otter\n",
    "import otter\n",
    "grader = otter.Notebook(\"insurance-6.ipynb\")"
   ]
  },
  {
   "cell_type": "code",
   "execution_count": null,
   "id": "b7bd7428-b3d6-450f-b316-112c0a934c0a",
   "metadata": {},
   "outputs": [],
   "source": [
    "import matplotlib.pyplot as plt\n",
    "import seaborn as sns\n",
    "import numpy as np"
   ]
  },
  {
   "cell_type": "markdown",
   "id": "f3e71d6a-5e63-4cb8-a023-4688c3a55b9d",
   "metadata": {},
   "source": [
    "### Question 0\n",
    "\n",
    "What is the number of the blackboard:"
   ]
  },
  {
   "cell_type": "code",
   "execution_count": null,
   "id": "44e61305-f415-4f13-ac5c-f05ae360291f",
   "metadata": {},
   "outputs": [],
   "source": [
    "class Question0:\n",
    "    answer = ..."
   ]
  },
  {
   "cell_type": "markdown",
   "id": "3a74b284-1269-4b19-a227-e57b72205ba0",
   "metadata": {},
   "source": [
    "## Question 1\n",
    "\n",
    "Use the scipy library to define a Binomial distribution with $n = 10$ and $p = 0.1$  (you can use `stats.binom`)\n",
    "Sample $N=1000$ random values from it."
   ]
  },
  {
   "cell_type": "code",
   "execution_count": null,
   "id": "67e8124e-a520-4f19-8e28-ce433f08bcfc",
   "metadata": {},
   "outputs": [],
   "source": [
    "from scipy import stats as stats\n",
    "\n",
    "class Question1:\n",
    "    N = 1000\n",
    "    bin_dist = ... # define the distribution\n",
    "    samples = ... # 1000 samples from the distribution"
   ]
  },
  {
   "cell_type": "code",
   "execution_count": null,
   "id": "be034364-82cc-43bd-a5cd-24b70166ef21",
   "metadata": {},
   "outputs": [],
   "source": [
    "grader.check(\"Question 1\")"
   ]
  },
  {
   "cell_type": "markdown",
   "id": "e7543b52-9f04-4590-9ddc-e72a8620fa59",
   "metadata": {},
   "source": [
    "## Question 2\n",
    "\n",
    "The variable `samples` contains a thousand samples from a Normal distribution with mean $\\mu = 1$ and $\\sigma = 1$. \n",
    "Estimate the mean from the samples and compute the absolute error to the true mean.  "
   ]
  },
  {
   "cell_type": "code",
   "execution_count": null,
   "id": "c5bb1142-583f-4100-92c2-4d25aa6ca70d",
   "metadata": {},
   "outputs": [],
   "source": [
    "class Question2:\n",
    "    samples = np.random.normal(1, 1, size=1000)\n",
    "    mean_est = ...\n",
    "    abs_err = ..."
   ]
  },
  {
   "cell_type": "code",
   "execution_count": null,
   "id": "11ace156-031a-4a51-85fb-cb343350694e",
   "metadata": {},
   "outputs": [],
   "source": [
    "grader.check(\"Question 2\")"
   ]
  },
  {
   "cell_type": "markdown",
   "id": "e13bdf55-396e-411e-8d7c-c72e3fdfa556",
   "metadata": {},
   "source": [
    "## Question 3\n",
    "\n",
    "Use a matplotlib to create a histogram of the given samples in the variable `samples`. Make sure that the histogram represents the density. Use 15 bins. "
   ]
  },
  {
   "cell_type": "code",
   "execution_count": null,
   "id": "e91c4af3-b7dc-4d72-89fa-8f177f05bba1",
   "metadata": {},
   "outputs": [],
   "source": [
    "class Question3:\n",
    "    samples = np.random.normal(1, 1, size=1000)\n",
    "    density_plot = ..."
   ]
  },
  {
   "cell_type": "code",
   "execution_count": null,
   "id": "6ce6adf5-5996-45df-9c8d-4f1d3a6601b9",
   "metadata": {},
   "outputs": [],
   "source": [
    "grader.check(\"Question 3\")"
   ]
  },
  {
   "cell_type": "code",
   "execution_count": null,
   "id": "26a9f895-6021-4057-a598-735f24092253",
   "metadata": {},
   "outputs": [],
   "source": []
  }
 ],
 "metadata": {
  "kernelspec": {
   "display_name": "Python 3 (ipykernel)",
   "language": "python",
   "name": "conda-env-pids_2023-py"
  },
  "language_info": {
   "codemirror_mode": {
    "name": "ipython",
    "version": 3
   },
   "file_extension": ".py",
   "mimetype": "text/x-python",
   "name": "python",
   "nbconvert_exporter": "python",
   "pygments_lexer": "ipython3",
   "version": "3.12.3"
  }
 },
 "nbformat": 4,
 "nbformat_minor": 5
}
