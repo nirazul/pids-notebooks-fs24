{
 "cells": [
  {
   "cell_type": "markdown",
   "id": "325c057d-8610-4467-9227-39932084e8db",
   "metadata": {},
   "source": [
    "# Exam Insurance - 7\n",
    "\n",
    "Time: 10 Minutes\n",
    "\n",
    "Please solve the following exercises. \n",
    "\n",
    "*You are not allowed to use any previously solved jupyter-notebooks or other external sources (such as google, own notes, chatgpt). Use the built-in help function instead.* "
   ]
  },
  {
   "cell_type": "code",
   "execution_count": null,
   "id": "9091223e-3bf4-4c23-aef5-562e59214a58",
   "metadata": {},
   "outputs": [],
   "source": [
    "# Initialize Otter\n",
    "import otter\n",
    "grader = otter.Notebook(\"insurance-7.ipynb\")"
   ]
  },
  {
   "cell_type": "code",
   "execution_count": null,
   "id": "b7bd7428-b3d6-450f-b316-112c0a934c0a",
   "metadata": {},
   "outputs": [],
   "source": [
    "import matplotlib.pyplot as plt\n",
    "import seaborn as sns\n",
    "import numpy as np"
   ]
  },
  {
   "cell_type": "markdown",
   "id": "f3e71d6a-5e63-4cb8-a023-4688c3a55b9d",
   "metadata": {},
   "source": [
    "### Question 0\n",
    "\n",
    "What is the number of the blackboard:"
   ]
  },
  {
   "cell_type": "code",
   "execution_count": null,
   "id": "44e61305-f415-4f13-ac5c-f05ae360291f",
   "metadata": {},
   "outputs": [],
   "source": [
    "class Question0:\n",
    "    answer = ..."
   ]
  },
  {
   "cell_type": "markdown",
   "id": "3a74b284-1269-4b19-a227-e57b72205ba0",
   "metadata": {},
   "source": [
    "## Question 1\n",
    "\n",
    "Generate a $m \\times N$ array of random samples from a normal distribution with mean $1$ and variance $4$. Store them in the variable `samples`. "
   ]
  },
  {
   "cell_type": "code",
   "execution_count": null,
   "id": "67e8124e-a520-4f19-8e28-ce433f08bcfc",
   "metadata": {},
   "outputs": [],
   "source": [
    "from scipy import stats as stats\n",
    "\n",
    "class Question1:\n",
    "    N = 1000\n",
    "    m = 100\n",
    "    ...\n",
    "    samples = ...\n"
   ]
  },
  {
   "cell_type": "code",
   "execution_count": null,
   "id": "be034364-82cc-43bd-a5cd-24b70166ef21",
   "metadata": {},
   "outputs": [],
   "source": [
    "grader.check(\"Question 1\")"
   ]
  },
  {
   "cell_type": "markdown",
   "id": "e13bdf55-396e-411e-8d7c-c72e3fdfa556",
   "metadata": {},
   "source": [
    "## Question 2\n",
    "\n",
    "Use numpy to compute the row-wise mean and variance of the matrix `X` and store the result in the variables `means` and `vars` respectively. "
   ]
  },
  {
   "cell_type": "code",
   "execution_count": null,
   "id": "e91c4af3-b7dc-4d72-89fa-8f177f05bba1",
   "metadata": {},
   "outputs": [],
   "source": [
    "class Question2:\n",
    "    X = np.random.poisson(5, size=(100, 200))\n",
    "    means = ...\n",
    "    vars = ..."
   ]
  },
  {
   "cell_type": "code",
   "execution_count": null,
   "id": "6ce6adf5-5996-45df-9c8d-4f1d3a6601b9",
   "metadata": {},
   "outputs": [],
   "source": [
    "grader.check(\"Question 2\")"
   ]
  },
  {
   "cell_type": "markdown",
   "id": "e7543b52-9f04-4590-9ddc-e72a8620fa59",
   "metadata": {},
   "source": [
    "## Question 3\n",
    "\n",
    "The variable `samples` contains 1000 samples from an exponential distribution. \n",
    "Use the bootstrap method from scipy to obtain a 95% confidence interval for the median. \n",
    "The number of resamples (argument `n_resamples`) should be set to 50.\n",
    "\n",
    "* Hint 1: You can compute the median of a sample using `np.median`.\n",
    "* Hint 2: Use the help function to find out how to call bootstrap and to see an example\n"
   ]
  },
  {
   "cell_type": "code",
   "execution_count": null,
   "id": "c5bb1142-583f-4100-92c2-4d25aa6ca70d",
   "metadata": {},
   "outputs": [],
   "source": [
    "from scipy.stats import bootstrap\n",
    "\n",
    "class Question3:\n",
    "    samples = np.random.exponential(1, size=1000)\n",
    "\n",
    "    bootstrap_res = ... # call bootstrap here\n",
    "    \n",
    "    ci = bootstrap_res.confidence_interval\n"
   ]
  },
  {
   "cell_type": "code",
   "execution_count": null,
   "id": "11ace156-031a-4a51-85fb-cb343350694e",
   "metadata": {},
   "outputs": [],
   "source": [
    "grader.check(\"Question 3\")"
   ]
  }
 ],
 "metadata": {
  "kernelspec": {
   "display_name": "Python 3 (ipykernel)",
   "language": "python",
   "name": "conda-env-pids_2023-py"
  },
  "language_info": {
   "codemirror_mode": {
    "name": "ipython",
    "version": 3
   },
   "file_extension": ".py",
   "mimetype": "text/x-python",
   "name": "python",
   "nbconvert_exporter": "python",
   "pygments_lexer": "ipython3",
   "version": "3.10.11"
  }
 },
 "nbformat": 4,
 "nbformat_minor": 5
}
