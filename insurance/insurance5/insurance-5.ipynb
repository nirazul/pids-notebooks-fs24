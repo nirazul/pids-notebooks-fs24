{
 "cells": [
  {
   "cell_type": "markdown",
   "id": "325c057d-8610-4467-9227-39932084e8db",
   "metadata": {},
   "source": [
    "# Exam Insurance - 5\n",
    "\n",
    "Time: 10 Minutes\n",
    "\n",
    "Please solve the following exercises. \n",
    "\n",
    "*You are not allowed to use any previously solved jupyter-notebooks or other external sources (such as google, own notes, chatgpt). Use the built-in help function instead.* "
   ]
  },
  {
   "cell_type": "code",
   "execution_count": null,
   "id": "9091223e-3bf4-4c23-aef5-562e59214a58",
   "metadata": {},
   "outputs": [],
   "source": [
    "# Initialize Otter\n",
    "import otter\n",
    "grader = otter.Notebook(\"insurance-5.ipynb\")"
   ]
  },
  {
   "cell_type": "code",
   "execution_count": null,
   "id": "b7bd7428-b3d6-450f-b316-112c0a934c0a",
   "metadata": {},
   "outputs": [],
   "source": [
    "import matplotlib.pyplot as plt\n",
    "import seaborn as sns\n",
    "from scipy import stats as stats"
   ]
  },
  {
   "cell_type": "markdown",
   "id": "f3e71d6a-5e63-4cb8-a023-4688c3a55b9d",
   "metadata": {},
   "source": [
    "### Question 0\n",
    "\n",
    "What is the number of the blackboard:"
   ]
  },
  {
   "cell_type": "code",
   "execution_count": null,
   "id": "44e61305-f415-4f13-ac5c-f05ae360291f",
   "metadata": {},
   "outputs": [],
   "source": [
    "class Question0:\n",
    "    answer = ..."
   ]
  },
  {
   "cell_type": "markdown",
   "id": "3a74b284-1269-4b19-a227-e57b72205ba0",
   "metadata": {},
   "source": [
    "## Question 1\n",
    "\n",
    "We roll two standard dice. What is the probability ($\\mathbb{P}$) for the sum of the two dice being lower than 9?\n",
    "Put the result in a variable named `probability_lower_9` and make sure to write the probability as a fraction."
   ]
  },
  {
   "cell_type": "code",
   "execution_count": null,
   "id": "67e8124e-a520-4f19-8e28-ce433f08bcfc",
   "metadata": {},
   "outputs": [],
   "source": [
    "class Question1:\n",
    "    ...\n",
    "    probability_lower_9 = ...\n",
    "    print(\"probability: \", probability_lower_9)"
   ]
  },
  {
   "cell_type": "code",
   "execution_count": null,
   "id": "be034364-82cc-43bd-a5cd-24b70166ef21",
   "metadata": {},
   "outputs": [],
   "source": [
    "grader.check(\"Question 1\")"
   ]
  },
  {
   "cell_type": "markdown",
   "id": "e7543b52-9f04-4590-9ddc-e72a8620fa59",
   "metadata": {},
   "source": [
    "## Question 2\n",
    "\n",
    "Let $X$ denote a random variable with a poisson distribution, defined as follows:"
   ]
  },
  {
   "cell_type": "code",
   "execution_count": null,
   "id": "3c246165",
   "metadata": {},
   "outputs": [],
   "source": [
    "lmbda = 7 \n",
    "X = stats.poisson(lmbda)"
   ]
  },
  {
   "cell_type": "markdown",
   "id": "b8cd362c",
   "metadata": {},
   "source": [
    "Calculate the probabilities $P(𝑋=3)$ and $P(𝑋 \\le 10)$ "
   ]
  },
  {
   "cell_type": "code",
   "execution_count": null,
   "id": "c5bb1142-583f-4100-92c2-4d25aa6ca70d",
   "metadata": {},
   "outputs": [],
   "source": [
    "class Question2:\n",
    "    p_xe3 = ...\n",
    "    p_xlt10 = ...\n",
    "    \n",
    "    print('P(X=3)={:.4f}\\nP(X<=10)={:.4f}\\n'.format(p_xe3, p_xlt10))"
   ]
  },
  {
   "cell_type": "code",
   "execution_count": null,
   "id": "11ace156-031a-4a51-85fb-cb343350694e",
   "metadata": {},
   "outputs": [],
   "source": [
    "grader.check(\"Question 2\")"
   ]
  },
  {
   "cell_type": "markdown",
   "id": "e13bdf55-396e-411e-8d7c-c72e3fdfa556",
   "metadata": {},
   "source": [
    "## Question 3\n",
    "\n",
    "In this question we will work with the `titanic` dataset, which contains data regarding passangers on the titanic. "
   ]
  },
  {
   "cell_type": "code",
   "execution_count": null,
   "id": "e91c4af3-b7dc-4d72-89fa-8f177f05bba1",
   "metadata": {},
   "outputs": [],
   "source": [
    "titanic_df = sns.load_dataset('titanic')"
   ]
  },
  {
   "cell_type": "markdown",
   "id": "ae73cb09-d779-4c6c-9ef7-111784ddd087",
   "metadata": {},
   "source": [
    "Let's get an overview of the dataset."
   ]
  },
  {
   "cell_type": "code",
   "execution_count": null,
   "id": "9560dae0-ddbd-4d09-ba4f-6882edadf12f",
   "metadata": {},
   "outputs": [],
   "source": [
    "titanic_df.head(5)"
   ]
  },
  {
   "cell_type": "markdown",
   "id": "5dfef2c1",
   "metadata": {},
   "source": [
    "\n",
    "Estimate the probability that a female passenger survived the disaster (`alive == \"yes\"`). \n",
    "\n",
    "**Reminder:** the conditional probability is defined as:\n",
    "$$ \\mathbb{P}(A|B) = \\frac{\\mathbb{P}(A \\cap B)}{\\mathbb{P}(B)}$$"
   ]
  },
  {
   "cell_type": "code",
   "execution_count": null,
   "id": "b6faad7d-2e83-4bb0-95c8-835b69f62d55",
   "metadata": {},
   "outputs": [],
   "source": [
    "class Question3:\n",
    "     \n",
    "    female_survival_prob = ...\n",
    "    \n",
    "    print(\"probability that a female passenger survived \", female_survival_prob)"
   ]
  },
  {
   "cell_type": "code",
   "execution_count": null,
   "id": "6ce6adf5-5996-45df-9c8d-4f1d3a6601b9",
   "metadata": {},
   "outputs": [],
   "source": [
    "grader.check(\"Question 3\")"
   ]
  }
 ],
 "metadata": {
  "kernelspec": {
   "display_name": "Python 3 (ipykernel)",
   "language": "python",
   "name": "conda-env-pids_2023-py"
  },
  "language_info": {
   "codemirror_mode": {
    "name": "ipython",
    "version": 3
   },
   "file_extension": ".py",
   "mimetype": "text/x-python",
   "name": "python",
   "nbconvert_exporter": "python",
   "pygments_lexer": "ipython3",
   "version": "3.10.11"
  }
 },
 "nbformat": 4,
 "nbformat_minor": 5
}
