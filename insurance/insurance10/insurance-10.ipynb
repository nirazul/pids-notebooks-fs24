{
 "cells": [
  {
   "cell_type": "markdown",
   "id": "325c057d-8610-4467-9227-39932084e8db",
   "metadata": {},
   "source": [
    "# Exam Insurance - 10\n",
    "\n",
    "Time: 10 Minutes\n",
    "\n",
    "Please solve the following exercises. \n",
    "\n",
    "*You are not allowed to use any previously solved jupyter-notebooks or other external sources (such as google, own notes, chatgpt). Use the built-in help function instead.* "
   ]
  },
  {
   "cell_type": "code",
   "execution_count": null,
   "id": "9091223e-3bf4-4c23-aef5-562e59214a58",
   "metadata": {},
   "outputs": [],
   "source": [
    "# Initialize Otter\n",
    "import otter\n",
    "grader = otter.Notebook(\"insurance-10.ipynb\")"
   ]
  },
  {
   "cell_type": "code",
   "execution_count": null,
   "id": "b7bd7428-b3d6-450f-b316-112c0a934c0a",
   "metadata": {},
   "outputs": [],
   "source": [
    "import numpy as np\n",
    "import pandas as pd\n",
    "import matplotlib.pyplot as plt\n",
    "\n",
    "import pandas as pd\n",
    "from sklearn.model_selection import train_test_split\n",
    "from sklearn.preprocessing import StandardScaler, OneHotEncoder\n",
    "from sklearn.compose import ColumnTransformer\n",
    "from sklearn.pipeline import Pipeline\n",
    "from sklearn.impute import SimpleImputer\n",
    "from sklearn.neural_network import MLPClassifier\n",
    "from sklearn.metrics import accuracy_score\n",
    "from sklearn.model_selection import GridSearchCV\n",
    "from sklearn.model_selection import cross_validate\n",
    "from sklearn.datasets import make_circles"
   ]
  },
  {
   "cell_type": "markdown",
   "id": "f3e71d6a-5e63-4cb8-a023-4688c3a55b9d",
   "metadata": {},
   "source": [
    "### Question 0\n",
    "\n",
    "What is the number of the blackboard:"
   ]
  },
  {
   "cell_type": "code",
   "execution_count": null,
   "id": "44e61305-f415-4f13-ac5c-f05ae360291f",
   "metadata": {},
   "outputs": [],
   "source": [
    "class Question0:\n",
    "    answer = ..."
   ]
  },
  {
   "cell_type": "markdown",
   "id": "b26c7499",
   "metadata": {},
   "source": [
    "In this notebook we will work with the following, synthetic data"
   ]
  },
  {
   "cell_type": "code",
   "execution_count": null,
   "id": "073e1292",
   "metadata": {},
   "outputs": [],
   "source": [
    "X, y = make_circles(n_samples=1000, factor=0.5, noise=0.1, random_state=42)"
   ]
  },
  {
   "cell_type": "markdown",
   "id": "40f7be7b",
   "metadata": {},
   "source": [
    "which we split into training and testing."
   ]
  },
  {
   "cell_type": "code",
   "execution_count": null,
   "id": "f64b8639",
   "metadata": {},
   "outputs": [],
   "source": [
    "# Split the dataset into training and testing sets\n",
    "X_train, X_test, y_train, y_test = train_test_split(X, y, test_size=0.3, random_state=42)\n"
   ]
  },
  {
   "cell_type": "markdown",
   "id": "7ab04de3",
   "metadata": {},
   "source": [
    "You can uncomment these lines is you want the data to be visualized"
   ]
  },
  {
   "cell_type": "code",
   "execution_count": null,
   "id": "5968b17c",
   "metadata": {},
   "outputs": [],
   "source": [
    "# # Plot the dataset\n",
    "# plt.figure(figsize=(8, 6))\n",
    "# plt.scatter(X[:, 0], X[:, 1], c=y, cmap=plt.cm.Paired, s=20)\n",
    "# plt.title('Non-linearly Separable Dataset (Circles)')\n",
    "# plt.xlabel('Feature 1')\n",
    "# plt.ylabel('Feature 2')\n",
    "# plt.show()"
   ]
  },
  {
   "cell_type": "markdown",
   "id": "3a74b284-1269-4b19-a227-e57b72205ba0",
   "metadata": {},
   "source": [
    "## Question 1\n",
    "\n",
    "A decision tree is a model for classification, similar to an MLPClassifier. It is used \n",
    "in exactly the same way as as the `MLPClassifier`. One of the main parameters, which determines how well it performs is `max_depth`. Train the decision tree and test the model on the test set."
   ]
  },
  {
   "cell_type": "code",
   "execution_count": null,
   "id": "67e8124e-a520-4f19-8e28-ce433f08bcfc",
   "metadata": {},
   "outputs": [],
   "source": [
    "from sklearn.tree import DecisionTreeClassifier\n",
    "\n",
    "class Question1:\n",
    "    dec_tree = DecisionTreeClassifier(max_depth=5)\n",
    "    \n",
    "    # Fit the model\n",
    "    ...\n",
    "\n",
    "    # Predict the outcome\n",
    "    y_pred = ..."
   ]
  },
  {
   "cell_type": "code",
   "execution_count": null,
   "id": "be034364-82cc-43bd-a5cd-24b70166ef21",
   "metadata": {},
   "outputs": [],
   "source": [
    "grader.check(\"Question 1\")"
   ]
  },
  {
   "cell_type": "markdown",
   "id": "e7543b52-9f04-4590-9ddc-e72a8620fa59",
   "metadata": {},
   "source": [
    "## Question 2\n",
    "\n",
    "\n",
    "Set up a parameter grid for the parameter values 5, 20 and 50 and use `GridSearchCV` \n",
    "to find the best model using 5 fold cross validation on the training set. "
   ]
  },
  {
   "cell_type": "code",
   "execution_count": null,
   "id": "c5bb1142-583f-4100-92c2-4d25aa6ca70d",
   "metadata": {},
   "outputs": [],
   "source": [
    "from sklearn import tree\n",
    "\n",
    "\n",
    "class Question2:\n",
    "    dec_tree = tree.DecisionTreeClassifier()\n",
    "    param_grid = ...\n",
    "    cv = ...   # Define GridSearchCV here\n",
    "    ...\n",
    "    print(cv.best_estimator_)"
   ]
  },
  {
   "cell_type": "code",
   "execution_count": null,
   "id": "11ace156-031a-4a51-85fb-cb343350694e",
   "metadata": {
    "scrolled": true
   },
   "outputs": [],
   "source": [
    "grader.check(\"Question 2\")"
   ]
  },
  {
   "cell_type": "markdown",
   "id": "e13bdf55-396e-411e-8d7c-c72e3fdfa556",
   "metadata": {},
   "source": [
    "## Question 3\n",
    "\n",
    " The variable `y` is an array with the labels and `y_pred` with predictions. \n",
    " Compute the accuracy."
   ]
  },
  {
   "cell_type": "code",
   "execution_count": null,
   "id": "e91c4af3-b7dc-4d72-89fa-8f177f05bba1",
   "metadata": {},
   "outputs": [],
   "source": [
    "class Question3:\n",
    "    y = np.array([1, 0, 0, 0, 1, 1, 1, 0])\n",
    "    y_pred = np.array([0, 1, 0, 0, 1, 0, 1, 1])\n",
    "    accuracy = ...\n",
    "    print(f\"accuracy {accuracy}\")"
   ]
  },
  {
   "cell_type": "code",
   "execution_count": null,
   "id": "6ce6adf5-5996-45df-9c8d-4f1d3a6601b9",
   "metadata": {},
   "outputs": [],
   "source": [
    "grader.check(\"Question 3\")"
   ]
  }
 ],
 "metadata": {
  "kernelspec": {
   "display_name": "Python 3 (ipykernel)",
   "language": "python",
   "name": "python3"
  },
  "language_info": {
   "codemirror_mode": {
    "name": "ipython",
    "version": 3
   },
   "file_extension": ".py",
   "mimetype": "text/x-python",
   "name": "python",
   "nbconvert_exporter": "python",
   "pygments_lexer": "ipython3",
   "version": "3.10.11"
  }
 },
 "nbformat": 4,
 "nbformat_minor": 5
}
