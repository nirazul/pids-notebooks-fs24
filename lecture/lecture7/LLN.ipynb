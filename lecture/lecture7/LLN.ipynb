{
 "cells": [
  {
   "cell_type": "markdown",
   "id": "ca9d860c",
   "metadata": {},
   "source": [
    "# The law of large numbers"
   ]
  },
  {
   "cell_type": "markdown",
   "id": "5e12c59d",
   "metadata": {},
   "source": [
    "### What are the odds of winning in Black Jack\n",
    "\n",
    "The following is a simulation of the game Black Jack. We run it many times and use it to estimate the probabilities of winning. "
   ]
  },
  {
   "cell_type": "code",
   "execution_count": null,
   "id": "65cf5111",
   "metadata": {},
   "outputs": [],
   "source": [
    "import numpy as np\n",
    "import matplotlib.pyplot as plt\n",
    "import scipy.stats as stats\n",
    "import seaborn as sns\n",
    "import random"
   ]
  },
  {
   "cell_type": "code",
   "execution_count": null,
   "id": "f470a590",
   "metadata": {},
   "outputs": [],
   "source": [
    "\n",
    "\n",
    "def draw_card():\n",
    "    \"\"\"Simulates drawing a card, ace counts as 11 or 1 to avoid busting if possible.\"\"\"\n",
    "    return random.randint(1, 13)  # 1-10 for number cards, 11 for Jack, 12 for Queen, 13 for King\n",
    "\n",
    "def card_value(card, player_score):\n",
    "    \"\"\"Interprets the cards value. face cards are 10, \n",
    "        and an ace is interpreted as 1 or 11, depending what is better\n",
    "        for the player\n",
    "    \"\"\"\n",
    "    if card == 1:\n",
    "        if player_score <= 10:\n",
    "            return 11\n",
    "        else:\n",
    "            return 1\n",
    "    else:\n",
    "        return min(card, 10) \n",
    "\n",
    "def play_hand():\n",
    "    \"\"\"Simulates playing a single hand for both player and dealer.\"\"\"\n",
    "    player_total, dealer_total = 0, 0\n",
    "    while player_total < 17:\n",
    "        player_total += card_value(draw_card(), player_total)\n",
    "        if player_total > 21: return 'lose'  # Player busts\n",
    "    while dealer_total < 17:\n",
    "        dealer_total += card_value(draw_card(), dealer_total)\n",
    "        if dealer_total > 21: return 'win'  # Dealer busts\n",
    "    if player_total > dealer_total: return 'win'\n",
    "    elif player_total < dealer_total: return 'lose'\n",
    "    else: return 'draw'\n",
    "\n",
    "# Simulate a large number of hands\n",
    "n_simulations = 1000\n",
    "results = [play_hand() for _ in range(n_simulations)]\n",
    "\n",
    "# Calculate and print win probability\n",
    "win_probability = results.count('win') / n_simulations\n",
    "print(f\"Estimated probability of winning a hand in blackjack: {win_probability:.3f}\")\n"
   ]
  },
  {
   "cell_type": "markdown",
   "id": "441f1310",
   "metadata": {},
   "source": [
    "### Estimating the mean\n",
    "\n",
    "The following simulation shows how estimating the mean from a sample of size `n_samples` is more and more precise the larger `n_samples` is. "
   ]
  },
  {
   "cell_type": "code",
   "execution_count": null,
   "id": "948ae8bd",
   "metadata": {},
   "outputs": [],
   "source": [
    "n_samples = 500\n",
    "\n",
    "def estimate_mean(dist, n_samples):\n",
    "    \"\"\"estimate the mean of n_samples from the given distribution\"\"\"\n",
    "    mean_est = 0\n",
    "    for i in range(0, n_samples):\n",
    "        mean_est = mean_est + dist.rvs()\n",
    "    mean_est = mean_est / n_samples \n",
    "\n",
    "    return mean_est\n",
    "\n",
    "# estimate the mean for differnt sample sizes     \n",
    "estimates = []\n",
    "ns = range(1, 300)\n",
    "for n_samples in ns:\n",
    "    estimates.append(estimate_mean(stats.bernoulli(0.1), n_samples))\n",
    "\n",
    "plt.plot(ns, estimates)"
   ]
  },
  {
   "cell_type": "markdown",
   "id": "59d07366",
   "metadata": {},
   "source": [
    "### Polls "
   ]
  },
  {
   "cell_type": "markdown",
   "id": "2ee0ec0e",
   "metadata": {},
   "source": [
    "Assume you ask `n` people what they would vote in a yes/no question and estimate the probability that somebody votes yes. The answer is not exact, but you can make it as accurate as you want, by increasing the number of people you poll. "
   ]
  },
  {
   "cell_type": "code",
   "execution_count": null,
   "id": "daf6bbd0",
   "metadata": {},
   "outputs": [],
   "source": [
    "true_prob = 0.7 # the true probability\n",
    "\n",
    "def ask(n):\n",
    "    answers = []\n",
    "    bern = stats.bernoulli(true_prob)\n",
    "    for i in range(0, n):        \n",
    "        answers.append(bern.rvs())\n",
    "    return answers\n",
    "    \n",
    "answers = ask(10000)\n",
    "p_est = sum(answers) / len(answers)\n",
    "print(p_est)\n",
    "\n",
    "binom = stats.binom(n, true_prob)\n",
    "binom_est = stats.binom(n, p_est)\n",
    "x=list(range(1, n+1))\n",
    "plt.stem(x, binom.pmf(x), 'k', label='true')\n",
    "plt.stem(x, binom_est.pmf(x), 'r', label='estimated')\n",
    "plt.legend()"
   ]
  }
 ],
 "metadata": {
  "kernelspec": {
   "display_name": "Python 3 (ipykernel)",
   "language": "python",
   "name": "conda-env-pids_2023-py"
  },
  "language_info": {
   "codemirror_mode": {
    "name": "ipython",
    "version": 3
   },
   "file_extension": ".py",
   "mimetype": "text/x-python",
   "name": "python",
   "nbconvert_exporter": "python",
   "pygments_lexer": "ipython3",
   "version": "3.10.11"
  }
 },
 "nbformat": 4,
 "nbformat_minor": 5
}
