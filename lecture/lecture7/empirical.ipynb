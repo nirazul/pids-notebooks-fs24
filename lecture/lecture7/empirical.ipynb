{
 "cells": [
  {
   "cell_type": "markdown",
   "id": "aabcf7e8-f18c-431a-92f8-b4d2aec80ebc",
   "metadata": {},
   "source": [
    "# Empirical distribution"
   ]
  },
  {
   "cell_type": "code",
   "execution_count": null,
   "id": "6cd03491-171f-4ea6-a1e5-e9b3da0f6bbc",
   "metadata": {},
   "outputs": [],
   "source": [
    "import scipy.stats as stats\n",
    "import numpy as np\n",
    "import matplotlib.pyplot as plt\n",
    "import seaborn as sns\n"
   ]
  },
  {
   "cell_type": "markdown",
   "id": "21f2699c-cd32-4468-a032-70f86bb143ec",
   "metadata": {},
   "source": [
    "In this notebook we demonstrate how a large sample can be used to form the empirical distribution and how this distribution closely approximates the true distribution. "
   ]
  },
  {
   "cell_type": "markdown",
   "id": "9530ef7d-9787-46f1-a9bb-ed3f847f461c",
   "metadata": {},
   "source": [
    "The empirical distribution is formed by taking a large sample, which is used to represent the distribution. \n",
    "For illustrative purposes, let's assume we know the underlying distribution (which we usually don't) and that it is a normal distribution. "
   ]
  },
  {
   "cell_type": "code",
   "execution_count": null,
   "id": "8b853af1-ccb3-4016-83c5-6ac0ff556ed8",
   "metadata": {},
   "outputs": [],
   "source": [
    "mu = 3\n",
    "stddev = 7\n",
    "normal = stats.norm(mu, stddev)"
   ]
  },
  {
   "cell_type": "markdown",
   "id": "70bb9ac5-d587-4481-94cb-4edbbd9b4348",
   "metadata": {},
   "source": [
    "Let's plot it: "
   ]
  },
  {
   "cell_type": "code",
   "execution_count": null,
   "id": "c8e7ffb7-a84d-4f50-b986-89dd3044630b",
   "metadata": {},
   "outputs": [],
   "source": [
    "x = np.linspace(mu - 3 * stddev, mu + 3 * stddev)\n",
    "sns.lineplot(x = x, y = normal.pdf(x))"
   ]
  },
  {
   "cell_type": "markdown",
   "id": "830a391c-d0d9-4bf5-8be7-8852786fccf1",
   "metadata": {},
   "source": [
    "It's CDF is"
   ]
  },
  {
   "cell_type": "code",
   "execution_count": null,
   "id": "303e6366-a987-4240-8e07-12c9542e991f",
   "metadata": {
    "scrolled": false
   },
   "outputs": [],
   "source": [
    "x = np.linspace(mu - 3 * stddev, mu + 3 * stddev)\n",
    "sns.lineplot(x = x, y = normal.cdf(x))"
   ]
  },
  {
   "cell_type": "markdown",
   "id": "3fcbf6ec-98b9-48e6-b866-5066645f2530",
   "metadata": {},
   "source": [
    "Let's create samples from this distribution"
   ]
  },
  {
   "cell_type": "code",
   "execution_count": null,
   "id": "608fcde4",
   "metadata": {},
   "outputs": [],
   "source": [
    "samples = normal.rvs(100)"
   ]
  },
  {
   "cell_type": "markdown",
   "id": "df38f8aa",
   "metadata": {},
   "source": [
    "The empirical distribution function $F_n$ is defined as the CDF, where $F_n(x)$ is just the fraction of elements in the sample smaller than $x$. The probability that $x$ is smaller than the smallest sample is 0, the probability that it is smaller or equal to the largest is 1. \n",
    "\n",
    "We can create this CDF from the samples by just sorting them and assigning each sample a probability of $1/n$. "
   ]
  },
  {
   "cell_type": "code",
   "execution_count": null,
   "id": "d65e291f-04bf-4e59-865c-96e1ce8efc99",
   "metadata": {},
   "outputs": [],
   "source": [
    "sorted_samples=sorted(samples)\n",
    "cdf_values = np.arange(1, len(sorted_samples)+1) / len(sorted_samples)"
   ]
  },
  {
   "cell_type": "markdown",
   "id": "a47e5a99-1154-412c-a66d-adc721ec0f96",
   "metadata": {},
   "source": [
    "Plotting reveals that the cdf follows accurately the theoretical one. "
   ]
  },
  {
   "cell_type": "code",
   "execution_count": null,
   "id": "12a146b8-3cf8-4ac2-8f53-91c2be28dfe2",
   "metadata": {},
   "outputs": [],
   "source": [
    "sns.lineplot(x=sorted_samples, y=cdf_values)\n",
    "sns.lineplot(x = x, y = normal.cdf(x))"
   ]
  },
  {
   "cell_type": "markdown",
   "id": "3f65318a-a0a7-483d-8227-a8b4c391e138",
   "metadata": {},
   "source": [
    "As each of the observed samples has probability $1/n$ we can obtain samples from the empirical distribution by simply selecting uniform random values from the samples that represent the empirical distribution:"
   ]
  },
  {
   "cell_type": "code",
   "execution_count": null,
   "id": "d3a28599-9930-4955-b0d3-a77cbc7306df",
   "metadata": {},
   "outputs": [],
   "source": [
    "def sample_emp(m):\n",
    "    idcs = np.random.randint(0, len(sorted_samples), size=m)\n",
    "    return [sorted_samples[idx] for idx in idcs]"
   ]
  },
  {
   "cell_type": "markdown",
   "id": "ae2d81fd",
   "metadata": {},
   "source": [
    "Let's draw some samples and show a histogram. The histogram should be similar to the density that we initially samples from. "
   ]
  },
  {
   "cell_type": "code",
   "execution_count": null,
   "id": "11454b13-1cf6-4e67-a1b5-e497ef4fbc57",
   "metadata": {},
   "outputs": [],
   "source": [
    "emp_samples = sample_emp(500)\n",
    "sns.histplot(x = emp_samples, stat=\"density\", bins =20)\n",
    "sns.lineplot(x = x, y = normal.pdf(x), color='red')"
   ]
  },
  {
   "cell_type": "markdown",
   "id": "704bf3c1",
   "metadata": {},
   "source": [
    "## Bootstrap method\n",
    "\n",
    "The empirical distribution plays an important role in the boostrap method. The idea behind the bootstrap method is that, if we have any large enough sample from a distribution, its empirical distribution resembles the (unkonwn) distribution it was generated from closely. As we know how to sample from this empirical distribution, we can generate new samples from the empirical distribution and use them to compute parameters of interest. \n",
    "\n",
    "We demonstrate this in the following. We use as the (in reality unkown) base distribution, from which we generate the inital sample, an exponential distribution. \n"
   ]
  },
  {
   "cell_type": "code",
   "execution_count": null,
   "id": "8bf05e62",
   "metadata": {},
   "outputs": [],
   "source": [
    "rate = 1\n",
    "dist = stats.expon(rate)\n",
    "samples = dist.rvs(1000)\n",
    "xs = np.linspace(1, rate * 5)"
   ]
  },
  {
   "cell_type": "code",
   "execution_count": null,
   "id": "a8d706ce",
   "metadata": {},
   "outputs": [],
   "source": [
    "plt.hist(samples, density=True, bins=50)\n",
    "plt.plot(xs, dist.pdf(xs))"
   ]
  },
  {
   "cell_type": "markdown",
   "id": "1f34e54a",
   "metadata": {},
   "source": [
    "Let's say we want to find out how the mean of a sample of a certain size, say 100, varies. We can simply generate many samples of size 100 from the empirical distribution, and compute the sample mean of each of these samples. "
   ]
  },
  {
   "cell_type": "code",
   "execution_count": null,
   "id": "c53462c6",
   "metadata": {},
   "outputs": [],
   "source": [
    "outcomes = []\n",
    "subsample_size = 100\n",
    "for i in range(0, 1000):\n",
    "    idcs = np.random.randint(0, len(samples), subsample_size)\n",
    "    sampled = samples[idcs]\n",
    "    outcomes.append(sum(sampled)/subsample_size)"
   ]
  },
  {
   "cell_type": "markdown",
   "id": "0eb48e31",
   "metadata": {},
   "source": [
    "Plotting the means reveals, that the sample mean varies in the population and its distribution seems to approximate a normal distribution - just as the central limit theorem says."
   ]
  },
  {
   "cell_type": "code",
   "execution_count": null,
   "id": "f2e53924",
   "metadata": {},
   "outputs": [],
   "source": [
    "plt.hist(outcomes)"
   ]
  },
  {
   "cell_type": "markdown",
   "id": "6774d3f4",
   "metadata": {},
   "source": [
    "Of course, this last result could have been obtained theoretically using the CLT. However, note that we did not make any assumption about the underlying distribution nor are we limited to the mean as a parameter. We can get such estimates for any statistic we are interested in. "
   ]
  }
 ],
 "metadata": {
  "kernelspec": {
   "display_name": "Python 3 (ipykernel)",
   "language": "python",
   "name": "conda-env-pids_2023-py"
  },
  "language_info": {
   "codemirror_mode": {
    "name": "ipython",
    "version": 3
   },
   "file_extension": ".py",
   "mimetype": "text/x-python",
   "name": "python",
   "nbconvert_exporter": "python",
   "pygments_lexer": "ipython3",
   "version": "3.10.11"
  }
 },
 "nbformat": 4,
 "nbformat_minor": 5
}
