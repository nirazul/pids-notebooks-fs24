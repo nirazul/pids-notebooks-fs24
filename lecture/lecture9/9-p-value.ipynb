{
 "cells": [
  {
   "cell_type": "markdown",
   "id": "e433a9d0-249b-4be8-bc1a-b8cf0f35269b",
   "metadata": {},
   "source": [
    "# P-Values"
   ]
  },
  {
   "cell_type": "code",
   "execution_count": 5,
   "id": "e5a1a7e0-290f-4815-8713-49368c098b0b",
   "metadata": {},
   "outputs": [
    {
     "name": "stderr",
     "output_type": "stream",
     "text": [
      "C:\\Users\\luetma00\\AppData\\Local\\Temp\\ipykernel_5344\\2622230225.py:1: DeprecationWarning: \n",
      "Pyarrow will become a required dependency of pandas in the next major release of pandas (pandas 3.0),\n",
      "(to allow more performant data types, such as the Arrow string type, and better interoperability with other libraries)\n",
      "but was not found to be installed on your system.\n",
      "If this would cause problems for you,\n",
      "please provide us feedback at https://github.com/pandas-dev/pandas/issues/54466\n",
      "        \n",
      "  import pandas as pd\n"
     ]
    }
   ],
   "source": [
    "import pandas as pd\n",
    "import scipy.stats as stats\n",
    "import matplotlib.pyplot as plt\n",
    "import numpy as np"
   ]
  },
  {
   "cell_type": "markdown",
   "id": "68080ee3-42b4-437f-b74f-bd7c8af5445d",
   "metadata": {},
   "source": [
    "### A case of sex discrimination\n",
    "\n",
    "The following dataset contains data regarding promotion of 48 employees of a bank. "
   ]
  },
  {
   "cell_type": "code",
   "execution_count": 6,
   "id": "7981f41d-3110-4a06-98de-37d910a851e8",
   "metadata": {},
   "outputs": [],
   "source": [
    "bank_data = pd.read_csv(\"sex_discrimination.csv\")"
   ]
  },
  {
   "cell_type": "markdown",
   "id": "586f6516-0bfc-4149-bf6f-5c144b0c71a3",
   "metadata": {},
   "source": [
    "We can compute what the promotion rate for men and women:"
   ]
  },
  {
   "cell_type": "code",
   "execution_count": 7,
   "id": "d7c9ce5b-4982-46ee-ae9e-925073f9f8bc",
   "metadata": {},
   "outputs": [],
   "source": [
    "def compute_promotion_rates(df):\n",
    "    promoted = df[df[\"decision\"] == \"promoted\"]\n",
    "    female = df[df[\"sex\"] == \"female\"]\n",
    "    male = df[df[\"sex\"] == \"male\"]\n",
    "    promoted_male = promoted[promoted[\"sex\"] == \"male\"]\n",
    "    promoted_female = promoted[promoted[\"sex\"] == \"female\"]\n",
    "    rate_female = len(promoted_female) / len(female)\n",
    "    rate_male = len(promoted_male) / len(male)\n",
    "    return (rate_male, rate_female)"
   ]
  },
  {
   "cell_type": "code",
   "execution_count": 10,
   "id": "af2844ad-8bbd-4283-9ac1-5061665eb17f",
   "metadata": {},
   "outputs": [
    {
     "name": "stdout",
     "output_type": "stream",
     "text": [
      "promotion rate for female:  0.5833333333333334\n",
      "promotion rate for male:  0.875\n",
      "diff:  0.29166666666666663\n"
     ]
    }
   ],
   "source": [
    "(rate_male, rate_female) = compute_promotion_rates(bank_data)\n",
    "\n",
    "print(\"promotion rate for female: \", rate_female)\n",
    "print(\"promotion rate for male: \", rate_male)\n",
    "print(\"diff: \", rate_male - rate_female)"
   ]
  },
  {
   "cell_type": "markdown",
   "id": "33157222-fb76-4bae-beb7-3de5ce4df1e9",
   "metadata": {},
   "source": [
    "We see that the rate for men was higher than the rate for women. Is this a case of discrimination or could this happen by chance even if the gender would not be taken into account in the decision? Let's simulate:"
   ]
  },
  {
   "cell_type": "code",
   "execution_count": 19,
   "id": "f6a9eb73-56c8-4afd-a099-f2c251c1ace4",
   "metadata": {},
   "outputs": [],
   "source": [
    "n_simulations = 2000\n",
    "n_promoted = 35\n",
    "diffs = []\n",
    "for i in range(0, n_simulations):\n",
    "    # Choose 35 entries (people) randomly for promotion\n",
    "    idcs = np.random.randint(0, len(bank_data), size=35)\n",
    "\n",
    "    # Create a new dataset where the selected people are promoted.\n",
    "    bank_data_sim = bank_data.copy()  \n",
    "    promotion_decision = bank_data_sim[\"decision\"]\n",
    "    promotion_decision.iloc[:] = \"not promoted\"\n",
    "    promotion_decision.iloc[idcs] = \"promoted\"\n",
    "    bank_data_sim[\"decision\"] = promotion_decision\n",
    "\n",
    "    # compute the rates and store the diffs\n",
    "    (rate_male, rate_female) = compute_promotion_rates(bank_data_sim)\n",
    "    diffs.append(rate_male - rate_female)"
   ]
  },
  {
   "cell_type": "markdown",
   "id": "57412b88-8f10-49af-8328-3283f1759ba2",
   "metadata": {},
   "source": [
    "The histogram reveals that it is rather unlikely to observe such extreme differences:"
   ]
  },
  {
   "cell_type": "code",
   "execution_count": 22,
   "id": "75e561a9-4337-4e05-9222-bfd894a637e4",
   "metadata": {},
   "outputs": [
    {
     "data": {
      "text/plain": [
       "(array([0.0125, 0.0375, 0.075 , 0.075 , 0.225 , 0.275 , 0.775 , 1.1125,\n",
       "        1.4375, 2.0625, 2.6625, 2.425 , 2.8625, 2.6   , 2.3   , 1.85  ,\n",
       "        1.4625, 1.2625, 0.7375, 0.3875, 0.225 , 0.0625, 0.0375, 0.025 ,\n",
       "        0.0125]),\n",
       " array([-0.5 , -0.46, -0.42, -0.38, -0.34, -0.3 , -0.26, -0.22, -0.18,\n",
       "        -0.14, -0.1 , -0.06, -0.02,  0.02,  0.06,  0.1 ,  0.14,  0.18,\n",
       "         0.22,  0.26,  0.3 ,  0.34,  0.38,  0.42,  0.46,  0.5 ]),\n",
       " <BarContainer object of 25 artists>)"
      ]
     },
     "execution_count": 22,
     "metadata": {},
     "output_type": "execute_result"
    },
    {
     "data": {
      "image/png": "[encoded data removed]",
      "text/plain": [
       "<Figure size 640x480 with 1 Axes>"
      ]
     },
     "metadata": {},
     "output_type": "display_data"
    }
   ],
   "source": [
    "plt.hist(diffs, bins=25, density=True)"
   ]
  },
  {
   "cell_type": "markdown",
   "id": "5531d5e7-8f51-4e69-bcbc-6edfcb093f5b",
   "metadata": {},
   "source": [
    "We obtain a more precise estimation of the p-value when we collect all events with more extreme outcomes:"
   ]
  },
  {
   "cell_type": "code",
   "execution_count": 24,
   "id": "2640da6e-1ea8-456b-9a6b-8ff325a85c00",
   "metadata": {},
   "outputs": [
    {
     "data": {
      "text/plain": [
       "0.03"
      ]
     },
     "execution_count": 24,
     "metadata": {},
     "output_type": "execute_result"
    }
   ],
   "source": [
    "sum(1 for diff in diffs if diff > 0.29) / n_simulations"
   ]
  },
  {
   "cell_type": "markdown",
   "id": "3f0e07dc-9167-437a-8a6e-31c7a99d161c",
   "metadata": {},
   "source": [
    "# Polling example\n",
    "\n",
    "In the next example we simulate reults of polls and estimate whether we are justified to assume when observing a spread of 0.04 that one candidate has a lead (i.e. that the true mean is different from 0.5). \n",
    "\n",
    "Again, we do a simulation:"
   ]
  },
  {
   "cell_type": "code",
   "execution_count": 41,
   "id": "737fe235-9e1a-4264-8533-e716e62e4525",
   "metadata": {},
   "outputs": [],
   "source": [
    "p = 0.5\n",
    "\n",
    "bern = stats.bernoulli(p)\n",
    "\n",
    "N=100\n",
    "n_sim = 1000\n",
    "\n",
    "p_ests = []\n",
    "for i in range(n_sim):\n",
    "    answers = bern.rvs(N)\n",
    "    yes_answers = np.sum(answers) \n",
    "    p_ests.append(yes_answers / N)\n"
   ]
  },
  {
   "cell_type": "code",
   "execution_count": 42,
   "id": "cd975ce7-34c8-4017-b240-cac814f56e1c",
   "metadata": {},
   "outputs": [
    {
     "data": {
      "text/plain": [
       "(array([  1.,  11.,  35., 133., 178., 256., 259.,  85.,  31.,  11.]),\n",
       " array([0.32 , 0.353, 0.386, 0.419, 0.452, 0.485, 0.518, 0.551, 0.584,\n",
       "        0.617, 0.65 ]),\n",
       " <BarContainer object of 10 artists>)"
      ]
     },
     "execution_count": 42,
     "metadata": {},
     "output_type": "execute_result"
    },
    {
     "data": {
      "image/png": "[encoded data removed]",
      "text/plain": [
       "<Figure size 640x480 with 1 Axes>"
      ]
     },
     "metadata": {},
     "output_type": "display_data"
    }
   ],
   "source": [
    "plt.hist(p_ests)"
   ]
  },
  {
   "cell_type": "markdown",
   "id": "d25712a4-b381-4fb2-aad4-4be99444962d",
   "metadata": {},
   "source": [
    "We see that with such a spread, and only 100 participants, such outcomes are rather likely."
   ]
  },
  {
   "cell_type": "code",
   "execution_count": 43,
   "id": "b171e897-5151-499e-a03d-e504416efe44",
   "metadata": {},
   "outputs": [
    {
     "name": "stdout",
     "output_type": "stream",
     "text": [
      "p-value:  0.604\n"
     ]
    }
   ],
   "source": [
    "num_more_extreme = sum(1 for p_est in p_ests if p_est > 0.52 or p_est < 0.48)\n",
    "print(\"p-value: \", num_more_extreme / n_sim)"
   ]
  },
  {
   "cell_type": "markdown",
   "id": "9c4b686f-bac1-47dc-b06f-711a03f950f9",
   "metadata": {},
   "source": [
    "Using the explicit formula (see slides) we can obtain a similar result:"
   ]
  },
  {
   "cell_type": "code",
   "execution_count": 48,
   "id": "ccfa22fd-3364-4b58-937a-cd1e6bf58975",
   "metadata": {},
   "outputs": [
    {
     "name": "stdout",
     "output_type": "stream",
     "text": [
      "0.68916\n"
     ]
    }
   ],
   "source": [
    "N=100\n",
    "t = np.sqrt(N) * 0.02/0.5\n",
    "norm = stats.norm(0,1)\n",
    "print(\"%5.5f\" % (1 - (norm.cdf(t) - norm.cdf(-t))))"
   ]
  },
  {
   "cell_type": "markdown",
   "id": "938bf593-6a67-4517-a29a-473c969c47ec",
   "metadata": {},
   "source": [
    "Note that if we make $N$ large, we can obtain a p-value that is as small as we like, while not changing the spread. "
   ]
  }
 ],
 "metadata": {
  "kernelspec": {
   "display_name": "Python 3 (ipykernel)",
   "language": "python",
   "name": "conda-env-pids_2023-py"
  },
  "language_info": {
   "codemirror_mode": {
    "name": "ipython",
    "version": 3
   },
   "file_extension": ".py",
   "mimetype": "text/x-python",
   "name": "python",
   "nbconvert_exporter": "python",
   "pygments_lexer": "ipython3",
   "version": "3.12.3"
  }
 },
 "nbformat": 4,
 "nbformat_minor": 5
}
