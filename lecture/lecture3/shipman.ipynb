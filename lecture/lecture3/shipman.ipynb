{
 "cells": [
  {
   "cell_type": "code",
   "execution_count": null,
   "id": "762663cc-b419-4278-ad5b-ae77c76fb836",
   "metadata": {},
   "outputs": [],
   "source": [
    "import pandas as pd\n",
    "import matplotlib \n",
    "import matplotlib.pyplot as plt"
   ]
  },
  {
   "cell_type": "code",
   "execution_count": null,
   "id": "441ac637-a6b9-4482-8a76-ba2c0b7cbc27",
   "metadata": {},
   "outputs": [],
   "source": [
    "shipman = pd.read_csv(\"../data/shipman.csv\")\n",
    "shipman.head()"
   ]
  },
  {
   "cell_type": "code",
   "execution_count": null,
   "id": "ec11041f-4de1-44d5-8a26-f6cd81b660f1",
   "metadata": {},
   "outputs": [],
   "source": [
    "fig, ax = plt.subplots()\n",
    "shipman[shipman[\"gender2\"]==\"Women\"].plot.scatter(ax = ax, y=\"Age\", x = \"yearOfDeath\", c = \"Blue\", label=\"Women\")\n",
    "shipman[shipman[\"gender2\"]==\"Men\"].plot.scatter(ax = ax, y=\"Age\", x = \"yearOfDeath\", c = \"Red\", label=\"Men\")\n",
    "ax.legend()"
   ]
  },
  {
   "cell_type": "code",
   "execution_count": null,
   "id": "0fd8b016-db1c-4df5-b2be-58bff97c9163",
   "metadata": {},
   "outputs": [],
   "source": [
    "shipman[\"yearOfDeath\"].plot.hist(bins=25)"
   ]
  },
  {
   "cell_type": "code",
   "execution_count": null,
   "id": "0f4af209-1e2e-42b3-9500-bfc1984f4d7d",
   "metadata": {},
   "outputs": [],
   "source": [
    "shipman_times = pd.read_csv(\"../data/shipman-times.csv\")"
   ]
  },
  {
   "cell_type": "code",
   "execution_count": null,
   "id": "cf729937-c773-4838-b374-3f394daababa",
   "metadata": {},
   "outputs": [],
   "source": [
    "shipman_times"
   ]
  },
  {
   "cell_type": "code",
   "execution_count": null,
   "id": "5cb95f67-7476-4f6d-826c-35a56e984e11",
   "metadata": {},
   "outputs": [],
   "source": [
    "shipman_times.plot(x=\"Hour\", y=[\"Shipman\", \"Comparison\"])\n"
   ]
  },
  {
   "cell_type": "code",
   "execution_count": null,
   "id": "a964e19f-957d-4575-841a-30a0acee83d1",
   "metadata": {},
   "outputs": [],
   "source": []
  }
 ],
 "metadata": {
  "kernelspec": {
   "display_name": "Python 3 (ipykernel)",
   "language": "python",
   "name": "conda-env-pids_2023-py"
  },
  "language_info": {
   "codemirror_mode": {
    "name": "ipython",
    "version": 3
   },
   "file_extension": ".py",
   "mimetype": "text/x-python",
   "name": "python",
   "nbconvert_exporter": "python",
   "pygments_lexer": "ipython3",
   "version": "3.12.2"
  }
 },
 "nbformat": 4,
 "nbformat_minor": 5
}
