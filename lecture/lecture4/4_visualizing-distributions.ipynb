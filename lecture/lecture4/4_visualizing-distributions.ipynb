{
 "cells": [
  {
   "cell_type": "markdown",
   "id": "9b631f78-02ab-400e-ba81-82e3cba03731",
   "metadata": {},
   "source": [
    "# Visualizing distributions\n",
    "\n",
    "In this notebook, we will discuss how we can visualize distribution of values effectively using seaborn. \n",
    "Our running example will be the [penguins dataset](https://www.kaggle.com/datasets/parulpandey/palmer-archipelago-antarctica-penguin-data). \n",
    "\n",
    "Let's import the necessary libraries and load the dataset. "
   ]
  },
  {
   "cell_type": "code",
   "execution_count": null,
   "id": "971e30e1",
   "metadata": {},
   "outputs": [],
   "source": [
    "import matplotlib.pyplot as plt\n",
    "import matplotlib as mpl\n",
    "mpl.rcParams['figure.dpi'] = 100\n",
    "\n",
    "import seaborn as sns\n",
    "sns.set_style(\"whitegrid\")\n",
    "\n",
    "import pandas as pd\n",
    "import random\n",
    "import numpy as np"
   ]
  },
  {
   "cell_type": "code",
   "execution_count": null,
   "id": "9e279afc",
   "metadata": {},
   "outputs": [],
   "source": [
    "penguins = sns.load_dataset('penguins')\n",
    "penguins.head()"
   ]
  },
  {
   "cell_type": "code",
   "execution_count": null,
   "id": "4b150957-76ea-47b3-b6bd-fd7a391371d1",
   "metadata": {},
   "outputs": [],
   "source": [
    "penguins.info()"
   ]
  },
  {
   "cell_type": "markdown",
   "id": "b2bee78c-bb7a-4c77-89aa-0703d42ffc7d",
   "metadata": {},
   "source": [
    "### Averages and more\n",
    "\n",
    "Using pandas describe method, we can get a first overview of the data. We see the range of values for the individual features, the mean, standard dviation as well as the 25, 50 and 75% quartile. "
   ]
  },
  {
   "cell_type": "code",
   "execution_count": null,
   "id": "2781e5cc-9966-4491-9dfe-65c17f6b94e4",
   "metadata": {},
   "outputs": [],
   "source": [
    "penguins.describe()"
   ]
  },
  {
   "cell_type": "markdown",
   "id": "460c0129-2725-4163-9558-6098cb0a5c01",
   "metadata": {},
   "source": [
    "**Discussion Questions** \n",
    "\n",
    "- What is good about reporting the mean and standard deviations of each feature? What are potential problems?\n",
    "- Do you know another name of the 50% percentile?\n",
    "- What happens to the individual measures if there are outliers in the data? Which one would be affected?"
   ]
  },
  {
   "cell_type": "markdown",
   "id": "9957e498",
   "metadata": {},
   "source": [
    "### Histogram"
   ]
  },
  {
   "cell_type": "markdown",
   "id": "a4aa1b61",
   "metadata": {},
   "source": [
    "Reporting numbers, such as the mean and standard deviation is useful, but reduces the amount of information in the data. \n",
    "We also need to be careful that the numbers we report really tell us something meaningful about the data. \n",
    "We can a more complete picture by visualizing a histogram of the data. "
   ]
  },
  {
   "cell_type": "code",
   "execution_count": null,
   "id": "6e18fe40",
   "metadata": {},
   "outputs": [],
   "source": [
    "sns.histplot(data=penguins, x=\"flipper_length_mm\")"
   ]
  },
  {
   "cell_type": "markdown",
   "id": "366d5d76-8ec1-4a54-a693-9e6dacb46830",
   "metadata": {},
   "source": [
    "**Discussion question:** \n",
    "\n",
    "- Why is reporting the mean in this case not so useful?"
   ]
  },
  {
   "cell_type": "markdown",
   "id": "b910aced-4b72-49dd-8315-4198f654b83d",
   "metadata": {},
   "source": [
    "### Stratification\n",
    "\n",
    "We can get an even better picture by stratifying the dataset with regard to the species. "
   ]
  },
  {
   "cell_type": "code",
   "execution_count": null,
   "id": "1fa96acf-0c88-4bc7-b5bb-501eea11238a",
   "metadata": {},
   "outputs": [],
   "source": [
    "sns.histplot(data=penguins, x=\"flipper_length_mm\", hue=\"species\", multiple=\"layer\", bins = 20)"
   ]
  },
  {
   "cell_type": "markdown",
   "id": "fc6ca09d-45c0-455e-844b-b958db9e4a5a",
   "metadata": {},
   "source": [
    "We see that the histogram provides with a much more complete picture. But even this plot can be misleading. \n",
    "\n",
    "**Discussion question:** \n",
    "- How do you choose the number of bins?\n",
    "- What can go wrong when you choose the wrong number of bins?"
   ]
  },
  {
   "cell_type": "markdown",
   "id": "8ea738cc-f7f5-474d-b242-b54721b005ed",
   "metadata": {},
   "source": [
    "### Density plots"
   ]
  },
  {
   "cell_type": "markdown",
   "id": "5c24be2b-6590-4a03-823c-31c70da2e3db",
   "metadata": {},
   "source": [
    "Histograms divide the data into a discrete number of bins. If we have enough data and choose the bin size small, the resulting plot resembles a continuous distribution, as shown in the following experiment:"
   ]
  },
  {
   "cell_type": "code",
   "execution_count": null,
   "id": "24bf60c1-45e3-4a5b-899c-c817eac4cf82",
   "metadata": {},
   "outputs": [],
   "source": [
    "sns.histplot(x=np.random.randn(100000), bins = 200)"
   ]
  },
  {
   "cell_type": "markdown",
   "id": "ff34e6ef-02b1-4078-933c-48ed55498636",
   "metadata": {},
   "source": [
    "When we know that the distribution is indeed continuous (and smooth) there is a possibility to use that knowledge and smooth out the steps that occur from the sampling of the data. This can be done using *kernel density estimation (kde)* and the resulting plot is what is called a density plot in seaborn."
   ]
  },
  {
   "cell_type": "code",
   "execution_count": null,
   "id": "7bc9e18d-f85e-4e8c-b544-5696be4014ee",
   "metadata": {},
   "outputs": [],
   "source": [
    "sns.kdeplot(data=penguins, x=\"flipper_length_mm\", hue=\"species\", multiple=\"layer\", fill=True)"
   ]
  },
  {
   "cell_type": "markdown",
   "id": "f9d76853-7eb0-4c92-a3bf-96033539b617",
   "metadata": {},
   "source": [
    "If the assumptions hold, the plot is very useful and conveys a lot of information about the density. It can be much more informative than just reporting a mean, or showing one simple histogram. A density plot can also be created using a figure level plot in seaborn. "
   ]
  },
  {
   "cell_type": "code",
   "execution_count": null,
   "id": "80360010-2c5c-49de-be99-740f0b25e7c1",
   "metadata": {},
   "outputs": [],
   "source": [
    "sns.displot(data=penguins, x=\"flipper_length_mm\", hue=\"species\", kind=\"kde\", fill=\"true\")"
   ]
  }
 ],
 "metadata": {
  "kernelspec": {
   "display_name": "Python 3 (ipykernel)",
   "language": "python",
   "name": "conda-env-pids_2023-py"
  },
  "language_info": {
   "codemirror_mode": {
    "name": "ipython",
    "version": 3
   },
   "file_extension": ".py",
   "mimetype": "text/x-python",
   "name": "python",
   "nbconvert_exporter": "python",
   "pygments_lexer": "ipython3",
   "version": "3.10.11"
  },
  "vscode": {
   "interpreter": {
    "hash": "07cb0c0be5d5c09ece9af089e9de2ad5458cdd62d0537c1d9b85ed67c101dd7b"
   }
  }
 },
 "nbformat": 4,
 "nbformat_minor": 5
}
