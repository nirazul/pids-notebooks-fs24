{
 "cells": [
  {
   "cell_type": "markdown",
   "id": "5bc187db-4057-4a3d-a595-da2f111bc83c",
   "metadata": {},
   "source": [
    "# A taste of seaborn\n",
    "\n",
    "This notebook shows examples of data visualization using seaborn and illustrates the connection between a data frame and the visualization."
   ]
  },
  {
   "cell_type": "code",
   "execution_count": null,
   "id": "9b725468-b988-49cf-ba3a-8d8cd352b64e",
   "metadata": {},
   "outputs": [],
   "source": [
    "import seaborn as sns\n",
    "import matplotlib.pyplot as plt"
   ]
  },
  {
   "cell_type": "code",
   "execution_count": null,
   "id": "7f543d2d-6e62-41f4-a308-9483c536cfe1",
   "metadata": {},
   "outputs": [],
   "source": [
    "sns.set_theme(style=\"darkgrid\")"
   ]
  },
  {
   "cell_type": "code",
   "execution_count": null,
   "id": "d8aa0a23-7ed3-4f73-ba9a-39c1eab33284",
   "metadata": {},
   "outputs": [],
   "source": [
    "tips = sns.load_dataset(\"tips\")"
   ]
  },
  {
   "cell_type": "code",
   "execution_count": null,
   "id": "907918fe-fd80-4f54-8ba3-5e794d82c7c4",
   "metadata": {},
   "outputs": [],
   "source": [
    "tips.head()"
   ]
  },
  {
   "cell_type": "code",
   "execution_count": null,
   "id": "90f63f2d-2474-428f-bb8d-65307ce53409",
   "metadata": {},
   "outputs": [],
   "source": [
    "sns_fig =  sns.relplot(data = tips, x = \"total_bill\", y = \"tip\", col=\"time\", hue=\"smoker\", style=\"smoker\", size=\"size\")"
   ]
  },
  {
   "cell_type": "code",
   "execution_count": null,
   "id": "2c126ec7-d6f2-448f-94d8-129591eb6f14",
   "metadata": {},
   "outputs": [],
   "source": [
    "fix, axs = plt.subplots(1,2, figsize=(12,6))\n",
    "sns.kdeplot(data = tips, ax = axs[0], x = \"size\", hue=\"sex\")\n",
    "sns.violinplot(data = tips, ax = axs[1], x = \"size\", y=\"time\")"
   ]
  },
  {
   "cell_type": "code",
   "execution_count": null,
   "id": "1a971cf4-994d-45bf-9193-1f4a37dba943",
   "metadata": {},
   "outputs": [],
   "source": [
    "sns.pairplot(data=tips, hue=\"smoker\")"
   ]
  },
  {
   "cell_type": "code",
   "execution_count": null,
   "id": "2097bd0b-32b5-43ad-8905-ea5d63ba648d",
   "metadata": {},
   "outputs": [],
   "source": [
    "sns.displot(data=tips, x=\"tip\", hue=\"sex\", multiple=\"stack\")"
   ]
  },
  {
   "cell_type": "code",
   "execution_count": null,
   "id": "cb0fdc32-cd2f-4ad1-b0ea-706d3b7eabcc",
   "metadata": {},
   "outputs": [],
   "source": [
    "sns.jointplot(data=tips, x=\"total_bill\", y=\"tip\")"
   ]
  }
 ],
 "metadata": {
  "kernelspec": {
   "display_name": "Python 3 (ipykernel)",
   "language": "python",
   "name": "conda-env-pids_2023-py"
  },
  "language_info": {
   "codemirror_mode": {
    "name": "ipython",
    "version": 3
   },
   "file_extension": ".py",
   "mimetype": "text/x-python",
   "name": "python",
   "nbconvert_exporter": "python",
   "pygments_lexer": "ipython3",
   "version": "3.10.11"
  }
 },
 "nbformat": 4,
 "nbformat_minor": 5
}
