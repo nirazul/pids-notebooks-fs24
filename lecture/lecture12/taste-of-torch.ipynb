{
 "cells": [
  {
   "cell_type": "markdown",
   "id": "fefc3e20",
   "metadata": {},
   "source": [
    "# A Taste of Pytorch"
   ]
  },
  {
   "cell_type": "markdown",
   "id": "500e2787",
   "metadata": {},
   "source": [
    "Pytorch is a library used for training machine learning models, with a particular focus on deep learning. \n",
    "\n",
    "The basic building block are tensors, n-dimensional arrays similar to numpys array class. \n",
    "We can define a tensor as follows:"
   ]
  },
  {
   "cell_type": "code",
   "execution_count": 1,
   "id": "0797f43f",
   "metadata": {},
   "outputs": [],
   "source": [
    "import torch \n",
    "import matplotlib.pyplot as plt\n",
    "import numpy as np\n",
    "from torch.optim import Adam\n",
    "import torchvision\n",
    "import torch.nn as nn"
   ]
  },
  {
   "cell_type": "code",
   "execution_count": 2,
   "id": "fc9ea45f",
   "metadata": {},
   "outputs": [
    {
     "name": "stdout",
     "output_type": "stream",
     "text": [
      "tensor([1, 2, 3])\n",
      "tensor([[11, 12],\n",
      "        [21, 22]])\n"
     ]
    }
   ],
   "source": [
    "one_d_tensor = torch.tensor([1,2,3])\n",
    "print(one_d_tensor)\n",
    "two_d_tensor = torch.tensor([[11, 12],[21, 22]])\n",
    "print(two_d_tensor)"
   ]
  },
  {
   "cell_type": "markdown",
   "id": "8190afa9",
   "metadata": {},
   "source": [
    "What makes pytorch so useful for defining machine learning modes is, that it can automatically compute derivatives to tensors. This capability is known as automatic differentiation. \n",
    "How this is used in Pytorch is demonstrated in the following code:"
   ]
  },
  {
   "cell_type": "code",
   "execution_count": 3,
   "id": "130b92b4",
   "metadata": {},
   "outputs": [
    {
     "name": "stdout",
     "output_type": "stream",
     "text": [
      "The gradient at position 2.0 is:  8.0\n"
     ]
    }
   ],
   "source": [
    "# a one-d tensor with value 2, for which we want \n",
    "# to compute a gradient\n",
    "x = torch.tensor([2.0], requires_grad=True) \n",
    "\n",
    "# we can define arbitrary functions of x\n",
    "def f(x):\n",
    "    return 2 * x * x + 1\n",
    "\n",
    "fx = f(x)\n",
    "\n",
    "# backward is called to compute the derivative of f(x) with respect\n",
    "# to all variables, which we marked with `requires_grad`. \n",
    "fx.backward()\n",
    "\n",
    "# We can then access the derivative with respect to x at the \n",
    "# position x as follow\n",
    "print(f\"The gradient at position {x.item()} is: \", x.grad.item())"
   ]
  },
  {
   "cell_type": "markdown",
   "id": "009543bf",
   "metadata": {},
   "source": [
    "### Example 1: Linear regression \n",
    "\n",
    "We illustrate the usefulness of these concepts by defineing a simple linear regression model. \n",
    "\n",
    "First we create some ground truth data"
   ]
  },
  {
   "cell_type": "code",
   "execution_count": 4,
   "id": "6dc7e76b",
   "metadata": {},
   "outputs": [
    {
     "data": {
      "text/plain": [
       "[<matplotlib.lines.Line2D at 0x1a77d3c1060>]"
      ]
     },
     "execution_count": 4,
     "metadata": {},
     "output_type": "execute_result"
    },
    {
     "data": {
      "image/png": "[encoded data removed]",
      "text/plain": [
       "<Figure size 640x480 with 1 Axes>"
      ]
     },
     "metadata": {},
     "output_type": "display_data"
    }
   ],
   "source": [
    "a_true = 1.3\n",
    "b_true = -3.0\n",
    "xs = torch.linspace(-1, 1, 20)\n",
    "ys = a_true * xs + b_true +  torch.normal(mean = 0.0, std = 1.0, size=(len(xs), )) * 0.5\n",
    "plt.plot(xs, ys, 'o')"
   ]
  },
  {
   "cell_type": "markdown",
   "id": "1ea2b875",
   "metadata": {},
   "source": [
    "Our model is then the simple regression model"
   ]
  },
  {
   "cell_type": "code",
   "execution_count": 5,
   "id": "e0bf98e2",
   "metadata": {},
   "outputs": [],
   "source": [
    "a = torch.zeros((1,), requires_grad = True)\n",
    "b = torch.zeros((1,), requires_grad = True)\n",
    "    \n",
    "def model(x): \n",
    "    return a * x + b"
   ]
  },
  {
   "cell_type": "markdown",
   "id": "ec3e7765",
   "metadata": {},
   "source": [
    "As a loss function we choose a simple mean squared error."
   ]
  },
  {
   "cell_type": "code",
   "execution_count": 6,
   "id": "9f98a018",
   "metadata": {},
   "outputs": [],
   "source": [
    "def loss_fn(ys, ys_pred):\n",
    "    return ((ys - ys_pred)**2).mean()"
   ]
  },
  {
   "cell_type": "markdown",
   "id": "e9413518",
   "metadata": {},
   "source": [
    "This model is differtiable with respect to the parameters a and b. \n",
    "We can define an optimizer, that uses these gradients to compute\n",
    "a minimum of the loss function:"
   ]
  },
  {
   "cell_type": "code",
   "execution_count": 7,
   "id": "e1b750cd",
   "metadata": {},
   "outputs": [],
   "source": [
    "optimizer = Adam([a, b], lr=0.02)"
   ]
  },
  {
   "cell_type": "markdown",
   "id": "6413b240",
   "metadata": {},
   "source": [
    "The main training loop can be written as follows:"
   ]
  },
  {
   "cell_type": "code",
   "execution_count": 8,
   "id": "7d547ce0",
   "metadata": {},
   "outputs": [
    {
     "name": "stdout",
     "output_type": "stream",
     "text": [
      "loss in iteration 0=10.896418571472168\n",
      "loss in iteration 50=5.278923988342285\n",
      "loss in iteration 100=2.4175329208374023\n",
      "loss in iteration 150=1.132476568222046\n",
      "loss in iteration 200=0.6465954780578613\n",
      "loss in iteration 250=0.4974604547023773\n",
      "loss in iteration 300=0.4606266915798187\n",
      "loss in iteration 350=0.4533218443393707\n",
      "loss in iteration 400=0.4521596431732178\n",
      "loss in iteration 450=0.4520118236541748\n",
      "loss in iteration 500=0.45199689269065857\n",
      "loss in iteration 550=0.45199570059776306\n",
      "loss in iteration 600=0.4519956707954407\n",
      "loss in iteration 650=0.4519956707954407\n",
      "loss in iteration 700=0.4519956707954407\n",
      "loss in iteration 750=0.4519956707954407\n",
      "loss in iteration 800=0.4519956707954407\n",
      "loss in iteration 850=0.4519956707954407\n",
      "loss in iteration 900=0.4519956707954407\n",
      "loss in iteration 950=0.4519956707954407\n"
     ]
    }
   ],
   "source": [
    "for i in range(0, 1000):\n",
    "    # make prediction and compute loss\n",
    "    ys_pred = model(xs) \n",
    "    loss = loss_fn(ys, ys_pred) \n",
    "    \n",
    "    # compute gradient\n",
    "    optimizer.zero_grad()\n",
    "    loss.backward()\n",
    "    \n",
    "    # go a step in the gradient direction\n",
    "    optimizer.step()\n",
    "    \n",
    "    if (i % 50 == 0):\n",
    "        print(f\"loss in iteration {i}={loss.item()}\")"
   ]
  },
  {
   "cell_type": "markdown",
   "id": "3e56a84d",
   "metadata": {},
   "source": [
    "Let's plot the result"
   ]
  },
  {
   "cell_type": "code",
   "execution_count": 9,
   "id": "c2f88a2c",
   "metadata": {},
   "outputs": [
    {
     "data": {
      "text/plain": [
       "[<matplotlib.lines.Line2D at 0x1a77f4b3490>]"
      ]
     },
     "execution_count": 9,
     "metadata": {},
     "output_type": "execute_result"
    },
    {
     "data": {
      "image/png": "[encoded data removed]",
      "text/plain": [
       "<Figure size 640x480 with 1 Axes>"
      ]
     },
     "metadata": {},
     "output_type": "display_data"
    }
   ],
   "source": [
    "y_pred = model(xs)\n",
    "plt.plot(xs, ys, 'o')\n",
    "plt.plot(xs, y_pred.detach().numpy(), '-')\n"
   ]
  },
  {
   "cell_type": "markdown",
   "id": "873a613c",
   "metadata": {},
   "source": [
    "### Example 2 : Autoencoder"
   ]
  },
  {
   "cell_type": "markdown",
   "id": "647a1181",
   "metadata": {},
   "source": [
    "In the second example, we define an Autoencoder. This example illustrates two more aspect of pytorch: Namely the data loader and how to work with modules. It is not expected that you understand all the details or could implement it yourself. But it should give you a taste what working with pytorch is like and the power it gives you for defining machine learning models. "
   ]
  },
  {
   "cell_type": "markdown",
   "id": "136eae08",
   "metadata": {},
   "source": [
    "### Loading the data\n",
    "\n",
    "In this example we work with the MNIST hand written digit dataset.\n",
    "While loading it, we also convert it to a pytorch tensor.\n"
   ]
  },
  {
   "cell_type": "code",
   "execution_count": 10,
   "id": "a8d09db3",
   "metadata": {},
   "outputs": [
    {
     "name": "stdout",
     "output_type": "stream",
     "text": [
      "Batch of images has shape: torch.Size([64, 1, 28, 28])\n",
      "Batch of labels has shape: torch.Size([64])\n"
     ]
    }
   ],
   "source": [
    "import torchvision.transforms as transforms\n",
    "\n",
    "# Define transformations for the training \n",
    "transform = transforms.Compose([\n",
    "    transforms.ToTensor(),  # Convert images to PyTorch tensors\n",
    "])\n",
    "\n",
    "# Load the training dataset\n",
    "trainset = torchvision.datasets.MNIST(\n",
    "    root='./data',  # Directory to save the dataset\n",
    "    train=True,  # Specify training data\n",
    "    download=True,  # Download if the dataset is not already present\n",
    "    transform=transform  # Apply transformations\n",
    ")\n",
    "\n",
    "trainloader = torch.utils.data.DataLoader(\n",
    "    trainset,  # Training dataset\n",
    "    batch_size=64,  # Batch size\n",
    "    shuffle=True  # Shuffle the data\n",
    ")\n",
    "\n",
    "# Verify the dataset loading\n",
    "dataiter = iter(trainloader)\n",
    "images, labels = next(dataiter)\n",
    "print(f\"Batch of images has shape: {images.shape}\")\n",
    "print(f\"Batch of labels has shape: {labels.shape}\")"
   ]
  },
  {
   "cell_type": "markdown",
   "id": "0976aa17",
   "metadata": {},
   "source": [
    "It is helpful to visualize some images:"
   ]
  },
  {
   "cell_type": "code",
   "execution_count": 11,
   "id": "80aab93e",
   "metadata": {},
   "outputs": [
    {
     "data": {
      "image/png": "[encoded data removed]",
      "text/plain": [
       "<Figure size 640x480 with 5 Axes>"
      ]
     },
     "metadata": {},
     "output_type": "display_data"
    }
   ],
   "source": [
    "import matplotlib \n",
    "dataiter = iter(trainloader)\n",
    "images, label = next(dataiter)\n",
    "\n",
    "fig, axs = plt.subplots(1,5)\n",
    "for i in range(0, 5):\n",
    "    axs[i].imshow(images[i].view(28, 28).numpy())\n",
    "    axs[i].set_title(label[i].item())"
   ]
  },
  {
   "cell_type": "markdown",
   "id": "8203c3c8",
   "metadata": {},
   "source": [
    "Now we define an encoder. We make use of pytorch Module to define it. We set up a network \n",
    "with 4 linears. Each has fewer neurons. The last layer only has 3 neurons. Hence we can encode our digits using 3 numbers only. "
   ]
  },
  {
   "cell_type": "code",
   "execution_count": 40,
   "id": "b4d65e18",
   "metadata": {},
   "outputs": [],
   "source": [
    "# Define the Encoder model\n",
    "class Encoder(nn.Module):\n",
    "    def __init__(self):\n",
    "        super(Encoder, self).__init__()\n",
    "        self.encoder = nn.Sequential(\n",
    "            nn.Linear(28 * 28, 128),\n",
    "            nn.ReLU(True),\n",
    "            nn.Linear(128, 64),\n",
    "            nn.ReLU(True),\n",
    "            nn.Linear(64, 12),\n",
    "            nn.ReLU(True),\n",
    "            nn.Linear(12, 3)\n",
    "        )\n",
    "\n",
    "    def forward(self, x):\n",
    "        x = self.encoder(x)\n",
    "        return x\n"
   ]
  },
  {
   "cell_type": "markdown",
   "id": "be8dae98",
   "metadata": {},
   "source": [
    "The decoder is a neural network that does the opposite of the encoder. It takes 3 numbers as inputs and decodes them into a full image again.  "
   ]
  },
  {
   "cell_type": "code",
   "execution_count": 39,
   "id": "2821bcfc",
   "metadata": {},
   "outputs": [],
   "source": [
    "\n",
    "# Define the Decoder model\n",
    "class Decoder(nn.Module):\n",
    "    def __init__(self):\n",
    "        super(Decoder, self).__init__()\n",
    "        self.decoder = nn.Sequential(\n",
    "            nn.Linear(3, 12),\n",
    "            nn.ReLU(True),\n",
    "            nn.Linear(12, 64),\n",
    "            nn.ReLU(True),\n",
    "            nn.Linear(64, 128),\n",
    "            nn.ReLU(True),\n",
    "            nn.Linear(128, 28 * 28),\n",
    "            nn.Tanh()\n",
    "        )\n",
    "\n",
    "    def forward(self, x):\n",
    "        x = self.decoder(x)\n",
    "        return x\n"
   ]
  },
  {
   "cell_type": "markdown",
   "id": "bac328bc",
   "metadata": {},
   "source": [
    "An autoencoder is then just a module that encodes and decodes the image. "
   ]
  },
  {
   "cell_type": "code",
   "execution_count": 41,
   "id": "583caa17",
   "metadata": {},
   "outputs": [],
   "source": [
    "# Define the Autoencoder model\n",
    "class Autoencoder(nn.Module):\n",
    "    def __init__(self):\n",
    "        super(Autoencoder, self).__init__()\n",
    "        self.encoder = Encoder()\n",
    "        self.decoder = Decoder()\n",
    "\n",
    "    def forward(self, x):\n",
    "        x = self.encoder(x)\n",
    "        x = self.decoder(x)\n",
    "        return x\n"
   ]
  },
  {
   "cell_type": "markdown",
   "id": "bf94ab2e",
   "metadata": {},
   "source": [
    "As a loss function, we use the Mean Square Loss function, applied to the original image and the reconstructed image. Training the autoencoder means setting the parameters such, that each image can be compressed (encoded) to 3 numbers and decoded again, with a minimum error. "
   ]
  },
  {
   "cell_type": "code",
   "execution_count": 42,
   "id": "db4d731c",
   "metadata": {
    "scrolled": false
   },
   "outputs": [
    {
     "name": "stdout",
     "output_type": "stream",
     "text": [
      "Epoch [1/10], Loss: 0.0427\n",
      "Epoch [2/10], Loss: 0.0416\n",
      "Epoch [3/10], Loss: 0.0340\n",
      "Epoch [4/10], Loss: 0.0385\n",
      "Epoch [5/10], Loss: 0.0372\n",
      "Epoch [6/10], Loss: 0.0380\n",
      "Epoch [7/10], Loss: 0.0339\n",
      "Epoch [8/10], Loss: 0.0310\n",
      "Epoch [9/10], Loss: 0.0374\n",
      "Epoch [10/10], Loss: 0.0325\n"
     ]
    }
   ],
   "source": [
    "model = Autoencoder()\n",
    "criterion = nn.MSELoss()\n",
    "optimizer = torch.optim.Adam(model.parameters(), lr=0.001)\n",
    "\n",
    "\n",
    "num_epochs = 10 # An epoch is one pass through the data\n",
    "for epoch in range(num_epochs): \n",
    "    for data in trainloader: # The data is divided in batches. We work through each batch\n",
    "        img, _ = data\n",
    "        img = img.view(img.size(0), -1)  # Flatten the images\n",
    "\n",
    "        # run the image through the model and compare how well it reconstructs\n",
    "        output = model(img)\n",
    "        loss = criterion(output, img)\n",
    "\n",
    "        # Compute gradients and take an optimizer step\n",
    "        optimizer.zero_grad()\n",
    "        loss.backward()\n",
    "        optimizer.step()\n",
    "\n",
    "    print(f'Epoch [{epoch+1}/{num_epochs}], Loss: {loss.item():.4f}')"
   ]
  },
  {
   "cell_type": "markdown",
   "id": "05e1d71c",
   "metadata": {},
   "source": [
    "Finally, we show some reconstructions. The upper row shows the true image, and the bottom row the reconstructed one. Remember, that we have compressed it each to 3 numbers using the encoder. Hence it is clear that the reconstructions are not perfect. "
   ]
  },
  {
   "cell_type": "code",
   "execution_count": 43,
   "id": "8e4420e4",
   "metadata": {},
   "outputs": [
    {
     "data": {
      "image/png": "[encoded data removed]",
      "text/plain": [
       "<Figure size 640x480 with 10 Axes>"
      ]
     },
     "metadata": {},
     "output_type": "display_data"
    }
   ],
   "source": [
    "import matplotlib \n",
    "fig, axs = plt.subplots(2,5)\n",
    "dataiter = iter(trainloader)\n",
    "\n",
    "encoder = model.encoder\n",
    "\n",
    "images, labels = next(dataiter)\n",
    "for i in range(0, 5):\n",
    "    img = images[i,:,:]\n",
    "    z = encoder(img.view(-1, 28*28))\n",
    "    decoded_img = model.decoder(z).view(28, 28)\n",
    "\n",
    "    axs[0][i].set_title(labels[i].item())\n",
    "    axs[0][i].imshow(img.view(28, 28).detach().numpy())    \n",
    "    axs[1][i].imshow(decoded_img.detach().numpy())\n"
   ]
  },
  {
   "cell_type": "code",
   "execution_count": null,
   "id": "7c6c67e3",
   "metadata": {},
   "outputs": [],
   "source": []
  }
 ],
 "metadata": {
  "kernelspec": {
   "display_name": "Python 3 (ipykernel)",
   "language": "python",
   "name": "python3"
  },
  "language_info": {
   "codemirror_mode": {
    "name": "ipython",
    "version": 3
   },
   "file_extension": ".py",
   "mimetype": "text/x-python",
   "name": "python",
   "nbconvert_exporter": "python",
   "pygments_lexer": "ipython3",
   "version": "3.10.11"
  }
 },
 "nbformat": 4,
 "nbformat_minor": 5
}
